{
 "cells": [
  {
   "cell_type": "code",
   "execution_count": 1,
   "metadata": {},
   "outputs": [],
   "source": [
    "import pandas as pd\n",
    "import numpy as np\n",
    "import matplotlib.pyplot as plt\n",
    "import seaborn as sns\n"
   ]
  },
  {
   "cell_type": "code",
   "execution_count": 6,
   "metadata": {},
   "outputs": [],
   "source": [
    "# Broad taxonomic distribution of the enzymes\n",
    "\n",
    "def extract_taxa_from_fasta(fasta):\n",
    "    taxa = []\n",
    "    with open(fasta, 'r') as f:\n",
    "        for line in f:\n",
    "            if line.startswith('>'):\n",
    "                taxa.append(line.strip('\\n')[1:])\n",
    "    return taxa"
   ]
  },
  {
   "cell_type": "code",
   "execution_count": 14,
   "metadata": {},
   "outputs": [
    {
     "name": "stdout",
     "output_type": "stream",
     "text": [
      "180887\n",
      "13862\n",
      "125228\n",
      "13862\n",
      "1965\n",
      "13210\n",
      "41419\n",
      "331610\n",
      "7\n",
      "99\n",
      "392\n",
      "722541\n"
     ]
    }
   ],
   "source": [
    "# Read and extract info from fastas for all enzymes\n",
    "\n",
    "enzymes = ['amidases', 'dd_endopeptidases', 'dd_carboxypeptidases',\n",
    "           'dd_endopeptidases', 'dl_endopeptidases', 'glucosaminidases',\n",
    "           'ld_carboxypeptidases', 'muramidases', 'saga', 'uc118',\n",
    "           'ld_endopeptidases']\n",
    "\n",
    "master_list = []\n",
    "for enzyme in enzymes:\n",
    "    temp_list = extract_taxa_from_fasta(f'/Volumes/PGH-Backup/fastas/201901b_{enzyme}_fastas.faa')\n",
    "    print(len(temp_list))\n",
    "    master_list.extend(temp_list)\n",
    "\n",
    "print(len(master_list))"
   ]
  },
  {
   "cell_type": "code",
   "execution_count": 16,
   "metadata": {},
   "outputs": [
    {
     "name": "stdout",
     "output_type": "stream",
     "text": [
      "['Amidase_UniRef100_A0A162RR89|1554|g__Clostridium.s__Clostridium_species', 'Muramidase_UniRef100_A0A7C1SSF8|2004|g__Porticoccus.s__Porticoccus_species', 'LD-carboxypeptidase_UniRef100_A0A926VI33|918|g__Planktothrix.s__Planktothrix_species', 'Muramidase_UniRef100_UPI0022A7EB15|1236|g__Jiella.s__Jiella_species', 'DD-endopeptidase_UniRef100_A0A5I3FD04|1317|g__Salmonella.s__Salmonella_species']\n"
     ]
    }
   ],
   "source": [
    "# Drops dupes\n",
    "master_list = list(set(master_list))\n",
    "\n",
    "print(master_list[:5])"
   ]
  },
  {
   "cell_type": "code",
   "execution_count": null,
   "metadata": {},
   "outputs": [],
   "source": [
    "master_list = "
   ]
  }
 ],
 "metadata": {
  "kernelspec": {
   "display_name": "bio",
   "language": "python",
   "name": "python3"
  },
  "language_info": {
   "codemirror_mode": {
    "name": "ipython",
    "version": 3
   },
   "file_extension": ".py",
   "mimetype": "text/x-python",
   "name": "python",
   "nbconvert_exporter": "python",
   "pygments_lexer": "ipython3",
   "version": "3.12.2"
  }
 },
 "nbformat": 4,
 "nbformat_minor": 2
}
