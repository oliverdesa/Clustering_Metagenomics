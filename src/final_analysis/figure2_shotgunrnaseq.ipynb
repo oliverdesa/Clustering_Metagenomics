{
 "cells": [
  {
   "cell_type": "code",
   "execution_count": 1,
   "metadata": {},
   "outputs": [],
   "source": [
    "import numpy as np\n",
    "import pandas as pd\n",
    "import seaborn as sns\n",
    "import matplotlib.pyplot as plt\n",
    "import gseapy as gp"
   ]
  },
  {
   "cell_type": "code",
   "execution_count": 12,
   "metadata": {},
   "outputs": [],
   "source": [
    "# plotting functions for heatmap\n",
    "\n",
    "def scale_values(dataframe):\n",
    "    # Scale the values in the dataframe\n",
    "    \n",
    "    dataframe['scaled_value'] = -np.log(dataframe['qval']) * np.sign(dataframe['coef'])\n",
    "    \n",
    "    dataframe = dataframe.sort_values(by='scaled_value')\n",
    "\n",
    "    return dataframe\n",
    "\n",
    "\n",
    "def create_heatmap(dataframe, title, filename):\n",
    "    # Pivot the DataFrame for the heatmap\n",
    "    # Assuming that the columns 'feature', 'value', and 'scaled_value' exist in the dataframe\n",
    "    heatmap_data = dataframe.pivot(index='feature', columns='value', values='scaled_value')\n",
    "\n",
    "    # Sort the pivot data by one of the columns for visual hierarchy in the heatmap\n",
    "    # sorted_heatmap_data = heatmap_data.sort_values(by=target_column, ascending=False)\n",
    "\n",
    "    # Create the heatmap\n",
    "    plt.figure(figsize=(10, 8))\n",
    "    sns.heatmap(heatmap_data, annot=True, cmap='coolwarm', fmt='.2f', center = 0)\n",
    "\n",
    "    # Customize the plot\n",
    "    plt.title(title)\n",
    "    plt.ylabel('')\n",
    "    plt.xlabel('')\n",
    "\n",
    "    # Save and show the plot\n",
    "    plt.tight_layout() \n",
    "    plt.savefig(filename, dpi=600, bbox_inches='tight')\n",
    "    plt.show()\n",
    "\n",
    "def create_dotplot(dataframe, title, filename):\n",
    "    plt.figure(figsize=(12, 10))\n",
    "\n",
    "    # Create a dot plot using seaborn's scatterplot\n",
    "    sns.scatterplot(data=dataframe, x='value', y='feature', size='scaled_value', hue='coef', \n",
    "                    sizes=(50, 500), palette='coolwarm_r', edgecolor=\"w\", legend=None)\n",
    "\n",
    "    # Customize the plot\n",
    "    plt.title(title)\n",
    "    plt.ylabel('DLE Clusters')\n",
    "    plt.xlabel('')\n",
    "\n",
    "    # Save and show the plot\n",
    "    plt.tight_layout()\n",
    "    # plt.savefig(filename, dpi=600, bbox_inches='tight')\n",
    "    plt.show()\n",
    "\n",
    "def create_clustermap(dataframe, title, filename):\n",
    "    # Pivot the dataframe to create a matrix for clustering\n",
    "    heatmap_data = dataframe.pivot(index='feature', columns='value', values='scaled_value')\n",
    "    \n",
    "    # Check for NaN or infinite values and handle them\n",
    "    if heatmap_data.isnull().values.any() or np.isinf(heatmap_data.values).any():\n",
    "        heatmap_data = heatmap_data.fillna(0)  # Replace NaNs with 0\n",
    "        heatmap_data = heatmap_data.replace([np.inf, -np.inf], 0)  # Replace infinities with 0\n",
    "    \n",
    "    # Create a clustermap with hierarchical clustering\n",
    "    sns.clustermap(heatmap_data, cmap='coolwarm_r', annot=True, center=0, figsize=(12, 10))\n",
    "\n",
    "    # Add title and save the plot if desired\n",
    "    plt.title(title)\n",
    "    plt.tight_layout()\n",
    "    # plt.savefig(filename, dpi=600, bbox_inches='tight')\n",
    "    plt.show()"
   ]
  },
  {
   "cell_type": "markdown",
   "metadata": {},
   "source": [
    "## Visualize PC correlation with inflammatory markers"
   ]
  },
  {
   "cell_type": "code",
   "execution_count": null,
   "metadata": {},
   "outputs": [],
   "source": [
    "all_results = pd.read_csv(\"/Volumes/PGH-Backup/ibd_data/shotgun_rnaseq_maaslin/rectum_pca/all_results.tsv\", sep = '\\t')\n",
    "display(all_results)"
   ]
  },
  {
   "cell_type": "code",
   "execution_count": 4,
   "metadata": {},
   "outputs": [],
   "source": [
    "pcs = [\"PC6\", \"PC8\", \"PC9\", \"PC15\", \"PC25\"]\n",
    "genes = [\"CCL2\", \"CXCL10\", \"IL17A\", \"NLRP3\"]"
   ]
  },
  {
   "cell_type": "code",
   "execution_count": null,
   "metadata": {},
   "outputs": [],
   "source": [
    "all_results_filt = all_results[all_results['feature'].isin(pcs) & all_results['value'].isin(genes)]\n",
    "\n",
    "display(all_results_filt)"
   ]
  },
  {
   "cell_type": "code",
   "execution_count": null,
   "metadata": {},
   "outputs": [],
   "source": [
    "RnaSeqShotgunPCA = pd.read_csv(\"/Volumes/PGH-Backup/ibd_data/shotgun_rnaseq_maaslin/rectum_pca/significant_results.tsv\", sep = '\\t')\n",
    "\n",
    "display(RnaSeqShotgunPCA)"
   ]
  },
  {
   "cell_type": "code",
   "execution_count": null,
   "metadata": {},
   "outputs": [],
   "source": [
    "RnaSeqShotgunPCA = RnaSeqShotgunPCA[RnaSeqShotgunPCA['qval'] <= 0.05]\n",
    "\n",
    "display(RnaSeqShotgunPCA)"
   ]
  },
  {
   "cell_type": "code",
   "execution_count": null,
   "metadata": {},
   "outputs": [],
   "source": [
    "RnaSeqShotgunPCA_scaled = scale_values(RnaSeqShotgunPCA)\n",
    "\n",
    "all_results_scaled = scale_values(all_results_filt)"
   ]
  },
  {
   "cell_type": "code",
   "execution_count": null,
   "metadata": {},
   "outputs": [],
   "source": [
    "create_heatmap(all_results_filt, \"\", \"PCAmgx_rnaseq_inflammatory_corrs.png\")"
   ]
  },
  {
   "cell_type": "code",
   "execution_count": null,
   "metadata": {},
   "outputs": [],
   "source": [
    "create_heatmap(RnaSeqShotgunPCA_scaled, \"Correlation of PCAd mgx and inflammatory markers in the rectum\",\n",
    "                \"PCAmgx_rnaseq_inflammatory_corrs.png\")"
   ]
  },
  {
   "cell_type": "code",
   "execution_count": null,
   "metadata": {},
   "outputs": [],
   "source": [
    "create_dotplot(RnaSeqShotgunPCA_scaled, \"Correlation of PCAd mgx and inflammatory markers in the rectum\",\n",
    "                \"PCAmgx_rnaseq_inflammatory_corrs.png\")"
   ]
  },
  {
   "cell_type": "code",
   "execution_count": null,
   "metadata": {},
   "outputs": [],
   "source": [
    "create_clustermap(RnaSeqShotgunPCA_scaled, \"Correlation of PCAd mgx and inflammatory markers in the rectum\",\n",
    "                \"PCAmgx_rnaseq_inflammatory_corrs.png\")"
   ]
  },
  {
   "cell_type": "markdown",
   "metadata": {},
   "source": [
    "## Visualize individual PGH correlation with inflammatory markers"
   ]
  },
  {
   "cell_type": "code",
   "execution_count": null,
   "metadata": {},
   "outputs": [],
   "source": [
    "# Read in data\n",
    "\n",
    "all_results_pgh = pd.read_csv('/Volumes/PGH-Backup/ibd_data/shotgun_rnaseq_maaslin/rectum/all_results.tsv', sep = '\\t')\n",
    "\n",
    "display(all_results_pgh)"
   ]
  },
  {
   "cell_type": "code",
   "execution_count": null,
   "metadata": {},
   "outputs": [],
   "source": [
    "# all_results_pgh = all_results_pgh[all_results_pgh['qval'] < 0.05]\n",
    "\n",
    "# display(all_results_pgh)"
   ]
  },
  {
   "cell_type": "code",
   "execution_count": null,
   "metadata": {},
   "outputs": [],
   "source": [
    "all_results_pgh_scaled = scale_values(all_results_pgh)\n",
    "\n",
    "display(all_results_pgh_scaled)"
   ]
  },
  {
   "cell_type": "code",
   "execution_count": 19,
   "metadata": {},
   "outputs": [],
   "source": [
    "all_results_pgh_scaled = all_results_pgh_scaled[~all_results_pgh_scaled['feature'].isin(['Amidase.A0A1W7ABN8', \"DL.endopeptidase.A0A6N3BHG0\"])]"
   ]
  },
  {
   "cell_type": "code",
   "execution_count": null,
   "metadata": {},
   "outputs": [],
   "source": [
    "create_heatmap(all_results_pgh_scaled, \"PGH cluster associations with inflammatory markers in the rectum\", \"mgx_rnaseq_inflammatory\")\n"
   ]
  },
  {
   "cell_type": "markdown",
   "metadata": {},
   "source": [
    "## GSEA analysis"
   ]
  },
  {
   "cell_type": "code",
   "execution_count": 41,
   "metadata": {},
   "outputs": [],
   "source": [
    "def parse_gmt(file_path):\n",
    "    \"\"\"\n",
    "    Parse a GMT file and return a dictionary of gene sets.\n",
    "    Each key is a gene set name, and each value is a list of genes.\n",
    "    \"\"\"\n",
    "    gene_sets = {}\n",
    "    with open(file_path, 'r') as gmt_file:\n",
    "        for line in gmt_file:\n",
    "            # Split the line by tabs\n",
    "            parts = line.strip().split('\\t')\n",
    "            \n",
    "            # The first item is the gene set name, the second is a description, the rest are genes\n",
    "            gene_set_name = parts[0]\n",
    "            genes = parts[2:]  # Genes start from the third column onwards\n",
    "            \n",
    "            # Add to the dictionary\n",
    "            gene_sets[gene_set_name] = genes\n",
    "    \n",
    "    return gene_sets"
   ]
  },
  {
   "cell_type": "code",
   "execution_count": null,
   "metadata": {},
   "outputs": [],
   "source": [
    "# Get nod2 gene list\n",
    "nod2_path = '/Volumes/PGH-Backup/ibd_data/rnaseq/GSE22611_NOD2_VS_CTRL_TRANSDUCED_HEK293T_CELL_UP.v2024.1.Hs.gmt'\n",
    "\n",
    "nod2_genes = parse_gmt(nod2_path)\n",
    "\n",
    "# Hallmark inflammatory genes list\n",
    "inflam_path = \"/Volumes/PGH-Backup/ibd_data/rnaseq/HALLMARK_INFLAMMATORY_RESPONSE.v2024.1.Hs.gmt\"\n",
    "\n",
    "inflam_genes = parse_gmt(inflam_path)\n",
    "\n",
    "# combine to dict\n",
    "combined_gene_set = nod2_genes | inflam_genes\n",
    "\n",
    "print(combined_gene_set)\n"
   ]
  },
  {
   "cell_type": "code",
   "execution_count": null,
   "metadata": {},
   "outputs": [],
   "source": [
    "# Check the structure of combined_gene_set\n",
    "print(type(combined_gene_set))  # Should be <class 'dict'>\n",
    "\n",
    "# Check the types of a key and a value\n",
    "for key, value in combined_gene_set.items():\n",
    "    print(f\"Key: {key} (Type: {type(key)})\")\n",
    "    print(f\"Value Sample: {value[:5]} (Type: {type(value)})\")"
   ]
  },
  {
   "cell_type": "code",
   "execution_count": null,
   "metadata": {},
   "outputs": [],
   "source": [
    "ranked_genes = all_results_pgh[['value', 'coef']].sort_values(by='coef', ascending=False)\n",
    "\n",
    "print(ranked_genes)\n",
    "\n",
    "# Convert to the format required by GSEA\n",
    "ranked_genes_list = ranked_genes.set_index('value')['coef'].to_dict()"
   ]
  },
  {
   "cell_type": "code",
   "execution_count": 47,
   "metadata": {},
   "outputs": [],
   "source": [
    "# Convert all gene names in the ranked gene list and gene sets to uppercase\n",
    "ranked_genes['value'] = ranked_genes['value'].str.upper()\n",
    "\n",
    "combined_gene_set = {\n",
    "    key: [gene.upper() for gene in genes] for key, genes in combined_gene_set.items()\n",
    "}"
   ]
  },
  {
   "cell_type": "code",
   "execution_count": null,
   "metadata": {},
   "outputs": [],
   "source": [
    "gsea_results = gp.prerank(\n",
    "    rnk=ranked_genes,  # Your ranked gene list\n",
    "    gene_sets=inflam_path,  # Combined gene sets\n",
    "    min_size=5,\n",
    "    max_size=1000,\n",
    "    outdir=None,  # Directory to save the results\n",
    "    permutation_num=1000,  # Number of permutations (can adjust for significance)\n",
    "    seed=42\n",
    ")\n",
    "\n",
    "# View the results\n",
    "gsea_results.res2d.head()"
   ]
  },
  {
   "cell_type": "code",
   "execution_count": null,
   "metadata": {},
   "outputs": [],
   "source": [
    "print(type(ranked_genes_list))\n",
    "\n",
    "print(type(combined_gene_set))"
   ]
  }
 ],
 "metadata": {
  "kernelspec": {
   "display_name": "bio",
   "language": "python",
   "name": "python3"
  },
  "language_info": {
   "codemirror_mode": {
    "name": "ipython",
    "version": 3
   },
   "file_extension": ".py",
   "mimetype": "text/x-python",
   "name": "python",
   "nbconvert_exporter": "python",
   "pygments_lexer": "ipython3",
   "version": "3.12.2"
  }
 },
 "nbformat": 4,
 "nbformat_minor": 2
}
