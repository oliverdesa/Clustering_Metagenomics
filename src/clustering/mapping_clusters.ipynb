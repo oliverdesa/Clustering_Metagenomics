{
 "cells": [
  {
   "cell_type": "code",
   "execution_count": null,
   "metadata": {},
   "outputs": [],
   "source": [
    "import pandas as pd\n",
    "import numpy as np\n",
    "import matplotlib.pyplot as plt\n",
    "import seaborn as sns\n",
    "import sys\n",
    "from functions import *\n",
    "import os"
   ]
  },
  {
   "cell_type": "markdown",
   "metadata": {},
   "source": [
    "**Import cluster data and create dicts**"
   ]
  },
  {
   "cell_type": "code",
   "execution_count": null,
   "metadata": {},
   "outputs": [],
   "source": [
    "# Directory containing the TSV files\n",
    "directory_path = '../../data/clustering/cluster_maps/'\n",
    "\n",
    "# List all files in the directory\n",
    "file_paths = [os.path.join(directory_path, file) for file in os.listdir(directory_path) if file.endswith('.tsv')]\n",
    "\n",
    "\n",
    "# Read each TSV file into a DataFrame and store them in a list\n",
    "dataframes = []\n",
    "for file_path in file_paths:\n",
    "    df = pd.read_csv(file_path, sep='\\t')\n",
    "    dataframes.append(df.iloc[:, 1:])\n",
    "\n",
    "# Concatenate all DataFrames side by side\n",
    "combined_df = pd.concat(dataframes, axis=1)\n",
    "\n",
    "# Save the combined DataFrame to a new TSV file\n",
    "combined_df.to_csv('combined_clusters.tsv', sep='\\t', index=False)"
   ]
  },
  {
   "cell_type": "code",
   "execution_count": null,
   "metadata": {},
   "outputs": [],
   "source": [
    "cluster_df = pd.read_csv('../../data/clustering/cluster_maps/combined_clusters.tsv', sep='\\t')\n",
    "\n",
    "headers = list(cluster_df.columns)\n",
    "\n",
    "enzymes = set([x.split('_')[0] for x in headers])\n",
    "\n",
    "print(enzymes) "
   ]
  },
  {
   "cell_type": "code",
   "execution_count": null,
   "metadata": {},
   "outputs": [],
   "source": [
    "mmseqs_df = pd.read_csv('../../data/clustering/mmseqs_cleaned_cluster.tsv', sep=\"\\t\")\n",
    "foldseek_df = pd.read_csv('../../data/clustering/foldseek_cleaned_cluster.tsv', sep=\"\\t\")"
   ]
  },
  {
   "cell_type": "code",
   "execution_count": null,
   "metadata": {},
   "outputs": [],
   "source": [
    "# Group by the representative sequence and aggregate the clustered sequences into lists\n",
    "foldseek_dict = foldseek_df.groupby('foldseek_cluster')['unclustered'].apply(list).to_dict()\n",
    "\n",
    "print(len(list(foldseek_dict.items())))"
   ]
  },
  {
   "cell_type": "code",
   "execution_count": null,
   "metadata": {},
   "outputs": [],
   "source": [
    "# Group by the representative sequence and aggregate the clustered sequences into lists\n",
    "mmseqs_dict = mmseqs_df.groupby('mmseqs_cluster')['unclustered'].apply(list).to_dict()\n",
    "\n",
    "print(len(list(mmseqs_dict.items())))"
   ]
  },
  {
   "cell_type": "code",
   "execution_count": null,
   "metadata": {},
   "outputs": [],
   "source": [
    "# Flatten the list of mmseqs cluster representatives from foldseek_dict\n",
    "foldseek_mmseqs_reps = set()\n",
    "for reps in foldseek_dict.values():\n",
    "    foldseek_mmseqs_reps.update(reps)\n",
    "\n",
    "# Check if each mmseqs cluster representative is in foldseek_mmseqs_reps\n",
    "unmapped_mmseqs_reps = [rep for rep in mmseqs_dict if rep not in foldseek_mmseqs_reps]\n",
    "\n",
    "unmapped_mmseqs_reps\n",
    "\n",
    "# Some proteins do not have their 3d structures predicted yet and so they are not in the foldseek_dict"
   ]
  },
  {
   "cell_type": "markdown",
   "metadata": {},
   "source": [
    "**Create Secretion table and dictionary**"
   ]
  },
  {
   "cell_type": "code",
   "execution_count": null,
   "metadata": {},
   "outputs": [],
   "source": [
    "signalp = pd.read_csv('C:\\\\Users\\\\odesa\\\\OneDrive - University of Toronto\\\\CRC\\\\LatestDataJan\\\\signalp\\\\prediction_results.txt', sep='\\t')\n",
    "\n",
    "# signalp = pd.read_csv('/home/oliver/CRConedriveData/LatestDataJan/signalp/prediction_results.txt', sep='\\t')\n",
    "\n",
    "# display(signalp.head()) \n",
    "\n",
    "signalp['# ID'] = signalp['# ID'].str.split('_').str[2]\n",
    "\n",
    "signalp['# ID'] = signalp['# ID'].str.split('|').str[0]\n",
    "\n",
    "display(signalp.head()) \n"
   ]
  },
  {
   "cell_type": "code",
   "execution_count": null,
   "metadata": {},
   "outputs": [],
   "source": [
    "foldseek_ids = list(foldseek_dict.keys())"
   ]
  },
  {
   "cell_type": "code",
   "execution_count": null,
   "metadata": {},
   "outputs": [],
   "source": [
    "# Create a dictionary containing the sec tag status for each of the original proteins present in the db\n",
    "\n",
    "sec_dict = {}\n",
    "\n",
    "for idx, id in enumerate(foldseek_ids):\n",
    "    proteins = get_proteins(id, foldseek_dict, mmseqs_dict)\n",
    "    for protein in proteins:\n",
    "        if protein in signalp['# ID'].values:\n",
    "            other_column_value = signalp.loc[signalp['# ID'] == protein, 'Prediction'].values[0]\n",
    "            sec_dict[protein] = other_column_value\n",
    "\n",
    "print(sec_dict)\n"
   ]
  },
  {
   "cell_type": "code",
   "execution_count": null,
   "metadata": {},
   "outputs": [],
   "source": [
    "# Doesnt currently work but need to check if SP is the only possible sec tag\n",
    "\n",
    "# Flattening lists and extracting unique values\n",
    "unique_values = set(value for values_list in sec_dict.values() for value in values_list)\n",
    "\n",
    "print(unique_values)"
   ]
  },
  {
   "cell_type": "markdown",
   "metadata": {},
   "source": [
    "**Create Domain Table**"
   ]
  },
  {
   "cell_type": "code",
   "execution_count": null,
   "metadata": {},
   "outputs": [],
   "source": [
    "IPS = pd.read_csv('/home/oliver/CRConedriveData/LatestDataJan/IPS/all_dl_endo_domains.tsv', sep='\\t', header=None)\n",
    "\n",
    "display(IPS.head())"
   ]
  },
  {
   "cell_type": "code",
   "execution_count": null,
   "metadata": {},
   "outputs": [],
   "source": [
    "IPS[0] = IPS[0].str.split('_').str[2]\n",
    "\n",
    "IPS[0] = IPS[0].str.split('|').str[0]\n",
    "\n",
    "display(IPS.head())"
   ]
  },
  {
   "cell_type": "code",
   "execution_count": null,
   "metadata": {},
   "outputs": [],
   "source": [
    "column_5_list = IPS.iloc[:, 5].tolist()\n",
    "unique_values = set(column_5_list)\n",
    "print(unique_values)\n"
   ]
  },
  {
   "cell_type": "code",
   "execution_count": null,
   "metadata": {},
   "outputs": [],
   "source": [
    "a = 'A0A4Y7RJ07'\n",
    "foldseek_id = get_cluster([a], mmseqs_dict, foldseek_dict)[0]\n",
    "print(foldseek_id)"
   ]
  },
  {
   "cell_type": "code",
   "execution_count": null,
   "metadata": {},
   "outputs": [],
   "source": [
    "for idx, value in enumerate(IPS[0]):\n",
    "    foldseek_id = get_cluster([value], mmseqs_dict, foldseek_dict)[0]\n",
    "    IPS.at[idx, 0] = foldseek_id\n",
    "\n",
    "display(IPS.head())"
   ]
  },
  {
   "cell_type": "markdown",
   "metadata": {},
   "source": [
    "**Test the clustering on the PRJEB7774 Data**"
   ]
  },
  {
   "cell_type": "code",
   "execution_count": null,
   "metadata": {},
   "outputs": [],
   "source": [
    "PRJEB7774 = pd.read_feather('C:/Users/odesa/OneDrive - University of Toronto/CRC/LatestDataJan/PRJEB7774/clean_joined_genefamilies_relab_7774.feather')\n",
    "print(PRJEB7774.shape)"
   ]
  },
  {
   "cell_type": "code",
   "execution_count": null,
   "metadata": {},
   "outputs": [],
   "source": [
    "clustered_7774 = cluster_humann_table('C:/Users/odesa/OneDrive - University of Toronto/CRC/LatestDataJan/PRJEB7774/clean_joined_genefamilies_relab_7774.feather',\n",
    "                                      'C:/Users/odesa/Desktop/Code/CRC-Final/data/clustering/cluster_maps/combined_clusters.tsv')\n",
    "\n",
    "print(clustered_7774.shape)"
   ]
  },
  {
   "cell_type": "code",
   "execution_count": null,
   "metadata": {},
   "outputs": [],
   "source": [
    "clustered_7774.to_csv('C:\\\\Users\\\\odesa\\\\Desktop\\\\Code\\\\CRC-Final\\\\data\\\\clustering\\\\humann_clustered\\\\clustered_complete_PRJEB7774.tsv', sep='\\t', index=False)"
   ]
  },
  {
   "cell_type": "markdown",
   "metadata": {},
   "source": [
    "**Clustering PRJEB10878**"
   ]
  },
  {
   "cell_type": "code",
   "execution_count": null,
   "metadata": {},
   "outputs": [],
   "source": [
    "PRJEB10878 = pd.read_feather('C:/Users/odesa/OneDrive - University of Toronto/CRC/LatestDataJan/PRJEB10878/clean_joined_genefamilies_relab_10878.feather')\n",
    "print(PRJEB10878.shape)"
   ]
  },
  {
   "cell_type": "code",
   "execution_count": null,
   "metadata": {},
   "outputs": [],
   "source": [
    "clustered_10878 = cluster_humann_table('C:/Users/odesa/OneDrive - University of Toronto/CRC/LatestDataJan/PRJEB10878/clean_joined_genefamilies_relab_10878.feather',\n",
    "                                      'C:/Users/odesa/Desktop/Code/CRC-Final/data/clustering/cluster_maps/combined_clusters.tsv')\n",
    "\n",
    "print(clustered_10878.shape)"
   ]
  },
  {
   "cell_type": "code",
   "execution_count": null,
   "metadata": {},
   "outputs": [],
   "source": [
    "clustered_10878.to_csv('C:\\\\Users\\\\odesa\\\\Desktop\\\\Code\\\\CRC-Final\\\\data\\\\clustering\\\\humann_clustered\\\\clustered_complete_PRJEB10878.tsv', sep='\\t', index=False)"
   ]
  },
  {
   "cell_type": "markdown",
   "metadata": {},
   "source": [
    "**Clustering DRA008156**"
   ]
  },
  {
   "cell_type": "code",
   "execution_count": null,
   "metadata": {},
   "outputs": [],
   "source": [
    "DRA = pd.read_feather('~/Downloads/clean_joined_genefamilies_relab_DRA008156.feather')\n",
    "print(DRA.shape)"
   ]
  },
  {
   "cell_type": "code",
   "execution_count": null,
   "metadata": {},
   "outputs": [],
   "source": [
    "# Test cluster_humann_table function\n",
    "\n",
    "test = cluster_humann_table('~/Downloads/clean_joined_genefamilies_relab_DRA008156.feather',\n",
    "                             '~/CRC-Final/data/clustering/cluster_maps/combined_clusters.tsv')"
   ]
  },
  {
   "cell_type": "code",
   "execution_count": null,
   "metadata": {},
   "outputs": [],
   "source": [
    "test.to_csv('~/CRC-Final/data/clustering/humann_clustered/clustered_complete_DRA008156.tsv', sep='\\t', index=False)"
   ]
  },
  {
   "cell_type": "markdown",
   "metadata": {},
   "source": [
    "**Clustering ICI trial PRJEB22893**"
   ]
  },
  {
   "cell_type": "code",
   "execution_count": null,
   "metadata": {},
   "outputs": [],
   "source": [
    "ici_22893 = pd.read_feather('E:/ICI/ici_humann/clean_joined_PRJEB22893_relab.feather')\n",
    "\n",
    "print(ici_22893.shape)"
   ]
  },
  {
   "cell_type": "code",
   "execution_count": null,
   "metadata": {},
   "outputs": [],
   "source": [
    "ici_22893_clustered = cluster_humann_table('E:/ICI/ici_humann/clean_joined_PRJEB22893_relab.feather',\n",
    "                                            '../../data/clustering/cluster_maps/combined_clusters.tsv')"
   ]
  },
  {
   "cell_type": "code",
   "execution_count": null,
   "metadata": {},
   "outputs": [],
   "source": [
    "ici_22893_clustered.to_csv('E:/ICI/ici_humann/clustered_complete_PRJEB22893.tsv', sep='\\t', index=False)"
   ]
  },
  {
   "cell_type": "markdown",
   "metadata": {},
   "source": [
    "**Clustering ICI trial PRJNA399742**"
   ]
  },
  {
   "cell_type": "code",
   "execution_count": null,
   "metadata": {},
   "outputs": [],
   "source": [
    "ici_399742 = pd.read_feather('E:/ICI/ici_humann/clean_joined_PRJNA399742_relab.feather')\n",
    "\n",
    "print(ici_399742.shape)"
   ]
  },
  {
   "cell_type": "code",
   "execution_count": null,
   "metadata": {},
   "outputs": [],
   "source": [
    "ici_399742_clustered = cluster_humann_table('E:/ICI/ici_humann/clean_joined_PRJNA399742_relab.feather',\n",
    "                                            '../../data/clustering/cluster_maps/combined_clusters.tsv')"
   ]
  },
  {
   "cell_type": "code",
   "execution_count": null,
   "metadata": {},
   "outputs": [],
   "source": [
    "ici_399742_clustered.to_csv('E:/ICI/ici_humann/clustered_complete_PRJEB399742.tsv', sep='\\t', index=False)"
   ]
  },
  {
   "cell_type": "markdown",
   "metadata": {},
   "source": [
    "**Clustering Bariatric Data**"
   ]
  },
  {
   "cell_type": "code",
   "execution_count": null,
   "metadata": {},
   "outputs": [],
   "source": [
    "bariatric = pd.read_feather('E:/bariatric/clean_joined_genefamilies_relab_bariatric.feather')\n",
    "\n",
    "print(bariatric['sample_id'])"
   ]
  },
  {
   "cell_type": "code",
   "execution_count": null,
   "metadata": {},
   "outputs": [],
   "source": [
    "# make the timepoint column for metadata\n",
    "\n",
    "bariatric_ids = pd.DataFrame(bariatric['sample_id'])\n",
    "\n",
    "bariatric_ids['TimePoint'] = bariatric_ids['sample_id'].apply(lambda x: x.split('_')[2])\n",
    "\n",
    "print(bariatric_ids)"
   ]
  },
  {
   "cell_type": "code",
   "execution_count": null,
   "metadata": {},
   "outputs": [],
   "source": [
    "# Format IDs\n",
    "\n",
    "bariatric_ids['sample_id'] = bariatric_ids['sample_id'].apply(lambda x: '_'.join(x.split('_')[:2]))\n",
    "\n",
    "print(bariatric_ids)"
   ]
  },
  {
   "cell_type": "code",
   "execution_count": null,
   "metadata": {},
   "outputs": [],
   "source": [
    "# Fix stupid naming scheme...\n",
    "\n",
    "bariatric['base_id'] = bariatric['sample_id'].apply(lambda x: '_'.join(x.split('_')[:-1]))\n",
    "\n",
    "base_ids_with_211001 = bariatric[bariatric['sample_id'].str.endswith('211001')]['base_id'].unique()\n",
    "\n",
    "# Mark _pooled entries for removal if their base_id is in the list identified above\n",
    "bariatric['remove_flag'] = bariatric.apply(lambda row: row['base_id'] in base_ids_with_211001 and row['sample_id'].endswith('pooled'), axis=1)\n",
    "\n",
    "# Filter out the rows marked for removal\n",
    "bariatric = bariatric[~bariatric['remove_flag']].drop(columns=['base_id', 'remove_flag'])  # Drop the helper columns\n",
    "\n",
    "bariatric.head(), bariatric.shape"
   ]
  },
  {
   "cell_type": "code",
   "execution_count": null,
   "metadata": {},
   "outputs": [],
   "source": [
    "bariatric.reset_index(drop=True, inplace=True)"
   ]
  },
  {
   "cell_type": "code",
   "execution_count": null,
   "metadata": {},
   "outputs": [],
   "source": [
    "bariatric.drop([0, 9, 59, 64, 111, 115, 116, 117], inplace=True)"
   ]
  },
  {
   "cell_type": "code",
   "execution_count": null,
   "metadata": {},
   "outputs": [],
   "source": [
    "bariatric['TimePoint'] = bariatric['sample_id'].apply(lambda x: '1M' if '1M' in x else ('6M' if '6M' in x else ('OR' if 'OR' in x else ('BL' if 'L' in x else ''))))"
   ]
  },
  {
   "cell_type": "code",
   "execution_count": null,
   "metadata": {},
   "outputs": [],
   "source": [
    "bariatric['sample_id'] = bariatric['sample_id'].apply(lambda x: '_'.join(x.split('_')[0].split('-')[:2]).strip('L'))"
   ]
  },
  {
   "cell_type": "code",
   "execution_count": null,
   "metadata": {},
   "outputs": [],
   "source": [
    "bariatric['sample_id'] = bariatric.apply(lambda row: row['sample_id'] + '_' + row['TimePoint'], axis=1)\n"
   ]
  },
  {
   "cell_type": "code",
   "execution_count": null,
   "metadata": {},
   "outputs": [],
   "source": [
    "bariatric.drop(columns=['TimePoint'], inplace=True)"
   ]
  },
  {
   "cell_type": "code",
   "execution_count": null,
   "metadata": {},
   "outputs": [],
   "source": [
    "bariatric['sample_id']"
   ]
  },
  {
   "cell_type": "code",
   "execution_count": null,
   "metadata": {},
   "outputs": [],
   "source": [
    "bariatric['sample_id'] = bariatric_ids['sample_id']\n",
    "\n",
    "print(bariatric['sample_id'])"
   ]
  },
  {
   "cell_type": "code",
   "execution_count": null,
   "metadata": {},
   "outputs": [],
   "source": [
    "bariatric.to_feather('/media/oliver/PGH_Backup/bariatric/clean_joined_genefamilies_relab_bariatric.feather')\n",
    "bariatric.to_csv('/media/oliver/PGH_Backup/bariatric/clean_joined_genefamilies_relab_bariatric.tsv', sep='\\t', index=False)"
   ]
  },
  {
   "cell_type": "code",
   "execution_count": null,
   "metadata": {},
   "outputs": [],
   "source": [
    "make_outputs(bariatric_ids, '/media/oliver/PGH_Backup/bariatric/bariatric_metadata')"
   ]
  },
  {
   "cell_type": "code",
   "execution_count": null,
   "metadata": {},
   "outputs": [],
   "source": [
    "bariatric_clustered = cluster_humann_table('E:/bariatric/clean_joined_genefamilies_relab_bariatric.feather',\n",
    "                                            '../../data/clustering/cluster_maps/combined_clusters.tsv')"
   ]
  },
  {
   "cell_type": "code",
   "execution_count": null,
   "metadata": {},
   "outputs": [],
   "source": [
    "print(bariatric_clustered.shape)\n",
    "bariatric_clustered = bariatric_clustered.drop(columns=['unclustered'])\n",
    "print(bariatric_clustered.shape)\n"
   ]
  },
  {
   "cell_type": "code",
   "execution_count": null,
   "metadata": {},
   "outputs": [],
   "source": [
    "make_outputs(bariatric_clustered, 'E:/bariatric/clustered_complete_bariatric')"
   ]
  },
  {
   "cell_type": "code",
   "execution_count": null,
   "metadata": {},
   "outputs": [],
   "source": [
    "grouped_bariatric = group_humann_table('E:/bariatric/clean_joined_genefamilies_relab_bariatric.feather')\n",
    "\n",
    "print(grouped_bariatric.shape, grouped_bariatric.columns)"
   ]
  },
  {
   "cell_type": "code",
   "execution_count": null,
   "metadata": {},
   "outputs": [],
   "source": [
    "grouped_bariatric.rename(columns={'sample': 'sample_id'}, inplace=True)\n",
    "\n",
    "print(grouped_bariatric.columns)\n"
   ]
  },
  {
   "cell_type": "code",
   "execution_count": null,
   "metadata": {},
   "outputs": [],
   "source": [
    "make_outputs(grouped_bariatric, 'E:/bariatric/grouped_bariatric')"
   ]
  },
  {
   "cell_type": "code",
   "execution_count": null,
   "metadata": {},
   "outputs": [],
   "source": [
    "clustered_7774 = pd.read_csv('C:\\\\Users\\\\odesa\\\\Desktop\\\\Code\\\\CRC-Final\\\\data\\\\clustering\\\\humann_clustered\\\\clustered_complete_PRJEB7774.tsv', sep='\\t')\n",
    "\n",
    "print(clustered_7774.shape)"
   ]
  },
  {
   "cell_type": "code",
   "execution_count": null,
   "metadata": {},
   "outputs": [],
   "source": [
    "# Cluster large ICI trial\n",
    "\n",
    "ici = pd.read_feather('~/Downloads/clean_joined_70966_43119.feather')\n",
    "\n",
    "print(ici.shape)\n"
   ]
  },
  {
   "cell_type": "code",
   "execution_count": null,
   "metadata": {},
   "outputs": [],
   "source": [
    "clustered_ici = cluster_humann_table('~/Downloads/clean_joined_70966_43119.feather',\n",
    "                                    '../../data/clustering/cluster_maps/combined_clusters.tsv')"
   ]
  },
  {
   "cell_type": "code",
   "execution_count": null,
   "metadata": {},
   "outputs": [],
   "source": [
    "print(clustered_ici.shape)"
   ]
  },
  {
   "cell_type": "code",
   "execution_count": null,
   "metadata": {},
   "outputs": [],
   "source": [
    "clustered_ici.to_csv('/Users/odesa/OneDrive - University of Toronto/LabWork/ICI/LatestData/clustered_complete_70966_43119.tsv', sep='\\t', index=False)"
   ]
  },
  {
   "cell_type": "code",
   "execution_count": null,
   "metadata": {},
   "outputs": [],
   "source": [
    "grouped_ici = group_humann_table('~/Downloads/clean_joined_70966_43119.feather')"
   ]
  },
  {
   "cell_type": "code",
   "execution_count": null,
   "metadata": {},
   "outputs": [],
   "source": [
    "display(grouped_ici.head())"
   ]
  },
  {
   "cell_type": "code",
   "execution_count": null,
   "metadata": {},
   "outputs": [],
   "source": [
    "grouped_ici.to_csv('/Users/odesa/OneDrive - University of Toronto/LabWork/ICI/LatestData/grouped_70966_43119.tsv', sep='\\t', index=False)"
   ]
  },
  {
   "cell_type": "markdown",
   "metadata": {},
   "source": [
    "**iHMP2 Data, IBD**"
   ]
  },
  {
   "cell_type": "code",
   "execution_count": null,
   "metadata": {},
   "outputs": [],
   "source": [
    "ibd = pd.read_csv('E:/ibd_data/humann_second_run/ibd_genefamilies_relab_p2.tsv', sep='\\t')\n",
    "\n",
    "display(ibd.head())"
   ]
  },
  {
   "cell_type": "code",
   "execution_count": null,
   "metadata": {},
   "outputs": [],
   "source": [
    "clean_ibd = clean_table('E:/ibd_data/humann_second_run/ibd_genefamilies_relab_p2.tsv')\n",
    "\n",
    "display(clean_ibd.head())"
   ]
  },
  {
   "cell_type": "code",
   "execution_count": null,
   "metadata": {},
   "outputs": [],
   "source": [
    "make_outputs(clean_ibd, 'E:/ibd_data/humann_second_run/ibd_genefamiles_relab_cleaned')"
   ]
  },
  {
   "cell_type": "code",
   "execution_count": null,
   "metadata": {},
   "outputs": [],
   "source": [
    "ibd = pd.read_csv('/Volumes/PGH-Backup/ibd_data/humann_second_run/ibd_genefamiles_relab_cleaned.tsv', sep='\\t')\n",
    "\n",
    "display(ibd.head())"
   ]
  },
  {
   "cell_type": "code",
   "execution_count": null,
   "metadata": {},
   "outputs": [],
   "source": [
    "clustered_ibd_old = cluster_humann_table('/Volumes/PGH-backup/ibd_data/humann_second_run/ibd_genefamiles_relab_cleaned.feather',\n",
    "                                    '../../data/clustering/cluster_maps/combined_clusters.tsv')"
   ]
  },
  {
   "cell_type": "code",
   "execution_count": null,
   "metadata": {},
   "outputs": [],
   "source": [
    "cluster_map = pd.read_csv('../../data/clustering/cluster_maps/combined_clusters.tsv', sep='\\t')\n",
    "\n"
   ]
  },
  {
   "cell_type": "code",
   "execution_count": null,
   "metadata": {},
   "outputs": [],
   "source": [
    "mask = np.column_stack([cluster_map[col].str.contains(\"A0A373P8V8\", na=False) for col in cluster_map])\n",
    "\n",
    "cluster_map.loc[mask.any(axis=1)]"
   ]
  },
  {
   "cell_type": "code",
   "execution_count": null,
   "metadata": {},
   "outputs": [],
   "source": [
    "humann_output = pd.read_feather('/Volumes/PGH-backup/ibd_data/humann_second_run/ibd_genefamiles_relab_cleaned.feather')\n",
    "\n",
    "display(humann_output.head())"
   ]
  },
  {
   "cell_type": "code",
   "execution_count": null,
   "metadata": {},
   "outputs": [],
   "source": [
    "colnames = list(humann_output.columns)\n",
    "\n",
    "colnames = colnames[2:]\n",
    "\n",
    "colnames = [col.split('_')[2] for col in colnames]\n",
    "\n",
    "print(colnames[:10])\n",
    "\n"
   ]
  },
  {
   "cell_type": "code",
   "execution_count": null,
   "metadata": {},
   "outputs": [],
   "source": [
    "'A0A373P8V8' in colnames"
   ]
  },
  {
   "cell_type": "code",
   "execution_count": null,
   "metadata": {},
   "outputs": [],
   "source": [
    "from collections import Counter\n",
    "\n",
    "colnames = list(clustered_ibd_old.columns)\n",
    "\n",
    "def find_duplicates(input_list):\n",
    "    # Use Counter to count occurrences of each string\n",
    "    counts = Counter(input_list)\n",
    "    \n",
    "    # Extract strings that have a count greater than 1\n",
    "    duplicates = [item for item, count in counts.items() if count > 1]\n",
    "    \n",
    "    return duplicates\n",
    "\n",
    "\n",
    "find_duplicates(colnames)"
   ]
  },
  {
   "cell_type": "code",
   "execution_count": null,
   "metadata": {},
   "outputs": [],
   "source": [
    "# Ensure there are no duplicate column names by resetting the columns index\n",
    "clustered_ibd_old = clustered_ibd_old.loc[:, ~clustered_ibd_old.columns.duplicated()]\n",
    "\n",
    "# Now drop the 'unclustered' columns\n",
    "clustered_ibd_old = clustered_ibd_old.drop(columns='unclustered', errors='ignore')\n",
    "\n",
    "print(clustered_ibd_old)"
   ]
  },
  {
   "cell_type": "code",
   "execution_count": null,
   "metadata": {},
   "outputs": [],
   "source": [
    "find_duplicates(colnames)"
   ]
  },
  {
   "cell_type": "code",
   "execution_count": null,
   "metadata": {},
   "outputs": [],
   "source": [
    "make_outputs(clustered_ibd_old, '/Volumes/PGH-backup/ibd_data/humann_second_run/clustered_ibd')"
   ]
  },
  {
   "cell_type": "code",
   "execution_count": null,
   "metadata": {},
   "outputs": [],
   "source": [
    "clustered_ibd = pd.read_csv('/Volumes/PGH-backup/ibd_data/humann_second_run/ibd_genefamilies_relab_clustered.tsv', sep='\\t')\n",
    "\n",
    "display(clustered_ibd.head())"
   ]
  },
  {
   "cell_type": "code",
   "execution_count": null,
   "metadata": {},
   "outputs": [],
   "source": [
    "clean_ibd_rna = clean_table('/Volumes/PGH-backup/ibd_data/rnaseq/ibd_rnaseq_relab_joined.tsv')"
   ]
  },
  {
   "cell_type": "code",
   "execution_count": null,
   "metadata": {},
   "outputs": [],
   "source": [
    "make_outputs(clean_ibd_rna, '/Volumes/PGH-backup/ibd_data/rnaseq/ibd_rnaseq_relab_cleaned')"
   ]
  },
  {
   "cell_type": "code",
   "execution_count": null,
   "metadata": {},
   "outputs": [],
   "source": [
    "ibd_rna_clustered = cluster_humann_table('/Volumes/PGH-backup/ibd_data/rnaseq/ibd_rnaseq_relab_cleaned.feather',\n",
    "                                         '../../data/clustering/cluster_maps/combined_clusters.tsv')"
   ]
  },
  {
   "cell_type": "code",
   "execution_count": null,
   "metadata": {},
   "outputs": [],
   "source": [
    "ibd_rna_clustered = ibd_rna_clustered.loc[:, ~ibd_rna_clustered.columns.duplicated()]\n",
    "\n",
    "# Now drop the 'unclustered' columns\n",
    "ibd_rna_clustered = ibd_rna_clustered.drop(columns='unclustered', errors='ignore')\n",
    "\n",
    "print(ibd_rna_clustered)"
   ]
  },
  {
   "cell_type": "code",
   "execution_count": null,
   "metadata": {},
   "outputs": [],
   "source": [
    "make_outputs(ibd_rna_clustered, '/Volumes/PGH-backup/ibd_data/rnaseq/ibd_rnaseq_clustered')"
   ]
  },
  {
   "cell_type": "code",
   "execution_count": null,
   "metadata": {},
   "outputs": [],
   "source": [
    "metadata = pd.read_csv('/Volumes/PGH-backup/ibd_data/hmp2_metadata_2018-08-20.csv')\n",
    "\n",
    "display(metadata.head())"
   ]
  },
  {
   "cell_type": "code",
   "execution_count": null,
   "metadata": {},
   "outputs": [],
   "source": [
    "metadata = metadata[metadata['data_type'] == 'metagenomics']"
   ]
  },
  {
   "cell_type": "code",
   "execution_count": null,
   "metadata": {},
   "outputs": [],
   "source": [
    "metadata.to_csv('/Volumes/PGH-backup/ibd_data/hmp2_metagenomics_metadata.csv', index=False)"
   ]
  }
 ],
 "metadata": {
  "kernelspec": {
   "display_name": "Python 3",
   "language": "python",
   "name": "python3"
  },
  "language_info": {
   "codemirror_mode": {
    "name": "ipython",
    "version": 3
   },
   "file_extension": ".py",
   "mimetype": "text/x-python",
   "name": "python",
   "nbconvert_exporter": "python",
   "pygments_lexer": "ipython3",
   "version": "3.12.3"
  }
 },
 "nbformat": 4,
 "nbformat_minor": 2
}
