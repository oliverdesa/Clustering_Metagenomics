{
 "cells": [
  {
   "cell_type": "code",
   "execution_count": null,
   "metadata": {},
   "outputs": [],
   "source": [
    "from functions import *\n",
    "import pandas as pd\n",
    "from pathlib import Path\n",
    "import warnings"
   ]
  },
  {
   "cell_type": "markdown",
   "metadata": {},
   "source": [
    "**Read in the data for table generation**"
   ]
  },
  {
   "cell_type": "code",
   "execution_count": null,
   "metadata": {},
   "outputs": [],
   "source": [
    "# secretion = pd.read_csv('E:\\\\blastp_hits\\\\dl_endo_signalp.txt', sep='\\t')\n",
    "\n",
    "# dl_map = pd.read_csv('../../data/clustering/cluster_maps/dl_endopeptidase.tsv', sep='\\t')\n",
    "\n",
    "# taxonomy = pd.read_csv('E:\\\\blastp_hits\\\\taxonomy_mapping.tsv', sep='\\t')\n",
    "\n",
    "# uniref_genome = pd.read_csv('E:\\\\blastp_hits\\\\uniref_genome_map.txt', sep='\\t', header=None, names=['Genome', 'Uniref'])\n",
    "\n",
    "# interpro = pd.read_csv('E:\\\\blastp_hits\\\\all_dl_ips.tsv', sep='\\t', header=None)\n",
    "\n",
    "# print(interpro.head(), interpro.shape)\n",
    "# print(secretion.head(), secretion.shape)\n",
    "# print(dl_map.head(), dl_map.shape)\n",
    "# print(taxonomy.head(), taxonomy.shape)\n",
    "# print(uniref_genome.head(), uniref_genome.shape)"
   ]
  },
  {
   "cell_type": "code",
   "execution_count": null,
   "metadata": {},
   "outputs": [],
   "source": [
    "# Clean the secretion file to include genome IDs and predicitons\n",
    "\n",
    "secretion['# ID'] = secretion['# ID'].str.split('#').str[0].str.strip()\n",
    "\n",
    "secretion['Genome'] = secretion['# ID'].str.split('_').str[0]\n",
    "\n",
    "secretion = secretion[['# ID', 'Genome', 'Prediction']]\n",
    "\n",
    "secretion['Genome'] = secretion['Genome'].str.strip('.fa')\n",
    "\n",
    "# secretion = secretion.rename(columns={'# ID': 'Genome'})\n",
    "\n",
    "# IDs have extra indicators like this: MGYG000155050_27_22 not found in the mapping file. strip themn off for now \n",
    "\n",
    "display(secretion.head()) "
   ]
  },
  {
   "cell_type": "code",
   "execution_count": null,
   "metadata": {},
   "outputs": [],
   "source": [
    "# Clean the uniref map add names to columns\n",
    "\n",
    "uniref_genome.rename(columns={'Genome': '# ID'}, inplace=True)\n",
    "\n",
    "uniref_genome['# ID'] = uniref_genome['# ID'].str.strip()\n",
    "\n",
    "# uniref_genome['Genome'] = uniref_genome['# ID'].str.split('_').str[0]\n",
    "\n",
    "uniref_genome['Uniref'] = uniref_genome['Uniref'].str.split('_').str[1]\n",
    "\n",
    "display(uniref_genome.head())\n"
   ]
  },
  {
   "cell_type": "code",
   "execution_count": null,
   "metadata": {},
   "outputs": [],
   "source": [
    "taxonomy['Genome'] = taxonomy['Genome'].str.strip('.fa')\n",
    "\n",
    "display(taxonomy.head())"
   ]
  },
  {
   "cell_type": "code",
   "execution_count": null,
   "metadata": {},
   "outputs": [],
   "source": [
    "# Merge the secretion data with the uniref map data\n",
    "\n",
    "secretion_and_uniref = secretion.merge(uniref_genome, on='# ID', how='inner')\n",
    "\n",
    "display(secretion_and_uniref.head())"
   ]
  },
  {
   "cell_type": "code",
   "execution_count": null,
   "metadata": {},
   "outputs": [],
   "source": [
    "# Merge the secretion and taxonomy data with the uniref_genome data\n",
    "\n",
    "dle_info = secretion_and_uniref.merge(taxonomy, on='Genome', how='inner')\n",
    "\n",
    "display(dle_info.head())"
   ]
  },
  {
   "cell_type": "code",
   "execution_count": null,
   "metadata": {},
   "outputs": [],
   "source": [
    "# clean ips table\n",
    "\n",
    "interpro = interpro.iloc[:, [0, 12]]\n",
    "\n",
    "interpro.head()"
   ]
  },
  {
   "cell_type": "code",
   "execution_count": null,
   "metadata": {},
   "outputs": [],
   "source": [
    "interpro.rename(columns={0: '# ID', 12: 'Interpro'}, inplace=True)\n",
    "\n",
    "interpro.head()"
   ]
  },
  {
   "cell_type": "code",
   "execution_count": null,
   "metadata": {},
   "outputs": [],
   "source": [
    "interpro = interpro.groupby(['# ID']).agg(list).reset_index()\n",
    "\n",
    "display(interpro.head())"
   ]
  },
  {
   "cell_type": "code",
   "execution_count": null,
   "metadata": {},
   "outputs": [],
   "source": [
    "print(dle_info.shape, interpro.shape)\n",
    "\n",
    "dle_info = dle_info.merge(interpro, on='# ID', how='left')\n",
    "\n",
    "print(dle_info.shape)"
   ]
  },
  {
   "cell_type": "code",
   "execution_count": null,
   "metadata": {},
   "outputs": [],
   "source": [
    "dl_map.rename(columns={'dl_endopeptidase-unclustered': 'Uniref'}, inplace=True)\n",
    "\n",
    "display(dl_map.head())"
   ]
  },
  {
   "cell_type": "markdown",
   "metadata": {},
   "source": [
    "**Old Code might re-use**"
   ]
  },
  {
   "cell_type": "code",
   "execution_count": null,
   "metadata": {},
   "outputs": [],
   "source": [
    "from collections import Counter\n",
    "\n",
    "def pie_chart(taxa_info: list):\n",
    "    \n",
    "    # Get taxa info for pie charts\n",
    "    phyla = []\n",
    "    family = []\n",
    "    genus = []\n",
    "    for tax in taxa_info:\n",
    "        phyla.append(tax.split(';')[1].replace('p__', ''))\n",
    "        family.append((tax.split(';')[4]).replace('f__', ''))\n",
    "        genus.append(tax.split(';')[-2].replace('g__', ''))\n",
    "\n",
    "    phyla_counts = Counter(phyla)\n",
    "    family_counts = Counter(family)\n",
    "    genus_counts = Counter(genus)\n",
    "\n",
    "    # Create pie charts\n",
    "\n",
    "    sns.set_style('whitegrid')\n",
    "\n",
    "    # Create a figure to hold the subplots\n",
    "    plt.figure(figsize=(24, 12))\n",
    "\n",
    "    # Phyla Distribution\n",
    "    plt.subplot(1, 3, 1)  # 1 row, 3 columns, 1st subplot\n",
    "    plt.pie(phyla_counts.values(), labels=phyla_counts.keys(), autopct='%1.1f%%')\n",
    "    plt.title('Phyla Distribution')\n",
    "\n",
    "    # Family Distribution\n",
    "    plt.subplot(1, 3, 2)  # 1 row, 3 columns, 2nd subplot\n",
    "    plt.pie(family_counts.values(), labels=family_counts.keys(), autopct='%1.1f%%')\n",
    "    plt.title('Family Distribution')\n",
    "\n",
    "    # Genus Distribution\n",
    "    plt.subplot(1, 3, 3)  # 1 row, 3 columns, 3rd subplot\n",
    "    plt.pie(genus_counts.values(), labels=genus_counts.keys(), autopct='%1.1f%%')\n",
    "    plt.title('Genus Distribution')\n",
    "\n",
    "    # Show the figure with the subplots\n",
    "    plt.tight_layout()\n",
    "    plt.show()\n",
    "\n",
    "    #in future add code to save figure as png"
   ]
  },
  {
   "cell_type": "code",
   "execution_count": null,
   "metadata": {},
   "outputs": [],
   "source": [
    "def bar_chart(domain_info: list, secretion_info: list, number_proteins: int):\n",
    "\n",
    "\n",
    "    domain_counter = Counter(domain_info)\n",
    "    \n",
    "    secretion_counter = Counter(secretion_info)\n",
    "\n",
    "    # Calculate average domain/protein\n",
    "    domain_average = {key: (value / number_proteins) for key, value in domain_counter.items()}\n",
    "\n",
    "    # Calculate percent secretion\n",
    "\n",
    "    secretion_percent = {key: (value / number_proteins) * 100 for key, value in secretion_counter.items()}\n",
    "\n",
    "    # # Debugging: Print labels and their corresponding percentages\n",
    "    # for key, value in domain_average.items():\n",
    "    #     print(f\"{key}: {value}%\")\n",
    "\n",
    "    # Preparing data for plotting\n",
    "    domain_labels = list(domain_average.keys())\n",
    "    domain_percentages = list(domain_average.values())\n",
    "\n",
    "    secretion_labels = list(secretion_percent.keys())\n",
    "    secretion_percentages = list(secretion_percent.values())\n",
    "\n",
    "\n",
    "    with warnings.catch_warnings():\n",
    "        # plotting warning regarding palette and hue can be ignored for now\n",
    "        warnings.simplefilter(\"ignore\", FutureWarning)\n",
    "\n",
    "        # Set a larger font size for all plot elements\n",
    "        sns.set_context(\"talk\")\n",
    "\n",
    "        # Set style\n",
    "        sns.set_style('whitegrid')\n",
    "\n",
    "        # Create a larger figure to accommodate the subplots\n",
    "        plt.figure(figsize=(24, 12))\n",
    "\n",
    "        # Domain Distribution\n",
    "        plt.subplot(1, 2, 1)  # 1 row, 2 columns, 1st subplot\n",
    "        domain_plot = sns.barplot(x=domain_labels, y=domain_percentages, palette=\"Blues_d\", edgecolor='black', linewidth=2)\n",
    "        plt.title('Average # Domains per Protein', fontsize=20)\n",
    "        plt.xlabel('Domains', fontsize=18)\n",
    "        plt.ylabel('Domain per Protein', fontsize=18)  # Adding label for clarity\n",
    "        plt.xticks(rotation=45, fontsize=14)\n",
    "        plt.yticks(fontsize=14)\n",
    "\n",
    "        # Secretion Distribution\n",
    "        plt.subplot(1, 2, 2)  # 1 row, 2 columns, 2nd subplot\n",
    "        secretion_plot = sns.barplot(x=secretion_labels, y=secretion_percentages, palette=\"Greens_d\", edgecolor='black', linewidth=2)\n",
    "        plt.title('Secretion Distribution', fontsize=20)\n",
    "        plt.xlabel('Secretion Systems', fontsize=18)\n",
    "        plt.ylabel('Percentage of Cluster Members')  # Intentionally left blank as per your setup\n",
    "        plt.xticks(rotation=45, fontsize=14)\n",
    "        plt.yticks(fontsize=14)\n",
    "\n",
    "        # Adjust the layout\n",
    "        plt.tight_layout()\n",
    "\n",
    "        # Show the plot\n",
    "        plt.show()\n",
    "\n"
   ]
  },
  {
   "cell_type": "code",
   "execution_count": null,
   "metadata": {},
   "outputs": [],
   "source": [
    "# Now map is created, need to make a function to quickly index clusters and pull important\n",
    "# information from the table. Get: number species, taxa info, secretion percentage\n",
    "\n",
    "import ast\n",
    "from collections import Counter\n",
    "\n",
    "\n",
    "\n",
    "def describe_cluster(cluster_id: str, protein_info_table: Path, cluster_info_table: Path):\n",
    "    \"\"\"\n",
    "    This function takes a cluster ID and a table of information about the clusters and returns\n",
    "    the number of species, the taxa information, and the percentage of the cluster that is predicted\n",
    "    to be secreted. \n",
    "    \"\"\"\n",
    "\n",
    "    # Read in tables as dfs\n",
    "    cluster_info_table = pd.read_csv(cluster_info_table, sep='\\t')\n",
    "    protein_info_table = pd.read_csv(protein_info_table, sep='\\t')\n",
    "\n",
    "    # given the cluster_id, find the initial uniref IDs and make them into a list\n",
    "    clustered_dl_list = list(cluster_info_table.loc[cluster_info_table['dl_endopeptidase-foldseek_cluster'] == cluster_id, 'Uniref'])\n",
    "\n",
    "    number_proteins = len(list(protein_info_table.loc[protein_info_table['Uniref'].isin(clustered_dl_list), '# ID']))\n",
    "\n",
    "    # search the protein_info_table for the reuturned Uniref ids. return unique species\n",
    "    species_list = list(set(protein_info_table.loc[protein_info_table['Uniref'].isin(clustered_dl_list), 'Lineage']))\n",
    "\n",
    "    # feed species list into species_pie_chart function to get figure\n",
    "\n",
    "    # Find percentage of proteins that are secreted\n",
    "\n",
    "    secretion_list = list(protein_info_table.loc[protein_info_table['Uniref'].isin(clustered_dl_list), 'Prediction'])\n",
    "\n",
    "    # Get domain information and normalize to per protein\n",
    "\n",
    "    # select the domain info column and make it into a list\n",
    "    domain_info = list(protein_info_table.loc[protein_info_table['Uniref'].isin(clustered_dl_list), 'Interpro'])\n",
    "\n",
    "    # flatten the list\n",
    "    domain_info = [item for sublist in domain_info for item in (sublist if isinstance(sublist, list) else [sublist])]\n",
    "\n",
    "    # remove any NA values\n",
    "    domain_info = [item for item in domain_info if not pd.isna(item)]\n",
    "\n",
    "    # convert strings to lists\n",
    "    domain_info = [ast.literal_eval(item) for item in domain_info]\n",
    "\n",
    "    # flatten the list\n",
    "    domain_info = [item for sublist in domain_info for item in (sublist if isinstance(sublist, list) else [sublist])]\n",
    "\n",
    "    # domain_info = {k: v / number_proteins for k, v in domain_info.items()}\n",
    "\n",
    "    # print(domain_info)\n",
    "\n",
    "    return(pie_chart(species_list), bar_chart(domain_info, secretion_list, number_proteins))\n",
    "  "
   ]
  },
  {
   "cell_type": "code",
   "execution_count": null,
   "metadata": {},
   "outputs": [],
   "source": [
    "print(describe_cluster('A0A348AMN4', 'E:\\\\blastp_hits\\\\dl_endo_info.tsv', 'E:\\\\blastp_hits\\\\dl_endo_cluster_map.tsv'))"
   ]
  },
  {
   "cell_type": "markdown",
   "metadata": {},
   "source": [
    "**The domain infographics look good but might not be showing the best information. For example, how many proteins dont have the domain at all? How many have 2 copies of the domain?**"
   ]
  }
 ],
 "metadata": {
  "kernelspec": {
   "display_name": "Python 3",
   "language": "python",
   "name": "python3"
  },
  "language_info": {
   "codemirror_mode": {
    "name": "ipython",
    "version": 3
   },
   "file_extension": ".py",
   "mimetype": "text/x-python",
   "name": "python",
   "nbconvert_exporter": "python",
   "pygments_lexer": "ipython3",
   "version": "3.12.1"
  }
 },
 "nbformat": 4,
 "nbformat_minor": 2
}
