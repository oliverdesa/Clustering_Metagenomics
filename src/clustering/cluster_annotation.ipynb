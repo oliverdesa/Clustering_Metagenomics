{
 "cells": [
  {
   "cell_type": "code",
   "execution_count": 2,
   "metadata": {},
   "outputs": [],
   "source": [
    "from functions import *"
   ]
  },
  {
   "cell_type": "code",
   "execution_count": null,
   "metadata": {},
   "outputs": [],
   "source": [
    "secretion = pd.read_csv('C:\\\\Users\\\\odesa\\\\OneDrive - University of Toronto\\\\CRC\\\\LatestDataJan\\\\signalp\\\\prediction_results.txt', sep='\\t')\n",
    "\n",
    "dl_map = pd.read_csv('../../data/clustering/cluster_maps/dl_endopeptidase.tsv', sep='\\t')\n",
    "\n",
    "# print(secretion.head(), secretion.shape)\n",
    "print(dl_map.head(), dl_map.shape)"
   ]
  },
  {
   "cell_type": "code",
   "execution_count": null,
   "metadata": {},
   "outputs": [],
   "source": [
    "secretion['# ID'] = secretion['# ID'].str.split('_').str[2]\n",
    "\n",
    "secretion['# ID'] = secretion['# ID'].str.split('|').str[0]\n",
    "\n",
    "display(secretion.head()) "
   ]
  },
  {
   "cell_type": "code",
   "execution_count": 6,
   "metadata": {},
   "outputs": [],
   "source": [
    "dl_map.rename(columns={'dl_endopeptidase-unclustered': '# ID'}, inplace=True)"
   ]
  },
  {
   "cell_type": "code",
   "execution_count": null,
   "metadata": {},
   "outputs": [],
   "source": [
    "dl_and_sec = pd.merge(dl_map, secretion[['# ID', 'Prediction']], on='# ID', how='left')\n",
    "\n",
    "print(dl_and_sec.head(), dl_and_sec.shape)"
   ]
  },
  {
   "cell_type": "code",
   "execution_count": 13,
   "metadata": {},
   "outputs": [],
   "source": [
    "# dl_and_sec.to_csv('dl_and_sec.tsv', sep='\\t', index=False)"
   ]
  },
  {
   "cell_type": "code",
   "execution_count": 16,
   "metadata": {},
   "outputs": [
    {
     "data": {
      "text/html": [
       "<div>\n",
       "<style scoped>\n",
       "    .dataframe tbody tr th:only-of-type {\n",
       "        vertical-align: middle;\n",
       "    }\n",
       "\n",
       "    .dataframe tbody tr th {\n",
       "        vertical-align: top;\n",
       "    }\n",
       "\n",
       "    .dataframe thead th {\n",
       "        text-align: right;\n",
       "    }\n",
       "</style>\n",
       "<table border=\"1\" class=\"dataframe\">\n",
       "  <thead>\n",
       "    <tr style=\"text-align: right;\">\n",
       "      <th></th>\n",
       "      <th>Foldseek Cluster ID</th>\n",
       "      <th>Total Proteins</th>\n",
       "      <th>Secreted Proteins</th>\n",
       "      <th>Percentage Secreted</th>\n",
       "    </tr>\n",
       "  </thead>\n",
       "  <tbody>\n",
       "    <tr>\n",
       "      <th>0</th>\n",
       "      <td>A0A077MGS3</td>\n",
       "      <td>4</td>\n",
       "      <td>2</td>\n",
       "      <td>50.0</td>\n",
       "    </tr>\n",
       "    <tr>\n",
       "      <th>1</th>\n",
       "      <td>A0A078MK14</td>\n",
       "      <td>3</td>\n",
       "      <td>0</td>\n",
       "      <td>0.0</td>\n",
       "    </tr>\n",
       "    <tr>\n",
       "      <th>2</th>\n",
       "      <td>A0A0A2TFV7</td>\n",
       "      <td>3</td>\n",
       "      <td>3</td>\n",
       "      <td>100.0</td>\n",
       "    </tr>\n",
       "    <tr>\n",
       "      <th>3</th>\n",
       "      <td>A0A0B0HUJ2</td>\n",
       "      <td>5</td>\n",
       "      <td>0</td>\n",
       "      <td>0.0</td>\n",
       "    </tr>\n",
       "    <tr>\n",
       "      <th>4</th>\n",
       "      <td>A0A0D0RVH7</td>\n",
       "      <td>7</td>\n",
       "      <td>7</td>\n",
       "      <td>100.0</td>\n",
       "    </tr>\n",
       "  </tbody>\n",
       "</table>\n",
       "</div>"
      ],
      "text/plain": [
       "  Foldseek Cluster ID  Total Proteins  Secreted Proteins  Percentage Secreted\n",
       "0          A0A077MGS3               4                  2                 50.0\n",
       "1          A0A078MK14               3                  0                  0.0\n",
       "2          A0A0A2TFV7               3                  3                100.0\n",
       "3          A0A0B0HUJ2               5                  0                  0.0\n",
       "4          A0A0D0RVH7               7                  7                100.0"
      ]
     },
     "execution_count": 16,
     "metadata": {},
     "output_type": "execute_result"
    }
   ],
   "source": [
    "# Group by the foldseek cluster ID\n",
    "grouped_data = dl_and_sec.groupby('dl_endopeptidase-foldseek_cluster')\n",
    "\n",
    "# Initialize a list to hold the statistics for each cluster\n",
    "cluster_stats = []\n",
    "\n",
    "# Iterate over each group to calculate statistics\n",
    "for cluster_id, group in grouped_data:\n",
    "    total_proteins = group.shape[0]  # Total proteins in the cluster\n",
    "    secreted_proteins = group[group['Prediction'] == 'SP'].shape[0]  # Proteins predicted as secreted\n",
    "    percentage_secreted = (secreted_proteins / total_proteins) * 100  # Calculate the percentage\n",
    "    \n",
    "    # Append the statistics for this cluster to the list\n",
    "    cluster_stats.append({\n",
    "        'Foldseek Cluster ID': cluster_id,\n",
    "        'Total Proteins': total_proteins,\n",
    "        'Secreted Proteins': secreted_proteins,\n",
    "        'Percentage Secreted': percentage_secreted\n",
    "    })\n",
    "\n",
    "# Convert the list of statistics into a DataFrame for better visualization\n",
    "stats_df = pd.DataFrame(cluster_stats)\n",
    "\n",
    "# Display the statistics DataFrame\n",
    "stats_df.head()"
   ]
  }
 ],
 "metadata": {
  "kernelspec": {
   "display_name": "Python 3",
   "language": "python",
   "name": "python3"
  },
  "language_info": {
   "codemirror_mode": {
    "name": "ipython",
    "version": 3
   },
   "file_extension": ".py",
   "mimetype": "text/x-python",
   "name": "python",
   "nbconvert_exporter": "python",
   "pygments_lexer": "ipython3",
   "version": "3.12.1"
  }
 },
 "nbformat": 4,
 "nbformat_minor": 2
}
