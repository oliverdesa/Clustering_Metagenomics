{
 "cells": [
  {
   "cell_type": "code",
   "execution_count": 58,
   "metadata": {},
   "outputs": [],
   "source": [
    "from functions import *\n",
    "import pandas as pd\n",
    "from pathlib import Path"
   ]
  },
  {
   "cell_type": "markdown",
   "metadata": {},
   "source": [
    "**Read in the data for table generation**"
   ]
  },
  {
   "cell_type": "code",
   "execution_count": 46,
   "metadata": {},
   "outputs": [],
   "source": [
    "secretion = pd.read_csv('E:\\\\blastp_hits\\\\dl_endo_signalp.txt', sep='\\t')\n",
    "\n",
    "dl_map = pd.read_csv('../../data/clustering/cluster_maps/dl_endopeptidase.tsv', sep='\\t')\n",
    "\n",
    "taxonomy = pd.read_csv('E:\\\\blastp_hits\\\\taxonomy_mapping.tsv', sep='\\t')\n",
    "\n",
    "uniref_genome = pd.read_csv('E:\\\\blastp_hits\\\\uniref_genome_map.txt', sep='\\t', header=None, names=['Genome', 'Uniref'])\n",
    "\n",
    "# print(secretion.head(), secretion.shape)\n",
    "# print(dl_map.head(), dl_map.shape)\n",
    "# print(taxonomy.head(), taxonomy.shape)\n",
    "# print(uniref_genome.head(), uniref_genome.shape)"
   ]
  },
  {
   "cell_type": "code",
   "execution_count": 47,
   "metadata": {},
   "outputs": [
    {
     "data": {
      "text/html": [
       "<div>\n",
       "<style scoped>\n",
       "    .dataframe tbody tr th:only-of-type {\n",
       "        vertical-align: middle;\n",
       "    }\n",
       "\n",
       "    .dataframe tbody tr th {\n",
       "        vertical-align: top;\n",
       "    }\n",
       "\n",
       "    .dataframe thead th {\n",
       "        text-align: right;\n",
       "    }\n",
       "</style>\n",
       "<table border=\"1\" class=\"dataframe\">\n",
       "  <thead>\n",
       "    <tr style=\"text-align: right;\">\n",
       "      <th></th>\n",
       "      <th>Genome</th>\n",
       "      <th>Prediction</th>\n",
       "    </tr>\n",
       "  </thead>\n",
       "  <tbody>\n",
       "    <tr>\n",
       "      <th>0</th>\n",
       "      <td>MGYG000155050</td>\n",
       "      <td>OTHER</td>\n",
       "    </tr>\n",
       "    <tr>\n",
       "      <th>1</th>\n",
       "      <td>MGYG000096674</td>\n",
       "      <td>OTHER</td>\n",
       "    </tr>\n",
       "    <tr>\n",
       "      <th>2</th>\n",
       "      <td>MGYG000074457</td>\n",
       "      <td>SP</td>\n",
       "    </tr>\n",
       "    <tr>\n",
       "      <th>3</th>\n",
       "      <td>MGYG000074457</td>\n",
       "      <td>SP</td>\n",
       "    </tr>\n",
       "    <tr>\n",
       "      <th>4</th>\n",
       "      <td>MGYG000002288</td>\n",
       "      <td>SP</td>\n",
       "    </tr>\n",
       "  </tbody>\n",
       "</table>\n",
       "</div>"
      ],
      "text/plain": [
       "          Genome Prediction\n",
       "0  MGYG000155050      OTHER\n",
       "1  MGYG000096674      OTHER\n",
       "2  MGYG000074457         SP\n",
       "3  MGYG000074457         SP\n",
       "4  MGYG000002288         SP"
      ]
     },
     "metadata": {},
     "output_type": "display_data"
    }
   ],
   "source": [
    "# Clean the secretion file to include genome IDs and predicitons\n",
    "\n",
    "secretion['# ID'] = secretion['# ID'].str.split('#').str[0]\n",
    "\n",
    "secretion['# ID'] = secretion['# ID'].str.split('_').str[0]\n",
    "\n",
    "secretion = secretion[['# ID', 'Prediction']]\n",
    "\n",
    "secretion = secretion.rename(columns={'# ID': 'Genome'})\n",
    "\n",
    "# IDs have extra indicators like this: MGYG000155050_27_22 not found in the mapping file. strip themn off for now \n",
    "\n",
    "display(secretion.head()) "
   ]
  },
  {
   "cell_type": "code",
   "execution_count": 48,
   "metadata": {},
   "outputs": [
    {
     "data": {
      "text/html": [
       "<div>\n",
       "<style scoped>\n",
       "    .dataframe tbody tr th:only-of-type {\n",
       "        vertical-align: middle;\n",
       "    }\n",
       "\n",
       "    .dataframe tbody tr th {\n",
       "        vertical-align: top;\n",
       "    }\n",
       "\n",
       "    .dataframe thead th {\n",
       "        text-align: right;\n",
       "    }\n",
       "</style>\n",
       "<table border=\"1\" class=\"dataframe\">\n",
       "  <thead>\n",
       "    <tr style=\"text-align: right;\">\n",
       "      <th></th>\n",
       "      <th>Genome</th>\n",
       "      <th>Uniref</th>\n",
       "    </tr>\n",
       "  </thead>\n",
       "  <tbody>\n",
       "    <tr>\n",
       "      <th>0</th>\n",
       "      <td>MGYG000017941</td>\n",
       "      <td>A0A1C5WD06</td>\n",
       "    </tr>\n",
       "    <tr>\n",
       "      <th>1</th>\n",
       "      <td>MGYG000040828</td>\n",
       "      <td>A0A1C5LUC3</td>\n",
       "    </tr>\n",
       "    <tr>\n",
       "      <th>2</th>\n",
       "      <td>MGYG000089934</td>\n",
       "      <td>A0A174QFW1</td>\n",
       "    </tr>\n",
       "    <tr>\n",
       "      <th>3</th>\n",
       "      <td>MGYG000089934</td>\n",
       "      <td>A0A1C5LUC3</td>\n",
       "    </tr>\n",
       "    <tr>\n",
       "      <th>4</th>\n",
       "      <td>MGYG000097266</td>\n",
       "      <td>A0A329TNF5</td>\n",
       "    </tr>\n",
       "  </tbody>\n",
       "</table>\n",
       "</div>"
      ],
      "text/plain": [
       "          Genome      Uniref\n",
       "0  MGYG000017941  A0A1C5WD06\n",
       "1  MGYG000040828  A0A1C5LUC3\n",
       "2  MGYG000089934  A0A174QFW1\n",
       "3  MGYG000089934  A0A1C5LUC3\n",
       "4  MGYG000097266  A0A329TNF5"
      ]
     },
     "metadata": {},
     "output_type": "display_data"
    }
   ],
   "source": [
    "# Clean the uniref map add names to columns\n",
    "\n",
    "uniref_genome['Genome'] = uniref_genome['Genome'].str.split('_').str[0]\n",
    "\n",
    "uniref_genome['Uniref'] = uniref_genome['Uniref'].str.split('_').str[1]\n",
    "\n",
    "display(uniref_genome.head())\n"
   ]
  },
  {
   "cell_type": "code",
   "execution_count": 49,
   "metadata": {},
   "outputs": [
    {
     "data": {
      "text/html": [
       "<div>\n",
       "<style scoped>\n",
       "    .dataframe tbody tr th:only-of-type {\n",
       "        vertical-align: middle;\n",
       "    }\n",
       "\n",
       "    .dataframe tbody tr th {\n",
       "        vertical-align: top;\n",
       "    }\n",
       "\n",
       "    .dataframe thead th {\n",
       "        text-align: right;\n",
       "    }\n",
       "</style>\n",
       "<table border=\"1\" class=\"dataframe\">\n",
       "  <thead>\n",
       "    <tr style=\"text-align: right;\">\n",
       "      <th></th>\n",
       "      <th>Genome</th>\n",
       "      <th>Prediction</th>\n",
       "      <th>Lineage</th>\n",
       "      <th>Uniref</th>\n",
       "    </tr>\n",
       "  </thead>\n",
       "  <tbody>\n",
       "    <tr>\n",
       "      <th>0</th>\n",
       "      <td>MGYG000155050</td>\n",
       "      <td>OTHER</td>\n",
       "      <td>d__Bacteria;p__Firmicutes;c__Bacilli;o__RFN20;...</td>\n",
       "      <td>A0A3S5AQD8</td>\n",
       "    </tr>\n",
       "    <tr>\n",
       "      <th>1</th>\n",
       "      <td>MGYG000096674</td>\n",
       "      <td>OTHER</td>\n",
       "      <td>d__Bacteria;p__Firmicutes;c__Bacilli;o__RFN20;...</td>\n",
       "      <td>A0A1C6G2Q5</td>\n",
       "    </tr>\n",
       "    <tr>\n",
       "      <th>2</th>\n",
       "      <td>MGYG000074457</td>\n",
       "      <td>SP</td>\n",
       "      <td>d__Bacteria;p__Firmicutes;c__Bacilli;o__Bacill...</td>\n",
       "      <td>A0A3P1BK63</td>\n",
       "    </tr>\n",
       "    <tr>\n",
       "      <th>3</th>\n",
       "      <td>MGYG000074457</td>\n",
       "      <td>SP</td>\n",
       "      <td>d__Bacteria;p__Firmicutes;c__Bacilli;o__Bacill...</td>\n",
       "      <td>A0A2S9XVU2</td>\n",
       "    </tr>\n",
       "    <tr>\n",
       "      <th>4</th>\n",
       "      <td>MGYG000074457</td>\n",
       "      <td>SP</td>\n",
       "      <td>d__Bacteria;p__Firmicutes;c__Bacilli;o__Bacill...</td>\n",
       "      <td>A0A3P1BK63</td>\n",
       "    </tr>\n",
       "  </tbody>\n",
       "</table>\n",
       "</div>"
      ],
      "text/plain": [
       "          Genome Prediction  \\\n",
       "0  MGYG000155050      OTHER   \n",
       "1  MGYG000096674      OTHER   \n",
       "2  MGYG000074457         SP   \n",
       "3  MGYG000074457         SP   \n",
       "4  MGYG000074457         SP   \n",
       "\n",
       "                                             Lineage      Uniref  \n",
       "0  d__Bacteria;p__Firmicutes;c__Bacilli;o__RFN20;...  A0A3S5AQD8  \n",
       "1  d__Bacteria;p__Firmicutes;c__Bacilli;o__RFN20;...  A0A1C6G2Q5  \n",
       "2  d__Bacteria;p__Firmicutes;c__Bacilli;o__Bacill...  A0A3P1BK63  \n",
       "3  d__Bacteria;p__Firmicutes;c__Bacilli;o__Bacill...  A0A2S9XVU2  \n",
       "4  d__Bacteria;p__Firmicutes;c__Bacilli;o__Bacill...  A0A3P1BK63  "
      ]
     },
     "metadata": {},
     "output_type": "display_data"
    }
   ],
   "source": [
    "# Merge the secretion data with the taxonomy data\n",
    "\n",
    "secretion_and_taxa = secretion.merge(taxonomy, left_on='Genome', right_on='Genome', how='left')\n",
    "\n",
    "# Merge the secretion and taxonomy data with the uniref_genome data\n",
    "\n",
    "dle_info = secretion_and_taxa.merge(uniref_genome, left_on='Genome', right_on='Genome', how='left')\n",
    "\n",
    "display(dle_info.head())"
   ]
  },
  {
   "cell_type": "code",
   "execution_count": 50,
   "metadata": {},
   "outputs": [
    {
     "name": "stdout",
     "output_type": "stream",
     "text": [
      "(75556, 2) (75556, 3) (289232, 2) (126340, 4)\n"
     ]
    }
   ],
   "source": [
    "print(secretion.shape, secretion_and_taxa.shape, taxonomy.shape, dle_info.shape)\n",
    "\n",
    "# (75556, 2) (75556, 3) (289232, 2) (126340, 4)"
   ]
  },
  {
   "cell_type": "code",
   "execution_count": 51,
   "metadata": {},
   "outputs": [
    {
     "data": {
      "text/plain": [
       "Genome          0\n",
       "Prediction      0\n",
       "Lineage       545\n",
       "Uniref          0\n",
       "dtype: int64"
      ]
     },
     "execution_count": 51,
     "metadata": {},
     "output_type": "execute_result"
    }
   ],
   "source": [
    "dle_info.isna().sum()\n",
    "\n",
    "# Genome          0\n",
    "# Prediction      0\n",
    "# Lineage       545\n",
    "# Uniref          0\n",
    "# dtype: int64"
   ]
  },
  {
   "cell_type": "code",
   "execution_count": 52,
   "metadata": {},
   "outputs": [],
   "source": [
    "# Write this data to a file\n",
    "\n",
    "dle_info.to_csv('E:\\\\blastp_hits\\\\dl_endo_info.tsv', sep='\\t', index=False)"
   ]
  },
  {
   "cell_type": "code",
   "execution_count": 53,
   "metadata": {},
   "outputs": [
    {
     "data": {
      "text/html": [
       "<div>\n",
       "<style scoped>\n",
       "    .dataframe tbody tr th:only-of-type {\n",
       "        vertical-align: middle;\n",
       "    }\n",
       "\n",
       "    .dataframe tbody tr th {\n",
       "        vertical-align: top;\n",
       "    }\n",
       "\n",
       "    .dataframe thead th {\n",
       "        text-align: right;\n",
       "    }\n",
       "</style>\n",
       "<table border=\"1\" class=\"dataframe\">\n",
       "  <thead>\n",
       "    <tr style=\"text-align: right;\">\n",
       "      <th></th>\n",
       "      <th>Unnamed: 0</th>\n",
       "      <th>dl_endopeptidase-unclustered</th>\n",
       "      <th>dl_endopeptidase-mmseqs_cluster</th>\n",
       "      <th>dl_endopeptidase-foldseek_cluster</th>\n",
       "    </tr>\n",
       "  </thead>\n",
       "  <tbody>\n",
       "    <tr>\n",
       "      <th>0</th>\n",
       "      <td>0</td>\n",
       "      <td>A0A7S8CCP0</td>\n",
       "      <td>A0A7S8CCP0</td>\n",
       "      <td>A0A7X2Z4H8</td>\n",
       "    </tr>\n",
       "    <tr>\n",
       "      <th>1</th>\n",
       "      <td>1</td>\n",
       "      <td>A0A928LPM8</td>\n",
       "      <td>A0A413G4S5</td>\n",
       "      <td>A0A1C5Q6A7</td>\n",
       "    </tr>\n",
       "    <tr>\n",
       "      <th>2</th>\n",
       "      <td>2</td>\n",
       "      <td>A0A413G4S5</td>\n",
       "      <td>A0A413G4S5</td>\n",
       "      <td>A0A1C5Q6A7</td>\n",
       "    </tr>\n",
       "    <tr>\n",
       "      <th>3</th>\n",
       "      <td>3</td>\n",
       "      <td>A0A926IJ38</td>\n",
       "      <td>A0A413G4S5</td>\n",
       "      <td>A0A1C5Q6A7</td>\n",
       "    </tr>\n",
       "    <tr>\n",
       "      <th>4</th>\n",
       "      <td>4</td>\n",
       "      <td>A0A498CNA2</td>\n",
       "      <td>A0A413G4S5</td>\n",
       "      <td>A0A1C5Q6A7</td>\n",
       "    </tr>\n",
       "  </tbody>\n",
       "</table>\n",
       "</div>"
      ],
      "text/plain": [
       "   Unnamed: 0 dl_endopeptidase-unclustered dl_endopeptidase-mmseqs_cluster  \\\n",
       "0           0                   A0A7S8CCP0                      A0A7S8CCP0   \n",
       "1           1                   A0A928LPM8                      A0A413G4S5   \n",
       "2           2                   A0A413G4S5                      A0A413G4S5   \n",
       "3           3                   A0A926IJ38                      A0A413G4S5   \n",
       "4           4                   A0A498CNA2                      A0A413G4S5   \n",
       "\n",
       "  dl_endopeptidase-foldseek_cluster  \n",
       "0                        A0A7X2Z4H8  \n",
       "1                        A0A1C5Q6A7  \n",
       "2                        A0A1C5Q6A7  \n",
       "3                        A0A1C5Q6A7  \n",
       "4                        A0A1C5Q6A7  "
      ]
     },
     "metadata": {},
     "output_type": "display_data"
    }
   ],
   "source": [
    "display(dl_map.head())"
   ]
  },
  {
   "cell_type": "code",
   "execution_count": 54,
   "metadata": {},
   "outputs": [
    {
     "data": {
      "text/html": [
       "<div>\n",
       "<style scoped>\n",
       "    .dataframe tbody tr th:only-of-type {\n",
       "        vertical-align: middle;\n",
       "    }\n",
       "\n",
       "    .dataframe tbody tr th {\n",
       "        vertical-align: top;\n",
       "    }\n",
       "\n",
       "    .dataframe thead th {\n",
       "        text-align: right;\n",
       "    }\n",
       "</style>\n",
       "<table border=\"1\" class=\"dataframe\">\n",
       "  <thead>\n",
       "    <tr style=\"text-align: right;\">\n",
       "      <th></th>\n",
       "      <th>Unnamed: 0</th>\n",
       "      <th>Uniref</th>\n",
       "      <th>dl_endopeptidase-mmseqs_cluster</th>\n",
       "      <th>dl_endopeptidase-foldseek_cluster</th>\n",
       "    </tr>\n",
       "  </thead>\n",
       "  <tbody>\n",
       "    <tr>\n",
       "      <th>0</th>\n",
       "      <td>0</td>\n",
       "      <td>A0A7S8CCP0</td>\n",
       "      <td>A0A7S8CCP0</td>\n",
       "      <td>A0A7X2Z4H8</td>\n",
       "    </tr>\n",
       "    <tr>\n",
       "      <th>1</th>\n",
       "      <td>1</td>\n",
       "      <td>A0A928LPM8</td>\n",
       "      <td>A0A413G4S5</td>\n",
       "      <td>A0A1C5Q6A7</td>\n",
       "    </tr>\n",
       "    <tr>\n",
       "      <th>2</th>\n",
       "      <td>2</td>\n",
       "      <td>A0A413G4S5</td>\n",
       "      <td>A0A413G4S5</td>\n",
       "      <td>A0A1C5Q6A7</td>\n",
       "    </tr>\n",
       "    <tr>\n",
       "      <th>3</th>\n",
       "      <td>3</td>\n",
       "      <td>A0A926IJ38</td>\n",
       "      <td>A0A413G4S5</td>\n",
       "      <td>A0A1C5Q6A7</td>\n",
       "    </tr>\n",
       "    <tr>\n",
       "      <th>4</th>\n",
       "      <td>4</td>\n",
       "      <td>A0A498CNA2</td>\n",
       "      <td>A0A413G4S5</td>\n",
       "      <td>A0A1C5Q6A7</td>\n",
       "    </tr>\n",
       "  </tbody>\n",
       "</table>\n",
       "</div>"
      ],
      "text/plain": [
       "   Unnamed: 0      Uniref dl_endopeptidase-mmseqs_cluster  \\\n",
       "0           0  A0A7S8CCP0                      A0A7S8CCP0   \n",
       "1           1  A0A928LPM8                      A0A413G4S5   \n",
       "2           2  A0A413G4S5                      A0A413G4S5   \n",
       "3           3  A0A926IJ38                      A0A413G4S5   \n",
       "4           4  A0A498CNA2                      A0A413G4S5   \n",
       "\n",
       "  dl_endopeptidase-foldseek_cluster  \n",
       "0                        A0A7X2Z4H8  \n",
       "1                        A0A1C5Q6A7  \n",
       "2                        A0A1C5Q6A7  \n",
       "3                        A0A1C5Q6A7  \n",
       "4                        A0A1C5Q6A7  "
      ]
     },
     "metadata": {},
     "output_type": "display_data"
    }
   ],
   "source": [
    "dl_map.rename(columns={'dl_endopeptidase-unclustered': 'Uniref'}, inplace=True)\n",
    "\n",
    "display(dl_map.head())"
   ]
  },
  {
   "cell_type": "code",
   "execution_count": 55,
   "metadata": {},
   "outputs": [
    {
     "name": "stdout",
     "output_type": "stream",
     "text": [
      "(124263, 4)\n"
     ]
    }
   ],
   "source": [
    "filtered_dle_info = dle_info[dle_info['Uniref'].isin(dl_map['Uniref'])]\n",
    "\n",
    "print(filtered_dle_info.shape)"
   ]
  },
  {
   "cell_type": "code",
   "execution_count": 56,
   "metadata": {},
   "outputs": [
    {
     "name": "stdout",
     "output_type": "stream",
     "text": [
      "(397, 4)\n"
     ]
    }
   ],
   "source": [
    "dle_grouped = dle_info.groupby(['Uniref']).agg(list).reset_index()\n",
    "\n",
    "print(dle_grouped.shape)"
   ]
  },
  {
   "cell_type": "code",
   "execution_count": 57,
   "metadata": {},
   "outputs": [
    {
     "data": {
      "text/html": [
       "<div>\n",
       "<style scoped>\n",
       "    .dataframe tbody tr th:only-of-type {\n",
       "        vertical-align: middle;\n",
       "    }\n",
       "\n",
       "    .dataframe tbody tr th {\n",
       "        vertical-align: top;\n",
       "    }\n",
       "\n",
       "    .dataframe thead th {\n",
       "        text-align: right;\n",
       "    }\n",
       "</style>\n",
       "<table border=\"1\" class=\"dataframe\">\n",
       "  <thead>\n",
       "    <tr style=\"text-align: right;\">\n",
       "      <th></th>\n",
       "      <th>Unnamed: 0</th>\n",
       "      <th>Uniref</th>\n",
       "      <th>dl_endopeptidase-mmseqs_cluster</th>\n",
       "      <th>dl_endopeptidase-foldseek_cluster</th>\n",
       "      <th>Genome</th>\n",
       "      <th>Prediction</th>\n",
       "      <th>Lineage</th>\n",
       "    </tr>\n",
       "  </thead>\n",
       "  <tbody>\n",
       "    <tr>\n",
       "      <th>0</th>\n",
       "      <td>13</td>\n",
       "      <td>A7VT68</td>\n",
       "      <td>A0A413G4S5</td>\n",
       "      <td>A0A1C5Q6A7</td>\n",
       "      <td>[MGYG000158508, MGYG000023630, MGYG000011546, ...</td>\n",
       "      <td>[OTHER, OTHER, OTHER, OTHER, OTHER, OTHER, OTH...</td>\n",
       "      <td>[d__Bacteria;p__Firmicutes_A;c__Clostridia;o__...</td>\n",
       "    </tr>\n",
       "    <tr>\n",
       "      <th>1</th>\n",
       "      <td>14</td>\n",
       "      <td>A0A1C5YFQ8</td>\n",
       "      <td>A0A413G4S5</td>\n",
       "      <td>A0A1C5Q6A7</td>\n",
       "      <td>[MGYG000278675, MGYG000147991, MGYG000250343, ...</td>\n",
       "      <td>[OTHER, OTHER, OTHER, OTHER, OTHER, OTHER, OTH...</td>\n",
       "      <td>[d__Bacteria;p__Firmicutes_A;c__Clostridia;o__...</td>\n",
       "    </tr>\n",
       "    <tr>\n",
       "      <th>2</th>\n",
       "      <td>17</td>\n",
       "      <td>A0A143ZRA8</td>\n",
       "      <td>A0A413G4S5</td>\n",
       "      <td>A0A1C5Q6A7</td>\n",
       "      <td>[MGYG000130225, MGYG000000129, MGYG000000129, ...</td>\n",
       "      <td>[OTHER, OTHER, LIPO, OTHER]</td>\n",
       "      <td>[d__Bacteria;p__Firmicutes_A;c__Clostridia;o__...</td>\n",
       "    </tr>\n",
       "    <tr>\n",
       "      <th>3</th>\n",
       "      <td>31</td>\n",
       "      <td>A0A174FMR5</td>\n",
       "      <td>A0A174FMR5</td>\n",
       "      <td>A0A348AMN4</td>\n",
       "      <td>[MGYG000228068, MGYG000000028, MGYG000000028, ...</td>\n",
       "      <td>[SP, SP, SP, SP, SP, SP, OTHER, SP, SP, SP, SP...</td>\n",
       "      <td>[d__Bacteria;p__Bacteroidota;c__Bacteroidia;o_...</td>\n",
       "    </tr>\n",
       "    <tr>\n",
       "      <th>4</th>\n",
       "      <td>32</td>\n",
       "      <td>A0A174C4S4</td>\n",
       "      <td>A0A174FMR5</td>\n",
       "      <td>A0A348AMN4</td>\n",
       "      <td>[MGYG000062274, MGYG000007799, MGYG000007799, ...</td>\n",
       "      <td>[SP, SP, SP, SP, SP, SP, SP, SP, SP, SP, SP, S...</td>\n",
       "      <td>[d__Bacteria;p__Bacteroidota;c__Bacteroidia;o_...</td>\n",
       "    </tr>\n",
       "  </tbody>\n",
       "</table>\n",
       "</div>"
      ],
      "text/plain": [
       "   Unnamed: 0      Uniref dl_endopeptidase-mmseqs_cluster  \\\n",
       "0          13      A7VT68                      A0A413G4S5   \n",
       "1          14  A0A1C5YFQ8                      A0A413G4S5   \n",
       "2          17  A0A143ZRA8                      A0A413G4S5   \n",
       "3          31  A0A174FMR5                      A0A174FMR5   \n",
       "4          32  A0A174C4S4                      A0A174FMR5   \n",
       "\n",
       "  dl_endopeptidase-foldseek_cluster  \\\n",
       "0                        A0A1C5Q6A7   \n",
       "1                        A0A1C5Q6A7   \n",
       "2                        A0A1C5Q6A7   \n",
       "3                        A0A348AMN4   \n",
       "4                        A0A348AMN4   \n",
       "\n",
       "                                              Genome  \\\n",
       "0  [MGYG000158508, MGYG000023630, MGYG000011546, ...   \n",
       "1  [MGYG000278675, MGYG000147991, MGYG000250343, ...   \n",
       "2  [MGYG000130225, MGYG000000129, MGYG000000129, ...   \n",
       "3  [MGYG000228068, MGYG000000028, MGYG000000028, ...   \n",
       "4  [MGYG000062274, MGYG000007799, MGYG000007799, ...   \n",
       "\n",
       "                                          Prediction  \\\n",
       "0  [OTHER, OTHER, OTHER, OTHER, OTHER, OTHER, OTH...   \n",
       "1  [OTHER, OTHER, OTHER, OTHER, OTHER, OTHER, OTH...   \n",
       "2                        [OTHER, OTHER, LIPO, OTHER]   \n",
       "3  [SP, SP, SP, SP, SP, SP, OTHER, SP, SP, SP, SP...   \n",
       "4  [SP, SP, SP, SP, SP, SP, SP, SP, SP, SP, SP, S...   \n",
       "\n",
       "                                             Lineage  \n",
       "0  [d__Bacteria;p__Firmicutes_A;c__Clostridia;o__...  \n",
       "1  [d__Bacteria;p__Firmicutes_A;c__Clostridia;o__...  \n",
       "2  [d__Bacteria;p__Firmicutes_A;c__Clostridia;o__...  \n",
       "3  [d__Bacteria;p__Bacteroidota;c__Bacteroidia;o_...  \n",
       "4  [d__Bacteria;p__Bacteroidota;c__Bacteroidia;o_...  "
      ]
     },
     "metadata": {},
     "output_type": "display_data"
    },
    {
     "name": "stdout",
     "output_type": "stream",
     "text": [
      "(388, 7)\n"
     ]
    }
   ],
   "source": [
    "dl_and_sec = dl_map.merge(dle_grouped, on='Uniref', how='inner')\n",
    "\n",
    "display(dl_and_sec.head())\n",
    "\n",
    "print(dl_and_sec.shape)"
   ]
  },
  {
   "cell_type": "code",
   "execution_count": 68,
   "metadata": {},
   "outputs": [
    {
     "name": "stdout",
     "output_type": "stream",
     "text": [
      "173\n"
     ]
    }
   ],
   "source": [
    "result = dl_and_sec.loc[dl_and_sec['Uniref'] == 'A0A1C5YFQ8', 'Lineage'].values[0]\n",
    "\n",
    "print(len(result))"
   ]
  },
  {
   "cell_type": "code",
   "execution_count": 60,
   "metadata": {},
   "outputs": [],
   "source": [
    "dl_and_sec.to_csv('E:\\\\blastp_hits\\\\dl_endo_info_grouped.tsv', sep='\\t', index=False)"
   ]
  },
  {
   "cell_type": "code",
   "execution_count": 64,
   "metadata": {},
   "outputs": [],
   "source": [
    "# Now map is created, need to make a function to quickly index clusters and pull important\n",
    "# information from the table. Get: number species, taxa info, secretion percentage\n",
    "\n",
    "def describe_cluster(cluster_id: str, info_table: Path):\n",
    "    \"\"\"\n",
    "    This function takes a cluster ID and a table of information about the clusters and returns\n",
    "    the number of species, the taxa information, and the percentage of the cluster that is predicted\n",
    "    to be secreted. \n",
    "    \"\"\"\n",
    "\n",
    "    info_table = pd.read_csv(info_table, sep='\\t')\n",
    "\n",
    "    cluster_info = info_table[info_table['dl_endopeptidase-foldseek_cluster'] == cluster_id]\n",
    "\n",
    "    print(cluster_info.shape)\n",
    "    \n",
    "    num_species = cluster_info['Lineage'].apply(len).sum()\n",
    "\n",
    "\n",
    "\n",
    "    # taxa_info = cluster_info['Lineage'].unique()\n",
    "    # secretion_percentage = (cluster_info['Prediction'] == 'Y').sum() / len(cluster_info)\n",
    "    return num_species, # taxa_info, secretion_percentage\n",
    "  "
   ]
  },
  {
   "cell_type": "code",
   "execution_count": 65,
   "metadata": {},
   "outputs": [
    {
     "name": "stdout",
     "output_type": "stream",
     "text": [
      "(37, 7)\n",
      "(1093912,)\n"
     ]
    }
   ],
   "source": [
    "print(describe_cluster('A0A1C5Q6A7', 'E:\\\\blastp_hits\\\\dl_endo_info_grouped.tsv'))"
   ]
  },
  {
   "cell_type": "code",
   "execution_count": 13,
   "metadata": {},
   "outputs": [],
   "source": [
    "# dl_and_sec.to_csv('dl_and_sec.tsv', sep='\\t', index=False)"
   ]
  },
  {
   "cell_type": "code",
   "execution_count": 16,
   "metadata": {},
   "outputs": [
    {
     "data": {
      "text/html": [
       "<div>\n",
       "<style scoped>\n",
       "    .dataframe tbody tr th:only-of-type {\n",
       "        vertical-align: middle;\n",
       "    }\n",
       "\n",
       "    .dataframe tbody tr th {\n",
       "        vertical-align: top;\n",
       "    }\n",
       "\n",
       "    .dataframe thead th {\n",
       "        text-align: right;\n",
       "    }\n",
       "</style>\n",
       "<table border=\"1\" class=\"dataframe\">\n",
       "  <thead>\n",
       "    <tr style=\"text-align: right;\">\n",
       "      <th></th>\n",
       "      <th>Foldseek Cluster ID</th>\n",
       "      <th>Total Proteins</th>\n",
       "      <th>Secreted Proteins</th>\n",
       "      <th>Percentage Secreted</th>\n",
       "    </tr>\n",
       "  </thead>\n",
       "  <tbody>\n",
       "    <tr>\n",
       "      <th>0</th>\n",
       "      <td>A0A077MGS3</td>\n",
       "      <td>4</td>\n",
       "      <td>2</td>\n",
       "      <td>50.0</td>\n",
       "    </tr>\n",
       "    <tr>\n",
       "      <th>1</th>\n",
       "      <td>A0A078MK14</td>\n",
       "      <td>3</td>\n",
       "      <td>0</td>\n",
       "      <td>0.0</td>\n",
       "    </tr>\n",
       "    <tr>\n",
       "      <th>2</th>\n",
       "      <td>A0A0A2TFV7</td>\n",
       "      <td>3</td>\n",
       "      <td>3</td>\n",
       "      <td>100.0</td>\n",
       "    </tr>\n",
       "    <tr>\n",
       "      <th>3</th>\n",
       "      <td>A0A0B0HUJ2</td>\n",
       "      <td>5</td>\n",
       "      <td>0</td>\n",
       "      <td>0.0</td>\n",
       "    </tr>\n",
       "    <tr>\n",
       "      <th>4</th>\n",
       "      <td>A0A0D0RVH7</td>\n",
       "      <td>7</td>\n",
       "      <td>7</td>\n",
       "      <td>100.0</td>\n",
       "    </tr>\n",
       "  </tbody>\n",
       "</table>\n",
       "</div>"
      ],
      "text/plain": [
       "  Foldseek Cluster ID  Total Proteins  Secreted Proteins  Percentage Secreted\n",
       "0          A0A077MGS3               4                  2                 50.0\n",
       "1          A0A078MK14               3                  0                  0.0\n",
       "2          A0A0A2TFV7               3                  3                100.0\n",
       "3          A0A0B0HUJ2               5                  0                  0.0\n",
       "4          A0A0D0RVH7               7                  7                100.0"
      ]
     },
     "execution_count": 16,
     "metadata": {},
     "output_type": "execute_result"
    }
   ],
   "source": [
    "# Group by the foldseek cluster ID\n",
    "grouped_data = dl_and_sec.groupby('dl_endopeptidase-foldseek_cluster')\n",
    "\n",
    "# Initialize a list to hold the statistics for each cluster\n",
    "cluster_stats = []\n",
    "\n",
    "# Iterate over each group to calculate statistics\n",
    "for cluster_id, group in grouped_data:\n",
    "    total_proteins = group.shape[0]  # Total proteins in the cluster\n",
    "    secreted_proteins = group[group['Prediction'] == 'SP'].shape[0]  # Proteins predicted as secreted\n",
    "    percentage_secreted = (secreted_proteins / total_proteins) * 100  # Calculate the percentage\n",
    "    \n",
    "    # Append the statistics for this cluster to the list\n",
    "    cluster_stats.append({\n",
    "        'Foldseek Cluster ID': cluster_id,\n",
    "        'Total Proteins': total_proteins,\n",
    "        'Secreted Proteins': secreted_proteins,\n",
    "        'Percentage Secreted': percentage_secreted\n",
    "    })\n",
    "\n",
    "# Convert the list of statistics into a DataFrame for better visualization\n",
    "stats_df = pd.DataFrame(cluster_stats)\n",
    "\n",
    "# Display the statistics DataFrame\n",
    "stats_df.head()"
   ]
  }
 ],
 "metadata": {
  "kernelspec": {
   "display_name": "Python 3",
   "language": "python",
   "name": "python3"
  },
  "language_info": {
   "codemirror_mode": {
    "name": "ipython",
    "version": 3
   },
   "file_extension": ".py",
   "mimetype": "text/x-python",
   "name": "python",
   "nbconvert_exporter": "python",
   "pygments_lexer": "ipython3",
   "version": "3.12.1"
  }
 },
 "nbformat": 4,
 "nbformat_minor": 2
}
