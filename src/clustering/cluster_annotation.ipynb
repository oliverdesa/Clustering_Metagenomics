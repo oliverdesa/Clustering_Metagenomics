{
 "cells": [
  {
   "cell_type": "code",
   "execution_count": 1,
   "metadata": {},
   "outputs": [],
   "source": [
    "from functions import *\n",
    "import pandas as pd\n",
    "from pathlib import Path"
   ]
  },
  {
   "cell_type": "markdown",
   "metadata": {},
   "source": [
    "**Read in the data for table generation**"
   ]
  },
  {
   "cell_type": "code",
   "execution_count": 5,
   "metadata": {},
   "outputs": [],
   "source": [
    "secretion = pd.read_csv('E:\\\\blastp_hits\\\\dl_endo_signalp.txt', sep='\\t')\n",
    "\n",
    "dl_map = pd.read_csv('../../data/clustering/cluster_maps/dl_endopeptidase.tsv', sep='\\t')\n",
    "\n",
    "taxonomy = pd.read_csv('E:\\\\blastp_hits\\\\taxonomy_mapping.tsv', sep='\\t')\n",
    "\n",
    "uniref_genome = pd.read_csv('E:\\\\blastp_hits\\\\uniref_genome_map.txt', sep='\\t', header=None, names=['Genome', 'Uniref'])\n",
    "\n",
    "interpro = pd.read_csv('E:\\\\blastp_hits\\\\all_dl_ips.tsv', sep='\\t', header=None)\n",
    "\n",
    "# print(interpro.head(), interpro.shape)\n",
    "# print(secretion.head(), secretion.shape)\n",
    "# print(dl_map.head(), dl_map.shape)\n",
    "# print(taxonomy.head(), taxonomy.shape)\n",
    "# print(uniref_genome.head(), uniref_genome.shape)"
   ]
  },
  {
   "cell_type": "code",
   "execution_count": null,
   "metadata": {},
   "outputs": [],
   "source": [
    "# Clean the secretion file to include genome IDs and predicitons\n",
    "\n",
    "secretion['# ID'] = secretion['# ID'].str.split('#').str[0].str.strip()\n",
    "\n",
    "secretion['Genome'] = secretion['# ID'].str.split('_').str[0]\n",
    "\n",
    "secretion = secretion[['# ID', 'Genome', 'Prediction']]\n",
    "\n",
    "secretion['Genome'] = secretion['Genome'].str.strip('.fa')\n",
    "\n",
    "# secretion = secretion.rename(columns={'# ID': 'Genome'})\n",
    "\n",
    "# IDs have extra indicators like this: MGYG000155050_27_22 not found in the mapping file. strip themn off for now \n",
    "\n",
    "display(secretion.head()) "
   ]
  },
  {
   "cell_type": "code",
   "execution_count": 7,
   "metadata": {},
   "outputs": [
    {
     "data": {
      "text/html": [
       "<div>\n",
       "<style scoped>\n",
       "    .dataframe tbody tr th:only-of-type {\n",
       "        vertical-align: middle;\n",
       "    }\n",
       "\n",
       "    .dataframe tbody tr th {\n",
       "        vertical-align: top;\n",
       "    }\n",
       "\n",
       "    .dataframe thead th {\n",
       "        text-align: right;\n",
       "    }\n",
       "</style>\n",
       "<table border=\"1\" class=\"dataframe\">\n",
       "  <thead>\n",
       "    <tr style=\"text-align: right;\">\n",
       "      <th></th>\n",
       "      <th># ID</th>\n",
       "      <th>Uniref</th>\n",
       "    </tr>\n",
       "  </thead>\n",
       "  <tbody>\n",
       "    <tr>\n",
       "      <th>0</th>\n",
       "      <td>MGYG000017941_2_6</td>\n",
       "      <td>A0A1C5WD06</td>\n",
       "    </tr>\n",
       "    <tr>\n",
       "      <th>1</th>\n",
       "      <td>MGYG000040828_37_7</td>\n",
       "      <td>A0A1C5LUC3</td>\n",
       "    </tr>\n",
       "    <tr>\n",
       "      <th>2</th>\n",
       "      <td>MGYG000089934_88_4</td>\n",
       "      <td>A0A174QFW1</td>\n",
       "    </tr>\n",
       "    <tr>\n",
       "      <th>3</th>\n",
       "      <td>MGYG000089934_174_2</td>\n",
       "      <td>A0A1C5LUC3</td>\n",
       "    </tr>\n",
       "    <tr>\n",
       "      <th>4</th>\n",
       "      <td>MGYG000097266_6_118</td>\n",
       "      <td>A0A329TNF5</td>\n",
       "    </tr>\n",
       "  </tbody>\n",
       "</table>\n",
       "</div>"
      ],
      "text/plain": [
       "                  # ID      Uniref\n",
       "0    MGYG000017941_2_6  A0A1C5WD06\n",
       "1   MGYG000040828_37_7  A0A1C5LUC3\n",
       "2   MGYG000089934_88_4  A0A174QFW1\n",
       "3  MGYG000089934_174_2  A0A1C5LUC3\n",
       "4  MGYG000097266_6_118  A0A329TNF5"
      ]
     },
     "metadata": {},
     "output_type": "display_data"
    }
   ],
   "source": [
    "# Clean the uniref map add names to columns\n",
    "\n",
    "uniref_genome.rename(columns={'Genome': '# ID'}, inplace=True)\n",
    "\n",
    "uniref_genome['# ID'] = uniref_genome['# ID'].str.strip()\n",
    "\n",
    "# uniref_genome['Genome'] = uniref_genome['# ID'].str.split('_').str[0]\n",
    "\n",
    "uniref_genome['Uniref'] = uniref_genome['Uniref'].str.split('_').str[1]\n",
    "\n",
    "display(uniref_genome.head())\n"
   ]
  },
  {
   "cell_type": "code",
   "execution_count": 8,
   "metadata": {},
   "outputs": [
    {
     "data": {
      "text/html": [
       "<div>\n",
       "<style scoped>\n",
       "    .dataframe tbody tr th:only-of-type {\n",
       "        vertical-align: middle;\n",
       "    }\n",
       "\n",
       "    .dataframe tbody tr th {\n",
       "        vertical-align: top;\n",
       "    }\n",
       "\n",
       "    .dataframe thead th {\n",
       "        text-align: right;\n",
       "    }\n",
       "</style>\n",
       "<table border=\"1\" class=\"dataframe\">\n",
       "  <thead>\n",
       "    <tr style=\"text-align: right;\">\n",
       "      <th></th>\n",
       "      <th>Genome</th>\n",
       "      <th>Lineage</th>\n",
       "    </tr>\n",
       "  </thead>\n",
       "  <tbody>\n",
       "    <tr>\n",
       "      <th>0</th>\n",
       "      <td>MGYG000000001</td>\n",
       "      <td>d__Bacteria;p__Firmicutes_A;c__Clostridia;o__P...</td>\n",
       "    </tr>\n",
       "    <tr>\n",
       "      <th>1</th>\n",
       "      <td>MGYG000000002</td>\n",
       "      <td>d__Bacteria;p__Firmicutes_A;c__Clostridia;o__L...</td>\n",
       "    </tr>\n",
       "    <tr>\n",
       "      <th>2</th>\n",
       "      <td>MGYG000000003</td>\n",
       "      <td>d__Bacteria;p__Bacteroidota;c__Bacteroidia;o__...</td>\n",
       "    </tr>\n",
       "    <tr>\n",
       "      <th>3</th>\n",
       "      <td>MGYG000000004</td>\n",
       "      <td>d__Bacteria;p__Firmicutes_A;c__Clostridia;o__O...</td>\n",
       "    </tr>\n",
       "    <tr>\n",
       "      <th>4</th>\n",
       "      <td>MGYG000000005</td>\n",
       "      <td>d__Bacteria;p__Firmicutes_A;c__Clostridia;o__P...</td>\n",
       "    </tr>\n",
       "  </tbody>\n",
       "</table>\n",
       "</div>"
      ],
      "text/plain": [
       "          Genome                                            Lineage\n",
       "0  MGYG000000001  d__Bacteria;p__Firmicutes_A;c__Clostridia;o__P...\n",
       "1  MGYG000000002  d__Bacteria;p__Firmicutes_A;c__Clostridia;o__L...\n",
       "2  MGYG000000003  d__Bacteria;p__Bacteroidota;c__Bacteroidia;o__...\n",
       "3  MGYG000000004  d__Bacteria;p__Firmicutes_A;c__Clostridia;o__O...\n",
       "4  MGYG000000005  d__Bacteria;p__Firmicutes_A;c__Clostridia;o__P..."
      ]
     },
     "metadata": {},
     "output_type": "display_data"
    }
   ],
   "source": [
    "taxonomy['Genome'] = taxonomy['Genome'].str.strip('.fa')\n",
    "\n",
    "display(taxonomy.head())"
   ]
  },
  {
   "cell_type": "code",
   "execution_count": 9,
   "metadata": {},
   "outputs": [
    {
     "data": {
      "text/html": [
       "<div>\n",
       "<style scoped>\n",
       "    .dataframe tbody tr th:only-of-type {\n",
       "        vertical-align: middle;\n",
       "    }\n",
       "\n",
       "    .dataframe tbody tr th {\n",
       "        vertical-align: top;\n",
       "    }\n",
       "\n",
       "    .dataframe thead th {\n",
       "        text-align: right;\n",
       "    }\n",
       "</style>\n",
       "<table border=\"1\" class=\"dataframe\">\n",
       "  <thead>\n",
       "    <tr style=\"text-align: right;\">\n",
       "      <th></th>\n",
       "      <th># ID</th>\n",
       "      <th>Genome</th>\n",
       "      <th>Prediction</th>\n",
       "      <th>Uniref</th>\n",
       "    </tr>\n",
       "  </thead>\n",
       "  <tbody>\n",
       "    <tr>\n",
       "      <th>0</th>\n",
       "      <td>MGYG000155050_27_22</td>\n",
       "      <td>MGYG000155050</td>\n",
       "      <td>OTHER</td>\n",
       "      <td>A0A3S5AQD8</td>\n",
       "    </tr>\n",
       "    <tr>\n",
       "      <th>1</th>\n",
       "      <td>MGYG000096674_74_7</td>\n",
       "      <td>MGYG000096674</td>\n",
       "      <td>OTHER</td>\n",
       "      <td>A0A1C6G2Q5</td>\n",
       "    </tr>\n",
       "    <tr>\n",
       "      <th>2</th>\n",
       "      <td>MGYG000074457_25_259</td>\n",
       "      <td>MGYG000074457</td>\n",
       "      <td>SP</td>\n",
       "      <td>A0A3P1BK63</td>\n",
       "    </tr>\n",
       "    <tr>\n",
       "      <th>3</th>\n",
       "      <td>MGYG000074457_44_345</td>\n",
       "      <td>MGYG000074457</td>\n",
       "      <td>SP</td>\n",
       "      <td>A0A2S9XVU2</td>\n",
       "    </tr>\n",
       "    <tr>\n",
       "      <th>4</th>\n",
       "      <td>MGYG000002288_3_33</td>\n",
       "      <td>MGYG000002288</td>\n",
       "      <td>SP</td>\n",
       "      <td>A0A3P1BK63</td>\n",
       "    </tr>\n",
       "  </tbody>\n",
       "</table>\n",
       "</div>"
      ],
      "text/plain": [
       "                   # ID         Genome Prediction      Uniref\n",
       "0   MGYG000155050_27_22  MGYG000155050      OTHER  A0A3S5AQD8\n",
       "1    MGYG000096674_74_7  MGYG000096674      OTHER  A0A1C6G2Q5\n",
       "2  MGYG000074457_25_259  MGYG000074457         SP  A0A3P1BK63\n",
       "3  MGYG000074457_44_345  MGYG000074457         SP  A0A2S9XVU2\n",
       "4    MGYG000002288_3_33  MGYG000002288         SP  A0A3P1BK63"
      ]
     },
     "metadata": {},
     "output_type": "display_data"
    }
   ],
   "source": [
    "# Merge the secretion data with the uniref map data\n",
    "\n",
    "secretion_and_uniref = secretion.merge(uniref_genome, on='# ID', how='inner')\n",
    "\n",
    "display(secretion_and_uniref.head())"
   ]
  },
  {
   "cell_type": "code",
   "execution_count": 10,
   "metadata": {},
   "outputs": [
    {
     "data": {
      "text/html": [
       "<div>\n",
       "<style scoped>\n",
       "    .dataframe tbody tr th:only-of-type {\n",
       "        vertical-align: middle;\n",
       "    }\n",
       "\n",
       "    .dataframe tbody tr th {\n",
       "        vertical-align: top;\n",
       "    }\n",
       "\n",
       "    .dataframe thead th {\n",
       "        text-align: right;\n",
       "    }\n",
       "</style>\n",
       "<table border=\"1\" class=\"dataframe\">\n",
       "  <thead>\n",
       "    <tr style=\"text-align: right;\">\n",
       "      <th></th>\n",
       "      <th># ID</th>\n",
       "      <th>Genome</th>\n",
       "      <th>Prediction</th>\n",
       "      <th>Uniref</th>\n",
       "      <th>Lineage</th>\n",
       "    </tr>\n",
       "  </thead>\n",
       "  <tbody>\n",
       "    <tr>\n",
       "      <th>0</th>\n",
       "      <td>MGYG000155050_27_22</td>\n",
       "      <td>MGYG000155050</td>\n",
       "      <td>OTHER</td>\n",
       "      <td>A0A3S5AQD8</td>\n",
       "      <td>d__Bacteria;p__Firmicutes;c__Bacilli;o__RFN20;...</td>\n",
       "    </tr>\n",
       "    <tr>\n",
       "      <th>1</th>\n",
       "      <td>MGYG000096674_74_7</td>\n",
       "      <td>MGYG000096674</td>\n",
       "      <td>OTHER</td>\n",
       "      <td>A0A1C6G2Q5</td>\n",
       "      <td>d__Bacteria;p__Firmicutes;c__Bacilli;o__RFN20;...</td>\n",
       "    </tr>\n",
       "    <tr>\n",
       "      <th>2</th>\n",
       "      <td>MGYG000074457_25_259</td>\n",
       "      <td>MGYG000074457</td>\n",
       "      <td>SP</td>\n",
       "      <td>A0A3P1BK63</td>\n",
       "      <td>d__Bacteria;p__Firmicutes;c__Bacilli;o__Bacill...</td>\n",
       "    </tr>\n",
       "    <tr>\n",
       "      <th>3</th>\n",
       "      <td>MGYG000074457_44_345</td>\n",
       "      <td>MGYG000074457</td>\n",
       "      <td>SP</td>\n",
       "      <td>A0A2S9XVU2</td>\n",
       "      <td>d__Bacteria;p__Firmicutes;c__Bacilli;o__Bacill...</td>\n",
       "    </tr>\n",
       "    <tr>\n",
       "      <th>4</th>\n",
       "      <td>MGYG000002288_3_33</td>\n",
       "      <td>MGYG000002288</td>\n",
       "      <td>SP</td>\n",
       "      <td>A0A3P1BK63</td>\n",
       "      <td>d__Bacteria;p__Firmicutes;c__Bacilli;o__Bacill...</td>\n",
       "    </tr>\n",
       "  </tbody>\n",
       "</table>\n",
       "</div>"
      ],
      "text/plain": [
       "                   # ID         Genome Prediction      Uniref  \\\n",
       "0   MGYG000155050_27_22  MGYG000155050      OTHER  A0A3S5AQD8   \n",
       "1    MGYG000096674_74_7  MGYG000096674      OTHER  A0A1C6G2Q5   \n",
       "2  MGYG000074457_25_259  MGYG000074457         SP  A0A3P1BK63   \n",
       "3  MGYG000074457_44_345  MGYG000074457         SP  A0A2S9XVU2   \n",
       "4    MGYG000002288_3_33  MGYG000002288         SP  A0A3P1BK63   \n",
       "\n",
       "                                             Lineage  \n",
       "0  d__Bacteria;p__Firmicutes;c__Bacilli;o__RFN20;...  \n",
       "1  d__Bacteria;p__Firmicutes;c__Bacilli;o__RFN20;...  \n",
       "2  d__Bacteria;p__Firmicutes;c__Bacilli;o__Bacill...  \n",
       "3  d__Bacteria;p__Firmicutes;c__Bacilli;o__Bacill...  \n",
       "4  d__Bacteria;p__Firmicutes;c__Bacilli;o__Bacill...  "
      ]
     },
     "metadata": {},
     "output_type": "display_data"
    }
   ],
   "source": [
    "# Merge the secretion and taxonomy data with the uniref_genome data\n",
    "\n",
    "dle_info = secretion_and_uniref.merge(taxonomy, on='Genome', how='inner')\n",
    "\n",
    "display(dle_info.head())"
   ]
  },
  {
   "cell_type": "code",
   "execution_count": 11,
   "metadata": {},
   "outputs": [
    {
     "name": "stdout",
     "output_type": "stream",
     "text": [
      "(75556, 3) (75556, 4) (75556, 2) (75556, 5)\n"
     ]
    }
   ],
   "source": [
    "print(secretion.shape, secretion_and_uniref.shape, uniref_genome.shape, dle_info.shape)\n",
    "\n"
   ]
  },
  {
   "cell_type": "code",
   "execution_count": 12,
   "metadata": {},
   "outputs": [
    {
     "data": {
      "text/plain": [
       "# ID          0\n",
       "Genome        0\n",
       "Prediction    0\n",
       "Uniref        0\n",
       "Lineage       0\n",
       "dtype: int64"
      ]
     },
     "execution_count": 12,
     "metadata": {},
     "output_type": "execute_result"
    }
   ],
   "source": [
    "dle_info.isna().sum()\n",
    "\n",
    "# # ID          0\n",
    "# Genome        0\n",
    "# Prediction    0\n",
    "# Uniref        0\n",
    "# Lineage       0\n",
    "# dtype: int64"
   ]
  },
  {
   "cell_type": "code",
   "execution_count": 13,
   "metadata": {},
   "outputs": [
    {
     "data": {
      "text/html": [
       "<div>\n",
       "<style scoped>\n",
       "    .dataframe tbody tr th:only-of-type {\n",
       "        vertical-align: middle;\n",
       "    }\n",
       "\n",
       "    .dataframe tbody tr th {\n",
       "        vertical-align: top;\n",
       "    }\n",
       "\n",
       "    .dataframe thead th {\n",
       "        text-align: right;\n",
       "    }\n",
       "</style>\n",
       "<table border=\"1\" class=\"dataframe\">\n",
       "  <thead>\n",
       "    <tr style=\"text-align: right;\">\n",
       "      <th></th>\n",
       "      <th>0</th>\n",
       "      <th>12</th>\n",
       "    </tr>\n",
       "  </thead>\n",
       "  <tbody>\n",
       "    <tr>\n",
       "      <th>0</th>\n",
       "      <td>MGYG000167980_147_3</td>\n",
       "      <td>Endopeptidase, NLPC/P60 domain</td>\n",
       "    </tr>\n",
       "    <tr>\n",
       "      <th>1</th>\n",
       "      <td>MGYG000261187_37_10</td>\n",
       "      <td>Endopeptidase, NLPC/P60 domain</td>\n",
       "    </tr>\n",
       "    <tr>\n",
       "      <th>2</th>\n",
       "      <td>MGYG000228155_6_6</td>\n",
       "      <td>Endopeptidase, NLPC/P60 domain</td>\n",
       "    </tr>\n",
       "    <tr>\n",
       "      <th>3</th>\n",
       "      <td>MGYG000133061_366_1</td>\n",
       "      <td>Peptidase M23</td>\n",
       "    </tr>\n",
       "    <tr>\n",
       "      <th>4</th>\n",
       "      <td>MGYG000133061_366_1</td>\n",
       "      <td>Endopeptidase, NLPC/P60 domain</td>\n",
       "    </tr>\n",
       "  </tbody>\n",
       "</table>\n",
       "</div>"
      ],
      "text/plain": [
       "                    0                               12\n",
       "0  MGYG000167980_147_3  Endopeptidase, NLPC/P60 domain\n",
       "1  MGYG000261187_37_10  Endopeptidase, NLPC/P60 domain\n",
       "2    MGYG000228155_6_6  Endopeptidase, NLPC/P60 domain\n",
       "3  MGYG000133061_366_1                   Peptidase M23\n",
       "4  MGYG000133061_366_1  Endopeptidase, NLPC/P60 domain"
      ]
     },
     "execution_count": 13,
     "metadata": {},
     "output_type": "execute_result"
    }
   ],
   "source": [
    "# clean ips table\n",
    "\n",
    "interpro = interpro.iloc[:, [0, 12]]\n",
    "\n",
    "interpro.head()"
   ]
  },
  {
   "cell_type": "code",
   "execution_count": 14,
   "metadata": {},
   "outputs": [
    {
     "data": {
      "text/html": [
       "<div>\n",
       "<style scoped>\n",
       "    .dataframe tbody tr th:only-of-type {\n",
       "        vertical-align: middle;\n",
       "    }\n",
       "\n",
       "    .dataframe tbody tr th {\n",
       "        vertical-align: top;\n",
       "    }\n",
       "\n",
       "    .dataframe thead th {\n",
       "        text-align: right;\n",
       "    }\n",
       "</style>\n",
       "<table border=\"1\" class=\"dataframe\">\n",
       "  <thead>\n",
       "    <tr style=\"text-align: right;\">\n",
       "      <th></th>\n",
       "      <th># ID</th>\n",
       "      <th>Interpro</th>\n",
       "    </tr>\n",
       "  </thead>\n",
       "  <tbody>\n",
       "    <tr>\n",
       "      <th>0</th>\n",
       "      <td>MGYG000167980_147_3</td>\n",
       "      <td>Endopeptidase, NLPC/P60 domain</td>\n",
       "    </tr>\n",
       "    <tr>\n",
       "      <th>1</th>\n",
       "      <td>MGYG000261187_37_10</td>\n",
       "      <td>Endopeptidase, NLPC/P60 domain</td>\n",
       "    </tr>\n",
       "    <tr>\n",
       "      <th>2</th>\n",
       "      <td>MGYG000228155_6_6</td>\n",
       "      <td>Endopeptidase, NLPC/P60 domain</td>\n",
       "    </tr>\n",
       "    <tr>\n",
       "      <th>3</th>\n",
       "      <td>MGYG000133061_366_1</td>\n",
       "      <td>Peptidase M23</td>\n",
       "    </tr>\n",
       "    <tr>\n",
       "      <th>4</th>\n",
       "      <td>MGYG000133061_366_1</td>\n",
       "      <td>Endopeptidase, NLPC/P60 domain</td>\n",
       "    </tr>\n",
       "  </tbody>\n",
       "</table>\n",
       "</div>"
      ],
      "text/plain": [
       "                  # ID                        Interpro\n",
       "0  MGYG000167980_147_3  Endopeptidase, NLPC/P60 domain\n",
       "1  MGYG000261187_37_10  Endopeptidase, NLPC/P60 domain\n",
       "2    MGYG000228155_6_6  Endopeptidase, NLPC/P60 domain\n",
       "3  MGYG000133061_366_1                   Peptidase M23\n",
       "4  MGYG000133061_366_1  Endopeptidase, NLPC/P60 domain"
      ]
     },
     "execution_count": 14,
     "metadata": {},
     "output_type": "execute_result"
    }
   ],
   "source": [
    "interpro.rename(columns={0: '# ID', 12: 'Interpro'}, inplace=True)\n",
    "\n",
    "interpro.head()"
   ]
  },
  {
   "cell_type": "code",
   "execution_count": 15,
   "metadata": {},
   "outputs": [
    {
     "data": {
      "text/html": [
       "<div>\n",
       "<style scoped>\n",
       "    .dataframe tbody tr th:only-of-type {\n",
       "        vertical-align: middle;\n",
       "    }\n",
       "\n",
       "    .dataframe tbody tr th {\n",
       "        vertical-align: top;\n",
       "    }\n",
       "\n",
       "    .dataframe thead th {\n",
       "        text-align: right;\n",
       "    }\n",
       "</style>\n",
       "<table border=\"1\" class=\"dataframe\">\n",
       "  <thead>\n",
       "    <tr style=\"text-align: right;\">\n",
       "      <th></th>\n",
       "      <th># ID</th>\n",
       "      <th>Interpro</th>\n",
       "    </tr>\n",
       "  </thead>\n",
       "  <tbody>\n",
       "    <tr>\n",
       "      <th>0</th>\n",
       "      <td>MGYG000000002_16_59</td>\n",
       "      <td>[Endopeptidase, NLPC/P60 domain]</td>\n",
       "    </tr>\n",
       "    <tr>\n",
       "      <th>1</th>\n",
       "      <td>MGYG000000002_23_34</td>\n",
       "      <td>[Peptidase M23, Endopeptidase, NLPC/P60 domain]</td>\n",
       "    </tr>\n",
       "    <tr>\n",
       "      <th>2</th>\n",
       "      <td>MGYG000000002_6_139</td>\n",
       "      <td>[Endopeptidase, NLPC/P60 domain]</td>\n",
       "    </tr>\n",
       "    <tr>\n",
       "      <th>3</th>\n",
       "      <td>MGYG000000002_9_26</td>\n",
       "      <td>[Peptidase M14, carboxypeptidase A]</td>\n",
       "    </tr>\n",
       "    <tr>\n",
       "      <th>4</th>\n",
       "      <td>MGYG000000009_6_39</td>\n",
       "      <td>[LysM domain, LysM domain, LysM domain, Endope...</td>\n",
       "    </tr>\n",
       "  </tbody>\n",
       "</table>\n",
       "</div>"
      ],
      "text/plain": [
       "                  # ID                                           Interpro\n",
       "0  MGYG000000002_16_59                   [Endopeptidase, NLPC/P60 domain]\n",
       "1  MGYG000000002_23_34    [Peptidase M23, Endopeptidase, NLPC/P60 domain]\n",
       "2  MGYG000000002_6_139                   [Endopeptidase, NLPC/P60 domain]\n",
       "3   MGYG000000002_9_26                [Peptidase M14, carboxypeptidase A]\n",
       "4   MGYG000000009_6_39  [LysM domain, LysM domain, LysM domain, Endope..."
      ]
     },
     "metadata": {},
     "output_type": "display_data"
    }
   ],
   "source": [
    "interpro = interpro.groupby(['# ID']).agg(list).reset_index()\n",
    "\n",
    "display(interpro.head())"
   ]
  },
  {
   "cell_type": "code",
   "execution_count": 16,
   "metadata": {},
   "outputs": [
    {
     "name": "stdout",
     "output_type": "stream",
     "text": [
      "(73924, 2)\n"
     ]
    }
   ],
   "source": [
    "print(interpro.shape)"
   ]
  },
  {
   "cell_type": "code",
   "execution_count": 17,
   "metadata": {},
   "outputs": [
    {
     "name": "stdout",
     "output_type": "stream",
     "text": [
      "(75556, 5) (73924, 2)\n",
      "(75556, 6)\n"
     ]
    }
   ],
   "source": [
    "print(dle_info.shape, interpro.shape)\n",
    "\n",
    "dle_info = dle_info.merge(interpro, on='# ID', how='left')\n",
    "\n",
    "print(dle_info.shape)"
   ]
  },
  {
   "cell_type": "code",
   "execution_count": 63,
   "metadata": {},
   "outputs": [],
   "source": [
    "# dle_info.to_csv('E:\\\\blastp_hits\\\\dl_endo_info.tsv', sep='\\t', index=False)"
   ]
  },
  {
   "cell_type": "code",
   "execution_count": 18,
   "metadata": {},
   "outputs": [
    {
     "data": {
      "text/html": [
       "<div>\n",
       "<style scoped>\n",
       "    .dataframe tbody tr th:only-of-type {\n",
       "        vertical-align: middle;\n",
       "    }\n",
       "\n",
       "    .dataframe tbody tr th {\n",
       "        vertical-align: top;\n",
       "    }\n",
       "\n",
       "    .dataframe thead th {\n",
       "        text-align: right;\n",
       "    }\n",
       "</style>\n",
       "<table border=\"1\" class=\"dataframe\">\n",
       "  <thead>\n",
       "    <tr style=\"text-align: right;\">\n",
       "      <th></th>\n",
       "      <th>Unnamed: 0</th>\n",
       "      <th>dl_endopeptidase-unclustered</th>\n",
       "      <th>dl_endopeptidase-mmseqs_cluster</th>\n",
       "      <th>dl_endopeptidase-foldseek_cluster</th>\n",
       "    </tr>\n",
       "  </thead>\n",
       "  <tbody>\n",
       "    <tr>\n",
       "      <th>0</th>\n",
       "      <td>0</td>\n",
       "      <td>A0A7S8CCP0</td>\n",
       "      <td>A0A7S8CCP0</td>\n",
       "      <td>A0A7X2Z4H8</td>\n",
       "    </tr>\n",
       "    <tr>\n",
       "      <th>1</th>\n",
       "      <td>1</td>\n",
       "      <td>A0A928LPM8</td>\n",
       "      <td>A0A413G4S5</td>\n",
       "      <td>A0A1C5Q6A7</td>\n",
       "    </tr>\n",
       "    <tr>\n",
       "      <th>2</th>\n",
       "      <td>2</td>\n",
       "      <td>A0A413G4S5</td>\n",
       "      <td>A0A413G4S5</td>\n",
       "      <td>A0A1C5Q6A7</td>\n",
       "    </tr>\n",
       "    <tr>\n",
       "      <th>3</th>\n",
       "      <td>3</td>\n",
       "      <td>A0A926IJ38</td>\n",
       "      <td>A0A413G4S5</td>\n",
       "      <td>A0A1C5Q6A7</td>\n",
       "    </tr>\n",
       "    <tr>\n",
       "      <th>4</th>\n",
       "      <td>4</td>\n",
       "      <td>A0A498CNA2</td>\n",
       "      <td>A0A413G4S5</td>\n",
       "      <td>A0A1C5Q6A7</td>\n",
       "    </tr>\n",
       "  </tbody>\n",
       "</table>\n",
       "</div>"
      ],
      "text/plain": [
       "   Unnamed: 0 dl_endopeptidase-unclustered dl_endopeptidase-mmseqs_cluster  \\\n",
       "0           0                   A0A7S8CCP0                      A0A7S8CCP0   \n",
       "1           1                   A0A928LPM8                      A0A413G4S5   \n",
       "2           2                   A0A413G4S5                      A0A413G4S5   \n",
       "3           3                   A0A926IJ38                      A0A413G4S5   \n",
       "4           4                   A0A498CNA2                      A0A413G4S5   \n",
       "\n",
       "  dl_endopeptidase-foldseek_cluster  \n",
       "0                        A0A7X2Z4H8  \n",
       "1                        A0A1C5Q6A7  \n",
       "2                        A0A1C5Q6A7  \n",
       "3                        A0A1C5Q6A7  \n",
       "4                        A0A1C5Q6A7  "
      ]
     },
     "metadata": {},
     "output_type": "display_data"
    }
   ],
   "source": [
    "display(dl_map.head())"
   ]
  },
  {
   "cell_type": "code",
   "execution_count": 19,
   "metadata": {},
   "outputs": [
    {
     "data": {
      "text/html": [
       "<div>\n",
       "<style scoped>\n",
       "    .dataframe tbody tr th:only-of-type {\n",
       "        vertical-align: middle;\n",
       "    }\n",
       "\n",
       "    .dataframe tbody tr th {\n",
       "        vertical-align: top;\n",
       "    }\n",
       "\n",
       "    .dataframe thead th {\n",
       "        text-align: right;\n",
       "    }\n",
       "</style>\n",
       "<table border=\"1\" class=\"dataframe\">\n",
       "  <thead>\n",
       "    <tr style=\"text-align: right;\">\n",
       "      <th></th>\n",
       "      <th>Unnamed: 0</th>\n",
       "      <th>Uniref</th>\n",
       "      <th>dl_endopeptidase-mmseqs_cluster</th>\n",
       "      <th>dl_endopeptidase-foldseek_cluster</th>\n",
       "    </tr>\n",
       "  </thead>\n",
       "  <tbody>\n",
       "    <tr>\n",
       "      <th>0</th>\n",
       "      <td>0</td>\n",
       "      <td>A0A7S8CCP0</td>\n",
       "      <td>A0A7S8CCP0</td>\n",
       "      <td>A0A7X2Z4H8</td>\n",
       "    </tr>\n",
       "    <tr>\n",
       "      <th>1</th>\n",
       "      <td>1</td>\n",
       "      <td>A0A928LPM8</td>\n",
       "      <td>A0A413G4S5</td>\n",
       "      <td>A0A1C5Q6A7</td>\n",
       "    </tr>\n",
       "    <tr>\n",
       "      <th>2</th>\n",
       "      <td>2</td>\n",
       "      <td>A0A413G4S5</td>\n",
       "      <td>A0A413G4S5</td>\n",
       "      <td>A0A1C5Q6A7</td>\n",
       "    </tr>\n",
       "    <tr>\n",
       "      <th>3</th>\n",
       "      <td>3</td>\n",
       "      <td>A0A926IJ38</td>\n",
       "      <td>A0A413G4S5</td>\n",
       "      <td>A0A1C5Q6A7</td>\n",
       "    </tr>\n",
       "    <tr>\n",
       "      <th>4</th>\n",
       "      <td>4</td>\n",
       "      <td>A0A498CNA2</td>\n",
       "      <td>A0A413G4S5</td>\n",
       "      <td>A0A1C5Q6A7</td>\n",
       "    </tr>\n",
       "  </tbody>\n",
       "</table>\n",
       "</div>"
      ],
      "text/plain": [
       "   Unnamed: 0      Uniref dl_endopeptidase-mmseqs_cluster  \\\n",
       "0           0  A0A7S8CCP0                      A0A7S8CCP0   \n",
       "1           1  A0A928LPM8                      A0A413G4S5   \n",
       "2           2  A0A413G4S5                      A0A413G4S5   \n",
       "3           3  A0A926IJ38                      A0A413G4S5   \n",
       "4           4  A0A498CNA2                      A0A413G4S5   \n",
       "\n",
       "  dl_endopeptidase-foldseek_cluster  \n",
       "0                        A0A7X2Z4H8  \n",
       "1                        A0A1C5Q6A7  \n",
       "2                        A0A1C5Q6A7  \n",
       "3                        A0A1C5Q6A7  \n",
       "4                        A0A1C5Q6A7  "
      ]
     },
     "metadata": {},
     "output_type": "display_data"
    }
   ],
   "source": [
    "dl_map.rename(columns={'dl_endopeptidase-unclustered': 'Uniref'}, inplace=True)\n",
    "\n",
    "display(dl_map.head())"
   ]
  },
  {
   "cell_type": "code",
   "execution_count": 20,
   "metadata": {},
   "outputs": [
    {
     "name": "stdout",
     "output_type": "stream",
     "text": [
      "(74638, 6)\n"
     ]
    }
   ],
   "source": [
    "filtered_dle_info = dle_info[dle_info['Uniref'].isin(dl_map['Uniref'])]\n",
    "\n",
    "print(filtered_dle_info.shape)"
   ]
  },
  {
   "cell_type": "code",
   "execution_count": null,
   "metadata": {},
   "outputs": [],
   "source": [
    "# protein_info = filtered_dle_info[filtered_dle_info['Uniref'] == 'A0A3S5AQD8']\n",
    "\n",
    "# species = set(protein_info.loc[protein_info['Uniref'] == 'A0A3S5AQD8', 'Lineage'])\n",
    "\n",
    "# display(species, len(species))"
   ]
  },
  {
   "cell_type": "markdown",
   "metadata": {},
   "source": [
    "**Old Code might re-use**"
   ]
  },
  {
   "cell_type": "code",
   "execution_count": null,
   "metadata": {},
   "outputs": [],
   "source": [
    "# dle_grouped = dle_info.groupby(['Uniref']).agg(list).reset_index()\n",
    "\n",
    "# print(dle_grouped.shape)"
   ]
  },
  {
   "cell_type": "code",
   "execution_count": null,
   "metadata": {},
   "outputs": [],
   "source": [
    "# dl_and_sec = dl_map.merge(dle_grouped, on='Uniref', how='inner')\n",
    "\n",
    "# display(dl_and_sec.head())\n",
    "\n",
    "# print(dl_and_sec.shape)"
   ]
  },
  {
   "cell_type": "code",
   "execution_count": null,
   "metadata": {},
   "outputs": [],
   "source": [
    "# result = dl_and_sec.loc[dl_and_sec['Uniref'] == 'A0A1C5YFQ8', 'Lineage']\n",
    "\n",
    "# print(len(result))"
   ]
  },
  {
   "cell_type": "code",
   "execution_count": null,
   "metadata": {},
   "outputs": [],
   "source": [
    "# dl_and_sec.to_csv('E:\\\\blastp_hits\\\\dl_endo_info_grouped.tsv', sep='\\t', index=False)"
   ]
  },
  {
   "cell_type": "code",
   "execution_count": 82,
   "metadata": {},
   "outputs": [],
   "source": [
    "from collections import Counter\n",
    "\n",
    "def pie_chart(taxa_info: list):\n",
    "    \n",
    "    # Get taxa info for pie charts\n",
    "    phyla = []\n",
    "    family = []\n",
    "    genus = []\n",
    "    for index, tax in enumerate(taxa_info):\n",
    "        phyla.append(tax.split(';')[1].replace('p__', ''))\n",
    "        family.append((tax.split(';')[4]).replace('f__', ''))\n",
    "        genus.append(tax.split(';')[-2].replace('g__', ''))\n",
    "\n",
    "    phyla_counts = Counter(phyla)\n",
    "    family_counts = Counter(family)\n",
    "    genus_counts = Counter(genus)\n",
    "\n",
    "    # Create pie charts\n",
    "\n",
    "    sns.set_style('whitegrid')\n",
    "\n",
    "    # Create a figure to hold the subplots\n",
    "    plt.figure(figsize=(24, 12))\n",
    "\n",
    "    # Phyla Distribution\n",
    "    plt.subplot(1, 3, 1)  # 1 row, 3 columns, 1st subplot\n",
    "    plt.pie(phyla_counts.values(), labels=phyla_counts.keys(), autopct='%1.1f%%')\n",
    "    plt.title('Phyla Distribution')\n",
    "\n",
    "    # Family Distribution\n",
    "    plt.subplot(1, 3, 2)  # 1 row, 3 columns, 2nd subplot\n",
    "    plt.pie(family_counts.values(), labels=family_counts.keys(), autopct='%1.1f%%')\n",
    "    plt.title('Family Distribution')\n",
    "\n",
    "    # Genus Distribution\n",
    "    plt.subplot(1, 3, 3)  # 1 row, 3 columns, 3rd subplot\n",
    "    plt.pie(genus_counts.values(), labels=genus_counts.keys(), autopct='%1.1f%%')\n",
    "    plt.title('Genus Distribution')\n",
    "\n",
    "    # Show the figure with the subplots\n",
    "    plt.tight_layout()\n",
    "    plt.show()\n",
    "\n",
    "    #in future add code to save figure as png"
   ]
  },
  {
   "cell_type": "code",
   "execution_count": 104,
   "metadata": {},
   "outputs": [],
   "source": [
    "def bar_chart(domain_info: list, secretion_info: list, number_proteins: int):\n",
    "\n",
    "\n",
    "    domain_counter = Counter(domain_info)\n",
    "    \n",
    "    secretion_counter = Counter(secretion_info)\n",
    "\n",
    "    # Calculate average domain/protein\n",
    "    domain_average = {key: (value / number_proteins) for key, value in domain_counter.items()}\n",
    "\n",
    "    # Calculate percent secretion\n",
    "\n",
    "    secretion_percent = {key: (value / number_proteins) * 100 for key, value in secretion_counter.items()}\n",
    "\n",
    "    # Debugging: Print labels and their corresponding percentages\n",
    "    for key, value in domain_average.items():\n",
    "        print(f\"{key}: {value}%\")\n",
    "\n",
    "    # Preparing data for plotting\n",
    "    domain_labels = list(domain_average.keys())\n",
    "    domain_percentages = list(domain_average.values())\n",
    "\n",
    "    secretion_labels = list(secretion_percent.keys())\n",
    "    secretion_percentages = list(secretion_percent.values())\n",
    "\n",
    "    sns.set_style('whitegrid')\n",
    "    plt.figure(figsize=(24, 12))\n",
    "\n",
    "    # Domain Distribution\n",
    "    plt.subplot(1, 2, 1)  # 1 row, 2 columns, 1st subplot\n",
    "    sns.barplot(x=domain_labels, y=domain_percentages)  # Ensure this uses percentages\n",
    "    plt.title('Average # Domains per protein')\n",
    "    plt.ylabel('')  # Labeling Y-axis as Percentage\n",
    "    plt.xticks(rotation=45)  # Rotate labels if they overlap\n",
    "\n",
    "\n",
    "\n",
    "    # Secretion Distribution\n",
    "    plt.subplot(1, 2, 2)  # 1 row, 2 columns, 2nd subplot\n",
    "    sns.barplot(x=secretion_labels, y=secretion_percentages)  # Ensure this uses percentages\n",
    "    plt.title('Secretion Distribution')\n",
    "    plt.ylabel('')  # Labeling Y-axis as Percentage\n",
    "    plt.xticks(rotation=45)  # Rotate labels if they overlap\n",
    "\n",
    "    plt.show()\n",
    "\n"
   ]
  },
  {
   "cell_type": "code",
   "execution_count": 105,
   "metadata": {},
   "outputs": [],
   "source": [
    "# Now map is created, need to make a function to quickly index clusters and pull important\n",
    "# information from the table. Get: number species, taxa info, secretion percentage\n",
    "\n",
    "import ast\n",
    "from collections import Counter\n",
    "\n",
    "\n",
    "\n",
    "def describe_cluster(cluster_id: str, protein_info_table: Path, cluster_info_table: Path):\n",
    "    \"\"\"\n",
    "    This function takes a cluster ID and a table of information about the clusters and returns\n",
    "    the number of species, the taxa information, and the percentage of the cluster that is predicted\n",
    "    to be secreted. \n",
    "    \"\"\"\n",
    "\n",
    "    # Read in tables as dfs\n",
    "    cluster_info_table = pd.read_csv(cluster_info_table, sep='\\t')\n",
    "    protein_info_table = pd.read_csv(protein_info_table, sep='\\t')\n",
    "\n",
    "    # given the cluster_id, find the initial uniref IDs and make them into a list\n",
    "    clustered_dl_list = list(cluster_info_table.loc[cluster_info_table['dl_endopeptidase-foldseek_cluster'] == cluster_id, 'Uniref'])\n",
    "\n",
    "    # print(clustered_dl_list)\n",
    "\n",
    "    number_proteins = len(list(protein_info_table.loc[protein_info_table['Uniref'].isin(clustered_dl_list), '# ID']))\n",
    "\n",
    "    print(number_proteins)\n",
    "\n",
    "    # search the protein_info_table for the reuturned Uniref ids. return unique species\n",
    "    species_list = list(set(protein_info_table.loc[protein_info_table['Uniref'].isin(clustered_dl_list), 'Lineage']))\n",
    "\n",
    "    # feed species list into species_pie_chart function to get figure\n",
    "\n",
    "    # Find percentage of proteins that are secreted\n",
    "\n",
    "    secretion_list = list(protein_info_table.loc[protein_info_table['Uniref'].isin(clustered_dl_list), 'Prediction'])\n",
    "\n",
    "    # Get domain information and normalize to per protein\n",
    "\n",
    "    # select the domain info column and make it into a list\n",
    "    domain_info = list(protein_info_table.loc[protein_info_table['Uniref'].isin(clustered_dl_list), 'Interpro'])\n",
    "\n",
    "    # flatten the list\n",
    "    domain_info = [item for sublist in domain_info for item in (sublist if isinstance(sublist, list) else [sublist])]\n",
    "\n",
    "    # remove any NA values\n",
    "    domain_info = [item for item in domain_info if not pd.isna(item)]\n",
    "\n",
    "    # convert strings to lists\n",
    "    domain_info = [ast.literal_eval(item) for item in domain_info]\n",
    "\n",
    "    # flatten the list\n",
    "    domain_info = [item for sublist in domain_info for item in (sublist if isinstance(sublist, list) else [sublist])]\n",
    "\n",
    "    # domain_info = {k: v / number_proteins for k, v in domain_info.items()}\n",
    "\n",
    "    # print(domain_info)\n",
    "\n",
    "    return(pie_chart(species_list), bar_chart(domain_info, secretion_list, number_proteins))\n",
    "  "
   ]
  },
  {
   "cell_type": "code",
   "execution_count": 106,
   "metadata": {},
   "outputs": [
    {
     "name": "stdout",
     "output_type": "stream",
     "text": [
      "781\n"
     ]
    },
    {
     "data": {
      "image/png": "[encoded data removed]",
      "text/plain": [
       "<Figure size 2400x1200 with 3 Axes>"
      ]
     },
     "metadata": {},
     "output_type": "display_data"
    },
    {
     "name": "stdout",
     "output_type": "stream",
     "text": [
      "SH3-like domain, bacterial-type: 1.262483994878361%\n",
      "Endopeptidase, NLPC/P60 domain: 0.9846350832266325%\n"
     ]
    },
    {
     "data": {
      "image/png": "[encoded data removed]",
      "text/plain": [
       "<Figure size 2400x1200 with 2 Axes>"
      ]
     },
     "metadata": {},
     "output_type": "display_data"
    },
    {
     "name": "stdout",
     "output_type": "stream",
     "text": [
      "(None, None)\n"
     ]
    }
   ],
   "source": [
    "print(describe_cluster('A0A1C6G745', 'E:\\\\blastp_hits\\\\dl_endo_info.tsv', 'E:\\\\blastp_hits\\\\dl_endo_cluster_map.tsv'))"
   ]
  },
  {
   "cell_type": "code",
   "execution_count": 13,
   "metadata": {},
   "outputs": [],
   "source": [
    "# dl_and_sec.to_csv('dl_and_sec.tsv', sep='\\t', index=False)"
   ]
  },
  {
   "cell_type": "code",
   "execution_count": 16,
   "metadata": {},
   "outputs": [
    {
     "data": {
      "text/html": [
       "<div>\n",
       "<style scoped>\n",
       "    .dataframe tbody tr th:only-of-type {\n",
       "        vertical-align: middle;\n",
       "    }\n",
       "\n",
       "    .dataframe tbody tr th {\n",
       "        vertical-align: top;\n",
       "    }\n",
       "\n",
       "    .dataframe thead th {\n",
       "        text-align: right;\n",
       "    }\n",
       "</style>\n",
       "<table border=\"1\" class=\"dataframe\">\n",
       "  <thead>\n",
       "    <tr style=\"text-align: right;\">\n",
       "      <th></th>\n",
       "      <th>Foldseek Cluster ID</th>\n",
       "      <th>Total Proteins</th>\n",
       "      <th>Secreted Proteins</th>\n",
       "      <th>Percentage Secreted</th>\n",
       "    </tr>\n",
       "  </thead>\n",
       "  <tbody>\n",
       "    <tr>\n",
       "      <th>0</th>\n",
       "      <td>A0A077MGS3</td>\n",
       "      <td>4</td>\n",
       "      <td>2</td>\n",
       "      <td>50.0</td>\n",
       "    </tr>\n",
       "    <tr>\n",
       "      <th>1</th>\n",
       "      <td>A0A078MK14</td>\n",
       "      <td>3</td>\n",
       "      <td>0</td>\n",
       "      <td>0.0</td>\n",
       "    </tr>\n",
       "    <tr>\n",
       "      <th>2</th>\n",
       "      <td>A0A0A2TFV7</td>\n",
       "      <td>3</td>\n",
       "      <td>3</td>\n",
       "      <td>100.0</td>\n",
       "    </tr>\n",
       "    <tr>\n",
       "      <th>3</th>\n",
       "      <td>A0A0B0HUJ2</td>\n",
       "      <td>5</td>\n",
       "      <td>0</td>\n",
       "      <td>0.0</td>\n",
       "    </tr>\n",
       "    <tr>\n",
       "      <th>4</th>\n",
       "      <td>A0A0D0RVH7</td>\n",
       "      <td>7</td>\n",
       "      <td>7</td>\n",
       "      <td>100.0</td>\n",
       "    </tr>\n",
       "  </tbody>\n",
       "</table>\n",
       "</div>"
      ],
      "text/plain": [
       "  Foldseek Cluster ID  Total Proteins  Secreted Proteins  Percentage Secreted\n",
       "0          A0A077MGS3               4                  2                 50.0\n",
       "1          A0A078MK14               3                  0                  0.0\n",
       "2          A0A0A2TFV7               3                  3                100.0\n",
       "3          A0A0B0HUJ2               5                  0                  0.0\n",
       "4          A0A0D0RVH7               7                  7                100.0"
      ]
     },
     "execution_count": 16,
     "metadata": {},
     "output_type": "execute_result"
    }
   ],
   "source": [
    "# Group by the foldseek cluster ID\n",
    "grouped_data = dl_and_sec.groupby('dl_endopeptidase-foldseek_cluster')\n",
    "\n",
    "# Initialize a list to hold the statistics for each cluster\n",
    "cluster_stats = []\n",
    "\n",
    "# Iterate over each group to calculate statistics\n",
    "for cluster_id, group in grouped_data:\n",
    "    total_proteins = group.shape[0]  # Total proteins in the cluster\n",
    "    secreted_proteins = group[group['Prediction'] == 'SP'].shape[0]  # Proteins predicted as secreted\n",
    "    percentage_secreted = (secreted_proteins / total_proteins) * 100  # Calculate the percentage\n",
    "    \n",
    "    # Append the statistics for this cluster to the list\n",
    "    cluster_stats.append({\n",
    "        'Foldseek Cluster ID': cluster_id,\n",
    "        'Total Proteins': total_proteins,\n",
    "        'Secreted Proteins': secreted_proteins,\n",
    "        'Percentage Secreted': percentage_secreted\n",
    "    })\n",
    "\n",
    "# Convert the list of statistics into a DataFrame for better visualization\n",
    "stats_df = pd.DataFrame(cluster_stats)\n",
    "\n",
    "# Display the statistics DataFrame\n",
    "stats_df.head()"
   ]
  }
 ],
 "metadata": {
  "kernelspec": {
   "display_name": "Python 3",
   "language": "python",
   "name": "python3"
  },
  "language_info": {
   "codemirror_mode": {
    "name": "ipython",
    "version": 3
   },
   "file_extension": ".py",
   "mimetype": "text/x-python",
   "name": "python",
   "nbconvert_exporter": "python",
   "pygments_lexer": "ipython3",
   "version": "3.12.1"
  }
 },
 "nbformat": 4,
 "nbformat_minor": 2
}
