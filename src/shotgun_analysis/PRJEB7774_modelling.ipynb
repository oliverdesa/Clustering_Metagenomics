{
 "cells": [
  {
   "cell_type": "code",
   "execution_count": 1,
   "metadata": {},
   "outputs": [],
   "source": [
    "import numpy as np\n",
    "import pandas as pd\n",
    "import matplotlib.pyplot as plt\n",
    "from sklearn.ensemble import RandomForestClassifier\n",
    "from sklearn.datasets import make_classification\n",
    "from sklearn.model_selection import train_test_split, GridSearchCV\n",
    "from sklearn.metrics import confusion_matrix, f1_score, roc_auc_score, roc_curve, confusion_matrix, ConfusionMatrixDisplay, auc, accuracy_score, classification_report\n",
    "from sklearn.decomposition import PCA\n",
    "from sklearn.preprocessing import StandardScaler\n",
    "import xgboost as xgb"
   ]
  },
  {
   "cell_type": "markdown",
   "metadata": {},
   "source": [
    "**<span style=\"font-size:larger;\">Load Data</span>**"
   ]
  },
  {
   "cell_type": "code",
   "execution_count": 2,
   "metadata": {},
   "outputs": [],
   "source": [
    "# load PRJEB7774 data\n",
    "relab_abundance_data_7774 = pd.read_feather('C:/Users/odesa/Desktop/CRCFinal/PRJEB7774/relab_PRJEB7774_pooled_abun.feather') # In relative abundance, UNMAPPED included, pooled. (Normalized to read depth)\n",
    "CLR_abundance_data_7774 = pd.read_feather('C:/Users/odesa/Desktop/CRCFinal/PRJEB7774/CLR_PRJEB7774_pooled_abun.feather') # In CLR, UNMAPPED removed, pooled. (not normalized to read depth)\n",
    "metadata_7774 = pd.read_feather('C:/Users/odesa/Desktop/CRCFinal/PRJEB7774/PRJEB7774_metadata.feather') # metadata for PRJEB7774"
   ]
  },
  {
   "cell_type": "code",
   "execution_count": null,
   "metadata": {},
   "outputs": [],
   "source": [
    "display(relab_abundance_data_7774)\n",
    "display(CLR_abundance_data_7774)\n",
    "display(metadata_7774)"
   ]
  },
  {
   "cell_type": "markdown",
   "metadata": {},
   "source": [
    "**<span style=\"font-size:larger;\">Clean Data for Training</span>**"
   ]
  },
  {
   "cell_type": "code",
   "execution_count": 3,
   "metadata": {},
   "outputs": [
    {
     "name": "stdout",
     "output_type": "stream",
     "text": [
      "     Amidase  DD-carboxypeptidase  DD-endopeptidase  DL-endopeptidase  \\\n",
      "132      inf                  inf               inf               inf   \n",
      "\n",
      "     Glucosaminidase  LD-carboxypeptidase  LD-endopeptidase  Muramidase  \\\n",
      "132              inf                  inf               NaN         inf   \n",
      "\n",
      "     sample_id  \n",
      "132  ERR688638  \n"
     ]
    }
   ],
   "source": [
    "# rows_with_na = relab_abundance_data_7774[relab_abundance_data_7774.isna().any(axis=1)]\n",
    "# print(rows_with_na)\n",
    "\n",
    "rows_with_na = CLR_abundance_data_7774[CLR_abundance_data_7774.isna().any(axis=1)]\n",
    "print(rows_with_na)\n",
    "\n",
    "# Sample ID ERR688638 has NAs in the CLR abundance data, drop from all\n",
    "relab_abundance_data_7774 = relab_abundance_data_7774[relab_abundance_data_7774['sample_id'] != 'ERR688638']\n",
    "CLR_abundance_data_7774 = CLR_abundance_data_7774[CLR_abundance_data_7774['sample_id'] != 'ERR688638']\n",
    "metadata_7774 = metadata_7774[metadata_7774['run_accession'] != 'ERR688638']"
   ]
  },
  {
   "cell_type": "code",
   "execution_count": null,
   "metadata": {},
   "outputs": [],
   "source": [
    "metadata_7774.rename(columns={'run_accession': 'sample_id'}, inplace=True)\n",
    "display(metadata_7774)\n",
    "\n",
    "\n",
    "metadata_7774 = metadata_7774[metadata_7774['sample_id'].isin(relab_abundance_data_7774['sample_id'])]\n",
    "display(metadata_7774)"
   ]
  },
  {
   "cell_type": "code",
   "execution_count": 5,
   "metadata": {},
   "outputs": [],
   "source": [
    "relab_abundance_data_7774.set_index('sample_id', inplace=True)\n",
    "CLR_abundance_data_7774.set_index('sample_id', inplace=True)\n",
    "metadata_7774.set_index('sample_id', inplace=True)"
   ]
  },
  {
   "cell_type": "code",
   "execution_count": null,
   "metadata": {},
   "outputs": [],
   "source": [
    "metadata_7774['sample_title'] = metadata_7774['sample_title'].map({'Control': 0, 'Adenoma': 0, 'Carcinoma': 1})\n",
    "display(metadata_7774)"
   ]
  },
  {
   "cell_type": "code",
   "execution_count": 7,
   "metadata": {},
   "outputs": [
    {
     "data": {
      "text/html": [
       "<div>\n",
       "<style scoped>\n",
       "    .dataframe tbody tr th:only-of-type {\n",
       "        vertical-align: middle;\n",
       "    }\n",
       "\n",
       "    .dataframe tbody tr th {\n",
       "        vertical-align: top;\n",
       "    }\n",
       "\n",
       "    .dataframe thead th {\n",
       "        text-align: right;\n",
       "    }\n",
       "</style>\n",
       "<table border=\"1\" class=\"dataframe\">\n",
       "  <thead>\n",
       "    <tr style=\"text-align: right;\">\n",
       "      <th></th>\n",
       "      <th>Amidase</th>\n",
       "      <th>DD-carboxypeptidase</th>\n",
       "      <th>DD-endopeptidase</th>\n",
       "      <th>DL-endopeptidase</th>\n",
       "      <th>Glucosaminidase</th>\n",
       "      <th>LD-carboxypeptidase</th>\n",
       "      <th>LD-endopeptidase</th>\n",
       "      <th>Muramidase</th>\n",
       "      <th>UNMAPPED</th>\n",
       "    </tr>\n",
       "    <tr>\n",
       "      <th>sample_id</th>\n",
       "      <th></th>\n",
       "      <th></th>\n",
       "      <th></th>\n",
       "      <th></th>\n",
       "      <th></th>\n",
       "      <th></th>\n",
       "      <th></th>\n",
       "      <th></th>\n",
       "      <th></th>\n",
       "    </tr>\n",
       "  </thead>\n",
       "  <tbody>\n",
       "    <tr>\n",
       "      <th>ERR688505</th>\n",
       "      <td>0.001340</td>\n",
       "      <td>0.001220</td>\n",
       "      <td>0.000204</td>\n",
       "      <td>0.000597</td>\n",
       "      <td>0.000298</td>\n",
       "      <td>0.000161</td>\n",
       "      <td>0.000006</td>\n",
       "      <td>0.001571</td>\n",
       "      <td>0.994337</td>\n",
       "    </tr>\n",
       "    <tr>\n",
       "      <th>ERR688506</th>\n",
       "      <td>0.001213</td>\n",
       "      <td>0.001103</td>\n",
       "      <td>0.000086</td>\n",
       "      <td>0.000448</td>\n",
       "      <td>0.000246</td>\n",
       "      <td>0.000144</td>\n",
       "      <td>0.000015</td>\n",
       "      <td>0.001173</td>\n",
       "      <td>0.995306</td>\n",
       "    </tr>\n",
       "    <tr>\n",
       "      <th>ERR688507</th>\n",
       "      <td>0.001110</td>\n",
       "      <td>0.001140</td>\n",
       "      <td>0.000164</td>\n",
       "      <td>0.000475</td>\n",
       "      <td>0.000302</td>\n",
       "      <td>0.000120</td>\n",
       "      <td>0.000023</td>\n",
       "      <td>0.001114</td>\n",
       "      <td>0.995279</td>\n",
       "    </tr>\n",
       "    <tr>\n",
       "      <th>ERR688508</th>\n",
       "      <td>0.001146</td>\n",
       "      <td>0.000882</td>\n",
       "      <td>0.000095</td>\n",
       "      <td>0.000330</td>\n",
       "      <td>0.000380</td>\n",
       "      <td>0.000137</td>\n",
       "      <td>0.000008</td>\n",
       "      <td>0.000856</td>\n",
       "      <td>0.995857</td>\n",
       "    </tr>\n",
       "    <tr>\n",
       "      <th>ERR688509</th>\n",
       "      <td>0.001151</td>\n",
       "      <td>0.001430</td>\n",
       "      <td>0.000098</td>\n",
       "      <td>0.000478</td>\n",
       "      <td>0.000215</td>\n",
       "      <td>0.000115</td>\n",
       "      <td>0.000005</td>\n",
       "      <td>0.001188</td>\n",
       "      <td>0.995031</td>\n",
       "    </tr>\n",
       "    <tr>\n",
       "      <th>...</th>\n",
       "      <td>...</td>\n",
       "      <td>...</td>\n",
       "      <td>...</td>\n",
       "      <td>...</td>\n",
       "      <td>...</td>\n",
       "      <td>...</td>\n",
       "      <td>...</td>\n",
       "      <td>...</td>\n",
       "      <td>...</td>\n",
       "    </tr>\n",
       "    <tr>\n",
       "      <th>ERR710428</th>\n",
       "      <td>0.000954</td>\n",
       "      <td>0.000619</td>\n",
       "      <td>0.000251</td>\n",
       "      <td>0.000372</td>\n",
       "      <td>0.000300</td>\n",
       "      <td>0.000113</td>\n",
       "      <td>0.000012</td>\n",
       "      <td>0.001155</td>\n",
       "      <td>0.995962</td>\n",
       "    </tr>\n",
       "    <tr>\n",
       "      <th>ERR710429</th>\n",
       "      <td>0.000895</td>\n",
       "      <td>0.000954</td>\n",
       "      <td>0.000154</td>\n",
       "      <td>0.000380</td>\n",
       "      <td>0.000262</td>\n",
       "      <td>0.000125</td>\n",
       "      <td>0.000021</td>\n",
       "      <td>0.000974</td>\n",
       "      <td>0.995975</td>\n",
       "    </tr>\n",
       "    <tr>\n",
       "      <th>ERR710430</th>\n",
       "      <td>0.001578</td>\n",
       "      <td>0.001207</td>\n",
       "      <td>0.000059</td>\n",
       "      <td>0.000277</td>\n",
       "      <td>0.000272</td>\n",
       "      <td>0.000135</td>\n",
       "      <td>0.000019</td>\n",
       "      <td>0.001057</td>\n",
       "      <td>0.995107</td>\n",
       "    </tr>\n",
       "    <tr>\n",
       "      <th>ERR710431</th>\n",
       "      <td>0.001161</td>\n",
       "      <td>0.000889</td>\n",
       "      <td>0.000162</td>\n",
       "      <td>0.000333</td>\n",
       "      <td>0.000258</td>\n",
       "      <td>0.000207</td>\n",
       "      <td>0.000033</td>\n",
       "      <td>0.001234</td>\n",
       "      <td>0.995444</td>\n",
       "    </tr>\n",
       "    <tr>\n",
       "      <th>ERR710432</th>\n",
       "      <td>0.001004</td>\n",
       "      <td>0.000608</td>\n",
       "      <td>0.000175</td>\n",
       "      <td>0.000271</td>\n",
       "      <td>0.000267</td>\n",
       "      <td>0.000216</td>\n",
       "      <td>0.000016</td>\n",
       "      <td>0.000992</td>\n",
       "      <td>0.996180</td>\n",
       "    </tr>\n",
       "  </tbody>\n",
       "</table>\n",
       "<p>154 rows × 9 columns</p>\n",
       "</div>"
      ],
      "text/plain": [
       "            Amidase  DD-carboxypeptidase  DD-endopeptidase  DL-endopeptidase  \\\n",
       "sample_id                                                                      \n",
       "ERR688505  0.001340             0.001220          0.000204          0.000597   \n",
       "ERR688506  0.001213             0.001103          0.000086          0.000448   \n",
       "ERR688507  0.001110             0.001140          0.000164          0.000475   \n",
       "ERR688508  0.001146             0.000882          0.000095          0.000330   \n",
       "ERR688509  0.001151             0.001430          0.000098          0.000478   \n",
       "...             ...                  ...               ...               ...   \n",
       "ERR710428  0.000954             0.000619          0.000251          0.000372   \n",
       "ERR710429  0.000895             0.000954          0.000154          0.000380   \n",
       "ERR710430  0.001578             0.001207          0.000059          0.000277   \n",
       "ERR710431  0.001161             0.000889          0.000162          0.000333   \n",
       "ERR710432  0.001004             0.000608          0.000175          0.000271   \n",
       "\n",
       "           Glucosaminidase  LD-carboxypeptidase  LD-endopeptidase  Muramidase  \\\n",
       "sample_id                                                                       \n",
       "ERR688505         0.000298             0.000161          0.000006    0.001571   \n",
       "ERR688506         0.000246             0.000144          0.000015    0.001173   \n",
       "ERR688507         0.000302             0.000120          0.000023    0.001114   \n",
       "ERR688508         0.000380             0.000137          0.000008    0.000856   \n",
       "ERR688509         0.000215             0.000115          0.000005    0.001188   \n",
       "...                    ...                  ...               ...         ...   \n",
       "ERR710428         0.000300             0.000113          0.000012    0.001155   \n",
       "ERR710429         0.000262             0.000125          0.000021    0.000974   \n",
       "ERR710430         0.000272             0.000135          0.000019    0.001057   \n",
       "ERR710431         0.000258             0.000207          0.000033    0.001234   \n",
       "ERR710432         0.000267             0.000216          0.000016    0.000992   \n",
       "\n",
       "           UNMAPPED  \n",
       "sample_id            \n",
       "ERR688505  0.994337  \n",
       "ERR688506  0.995306  \n",
       "ERR688507  0.995279  \n",
       "ERR688508  0.995857  \n",
       "ERR688509  0.995031  \n",
       "...             ...  \n",
       "ERR710428  0.995962  \n",
       "ERR710429  0.995975  \n",
       "ERR710430  0.995107  \n",
       "ERR710431  0.995444  \n",
       "ERR710432  0.996180  \n",
       "\n",
       "[154 rows x 9 columns]"
      ]
     },
     "metadata": {},
     "output_type": "display_data"
    }
   ],
   "source": [
    "# Ensure consistent ordering of rows\n",
    "metadata_774 = metadata_7774.reindex(relab_abundance_data_7774.index)\n",
    "CLR_abundance_data_7774 = CLR_abundance_data_7774.reindex(relab_abundance_data_7774.index)\n",
    "\n",
    "# Drop DACS and UC118 columnsfrom relab abundance data\n",
    "relab_abundance_data_7774.drop(columns=['Diadenylate', 'UC118'], inplace=True)\n",
    "\n",
    "display(relab_abundance_data_7774)"
   ]
  },
  {
   "cell_type": "code",
   "execution_count": 17,
   "metadata": {},
   "outputs": [
    {
     "data": {
      "text/html": [
       "<div>\n",
       "<style scoped>\n",
       "    .dataframe tbody tr th:only-of-type {\n",
       "        vertical-align: middle;\n",
       "    }\n",
       "\n",
       "    .dataframe tbody tr th {\n",
       "        vertical-align: top;\n",
       "    }\n",
       "\n",
       "    .dataframe thead th {\n",
       "        text-align: right;\n",
       "    }\n",
       "</style>\n",
       "<table border=\"1\" class=\"dataframe\">\n",
       "  <thead>\n",
       "    <tr style=\"text-align: right;\">\n",
       "      <th></th>\n",
       "      <th>sample_title</th>\n",
       "    </tr>\n",
       "    <tr>\n",
       "      <th>sample_id</th>\n",
       "      <th></th>\n",
       "    </tr>\n",
       "  </thead>\n",
       "  <tbody>\n",
       "    <tr>\n",
       "      <th>ERR688505</th>\n",
       "      <td>1</td>\n",
       "    </tr>\n",
       "    <tr>\n",
       "      <th>ERR688506</th>\n",
       "      <td>0</td>\n",
       "    </tr>\n",
       "    <tr>\n",
       "      <th>ERR688507</th>\n",
       "      <td>0</td>\n",
       "    </tr>\n",
       "    <tr>\n",
       "      <th>ERR688508</th>\n",
       "      <td>0</td>\n",
       "    </tr>\n",
       "    <tr>\n",
       "      <th>ERR688509</th>\n",
       "      <td>0</td>\n",
       "    </tr>\n",
       "    <tr>\n",
       "      <th>...</th>\n",
       "      <td>...</td>\n",
       "    </tr>\n",
       "    <tr>\n",
       "      <th>ERR710428</th>\n",
       "      <td>0</td>\n",
       "    </tr>\n",
       "    <tr>\n",
       "      <th>ERR710429</th>\n",
       "      <td>0</td>\n",
       "    </tr>\n",
       "    <tr>\n",
       "      <th>ERR710430</th>\n",
       "      <td>0</td>\n",
       "    </tr>\n",
       "    <tr>\n",
       "      <th>ERR710431</th>\n",
       "      <td>0</td>\n",
       "    </tr>\n",
       "    <tr>\n",
       "      <th>ERR710432</th>\n",
       "      <td>0</td>\n",
       "    </tr>\n",
       "  </tbody>\n",
       "</table>\n",
       "<p>154 rows × 1 columns</p>\n",
       "</div>"
      ],
      "text/plain": [
       "           sample_title\n",
       "sample_id              \n",
       "ERR688505             1\n",
       "ERR688506             0\n",
       "ERR688507             0\n",
       "ERR688508             0\n",
       "ERR688509             0\n",
       "...                 ...\n",
       "ERR710428             0\n",
       "ERR710429             0\n",
       "ERR710430             0\n",
       "ERR710431             0\n",
       "ERR710432             0\n",
       "\n",
       "[154 rows x 1 columns]"
      ]
     },
     "metadata": {},
     "output_type": "display_data"
    }
   ],
   "source": [
    "display(metadata_774)"
   ]
  },
  {
   "cell_type": "code",
   "execution_count": 13,
   "metadata": {},
   "outputs": [
    {
     "name": "stdout",
     "output_type": "stream",
     "text": [
      "Training set shape: (123, 9) (123,)\n",
      "Test set shape: (31, 9) (31,)\n",
      "Training set shape: (123, 8) (123,)\n",
      "Test set shape: (31, 8) (31,)\n"
     ]
    }
   ],
   "source": [
    "# Split the data into training, validation, and test sets\n",
    "X_train, X_test, y_train, y_test = train_test_split(relab_abundance_data_7774, metadata_774['sample_title'], test_size=0.2, \n",
    "                                                    random_state=42)\n",
    "\n",
    "# Split the data into training, validation, and test sets\n",
    "X_train_CLR, X_test_CLR, y_train_CLR, y_test_CLR = train_test_split(CLR_abundance_data_7774, metadata_774['sample_title'], test_size=0.2, \n",
    "                                                    random_state=42)\n",
    "\n",
    "# Print the shapes of the resulting dataframes\n",
    "print(\"Training set shape:\", X_train.shape, y_train.shape)\n",
    "#print(\"Validation set shape:\", X_val.shape, y_val.shape)\n",
    "print(\"Test set shape:\", X_test.shape, y_test.shape)\n",
    "\n",
    "# Print the shapes of the resulting dataframes\n",
    "print(\"Training set shape:\", X_train_CLR.shape, y_train_CLR.shape)\n",
    "#print(\"Validation set shape:\", X_val.shape, y_val.shape)\n",
    "print(\"Test set shape:\", X_test_CLR.shape, y_test_CLR.shape)\n",
    "\n",
    "# display(X_train)\n",
    "# display(X_train_CLR)\n"
   ]
  },
  {
   "cell_type": "code",
   "execution_count": 14,
   "metadata": {},
   "outputs": [
    {
     "name": "stdout",
     "output_type": "stream",
     "text": [
      "Fitting 5 folds for each of 216 candidates, totalling 1080 fits\n",
      "Best parameters: {'max_depth': None, 'max_features': 'sqrt', 'min_samples_leaf': 4, 'min_samples_split': 2, 'n_estimators': 50}\n"
     ]
    }
   ],
   "source": [
    "rf_relab = RandomForestClassifier(random_state=42)\n",
    "\n",
    "param_grid = {\n",
    "    'n_estimators': [50, 100, 200],\n",
    "    'max_features': ['sqrt', 'log2'],\n",
    "    'max_depth': [None, 10, 20, 30],\n",
    "    'min_samples_split': [2, 5, 10],\n",
    "    'min_samples_leaf': [1, 2, 4]\n",
    "}\n",
    "\n",
    "grid_search = GridSearchCV(estimator=rf_relab, param_grid=param_grid, \n",
    "                           cv=5, n_jobs=-1, verbose=2, scoring='accuracy')\n",
    "\n",
    "grid_search.fit(X_train, y_train)\n",
    "\n",
    "best_params = grid_search.best_params_\n",
    "\n",
    "print(f\"Best parameters: {best_params}\")\n",
    "\n",
    "# Best parameters: {'max_depth': None, 'max_features': 'sqrt', 'min_samples_leaf': 2, 'min_samples_split': 2, 'n_estimators': 100}"
   ]
  },
  {
   "cell_type": "code",
   "execution_count": 18,
   "metadata": {},
   "outputs": [],
   "source": [
    "# Using the best parameters from grid search\n",
    "best_params = {\n",
    "    'max_depth': None, \n",
    "    'max_features': 'sqrt', \n",
    "    'min_samples_leaf': 4, \n",
    "    'min_samples_split': 2, \n",
    "    'n_estimators': 50,\n",
    "    'random_state': 42 \n",
    "}\n",
    "\n",
    "# Create and train the model\n",
    "rf_model = RandomForestClassifier(**best_params)\n",
    "rf_model.fit(X_train, y_train)\n",
    "\n",
    "# Make predictions on the test set\n",
    "y_pred = rf_model.predict(X_test)\n",
    "\n",
    "# Predict the probabilities for the test set\n",
    "y_prob = rf_model.predict_proba(X_test)[:, 1]"
   ]
  },
  {
   "cell_type": "code",
   "execution_count": 19,
   "metadata": {},
   "outputs": [
    {
     "name": "stdout",
     "output_type": "stream",
     "text": [
      "Accuracy: 0.6451612903225806\n",
      "F1 Score: 0.26666666666666666\n",
      "ROC AUC: 0.5772727272727273\n"
     ]
    }
   ],
   "source": [
    "# # Calculate multivariate metrics\n",
    "# accuracy = accuracy_score(y_test, y_pred)\n",
    "# f1_micro = f1_score(y_test, y_pred, average='micro')\n",
    "# f1_macro = f1_score(y_test, y_pred, average='macro')\n",
    "# f1_weighted = f1_score(y_test, y_pred, average='weighted')\n",
    "# roc_auc = roc_auc_score(y_test, y_prob, multi_class='ovo')\n",
    "\n",
    "# print(f\"Accuracy: {accuracy}\")\n",
    "# print(f\"F1 Micro: {f1_micro}, F1 Macro: {f1_macro}, F1 Weighted: {f1_weighted}\")\n",
    "# print(f\"ROC AUC: {roc_auc}\")\n",
    "\n",
    "# Calculate metrics\n",
    "accuracy = accuracy_score(y_test, y_pred)\n",
    "f1 = f1_score(y_test, y_pred)\n",
    "roc_auc = roc_auc_score(y_test, y_prob)\n",
    "\n",
    "print(f\"Accuracy: {accuracy}\")\n",
    "print(f\"F1 Score: {f1}\")\n",
    "print(f\"ROC AUC: {roc_auc}\")"
   ]
  },
  {
   "cell_type": "code",
   "execution_count": 20,
   "metadata": {},
   "outputs": [
    {
     "data": {
      "image/png": "[encoded data removed]",
      "text/plain": [
       "<Figure size 800x600 with 1 Axes>"
      ]
     },
     "metadata": {},
     "output_type": "display_data"
    }
   ],
   "source": [
    "# Calculate ROC curve\n",
    "fpr, tpr, thresholds = roc_curve(y_test, y_prob)\n",
    "\n",
    "# Plot ROC curve\n",
    "plt.figure(figsize=(8, 6))\n",
    "plt.plot(fpr, tpr, label=f'ROC curve (area = {roc_auc:.2f})')\n",
    "plt.plot([0, 1], [0, 1], color='navy', linestyle='--')\n",
    "plt.xlim([0.0, 1.0])\n",
    "plt.ylim([0.0, 1.05])\n",
    "plt.xlabel('False Positive Rate')\n",
    "plt.ylabel('True Positive Rate')\n",
    "plt.title('Receiver Operating Characteristic')\n",
    "plt.legend(loc=\"lower right\")\n",
    "plt.show()"
   ]
  },
  {
   "cell_type": "code",
   "execution_count": 21,
   "metadata": {},
   "outputs": [
    {
     "data": {
      "image/png": "[encoded data removed]",
      "text/plain": [
       "<Figure size 640x480 with 2 Axes>"
      ]
     },
     "metadata": {},
     "output_type": "display_data"
    }
   ],
   "source": [
    "# Calculate confusion matrix\n",
    "cm = confusion_matrix(y_test, y_pred)\n",
    "\n",
    "labels = ['Control', 'Case']\n",
    "\n",
    "\n",
    "# Plot confusion matrix\n",
    "disp = ConfusionMatrixDisplay(confusion_matrix=cm, display_labels=labels)\n",
    "disp.plot(cmap=plt.cm.Blues)\n",
    "plt.savefig('confusion_matrix.png', dpi=300)"
   ]
  },
  {
   "cell_type": "code",
   "execution_count": null,
   "metadata": {},
   "outputs": [],
   "source": []
  },
  {
   "cell_type": "code",
   "execution_count": null,
   "metadata": {},
   "outputs": [],
   "source": [
    "rf_clr = RandomForestClassifier(random_state=42)\n",
    "\n",
    "param_grid = {\n",
    "    'n_estimators': [50, 100, 200],\n",
    "    'max_features': ['auto', 'sqrt', 'log2'],\n",
    "    'max_depth': [None, 10, 20, 30],\n",
    "    'min_samples_split': [2, 5, 10],\n",
    "    'min_samples_leaf': [1, 2, 4]\n",
    "}\n",
    "\n",
    "grid_search = GridSearchCV(estimator=rf_clr, param_grid=param_grid, \n",
    "                           cv=5, n_jobs=-1, verbose=2, scoring='accuracy')\n",
    "\n",
    "grid_search.fit(X_train_CLR, y_train_CLR)\n",
    "\n",
    "best_params = grid_search.best_params_\n",
    "\n",
    "print(f\"Best parameters: {best_params}\")"
   ]
  },
  {
   "cell_type": "code",
   "execution_count": null,
   "metadata": {},
   "outputs": [],
   "source": [
    "# Using the best parameters from grid search\n",
    "best_params = {\n",
    "    'max_depth': None, \n",
    "    'max_features': 'sqrt', \n",
    "    'min_samples_leaf': 2, \n",
    "    'min_samples_split': 2, \n",
    "    'n_estimators': 100,\n",
    "    'random_state': 42 \n",
    "}\n",
    "\n",
    "# Create and train the model\n",
    "rf_model = RandomForestClassifier(**best_params)\n",
    "rf_model.fit(X_train, y_train)\n",
    "\n",
    "# Make predictions on the test set\n",
    "y_pred = rf_model.predict(X_test)\n",
    "\n",
    "# Predict the probabilities for the test set\n",
    "y_prob = rf_model.predict_proba(X_test)"
   ]
  },
  {
   "cell_type": "code",
   "execution_count": null,
   "metadata": {},
   "outputs": [],
   "source": [
    "# Calculate metrics\n",
    "accuracy = accuracy_score(y_test, y_pred)\n",
    "f1_micro = f1_score(y_test, y_pred, average='micro')\n",
    "f1_macro = f1_score(y_test, y_pred, average='macro')\n",
    "f1_weighted = f1_score(y_test, y_pred, average='weighted')\n",
    "roc_auc = roc_auc_score(y_test, y_prob, multi_class='ovo')\n",
    "\n",
    "print(f\"Accuracy: {accuracy}\")\n",
    "print(f\"F1 Micro: {f1_micro}, F1 Macro: {f1_macro}, F1 Weighted: {f1_weighted}\")\n",
    "print(f\"ROC AUC: {roc_auc}\")"
   ]
  },
  {
   "cell_type": "code",
   "execution_count": null,
   "metadata": {},
   "outputs": [],
   "source": []
  },
  {
   "cell_type": "markdown",
   "metadata": {},
   "source": [
    "**<span style=\"font-size:larger;\">PCA Analysis</span>**\n"
   ]
  },
  {
   "cell_type": "code",
   "execution_count": 19,
   "metadata": {},
   "outputs": [],
   "source": [
    "features = abundance_data_7774.drop('sample_title', axis=1)\n",
    "labels = abundance_data_7774['sample_title']"
   ]
  },
  {
   "cell_type": "code",
   "execution_count": 20,
   "metadata": {},
   "outputs": [],
   "source": [
    "# Apply PCA\n",
    "pca = PCA(n_components=2)\n",
    "abundance_data_pca = pca.fit_transform(features)"
   ]
  },
  {
   "cell_type": "code",
   "execution_count": 21,
   "metadata": {},
   "outputs": [],
   "source": [
    "principalDf = pd.DataFrame(data=abundance_data_pca, columns=['PC1', 'PC2'])\n",
    "principalDf['Label'] = labels.values"
   ]
  },
  {
   "cell_type": "code",
   "execution_count": 23,
   "metadata": {},
   "outputs": [
    {
     "data": {
      "image/png": "[encoded data removed]",
      "text/plain": [
       "<Figure size 640x480 with 1 Axes>"
      ]
     },
     "metadata": {},
     "output_type": "display_data"
    }
   ],
   "source": [
    "# Plot the principal components, colored by label\n",
    "fig, ax = plt.subplots()\n",
    "\n",
    "colors = {'Adenoma': 'red', 'Control': 'blue', 'Carcinoma': 'green'}\n",
    "\n",
    "# Plot each label as a different color\n",
    "for label, color in colors.items():\n",
    "    indicesToKeep = principalDf['Label'] == label\n",
    "    ax.scatter(principalDf.loc[indicesToKeep, 'PC1'],\n",
    "               principalDf.loc[indicesToKeep, 'PC2'],\n",
    "               c=color,\n",
    "               s=50,\n",
    "               label=label)  # Add label for legend\n",
    "\n",
    "# Label axes\n",
    "ax.set_xlabel('Principal Component 1')\n",
    "ax.set_ylabel('Principal Component 2')\n",
    "ax.set_title('2 Component PCA')\n",
    "\n",
    "# Show legend\n",
    "ax.legend()\n",
    "\n",
    "# Show plot\n",
    "plt.show()"
   ]
  }
 ],
 "metadata": {
  "kernelspec": {
   "display_name": "Python 3",
   "language": "python",
   "name": "python3"
  },
  "language_info": {
   "codemirror_mode": {
    "name": "ipython",
    "version": 3
   },
   "file_extension": ".py",
   "mimetype": "text/x-python",
   "name": "python",
   "nbconvert_exporter": "python",
   "pygments_lexer": "ipython3",
   "version": "3.11.2"
  }
 },
 "nbformat": 4,
 "nbformat_minor": 2
}
