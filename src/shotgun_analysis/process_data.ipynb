{
 "cells": [
  {
   "cell_type": "code",
   "execution_count": 1,
   "metadata": {},
   "outputs": [],
   "source": [
    "from humann_functions import *\n",
    "import pandas as pd\n",
    "import importlib"
   ]
  },
  {
   "cell_type": "code",
   "execution_count": 3,
   "metadata": {},
   "outputs": [
    {
     "data": {
      "text/plain": [
       "'C:\\\\Users\\\\odesa\\\\Desktop\\\\CRCFinal\\\\PRJEB10878\\\\clean_joined_genefamilies_relab'"
      ]
     },
     "execution_count": 3,
     "metadata": {},
     "output_type": "execute_result"
    }
   ],
   "source": [
    "# import and clean PRJEB10878 for PGHs\n",
    "\n",
    "df = clean_table('C:\\\\Users\\\\odesa\\\\Desktop\\\\CRCFinal\\\\PRJEB10878\\\\joined_genefamilies_relab.tsv')\n",
    "\n",
    "make_outputs(df, 'C:\\\\Users\\\\odesa\\\\Desktop\\\\CRCFinal\\\\PRJEB10878\\\\clean_joined_genefamilies_relab')"
   ]
  },
  {
   "cell_type": "code",
   "execution_count": 4,
   "metadata": {},
   "outputs": [
    {
     "data": {
      "text/plain": [
       "'C:\\\\Users\\\\odesa\\\\Desktop\\\\CRCFinal\\\\PRJEB10878\\\\clean_joined_DAC_genefamilies_relab'"
      ]
     },
     "execution_count": 4,
     "metadata": {},
     "output_type": "execute_result"
    }
   ],
   "source": [
    "# import and clean PRJEB10878 for DACs\n",
    "\n",
    "df = clean_table('C:\\\\Users\\\\odesa\\\\Desktop\\\\CRCFinal\\\\PRJEB10878\\\\joined_DAC_genefamilies_relab.tsv')\n",
    "\n",
    "make_outputs(df, 'C:\\\\Users\\\\odesa\\\\Desktop\\\\CRCFinal\\\\PRJEB10878\\\\clean_joined_DAC_genefamilies_relab')"
   ]
  },
  {
   "cell_type": "code",
   "execution_count": 5,
   "metadata": {},
   "outputs": [
    {
     "data": {
      "text/plain": [
       "'C:\\\\Users\\\\odesa\\\\Desktop\\\\CRCFinal\\\\PRJEB10878\\\\PRJEB10878_metadata'"
      ]
     },
     "execution_count": 5,
     "metadata": {},
     "output_type": "execute_result"
    }
   ],
   "source": [
    "# import metadata for PRJEB10878\n",
    "\n",
    "df = pd.read_csv('C:\\\\Users\\\\odesa\\\\Desktop\\\\CRCFinal\\\\PRJEB10878\\\\SraRunTable.txt')\n",
    "\n",
    "# select the Run and config columns\n",
    "\n",
    "df = df[['Run', 'config']]\n",
    "\n",
    "# print(df.head(20))\n",
    "\n",
    "make_outputs(df, 'C:\\\\Users\\\\odesa\\\\Desktop\\\\CRCFinal\\\\PRJEB10878\\\\PRJEB10878_metadata')\n"
   ]
  },
  {
   "cell_type": "code",
   "execution_count": 4,
   "metadata": {},
   "outputs": [
    {
     "data": {
      "text/plain": [
       "'C:\\\\Users\\\\odesa\\\\OneDrive - University of Toronto\\\\CRC\\\\LatestDataJan\\\\PRJEB7774\\\\clean_joined_genefamilies_relab_7774'"
      ]
     },
     "execution_count": 4,
     "metadata": {},
     "output_type": "execute_result"
    }
   ],
   "source": [
    "# import and clean PRJEB7774 data\n",
    "\n",
    "df = clean_table('C:\\\\Users\\\\odesa\\\\OneDrive - University of Toronto\\\\CRC\\\\LatestDataJan\\\\PRJEB7774\\\\joined_genefamilies_relab_7774.tsv')\n",
    "\n",
    "make_outputs(df, 'C:\\\\Users\\\\odesa\\\\OneDrive - University of Toronto\\\\CRC\\\\LatestDataJan\\\\PRJEB7774\\\\clean_joined_genefamilies_relab_7774')"
   ]
  },
  {
   "cell_type": "code",
   "execution_count": 7,
   "metadata": {},
   "outputs": [
    {
     "data": {
      "text/plain": [
       "'C:\\\\Users\\\\odesa\\\\OneDrive - University of Toronto\\\\CRC\\\\LatestDataJan\\\\PRJEB7774\\\\PRJEB7774_metadata'"
      ]
     },
     "execution_count": 7,
     "metadata": {},
     "output_type": "execute_result"
    }
   ],
   "source": [
    "# Import metadata for PRJEB7774\n",
    "\n",
    "df = pd.read_csv('C:\\\\Users\\\\odesa\\\\OneDrive - University of Toronto\\\\CRC\\\\LatestDataJan\\\\PRJEB7774\\\\filereport_read_run_PRJEB7774_tsv.txt', sep='\\t')\n",
    "\n",
    "df = df[['run_accession', 'sample_title']]\n",
    "\n",
    "# Replace targets with simpler identifiers\n",
    "replacements = {'Stool sample from advanced adenoma': 'Adenoma', 'Stool sample from carcinoma': 'Carcinoma',\n",
    "                'Stool sample from controls': 'Control'}\n",
    "\n",
    "df['sample_title'] = df['sample_title'].replace(replacements)\n",
    "\n",
    "make_outputs(df, 'C:\\\\Users\\\\odesa\\\\OneDrive - University of Toronto\\\\CRC\\\\LatestDataJan\\\\PRJEB7774\\\\PRJEB7774_metadata')\n"
   ]
  },
  {
   "cell_type": "code",
   "execution_count": 6,
   "metadata": {},
   "outputs": [],
   "source": [
    "# Parse metadata from DRA006684\n",
    "\n",
    "xml_to_spreadsheet_sample('/home/oliver/CRC-Final/src/shotgun_analysis/DRA006684.sample.xml', '/home/oliver/CRC-Final/src/DRA006684.sample.csv')\n",
    "\n",
    "# Parse metadata from DRA008156\n",
    "\n",
    "xml_to_spreadsheet_sample('/home/oliver/CRC-Final/src/shotgun_analysis/DRA008156.sample.xml', '/home/oliver/CRC-Final/src/DRA008156.sample.csv')"
   ]
  },
  {
   "cell_type": "code",
   "execution_count": 3,
   "metadata": {},
   "outputs": [],
   "source": [
    "xml_to_spreadsheet_run('/home/oliver/CRC-Final/src/metadata_creation/DRA008156.run.xml', '/home/oliver/CRC-Final/src/metadata_creation/DRA008156.run.csv')"
   ]
  },
  {
   "cell_type": "code",
   "execution_count": null,
   "metadata": {},
   "outputs": [],
   "source": [
    "run_info = pd.read_csv('/home/oliver/CRC-Final/src/metadata_creation/DRA008156.run.csv')\n",
    "\n",
    "run_info['Title'] = run_info['Title'].apply(lambda x: x.split(' ')[7])\n",
    "\n"
   ]
  },
  {
   "cell_type": "code",
   "execution_count": 5,
   "metadata": {},
   "outputs": [],
   "source": [
    "run_info.to_csv('/home/oliver/CRC-Final/src/metadata_creation/DRA008156.run.csv')\n"
   ]
  },
  {
   "cell_type": "code",
   "execution_count": 19,
   "metadata": {},
   "outputs": [],
   "source": [
    "sample_info = pd.read_csv('/home/oliver/CRC-Final/src/metadata_creation/DRA008156.sample.csv')\n",
    "\n",
    "sample_info.rename(columns={'BioSample ID': 'Title'}, inplace=True)\n",
    "\n",
    "# join the dataframes on the Title column\n",
    "\n",
    "sample_and_run_info = pd.merge(run_info, sample_info, on='Title')\n"
   ]
  },
  {
   "cell_type": "code",
   "execution_count": 20,
   "metadata": {},
   "outputs": [],
   "source": [
    "patient_metadata = pd.read_csv('/home/oliver/CRC-Final/src/metadata_creation/DRA008156_metadata.csv')\n",
    "\n",
    "patient_metadata.rename(columns={'Subject_ID': 'sample_name'}, inplace=True)\n"
   ]
  },
  {
   "cell_type": "code",
   "execution_count": 22,
   "metadata": {},
   "outputs": [],
   "source": [
    "sample_and_run_info['sample_name'] = sample_and_run_info['sample_name'].astype(int)\n",
    "\n",
    "patient_metadata['sample_name'] = patient_metadata['sample_name'].astype(int)\n"
   ]
  },
  {
   "cell_type": "code",
   "execution_count": 23,
   "metadata": {},
   "outputs": [],
   "source": [
    "master_metadata = pd.merge(sample_and_run_info, patient_metadata, on=\"sample_name\")"
   ]
  },
  {
   "cell_type": "code",
   "execution_count": null,
   "metadata": {},
   "outputs": [],
   "source": [
    "master_metadata.to_csv('/home/oliver/CRC-Final/src/metadata_creation/DRA008156_metadata_final.csv')"
   ]
  },
  {
   "cell_type": "code",
   "execution_count": 3,
   "metadata": {},
   "outputs": [
    {
     "data": {
      "text/plain": [
       "'C:\\\\Users\\\\odesa\\\\OneDrive - University of Toronto\\\\CRC\\\\LatestDataJan\\\\DRA008156\\\\clean_joined_genefamilies_relab_DRA008156'"
      ]
     },
     "execution_count": 3,
     "metadata": {},
     "output_type": "execute_result"
    }
   ],
   "source": [
    "df = clean_table('C:\\\\Users\\\\odesa\\\\OneDrive - University of Toronto\\\\CRC\\\\LatestDataJan\\\\DRA008156\\\\joined_genefamilies_relab_DRA008156.tsv')\n",
    "\n",
    "make_outputs(df, 'C:\\\\Users\\\\odesa\\\\OneDrive - University of Toronto\\\\CRC\\\\LatestDataJan\\\\DRA008156\\\\clean_joined_genefamilies_relab_DRA008156')"
   ]
  },
  {
   "cell_type": "code",
   "execution_count": 31,
   "metadata": {},
   "outputs": [],
   "source": [
    "# Clean metadata table for processing in R\n",
    "\n",
    "df = pd.read_csv('C:\\\\Users\\\\odesa\\\\OneDrive - University of Toronto\\\\CRC\\\\LatestDataJan\\\\DRA008156\\\\DRA008156_metadata_complete.tsv', sep='\\t')\n"
   ]
  },
  {
   "cell_type": "code",
   "execution_count": 32,
   "metadata": {},
   "outputs": [
    {
     "name": "stdout",
     "output_type": "stream",
     "text": [
      "['Early Stage' 'Healthy' 'HS' 'MP' 'Late Stage']\n"
     ]
    }
   ],
   "source": [
    "case_values = df['Group'].unique()\n",
    "\n",
    "print(case_values)"
   ]
  },
  {
   "cell_type": "code",
   "execution_count": 33,
   "metadata": {},
   "outputs": [],
   "source": [
    "value_map = {\n",
    "    'Healthy': 'Healthy',\n",
    "    'HS': 'Healthy',\n",
    "    'Early Stage': 'Cancer',\n",
    "    'Late Stage': 'Cancer',\n",
    "    'MP': 'Healthy'\n",
    "}\n",
    "\n",
    "df['Group'] = df['Group'].map(value_map)"
   ]
  },
  {
   "cell_type": "code",
   "execution_count": 34,
   "metadata": {},
   "outputs": [
    {
     "name": "stdout",
     "output_type": "stream",
     "text": [
      "Group\n",
      "Healthy    359\n",
      "Cancer     286\n",
      "Name: count, dtype: int64\n"
     ]
    }
   ],
   "source": [
    "value_counts = df['Group'].value_counts()\n",
    "\n",
    "print(value_counts)\n",
    "\n",
    "# Group\n",
    "# Healthy        252\n",
    "# Early Stage    204\n",
    "# Late Stage      82\n",
    "# MP              67\n",
    "# HS              40\n",
    "\n",
    "# Group\n",
    "# Healthy    359\n",
    "# Cancer     286"
   ]
  },
  {
   "cell_type": "code",
   "execution_count": 35,
   "metadata": {},
   "outputs": [],
   "source": [
    "df.fillna('NA', inplace=True)"
   ]
  },
  {
   "cell_type": "code",
   "execution_count": 36,
   "metadata": {},
   "outputs": [
    {
     "data": {
      "text/plain": [
       "'C:\\\\Users\\\\odesa\\\\OneDrive - University of Toronto\\\\CRC\\\\LatestDataJan\\\\DRA008156\\\\DRA008156_metadata_complete'"
      ]
     },
     "execution_count": 36,
     "metadata": {},
     "output_type": "execute_result"
    }
   ],
   "source": [
    "make_outputs(df, 'C:\\\\Users\\\\odesa\\\\OneDrive - University of Toronto\\\\CRC\\\\LatestDataJan\\\\DRA008156\\\\DRA008156_metadata_complete')"
   ]
  },
  {
   "cell_type": "code",
   "execution_count": 6,
   "metadata": {},
   "outputs": [
    {
     "data": {
      "text/plain": [
       "'C:\\\\Users\\\\odesa\\\\OneDrive - University of Toronto\\\\CRC\\\\LatestDataJan\\\\PRJEB10878\\\\clean_joined_genefamilies_relab_10878'"
      ]
     },
     "execution_count": 6,
     "metadata": {},
     "output_type": "execute_result"
    }
   ],
   "source": [
    "# Clean PRJEB10878 data for clustering and DA\n",
    "\n",
    "# df = clean_table(\"C:\\\\Users\\\\odesa\\\\OneDrive - University of Toronto\\\\CRC\\\\LatestDataJan\\\\PRJEB10878\\\\joined_genefamilies_relab.tsv\")\n",
    "\n",
    "make_outputs(df, \"C:\\\\Users\\\\odesa\\\\OneDrive - University of Toronto\\\\CRC\\\\LatestDataJan\\\\PRJEB10878\\\\clean_joined_genefamilies_relab_10878\")"
   ]
  },
  {
   "cell_type": "markdown",
   "metadata": {},
   "source": [
    "**Loading and Processing Bariatric Data**"
   ]
  },
  {
   "cell_type": "code",
   "execution_count": 3,
   "metadata": {},
   "outputs": [
    {
     "data": {
      "text/plain": [
       "'/media/oliver/PGH_Backup/bariatric/clean_joined_genefamilies_relab_bariatric'"
      ]
     },
     "execution_count": 3,
     "metadata": {},
     "output_type": "execute_result"
    }
   ],
   "source": [
    "# df = clean_table('E:/bariatric/joined_genefamilies_relab_bariatric.tsv')\n",
    "\n",
    "df = clean_table('/media/oliver/PGH_Backup/bariatric/joined_genefamilies_relab_bariatric.tsv')\n",
    "\n",
    "make_outputs(df, '/media/oliver/PGH_Backup/bariatric/clean_joined_genefamilies_relab_bariatric')"
   ]
  },
  {
   "cell_type": "markdown",
   "metadata": {},
   "source": [
    "**Loading and Processing ICI Data**"
   ]
  },
  {
   "cell_type": "code",
   "execution_count": 4,
   "metadata": {},
   "outputs": [
    {
     "data": {
      "text/plain": [
       "'E:\\\\ICI\\\\ici_humann\\\\clean_joined_PRJEB22893_relab'"
      ]
     },
     "execution_count": 4,
     "metadata": {},
     "output_type": "execute_result"
    }
   ],
   "source": [
    "# Clean and make outputs for PRJEB22893\n",
    "\n",
    "df = clean_table('E:\\\\ICI\\\\ici_humann\\\\PRJEB22893_humann_genefamilies_relab.tsv')\n",
    "\n",
    "make_outputs(df, 'E:\\\\ICI\\\\ici_humann\\\\clean_joined_PRJEB22893_relab')"
   ]
  },
  {
   "cell_type": "code",
   "execution_count": 10,
   "metadata": {},
   "outputs": [],
   "source": [
    "metadata_22893 = pd.read_excel('E:\\\\ICI\\\\ici_humann\\\\metadata\\\\PRJEB22893_metadata.ods', engine='odf')\n",
    "\n",
    "make_outputs(metadata_22893, 'E:\\\\ICI\\\\ici_humann\\\\metadata\\\\PRJEB22893_metadata')"
   ]
  },
  {
   "cell_type": "code",
   "execution_count": 13,
   "metadata": {},
   "outputs": [
    {
     "data": {
      "text/plain": [
       "'E:\\\\ICI\\\\ici_humann\\\\clean_joined_PRJNA399742_relab'"
      ]
     },
     "execution_count": 13,
     "metadata": {},
     "output_type": "execute_result"
    }
   ],
   "source": [
    "# Clean and make outputs for PRJNA399742\n",
    "\n",
    "df = clean_table('E:\\\\ICI\\\\ici_humann\\\\PRJNA399742_humann_genefamilies_relab.tsv')\n",
    "\n",
    "make_outputs(df, 'E:\\\\ICI\\\\ici_humann\\\\clean_joined_PRJNA399742_relab')"
   ]
  },
  {
   "cell_type": "code",
   "execution_count": 14,
   "metadata": {},
   "outputs": [
    {
     "data": {
      "text/plain": [
       "'E:\\\\ICI\\\\ici_humann\\\\metadata\\\\PRJNA399742_metadata'"
      ]
     },
     "execution_count": 14,
     "metadata": {},
     "output_type": "execute_result"
    }
   ],
   "source": [
    "metadata_399742 = pd.read_excel('E:\\\\ICI\\\\ici_humann\\\\metadata\\\\PRJNA399742_metadata.ods', engine='odf')\n",
    "\n",
    "make_outputs(metadata_399742, 'E:\\\\ICI\\\\ici_humann\\\\metadata\\\\PRJNA399742_metadata')"
   ]
  },
  {
   "cell_type": "markdown",
   "metadata": {},
   "source": [
    "**Clean metadata and gene data for large ICI trial PRJEB70966 & PRJEB43119**"
   ]
  },
  {
   "cell_type": "code",
   "execution_count": null,
   "metadata": {},
   "outputs": [],
   "source": [
    "run_map1 = pd.read_csv('E:\\\\ICI\\\\\\\\metadata\\\\ena_sra-run_20240415-1500.tsv', sep='\\t')\n",
    "\n",
    "run_map2 = pd.read_csv('E:\\\\ICI\\\\metadata\\\\ena_sra-run_20240415-1501.tsv', sep='\\t')\n",
    "\n",
    "combined_runmap = pd.concat([run_map1, run_map2], ignore_index=True)\n",
    "\n",
    "display(combined_runmap)\n"
   ]
  },
  {
   "cell_type": "code",
   "execution_count": null,
   "metadata": {},
   "outputs": [],
   "source": [
    "combined_runmap['description'] = combined_runmap['description'].apply(lambda x: x.split(' ')[4])\n",
    "\n",
    "print(combined_runmap.head())  \n",
    "\n",
    "combined_runmap.rename(columns={'description': 'sampleid'}, inplace=True)\n",
    "\n",
    "print(combined_runmap.head())  \n",
    "\n"
   ]
  },
  {
   "cell_type": "code",
   "execution_count": 5,
   "metadata": {},
   "outputs": [],
   "source": [
    "baseline_survival = pd.read_csv('E:\\\\ICI\\\\metadata\\\\mdat_baseline_survival.csv')\n",
    "\n",
    "longi_pibble = pd.read_csv('E:\\\\ICI\\\\metadata\\\\mdat_longi_pibble.csv')\n"
   ]
  },
  {
   "cell_type": "code",
   "execution_count": 6,
   "metadata": {},
   "outputs": [
    {
     "name": "stdout",
     "output_type": "stream",
     "text": [
      "(147, 18) (408, 20)\n"
     ]
    }
   ],
   "source": [
    "print(baseline_survival.shape, longi_pibble.shape)"
   ]
  },
  {
   "cell_type": "code",
   "execution_count": null,
   "metadata": {},
   "outputs": [],
   "source": [
    "merged_df_baseline = pd.merge(baseline_survival, combined_runmap, on='sampleid', how='left')\n",
    "\n",
    "display(merged_df_baseline.head())\n"
   ]
  },
  {
   "cell_type": "code",
   "execution_count": null,
   "metadata": {},
   "outputs": [],
   "source": [
    "merged_df_longi = pd.merge(longi_pibble, combined_runmap, on='sampleid', how='left')\n",
    "\n",
    "display(merged_df_longi.head())"
   ]
  },
  {
   "cell_type": "code",
   "execution_count": 9,
   "metadata": {},
   "outputs": [],
   "source": [
    "# merged_df_baseline.to_csv('E:\\\\ICI\\\\metadata\\\\mdat_baseline_survival_merged.csv')\n",
    "\n",
    "# merged_df_longi.to_csv('E:\\\\ICI\\\\metadata\\\\mdat_longi_pibble_merged.csv')"
   ]
  },
  {
   "cell_type": "markdown",
   "metadata": {},
   "source": [
    "**Cluster and Group the 70966 and 43119 Abundance Data**"
   ]
  },
  {
   "cell_type": "code",
   "execution_count": 3,
   "metadata": {},
   "outputs": [
    {
     "data": {
      "text/plain": [
       "'~/Downloads/clean_joined_70966_43119'"
      ]
     },
     "execution_count": 3,
     "metadata": {},
     "output_type": "execute_result"
    }
   ],
   "source": [
    "# Clean and make outputs for ICI trial abundance data\n",
    "\n",
    "df = clean_table('~/Downloads/relab_joined_70966_43119.tsv')\n",
    "\n",
    "make_outputs(df, '~/Downloads/clean_joined_70966_43119')"
   ]
  },
  {
   "cell_type": "markdown",
   "metadata": {},
   "source": [
    "**Cluster and Group the GEM Shallow Cohort Data**"
   ]
  },
  {
   "cell_type": "code",
   "execution_count": 4,
   "metadata": {},
   "outputs": [
    {
     "data": {
      "text/plain": [
       "'E:\\\\gem\\\\genefamilies\\\\clean_all_shallow_gems_genefamilies_relab'"
      ]
     },
     "execution_count": 4,
     "metadata": {},
     "output_type": "execute_result"
    }
   ],
   "source": [
    "df_gem = clean_table(\"E:\\\\gem\\\\genefamilies\\\\all_shallow_gems_genefamilies_relab.tsv\") \n",
    "\n",
    "make_outputs(df_gem, 'E:\\\\gem\\\\genefamilies\\\\clean_all_shallow_gems_genefamilies_relab')"
   ]
  },
  {
   "cell_type": "code",
   "execution_count": 2,
   "metadata": {},
   "outputs": [
    {
     "name": "stdout",
     "output_type": "stream",
     "text": [
      "360 DL-endopeptidase found\n",
      "3741 LD-carboxypeptidase found\n",
      "37 LD-endopeptidase found\n",
      "2353 Glucosaminidase found\n",
      "11537 DD-carboxypeptidase found\n",
      "2397 DD-endopeptidase found\n",
      "20529 Amidase found\n",
      "26605 Muramidase found\n",
      "No Saga found\n",
      "No UC118 found\n"
     ]
    }
   ],
   "source": [
    "clean_gem, clean_gem_info = cluster_humann_table_improved('E:\\\\gem\\\\genefamilies\\\\clean_all_shallow_gems_genefamilies_relab.feather',  \"../../data/clustering/cluster_maps/combined_clusters.tsv\")"
   ]
  },
  {
   "cell_type": "code",
   "execution_count": 3,
   "metadata": {},
   "outputs": [
    {
     "ename": "ValueError",
     "evalue": "Duplicate column names found: ['DL-endopeptidase-A0A0B0HUJ2', 'DL-endopeptidase-A0A0P8W7Z2', 'DL-endopeptidase-A0A132HN74', 'DL-endopeptidase-A0A132I0H7', 'DL-endopeptidase-A0A174CGJ4', 'DL-endopeptidase-A0A174M4B0', 'DL-endopeptidase-A0A174TDS3', 'DL-endopeptidase-A0A1C5KMM8', 'DL-endopeptidase-A0A1C5KNH6', 'DL-endopeptidase-A0A1C5PVP3', 'DL-endopeptidase-A0A1C5Q6A7', 'DL-endopeptidase-A0A1C5VJV2', 'DL-endopeptidase-A0A1C5WD06', 'DL-endopeptidase-A0A1C6FAW9', 'DL-endopeptidase-A0A1C6G745', 'DL-endopeptidase-A0A1I0DL10', 'DL-endopeptidase-A0A1I3GQ51', 'DL-endopeptidase-A0A1V5YPB2', 'DL-endopeptidase-A0A1V6BVN9', 'DL-endopeptidase-A0A1Y6AQ80', 'DL-endopeptidase-A0A259UIB8', 'DL-endopeptidase-A0A259UPD7', 'DL-endopeptidase-A0A2W7MNT1', 'DL-endopeptidase-A0A348AMN4', 'DL-endopeptidase-A0A4R7RUE4', 'DL-endopeptidase-A0A518C016', 'DL-endopeptidase-A0A564W7U7', 'DL-endopeptidase-A0A6N2TU31', 'DL-endopeptidase-A0A6N3BHG0', 'DL-endopeptidase-A0A6N3I5I0', 'DL-endopeptidase-A0A7U9R122', 'DL-endopeptidase-A0A7U9SHV5', 'DL-endopeptidase-A0A829ZMP2', 'DL-endopeptidase-C0D0G2', 'DL-endopeptidase-L8DHP6', 'DL-endopeptidase-R5ATJ0', 'DL-endopeptidase-R5N6Z6', 'DL-endopeptidase-R6MIH8', 'DL-endopeptidase-R6YTV6', 'DL-endopeptidase-R7C958', 'DL-endopeptidase-R7HVK1', 'unclustered', 'LD-carboxypeptidase-A0A0D1L643', 'LD-carboxypeptidase-A0A0G1MST7', 'LD-carboxypeptidase-A0A0J1ISN8', 'LD-carboxypeptidase-A0A108T442', 'LD-carboxypeptidase-A0A147KAH7', 'LD-carboxypeptidase-A0A1E3AR66', 'LD-carboxypeptidase-A0A1G0GV85', 'LD-carboxypeptidase-A0A1I0QSS3', 'LD-carboxypeptidase-A0A1I2ZTD4', 'LD-carboxypeptidase-A0A1V4T031', 'LD-carboxypeptidase-A0A1V5Q4F1', 'LD-carboxypeptidase-A0A1W6KC51', 'LD-carboxypeptidase-A0A2C6E889', 'LD-carboxypeptidase-A0A2E9X5T2', 'LD-carboxypeptidase-A0A2V2CDK1', 'LD-carboxypeptidase-A0A2V9NRA2', 'LD-carboxypeptidase-A0A2W4N8B6', 'LD-carboxypeptidase-A0A317QD51', 'LD-carboxypeptidase-A0A379B1A7', 'LD-carboxypeptidase-A0A380P0X3', 'LD-carboxypeptidase-A0A380XUM0', 'LD-carboxypeptidase-A0A3D0YST2', 'LD-carboxypeptidase-A0A3D3KCN0', 'LD-carboxypeptidase-A0A3E3E572', 'LD-carboxypeptidase-A0A401YQJ4', 'LD-carboxypeptidase-A0A523Q9X9', 'LD-carboxypeptidase-A0A543A0R1', 'LD-carboxypeptidase-A0A5C1Q7L6', 'LD-carboxypeptidase-A0A5K1I9X5', 'LD-carboxypeptidase-A0A660MZL1', 'LD-carboxypeptidase-A0A6A0IMM5', 'LD-carboxypeptidase-A0A6I1MJ35', 'LD-carboxypeptidase-A0A7D5MQW5', 'LD-carboxypeptidase-A0A7U4WW17', 'LD-carboxypeptidase-A0A7W1YUM5', 'LD-carboxypeptidase-A0A7X7CCE1', 'LD-carboxypeptidase-A0A7X7FE45', 'LD-carboxypeptidase-A0A7X7QSS1', 'LD-carboxypeptidase-A0A7X8WLE8', 'LD-carboxypeptidase-A0A811IE54', 'LD-carboxypeptidase-A0A828RRP0', 'LD-carboxypeptidase-A0A844GDF8', 'LD-carboxypeptidase-C9N182', 'LD-carboxypeptidase-D0W5Q5', 'LD-carboxypeptidase-R5H9T8', 'LD-carboxypeptidase-nan', 'unclustered', 'unclustered', 'Glucosaminidase-A0A031IDF1', 'Glucosaminidase-A0A069RIP0', 'Glucosaminidase-A0A0M0VNU9', 'Glucosaminidase-A0A0S2DKP3', 'Glucosaminidase-A0A173TGS3', 'Glucosaminidase-A0A174D5Y6', 'Glucosaminidase-A0A174DAB8', 'Glucosaminidase-A0A174F7D0', 'Glucosaminidase-A0A174IZW4', 'Glucosaminidase-A0A174LS49', 'Glucosaminidase-A0A174P1K1', 'Glucosaminidase-A0A1C4F0M8', 'Glucosaminidase-A0A1C5L9S3', 'Glucosaminidase-A0A1C5QA98', 'Glucosaminidase-A0A1C5VT36', 'Glucosaminidase-A0A1C5XSX6', 'Glucosaminidase-A0A1C5YF09', 'Glucosaminidase-A0A1C5Z9X0', 'Glucosaminidase-A0A1C6D969', 'Glucosaminidase-A0A1C6H8R9', 'Glucosaminidase-A0A1D4PPZ9', 'Glucosaminidase-A0A1F1KUJ3', 'Glucosaminidase-A0A1H0T8H2', 'Glucosaminidase-A0A1H2Z0U0', 'Glucosaminidase-A0A1I1ZQ20', 'Glucosaminidase-A0A1I2NKJ3', 'Glucosaminidase-A0A1I3K6S5', 'Glucosaminidase-A0A1K1P5S6', 'Glucosaminidase-A0A1M6GBW1', 'Glucosaminidase-A0A1S8NJE1', 'Glucosaminidase-A0A1S8TTI0', 'Glucosaminidase-A0A1T4VMW3', 'Glucosaminidase-A0A1V4IKH7', 'Glucosaminidase-A0A1V4SU15', 'Glucosaminidase-A0A1Y3WIU4', 'Glucosaminidase-A0A242ASC8', 'Glucosaminidase-A0A242BET2', 'Glucosaminidase-A0A255U393', 'Glucosaminidase-A0A286TBS1', 'Glucosaminidase-A0A2E9R175', 'Glucosaminidase-A0A2P2BVU5', 'Glucosaminidase-A0A2S0UAV6', 'Glucosaminidase-A0A2S3U8E0', 'Glucosaminidase-A0A2T3QJ39', 'Glucosaminidase-A0A2T6K1D7', 'Glucosaminidase-A0A2U2EEE4', 'Glucosaminidase-A0A2U3RZE3', 'Glucosaminidase-A0A2V3VWI7', 'Glucosaminidase-A0A2X4TWA9', 'Glucosaminidase-A0A2Z4IUI6', 'Glucosaminidase-A0A2Z5VGM9', 'Glucosaminidase-A0A318KKH9', 'Glucosaminidase-A0A318MMB0', 'Glucosaminidase-A0A351ADY8', 'Glucosaminidase-A0A376TZ39', 'Glucosaminidase-A0A377E257', 'Glucosaminidase-A0A377FWM0', 'Glucosaminidase-A0A379AHB8', 'Glucosaminidase-A0A380E319', 'Glucosaminidase-A0A380LML7', 'Glucosaminidase-A0A3R9K960', 'Glucosaminidase-A0A3R9QFF2', 'Glucosaminidase-A0A3S4IAF0', 'Glucosaminidase-A0A428AQY0', 'Glucosaminidase-A0A428E113', 'Glucosaminidase-A0A428I2T2', 'Glucosaminidase-A0A485AMI6', 'Glucosaminidase-A0A4J1SYG3', 'Glucosaminidase-A0A4R0UIH4', 'Glucosaminidase-A0A4R0V501', 'Glucosaminidase-A0A4R1L6A7', 'Glucosaminidase-A0A4R2LZN7', 'Glucosaminidase-A0A4R3J4M3', 'Glucosaminidase-A0A4R3KCG4', 'Glucosaminidase-A0A4U9D433', 'Glucosaminidase-A0A4V2SL39', 'Glucosaminidase-A0A4Y3VQ71', 'Glucosaminidase-A0A5P3IEM7', 'Glucosaminidase-A0A650MU22', 'Glucosaminidase-A0A6G7ZBN2', 'Glucosaminidase-A0A6N2RZA5', 'Glucosaminidase-A0A7C1VDL4', 'Glucosaminidase-A0A7T0PE87', 'Glucosaminidase-A0A7U6QWL4', 'Glucosaminidase-A0A7Y5B4C8', 'Glucosaminidase-A0A809N6U3', 'Glucosaminidase-A0A822LKY6', 'Glucosaminidase-A0A829H7U9', 'Glucosaminidase-A0A855GEP2', 'Glucosaminidase-A1IHD1', 'Glucosaminidase-A4ITC8', 'Glucosaminidase-A6ERN7', 'Glucosaminidase-B0M9G9', 'Glucosaminidase-C2EH32', 'Glucosaminidase-C2EVX7', 'Glucosaminidase-C2PUY2', 'Glucosaminidase-C5EPD4', 'Glucosaminidase-C6LIN5', 'Glucosaminidase-C9B8X0', 'Glucosaminidase-D7J6K9', 'Glucosaminidase-E4KQG4', 'Glucosaminidase-E5VFB3', 'Glucosaminidase-G5K3P9', 'Glucosaminidase-G5KCX5', 'Glucosaminidase-H0U4F0', 'Glucosaminidase-J7CVT0', 'Glucosaminidase-L1QEA6', 'Glucosaminidase-M7MUC1', 'Glucosaminidase-Q2SV66', 'Glucosaminidase-R5U3B0', 'Glucosaminidase-R5UHX4', 'Glucosaminidase-R5XUB8', 'Glucosaminidase-R6C641', 'Glucosaminidase-R6D0B5', 'Glucosaminidase-R6JF01', 'Glucosaminidase-R6MBQ9', 'Glucosaminidase-R6RW29', 'Glucosaminidase-R6SXL5', 'Glucosaminidase-R6VPZ4', 'Glucosaminidase-R7I4L6', 'Glucosaminidase-S6EJE2', 'Glucosaminidase-T0E765', 'Glucosaminidase-T1WGN1', 'Glucosaminidase-U2T162', 'Glucosaminidase-U6RX90', 'Glucosaminidase-U7ULZ9', 'Glucosaminidase-W4P4D8', 'Glucosaminidase-nan', 'unclustered', 'DD-carboxypeptidase-A0A090R9T9', 'DD-carboxypeptidase-A0A091C383', 'DD-carboxypeptidase-A0A0P7WXT7', 'DD-carboxypeptidase-A0A0S2PEW3', 'DD-carboxypeptidase-A0A0T9Q4J1', 'DD-carboxypeptidase-A0A136MDS1', 'DD-carboxypeptidase-A0A139RKZ9', 'DD-carboxypeptidase-A0A159Z0V5', 'DD-carboxypeptidase-A0A173SXF8', 'DD-carboxypeptidase-A0A174LTW7', 'DD-carboxypeptidase-A0A174LYR8', 'DD-carboxypeptidase-A0A174V5H5', 'DD-carboxypeptidase-A0A1A9C453', 'DD-carboxypeptidase-A0A1C0VFZ5', 'DD-carboxypeptidase-A0A1C3J0Z3', 'DD-carboxypeptidase-A0A1C5LH51', 'DD-carboxypeptidase-A0A1C5ZJ20', 'DD-carboxypeptidase-A0A1C6H3C2', 'DD-carboxypeptidase-A0A1C6KKW6', 'DD-carboxypeptidase-A0A1E3W6P6', 'DD-carboxypeptidase-A0A1G2IYF1', 'DD-carboxypeptidase-A0A1G6RCT9', 'DD-carboxypeptidase-A0A1G6RER6', 'DD-carboxypeptidase-A0A1G7N0U6', 'DD-carboxypeptidase-A0A1G8EUZ3', 'DD-carboxypeptidase-A0A1H4KCD0', 'DD-carboxypeptidase-A0A1I1MXD1', 'DD-carboxypeptidase-A0A1I6ZPS0', 'DD-carboxypeptidase-A0A1M5MRY1', 'DD-carboxypeptidase-A0A1M7GAP3', 'DD-carboxypeptidase-A0A1N6LUX6', 'DD-carboxypeptidase-A0A1Q2CHA6', 'DD-carboxypeptidase-A0A1Q6LGJ1', 'DD-carboxypeptidase-A0A1Q6QQ59', 'DD-carboxypeptidase-A0A1Q9JVE2', 'DD-carboxypeptidase-A0A1R1SMN3', 'DD-carboxypeptidase-A0A1S8L9Y7', 'DD-carboxypeptidase-A0A1V5DYL7', 'DD-carboxypeptidase-A0A1V5P587', 'DD-carboxypeptidase-A0A1V5QVV9', 'DD-carboxypeptidase-A0A1V5SBF9', 'DD-carboxypeptidase-A0A1V5X3P0', 'DD-carboxypeptidase-A0A1V9VC09', 'DD-carboxypeptidase-A0A1W1V6H8', 'DD-carboxypeptidase-A0A1W9KMP0', 'DD-carboxypeptidase-A0A1Y4MJD3', 'DD-carboxypeptidase-A0A249LE24', 'DD-carboxypeptidase-A0A272EWR4', 'DD-carboxypeptidase-A0A2A7IKU2', 'DD-carboxypeptidase-A0A2G6MBS6', 'DD-carboxypeptidase-A0A2P6ML67', 'DD-carboxypeptidase-A0A2S6SYE8', 'DD-carboxypeptidase-A0A2S8KF42', 'DD-carboxypeptidase-A0A2U3MQN8', 'DD-carboxypeptidase-A0A2V9T716', 'DD-carboxypeptidase-A0A2W4PXU4', 'DD-carboxypeptidase-A0A2X3U5A0', 'DD-carboxypeptidase-A0A2X3U8F1', 'DD-carboxypeptidase-A0A316PCN6', 'DD-carboxypeptidase-A0A349Q945', 'DD-carboxypeptidase-A0A366FRF3', 'DD-carboxypeptidase-A0A369P8F3', 'DD-carboxypeptidase-A0A374BHZ0', 'DD-carboxypeptidase-A0A374NV70', 'DD-carboxypeptidase-A0A376KXG0', 'DD-carboxypeptidase-A0A376RLE8', 'DD-carboxypeptidase-A0A377DMK2', 'DD-carboxypeptidase-A0A377W4R6', 'DD-carboxypeptidase-A0A377XNE3', 'DD-carboxypeptidase-A0A378AHG2', 'DD-carboxypeptidase-A0A378EEC0', 'DD-carboxypeptidase-A0A378G239', 'DD-carboxypeptidase-A0A379BD30', 'DD-carboxypeptidase-A0A379FEM7', 'DD-carboxypeptidase-A0A379U1R6', 'DD-carboxypeptidase-A0A379WDN8', 'DD-carboxypeptidase-A0A380E108', 'DD-carboxypeptidase-A0A380K364', 'DD-carboxypeptidase-A0A3A9G105', 'DD-carboxypeptidase-A0A3B9JHN5', 'DD-carboxypeptidase-A0A3D5PDC1', 'DD-carboxypeptidase-A0A3D9L5Q8', 'DD-carboxypeptidase-A0A3E3E6W8', 'DD-carboxypeptidase-A0A3N0I4M4', 'DD-carboxypeptidase-A0A3P1WU16', 'DD-carboxypeptidase-A0A3P8KP37', 'DD-carboxypeptidase-A0A3R9H3A0', 'DD-carboxypeptidase-A0A3S4HG07', 'DD-carboxypeptidase-A0A3S4I3R5', 'DD-carboxypeptidase-A0A413H312', 'DD-carboxypeptidase-A0A414MAG5', 'DD-carboxypeptidase-A0A415DTS0', 'DD-carboxypeptidase-A0A416IU48', 'DD-carboxypeptidase-A0A416ZZD6', 'DD-carboxypeptidase-A0A447JKI8', 'DD-carboxypeptidase-A0A447RSB1', 'DD-carboxypeptidase-A0A447RSI8', 'DD-carboxypeptidase-A0A484ZMW2', 'DD-carboxypeptidase-A0A484ZV02', 'DD-carboxypeptidase-A0A485AFX9', 'DD-carboxypeptidase-A0A485B5S5', 'DD-carboxypeptidase-A0A485JCH6', 'DD-carboxypeptidase-A0A4P0UDW6', 'DD-carboxypeptidase-A0A4P8IH93', 'DD-carboxypeptidase-A0A4Q0AIA1', 'DD-carboxypeptidase-A0A4Q3CKM9', 'DD-carboxypeptidase-A0A4R8HNK7', 'DD-carboxypeptidase-A0A4U9HH08', 'DD-carboxypeptidase-A0A4U9ITZ3', 'DD-carboxypeptidase-A0A4V2RHZ3', 'DD-carboxypeptidase-A0A535ERD0', 'DD-carboxypeptidase-A0A538G3W9', 'DD-carboxypeptidase-A0A538U787', 'DD-carboxypeptidase-A0A542ZE06', 'DD-carboxypeptidase-A0A562ICL0', 'DD-carboxypeptidase-A0A564TVH4', 'DD-carboxypeptidase-A0A5C5V2E1', 'DD-carboxypeptidase-A0A5J4E6H9', 'DD-carboxypeptidase-A0A660KWX8', 'DD-carboxypeptidase-A0A660SPQ0', 'DD-carboxypeptidase-A0A663BP17', 'DD-carboxypeptidase-A0A6C0Q4I4', 'DD-carboxypeptidase-A0A6H3TM56', 'DD-carboxypeptidase-A0A6J4P204', 'DD-carboxypeptidase-A0A6L9G7Z4', 'DD-carboxypeptidase-A0A6N2X415', 'DD-carboxypeptidase-A0A6N2Z4U7', 'DD-carboxypeptidase-A0A7C5DJG4', 'DD-carboxypeptidase-A0A7C6YP48', 'DD-carboxypeptidase-A0A7D5SBJ3', 'DD-carboxypeptidase-A0A7J9W7Q1', 'DD-carboxypeptidase-A0A7V2JNQ2', 'DD-carboxypeptidase-A0A7V5N9K8', 'DD-carboxypeptidase-A0A7W0F5M9', 'DD-carboxypeptidase-A0A7W0QN99', 'DD-carboxypeptidase-A0A7W8H7C0', 'DD-carboxypeptidase-A0A7X3VGL9', 'DD-carboxypeptidase-A0A7X5DBR2', 'DD-carboxypeptidase-A0A7X8JS66', 'DD-carboxypeptidase-A0A7X9HWB6', 'DD-carboxypeptidase-A0A7Y6HIQ6', 'DD-carboxypeptidase-A0A7Z9I726', 'DD-carboxypeptidase-A0A826HES1', 'DD-carboxypeptidase-A0A839IQ00', 'DD-carboxypeptidase-A0A840P717', 'DD-carboxypeptidase-A0A844DZI0', 'DD-carboxypeptidase-A0A847KV57', 'DD-carboxypeptidase-A0A850QT51', 'DD-carboxypeptidase-A0A850SRV6', 'DD-carboxypeptidase-A0A853IPX3', 'DD-carboxypeptidase-A0A8B5XJT8', 'DD-carboxypeptidase-C2SUM1', 'DD-carboxypeptidase-C2WUE5', 'DD-carboxypeptidase-D4MMG2', 'DD-carboxypeptidase-D6E7C8', 'DD-carboxypeptidase-D7GNX4', 'DD-carboxypeptidase-G5KFZ6', 'DD-carboxypeptidase-I4C2Y9', 'DD-carboxypeptidase-K6Q8H8', 'DD-carboxypeptidase-K9TH29', 'DD-carboxypeptidase-M1ULY0', 'DD-carboxypeptidase-M7NSZ5', 'DD-carboxypeptidase-N4W678', 'DD-carboxypeptidase-Q59439', 'DD-carboxypeptidase-R5AND2', 'DD-carboxypeptidase-R5H8T8', 'DD-carboxypeptidase-R5NGN0', 'DD-carboxypeptidase-R5PUW3', 'DD-carboxypeptidase-R5V930', 'DD-carboxypeptidase-R6TSS7', 'DD-carboxypeptidase-R6Z7X6', 'DD-carboxypeptidase-R7A918', 'DD-carboxypeptidase-R7FCR3', 'DD-carboxypeptidase-R7H1N8', 'DD-carboxypeptidase-S3H7H7', 'DD-carboxypeptidase-S7SW74', 'DD-carboxypeptidase-S9R355', 'DD-carboxypeptidase-T0CFX8', 'DD-carboxypeptidase-T0THQ0', 'DD-carboxypeptidase-T4VPV1', 'DD-carboxypeptidase-U2ZIB4', 'DD-carboxypeptidase-W1DKQ9', 'DD-carboxypeptidase-X0PBS9', 'DD-carboxypeptidase-X8FBX9', 'DD-carboxypeptidase-nan', 'unclustered', 'DD-endopeptidase-A0A0B0HVF0', 'DD-endopeptidase-A0A0F0LBM7', 'DD-endopeptidase-A0A0J1ISN8', 'DD-endopeptidase-A0A0M6W7K1', 'DD-endopeptidase-A0A0P0FS44', 'DD-endopeptidase-A0A1B3JEG5', 'DD-endopeptidase-A0A1E3AR66', 'DD-endopeptidase-A0A1E3GX92', 'DD-endopeptidase-A0A1H2PS24', 'DD-endopeptidase-A0A1H3K3D0', 'DD-endopeptidase-A0A1H3QPG5', 'DD-endopeptidase-A0A1I0X3M1', 'DD-endopeptidase-A0A1I2BHE0', 'DD-endopeptidase-A0A1I3N976', 'DD-endopeptidase-A0A1K1XJB1', 'DD-endopeptidase-A0A1M5WS42', 'DD-endopeptidase-A0A1M5YFS9', 'DD-endopeptidase-A0A1M6ZCE9', 'DD-endopeptidase-A0A1M7P1H2', 'DD-endopeptidase-A0A1T4XY29', 'DD-endopeptidase-A0A1V4I7J1', 'DD-endopeptidase-A0A1V4W5I9', 'DD-endopeptidase-A0A1V5J2I4', 'DD-endopeptidase-A0A1V5UA40', 'DD-endopeptidase-A0A1V5W530', 'DD-endopeptidase-A0A1V5YP57', 'DD-endopeptidase-A0A1V6AT74', 'DD-endopeptidase-A0A1V6JQ50', 'DD-endopeptidase-A0A1W1YNH7', 'DD-endopeptidase-A0A1W1YRP3', 'DD-endopeptidase-A0A1W5DML3', 'DD-endopeptidase-A0A259UPC1', 'DD-endopeptidase-A0A285KPF1', 'DD-endopeptidase-A0A2C8YRG0', 'DD-endopeptidase-A0A2H5WJW2', 'DD-endopeptidase-A0A2H6IPM4', 'DD-endopeptidase-A0A2K4ZCZ0', 'DD-endopeptidase-A0A2N9PAQ0', 'DD-endopeptidase-A0A2S5R7M0', 'DD-endopeptidase-A0A2U1U6C5', 'DD-endopeptidase-A0A2W1JF76', 'DD-endopeptidase-A0A375AC43', 'DD-endopeptidase-A0A377JJH8', 'DD-endopeptidase-A0A377TWP0', 'DD-endopeptidase-A0A399F503', 'DD-endopeptidase-A0A3S4IL82', 'DD-endopeptidase-A0A447RLB1', 'DD-endopeptidase-A0A455VMB8', 'DD-endopeptidase-A0A4R6R5S4', 'DD-endopeptidase-A0A660C7S5', 'DD-endopeptidase-A0A6F9ZJR2', 'DD-endopeptidase-A0A6L5C0G8', 'DD-endopeptidase-A0A6N2R5C5', 'DD-endopeptidase-A0A6N2T3S1', 'DD-endopeptidase-A0A6N2Z9Y8', 'DD-endopeptidase-A0A6N3CAN2', 'DD-endopeptidase-A0A6N3CYY7', 'DD-endopeptidase-A0A6N3DZJ8', 'DD-endopeptidase-A0A6N3FL01', 'DD-endopeptidase-A0A6N3GDT2', 'DD-endopeptidase-A0A6N3HF07', 'DD-endopeptidase-A0A7H4NFM5', 'DD-endopeptidase-A0A7H4NFM7', 'DD-endopeptidase-A0A7H4P036', 'DD-endopeptidase-A0A7U9RH74', 'DD-endopeptidase-A0A7U9RTZ0', 'DD-endopeptidase-A0A7W3XSQ6', 'DD-endopeptidase-A0A7W6MNB0', 'DD-endopeptidase-A0A7W7EZV7', 'DD-endopeptidase-A0A7W7EZY2', 'DD-endopeptidase-A0A7W8ZVP2', 'DD-endopeptidase-A0A7W9ZAP9', 'DD-endopeptidase-A0A829ZGS3', 'DD-endopeptidase-A0A839NA17', 'DD-endopeptidase-A0A839SRP5', 'DD-endopeptidase-A0A839YXT0', 'DD-endopeptidase-A0A840A4A9', 'DD-endopeptidase-A0A840CU08', 'DD-endopeptidase-A0A840V6T9', 'DD-endopeptidase-A0A841PLY4', 'DD-endopeptidase-A0A852RAH9', 'DD-endopeptidase-A0A8B6ISD1', 'DD-endopeptidase-B6VLI3', 'DD-endopeptidase-nan', 'Amidase-A0A015UH29', 'Amidase-A0A017NBB5', 'Amidase-A0A024GY02', 'Amidase-A0A062BTC2', 'Amidase-A0A072N4U2', 'Amidase-A0A072Y8E9', 'Amidase-A0A077FDY1', 'Amidase-A0A081BJ85', 'Amidase-A0A084JCH1', 'Amidase-A0A085W079', 'Amidase-A0A087D016', 'Amidase-A0A087DHD9', 'Amidase-A0A098CXV0', 'Amidase-A0A0A7FY91', 'Amidase-A0A0B0HK70', 'Amidase-A0A0D1JDY3', 'Amidase-A0A0D1LZ26', 'Amidase-A0A0E1KSA8', 'Amidase-A0A0E8SZE3', 'Amidase-A0A0G0CCG0', 'Amidase-A0A0G0YHS7', 'Amidase-A0A0G1KR24', 'Amidase-A0A0G3A1E9', 'Amidase-A0A0J1FV79', 'Amidase-A0A0J1FXL9', 'Amidase-A0A0K1L1A7', 'Amidase-A0A0N0UWP8', 'Amidase-A0A0Q9B0T8', 'Amidase-A0A0R1FVN4', 'Amidase-A0A0R1KHR0', 'Amidase-A0A0R1SRI3', 'Amidase-A0A0R2AB19', 'Amidase-A0A0S6U251', 'Amidase-A0A0U5BA96', 'Amidase-A0A0V8C0V8', 'Amidase-A0A0V8CZN4', 'Amidase-A0A0V8DV25', 'Amidase-A0A109LBF6', 'Amidase-A0A127SWP4', 'Amidase-A0A133QC30', 'Amidase-A0A139MHB2', 'Amidase-A0A139PDD9', 'Amidase-A0A139PRF0', 'Amidase-A0A139R807', 'Amidase-A0A139RHN0', 'Amidase-A0A143WQS9', 'Amidase-A0A143YBH3', 'Amidase-A0A150KZN0', 'Amidase-A0A158SK15', 'Amidase-A0A161YNG5', 'Amidase-A0A166TT70', 'Amidase-A0A169PQX9', 'Amidase-A0A173XLG2', 'Amidase-A0A174HCM0', 'Amidase-A0A174V1B3', 'Amidase-A0A174XEP7', 'Amidase-A0A178IKK0', 'Amidase-A0A178TU57', 'Amidase-A0A178X8J9', 'Amidase-A0A193QHI5', 'Amidase-A0A1B9L178', 'Amidase-A0A1C5N059', 'Amidase-A0A1C6BH18', 'Amidase-A0A1C6ET88', 'Amidase-A0A1C6G934', 'Amidase-A0A1C6IGR4', 'Amidase-A0A1C6JPP0', 'Amidase-A0A1C6K4X4', 'Amidase-A0A1D3TP38', 'Amidase-A0A1E5GRD6', 'Amidase-A0A1E7G6F3', 'Amidase-A0A1F1R3E2', 'Amidase-A0A1F9RZG5', 'Amidase-A0A1G0H9T4', 'Amidase-A0A1G2F1W6', 'Amidase-A0A1G5XMQ8', 'Amidase-A0A1G9N1Y1', 'Amidase-A0A1G9R1B4', 'Amidase-A0A1H1YDW9', 'Amidase-A0A1H3QAV4', 'Amidase-A0A1H3SQU2', 'Amidase-A0A1H6USN8', 'Amidase-A0A1H7HT27', 'Amidase-A0A1H8AKG4', 'Amidase-A0A1H8PCX1', 'Amidase-A0A1I0GGG7', 'Amidase-A0A1I1DKS8', 'Amidase-A0A1I7F2B8', 'Amidase-A0A1J0TQA8', 'Amidase-A0A1M4WFY9', 'Amidase-A0A1M6AI56', 'Amidase-A0A1M6H5K2', 'Amidase-A0A1Q3S3W8', 'Amidase-A0A1Q5PUK4', 'Amidase-A0A1Q6TM79', 'Amidase-A0A1R4GAF5', 'Amidase-A0A1S8SVE6', 'Amidase-A0A1V2KL28', 'Amidase-A0A1V5IY25', 'Amidase-A0A1V5P9L7', 'Amidase-A0A1V6A5C0', 'Amidase-A0A1V6CBR5', 'Amidase-A0A1V9IRZ0', 'Amidase-A0A1W6MX80', 'Amidase-A0A1W7ABN8', 'Amidase-A0A1X7QVK9', 'Amidase-A0A1X9MHQ9', 'Amidase-A0A1Y2K9D2', 'Amidase-A0A1Y4EN81', 'Amidase-A0A220U202', 'Amidase-A0A233V2B9', 'Amidase-A0A233V5Y8', 'Amidase-A0A233VWG4', 'Amidase-A0A233W6K7', 'Amidase-A0A239IHU5', 'Amidase-A0A243GSF0', 'Amidase-A0A246JE87', 'Amidase-A0A250IAJ5', 'Amidase-A0A261GNJ8', 'Amidase-A0A268TMA5', 'Amidase-A0A269XKT4', 'Amidase-A0A288GUM4', 'Amidase-A0A2A5SDN1', 'Amidase-A0A2D0BGD7', 'Amidase-A0A2D5EVF5', 'Amidase-A0A2D6BJD8', 'Amidase-A0A2E9I252', 'Amidase-A0A2H0QCB0', 'Amidase-A0A2H1NS27', 'Amidase-A0A2H5ZS40', 'Amidase-A0A2I1PH08', 'Amidase-A0A2I3EU51', 'Amidase-A0A2I8AIV3', 'Amidase-A0A2K9P053', 'Amidase-A0A2M7A5W4', 'Amidase-A0A2N3I6X9', 'Amidase-A0A2N5GVE0', 'Amidase-A0A2N6UEJ0', 'Amidase-A0A2R8C4N2', 'Amidase-A0A2S5HEZ7', 'Amidase-A0A2S8JGS3', 'Amidase-A0A2T0BP98', 'Amidase-A0A2T0BSM7', 'Amidase-A0A2T4SEC3', 'Amidase-A0A2V3YDB3', 'Amidase-A0A2V8K4Z1', 'Amidase-A0A2V8S043', 'Amidase-A0A2V9WNN9', 'Amidase-A0A2W2GLL7', 'Amidase-A0A2W5XFD7', 'Amidase-A0A2X0QZY0', 'Amidase-A0A2X0RE73', 'Amidase-A0A2X0VPM4', 'Amidase-A0A2X1QJJ0', 'Amidase-A0A2X3CU47', 'Amidase-A0A2X4N3T0', 'Amidase-A0A2X5CLD8', 'Amidase-A0A315Y564', 'Amidase-A0A316E1D1', 'Amidase-A0A316SD96', 'Amidase-A0A318EIU5', 'Amidase-A0A330LGV3', 'Amidase-A0A347ZW42', 'Amidase-A0A348ZD10', 'Amidase-A0A349D4R6', 'Amidase-A0A349HAM4', 'Amidase-A0A352WFF5', 'Amidase-A0A367ZUP3', 'Amidase-A0A371S018', 'Amidase-A0A373D171', 'Amidase-A0A373D712', 'Amidase-A0A373D8A2', 'Amidase-A0A373IZC1', 'Amidase-A0A374AB68', 'Amidase-A0A374BQD9', 'Amidase-A0A374E5V1', 'Amidase-A0A374IQI0', 'Amidase-A0A374NA86', 'Amidase-A0A374RF09', 'Amidase-A0A374VU40', 'Amidase-A0A376L2A3', 'Amidase-A0A376L3D5', 'Amidase-A0A376L9K0', 'Amidase-A0A376VGL9', 'Amidase-A0A376ZL45', 'Amidase-A0A377AEW0', 'Amidase-A0A377AFF2', 'Amidase-A0A377ARD5', 'Amidase-A0A377BU28', 'Amidase-A0A377CDU1', 'Amidase-A0A377FMP1', 'Amidase-A0A377K170', 'Amidase-A0A377K339', 'Amidase-A0A377PCJ9', 'Amidase-A0A377PEK5', 'Amidase-A0A377TYT2', 'Amidase-A0A378AI88', 'Amidase-A0A378AP80', 'Amidase-A0A378BE14', 'Amidase-A0A379WQ87', 'Amidase-A0A380E2C2', 'Amidase-A0A380EFW6', 'Amidase-A0A380EPW8', 'Amidase-A0A380FIS5', 'Amidase-A0A380KPZ1', 'Amidase-A0A385NSM3', 'Amidase-A0A388PG48', 'Amidase-A0A395YJQ6', 'Amidase-A0A395YRS9', 'Amidase-A0A396PDF8', 'Amidase-A0A399IPU6', 'Amidase-A0A399IT86', 'Amidase-A0A3A8UJG0', 'Amidase-A0A3B7DG18', 'Amidase-A0A3C1EJV6', 'Amidase-A0A3D1V589', 'Amidase-A0A3D3U8F8', 'Amidase-A0A3D4R4K2', 'Amidase-A0A3D6ABC2', 'Amidase-A0A3E0KKG9', 'Amidase-A0A3E4PZL9', 'Amidase-A0A3G1J182', 'Amidase-A0A3M1TWX2', 'Amidase-A0A3M2BRK7', 'Amidase-A0A3M5V7X2', 'Amidase-A0A3M5WFZ3', 'Amidase-A0A3M6PPG7', 'Amidase-A0A3N2CW57', 'Amidase-A0A3N2K3H7', 'Amidase-A0A3N5B293', 'Amidase-A0A3P1V5J5', 'Amidase-A0A3R6L668', 'Amidase-A0A3R6RNK4', 'Amidase-A0A3R6T0U5', 'Amidase-A0A3R6U3R8', 'Amidase-A0A3R6UTV7', 'Amidase-A0A3R6V5M3', 'Amidase-A0A3R9GUJ3', 'Amidase-A0A3R9HRN6', 'Amidase-A0A3R9L190', 'Amidase-A0A3R9N950', 'Amidase-A0A3S4VPW1', 'Amidase-A0A412HLN3', 'Amidase-A0A413FTU5', 'Amidase-A0A413RG41', 'Amidase-A0A413TDI8', 'Amidase-A0A414T839', 'Amidase-A0A415TCM1', 'Amidase-A0A416ERY2', 'Amidase-A0A416VUU7', 'Amidase-A0A416ZWG9', 'Amidase-A0A417AD96', 'Amidase-A0A417AYZ1', 'Amidase-A0A417DHI3', 'Amidase-A0A417ENV1', 'Amidase-A0A417SAG9', 'Amidase-A0A417VMT3', 'Amidase-A0A419GEF5', 'Amidase-A0A427ZV69', 'Amidase-A0A432L6Q0', 'Amidase-A0A433EEN9', 'Amidase-A0A446IA63', 'Amidase-A0A447JKD1', 'Amidase-A0A447NND8', 'Amidase-A0A447TW82', 'Amidase-A0A447TYH6', 'Amidase-A0A448A9B8', 'Amidase-A0A448QT76', 'Amidase-A0A455SSC1', 'Amidase-A0A455T3E6', 'Amidase-A0A485AN42', 'Amidase-A0A485CCP0', 'Amidase-A0A495A1K4', 'Amidase-A0A496N986', 'Amidase-A0A4P8HAK8', 'Amidase-A0A4Q5YDB4', 'Amidase-A0A4Q7DNX7', 'Amidase-A0A4R2L1Y6', 'Amidase-A0A4R2RC55', 'Amidase-A0A4S3PJS1', 'Amidase-A0A4U8Q727', 'Amidase-A0A4U9D676', 'Amidase-A0A4U9D6H0', 'Amidase-A0A4U9DAW4', 'Amidase-A0A4U9HI93', 'Amidase-A0A4U9HUU1', 'Amidase-A0A4V0ET45', 'Amidase-A0A4V2R1G3', 'Amidase-A0A4V3BEQ8', 'Amidase-A0A4V6JH64', 'Amidase-A0A4V6LWM3', 'Amidase-A0A4Y1ZF83', 'Amidase-A0A4Y8KZE2', 'Amidase-A0A4Y8X0Y5', 'Amidase-A0A510WEK9', 'Amidase-A0A521KP95', 'Amidase-A0A523VD41', 'Amidase-A0A534TJ56', 'Amidase-A0A535HK62', 'Amidase-A0A535X4W3', 'Amidase-A0A536S610', 'Amidase-A0A538FG86', 'Amidase-A0A538PWY1', 'Amidase-A0A559UAY2', 'Amidase-A0A562HLZ4', 'Amidase-A0A563BFR8', 'Amidase-A0A564SMW6', 'Amidase-A0A5B7XAL7', 'Amidase-A0A5C6KTV7', 'Amidase-A0A5C7Q7Q4', 'Amidase-A0A5E7XWZ8', 'Amidase-A0A5F0K4Q7', 'Amidase-A0A5K1J6W4', 'Amidase-A0A5Q2TJ94', 'Amidase-A0A5S9PZB0', 'Amidase-A0A646HSM4', 'Amidase-A0A655EIP8', 'Amidase-A0A655RZV8', 'Amidase-A0A656A205', 'Amidase-A0A661IHI7', 'Amidase-A0A663BB50', 'Amidase-A0A6A7RYW8', 'Amidase-A0A6G1VJS5', 'Amidase-A0A6G8AYJ3', 'Amidase-A0A6I1REW9', 'Amidase-A0A6I2U068', 'Amidase-A0A6J4HED9', 'Amidase-A0A6L3JRB4', 'Amidase-A0A6L4AY65', 'Amidase-A0A6L5H4M1', 'Amidase-A0A6L5TXU8', 'Amidase-A0A6L9EQE5', 'Amidase-A0A6M1VL57', 'Amidase-A0A6N2RTI6', 'Amidase-A0A6N2U056', 'Amidase-A0A6N2UGB3', 'Amidase-A0A6N2UIN0', 'Amidase-A0A6N2ZGP1', 'Amidase-A0A6N3ADZ5', 'Amidase-A0A6N3B9W7', 'Amidase-A0A6N3BUZ5', 'Amidase-A0A6N3CUE4', 'Amidase-A0A6N7BRA0', 'Amidase-A0A6N7SN03', 'Amidase-A0A6N7UXE1', 'Amidase-A0A6N8HTQ1', 'Amidase-A0A6N9P4Y1', 'Amidase-A0A6V7RLH1', 'Amidase-A0A6V8LZG1', 'Amidase-A0A7C1P4V8', 'Amidase-A0A7C2P1V6', 'Amidase-A0A7C2UYR9', 'Amidase-A0A7C6SBI0', 'Amidase-A0A7C6UVS0', 'Amidase-A0A7C6ZNH3', 'Amidase-A0A7C9N6K0', 'Amidase-A0A7G9WG71', 'Amidase-A0A7K0ASC9', 'Amidase-A0A7K1T6D1', 'Amidase-A0A7K3KPA7', 'Amidase-A0A7R6PCR6', 'Amidase-A0A7U6H661', 'Amidase-A0A7U6KIQ4', 'Amidase-A0A7U9R3U1', 'Amidase-A0A7U9S8H5', 'Amidase-A0A7U9WR97', 'Amidase-A0A7U9X8I7', 'Amidase-A0A7V0IH32', 'Amidase-A0A7V2MRL5', 'Amidase-A0A7V8U610', 'Amidase-A0A7V8XZM4', 'Amidase-A0A7V9C1P4', 'Amidase-A0A7W0ENP4', 'Amidase-A0A7W0U6U7', 'Amidase-A0A7W1IHX0', 'Amidase-A0A7W1RE05', 'Amidase-A0A7W1W1M2', 'Amidase-A0A7W2SPU1', 'Amidase-A0A7W3TNL3', 'Amidase-A0A7W8CWH4', 'Amidase-A0A7W9SUW4', 'Amidase-A0A7X0S9L4', 'Amidase-A0A7X2P4C9', 'Amidase-A0A7X2Y2N6', 'Amidase-A0A7X5DHP9', 'Amidase-A0A7X6J9T2', 'Amidase-A0A7X7HDU7', 'Amidase-A0A7X8G0P9', 'Amidase-A0A7X9IZ61', 'Amidase-A0A7X9N595', 'Amidase-A0A7X9S5S8', 'Amidase-A0A7Y1V3J3', 'Amidase-A0A7Y2DE71', 'Amidase-A0A7Y5CCF2', 'Amidase-A0A7Y5U384', 'Amidase-A0A7Z7QXY5', 'Amidase-A0A7Z9KWI0', 'Amidase-A0A7Z9PKR5', 'Amidase-A0A7Z9WTE6', 'Amidase-A0A7Z9XDS8', 'Amidase-A0A829A4C9', 'Amidase-A0A829GQV2', 'Amidase-A0A832QCY8', 'Amidase-A0A837IUD5', 'Amidase-A0A841LJQ4', 'Amidase-A0A841PWQ3', 'Amidase-A0A844E2U4', 'Amidase-A0A844JUQ0', 'Amidase-A0A844X885', 'Amidase-A0A847PGS9', 'Amidase-A0A848Y5N8', 'Amidase-A0A849YFD0', 'Amidase-A0A850HLQ7', 'Amidase-A0A851HC77', 'Amidase-A0A851IA66', 'Amidase-A0A854XCG6', 'Amidase-A0A8B3FKV7', 'Amidase-A0ALP4', 'Amidase-A1QZW1', 'Amidase-A5ZNJ9', 'Amidase-B0TEC1', 'Amidase-B6FYK5', 'Amidase-B9W4U8', 'Amidase-C9KNZ6', 'Amidase-C9KUE4', 'Amidase-C9RCM7', 'Amidase-D0WBL1', 'Amidase-F0HWN8', 'Amidase-F2R7D7', 'Amidase-F3UXY6', 'Amidase-G5NAG9', 'Amidase-G9ZXA6', 'Amidase-H0UGJ6', 'Amidase-I2C9E3', 'Amidase-I7J6A5', 'Amidase-M4YX32', 'Amidase-N1UHZ3', 'Amidase-Q38Y95', 'Amidase-Q3EK55', 'Amidase-Q3EQP3', 'Amidase-Q897G3', 'Amidase-Q897P1', 'Amidase-Q8FRA0', 'Amidase-Q93G55', 'Amidase-R1CGG8', 'Amidase-R2Y585', 'Amidase-R5AHW3', 'Amidase-R5GLE2', 'Amidase-R5IRD9', 'Amidase-R5IZP6', 'Amidase-R5JJW9', 'Amidase-R5JM70', 'Amidase-R5L864', 'Amidase-R5TJC0', 'Amidase-R5ZXG6', 'Amidase-R6AN80', 'Amidase-R6H0K7', 'Amidase-R6MVY6', 'Amidase-R6PEQ6', 'Amidase-R6SHQ9', 'Amidase-R6TEU6', 'Amidase-R6XXB6', 'Amidase-R7FK28', 'Amidase-R7H9H9', 'Amidase-R7P2J0', 'Amidase-R9BXU6', 'Amidase-T1DVH4', 'Amidase-T2IUT6', 'Amidase-U2EI94', 'Amidase-V6F1Z2', 'Amidase-W0FL63', 'Amidase-W1UEN2', 'Amidase-W1X2M4', 'Amidase-W4UXJ1', 'Amidase-nan', 'unclustered', 'Muramidase-A0A011N0Q1', 'Muramidase-A0A075R6B1', 'Muramidase-A0A078LJB7', 'Muramidase-A0A087B2V4', 'Muramidase-A0A090QL71', 'Muramidase-A0A0A8FMV8', 'Muramidase-A0A0A8X5Z1', 'Muramidase-A0A0C2S3R7', 'Muramidase-A0A0E2HEG0', 'Muramidase-A0A0E3WFK5', 'Muramidase-A0A0F4VMI7', 'Muramidase-A0A0F5I4G4', 'Muramidase-A0A0F5P9U3', 'Muramidase-A0A0G1YBW8', 'Muramidase-A0A0H2Z3S5', 'Muramidase-A0A0J5VE76', 'Muramidase-A0A0J7XYQ7', 'Muramidase-A0A0K6H947', 'Muramidase-A0A0K9TA50', 'Muramidase-A0A0L1LLS7', 'Muramidase-A0A0L8F022', 'Muramidase-A0A0M2NIX8', 'Muramidase-A0A0N0D2Z2', 'Muramidase-A0A0N0V431', 'Muramidase-A0A0P8WA22', 'Muramidase-A0A0Q2Y6A7', 'Muramidase-A0A0Q5DHU7', 'Muramidase-A0A0Q8QAC5', 'Muramidase-A0A0R1P8F1', 'Muramidase-A0A0R1UCA3', 'Muramidase-A0A0R2DAQ2', 'Muramidase-A0A0R2DK37', 'Muramidase-A0A0R2IBS7', 'Muramidase-A0A0U1QLU6', 'Muramidase-A0A0U3FW74', 'Muramidase-A0A0U5II31', 'Muramidase-A0A0V8BJX0', 'Muramidase-A0A0V8BZD9', 'Muramidase-A0A0W1KIA0', 'Muramidase-A0A0X8JDX3', 'Muramidase-A0A120KTE6', 'Muramidase-A0A128ET70', 'Muramidase-A0A136L233', 'Muramidase-A0A139MG29', 'Muramidase-A0A141RGP2', 'Muramidase-A0A142INH0', 'Muramidase-A0A150K5H8', 'Muramidase-A0A158J9I7', 'Muramidase-A0A173XZ41', 'Muramidase-A0A173ZBW9', 'Muramidase-A0A174BGG6', 'Muramidase-A0A174D8S5', 'Muramidase-A0A174RK63', 'Muramidase-A0A174VG92', 'Muramidase-A0A174ZDU7', 'Muramidase-A0A1A7KFR6', 'Muramidase-A0A1C2JG90', 'Muramidase-A0A1C3H387', 'Muramidase-A0A1C3SD71', 'Muramidase-A0A1C3WN92', 'Muramidase-A0A1C3Y8G2', 'Muramidase-A0A1C5L8D3', 'Muramidase-A0A1C5S4K0', 'Muramidase-A0A1C5XZR0', 'Muramidase-A0A1C6AE64', 'Muramidase-A0A1C6CM69', 'Muramidase-A0A1C6CUZ1', 'Muramidase-A0A1C6GJ66', 'Muramidase-A0A1C6JVK9', 'Muramidase-A0A1C9VN45', 'Muramidase-A0A1D2L7R0', 'Muramidase-A0A1D2S554', 'Muramidase-A0A1E5TML8', 'Muramidase-A0A1F3VIL9', 'Muramidase-A0A1F6ETM3', 'Muramidase-A0A1G3JRM4', 'Muramidase-A0A1G6CE93', 'Muramidase-A0A1G6CPZ6', 'Muramidase-A0A1G9CQ73', 'Muramidase-A0A1H0QLS2', 'Muramidase-A0A1H4KV88', 'Muramidase-A0A1H6LY20', 'Muramidase-A0A1H7Z7N1', 'Muramidase-A0A1H9CAE9', 'Muramidase-A0A1H9JMJ9', 'Muramidase-A0A1I3CT30', 'Muramidase-A0A1I5G9K1', 'Muramidase-A0A1I6KS43', 'Muramidase-A0A1I6PGW2', 'Muramidase-A0A1I9X0B9', 'Muramidase-A0A1L8TG29', 'Muramidase-A0A1M3PX98', 'Muramidase-A0A1M4M9Q8', 'Muramidase-A0A1M7LW81', 'Muramidase-A0A1Q6L3T8', 'Muramidase-A0A1Q6RAD2', 'Muramidase-A0A1Q6YS27', 'Muramidase-A0A1Q8YNE5', 'Muramidase-A0A1R4F0V8', 'Muramidase-A0A1S1CNH8', 'Muramidase-A0A1S1NQL5', 'Muramidase-A0A1S8L485', 'Muramidase-A0A1T4Q9G8', 'Muramidase-A0A1U7GM02', 'Muramidase-A0A1U9NN26', 'Muramidase-A0A1V4IW64', 'Muramidase-A0A1V5G9Y1', 'Muramidase-A0A1V5GAE1', 'Muramidase-A0A1V5KV49', 'Muramidase-A0A1V5UF42', 'Muramidase-A0A1V5YU78', 'Muramidase-A0A1V5ZPA0', 'Muramidase-A0A1V6HZD5', 'Muramidase-A0A1V8PLK1', 'Muramidase-A0A1W6LMA8', 'Muramidase-A0A1X1L9E1', 'Muramidase-A0A1X3A2L7', 'Muramidase-A0A1X3IA24', 'Muramidase-A0A1Y0BZ80', 'Muramidase-A0A1Y4QK08', 'Muramidase-A0A1Y4QR82', 'Muramidase-A0A1Y6CTG9', 'Muramidase-A0A1Y6K8I0', 'Muramidase-A0A1Z2SJG6', 'Muramidase-A0A200L0V0', 'Muramidase-A0A223P7U4', 'Muramidase-A0A226BWH4', 'Muramidase-A0A226GQT8', 'Muramidase-A0A229I452', 'Muramidase-A0A246WM26', 'Muramidase-A0A255TB78', 'Muramidase-A0A257G7K2', 'Muramidase-A0A258HMI9', 'Muramidase-A0A258XAK5', 'Muramidase-A0A259NLB3', 'Muramidase-A0A261F7G8', 'Muramidase-A0A2A2CB46', 'Muramidase-A0A2A2EFS3', 'Muramidase-A0A2A7TB69', 'Muramidase-A0A2A9KB92', 'Muramidase-A0A2B9TMH9', 'Muramidase-A0A2D4QW59', 'Muramidase-A0A2D5F729', 'Muramidase-A0A2D7Y4X9', 'Muramidase-A0A2E2QEV1', 'Muramidase-A0A2E5KWR7', 'Muramidase-A0A2G6LD42', 'Muramidase-A0A2H5W9N1', 'Muramidase-A0A2I2AB40', 'Muramidase-A0A2J7THI1', 'Muramidase-A0A2K4C3K8', 'Muramidase-A0A2K4ZGU8', 'Muramidase-A0A2M8A1B0', 'Muramidase-A0A2M9HSI6', 'Muramidase-A0A2M9ZCG7', 'Muramidase-A0A2N0TKC4', 'Muramidase-A0A2N0WIA4', 'Muramidase-A0A2N2ZW25', 'Muramidase-A0A2N5WBQ5', 'Muramidase-A0A2N7S326', 'Muramidase-A0A2N8I6H3', 'Muramidase-A0A2N8MCM5', 'Muramidase-A0A2P9E797', 'Muramidase-A0A2S0KP84', 'Muramidase-A0A2S3U6T6', 'Muramidase-A0A2S8X4A1', 'Muramidase-A0A2T1ARM9', 'Muramidase-A0A2T3F9E5', 'Muramidase-A0A2T3FWS9', 'Muramidase-A0A2T7YIN2', 'Muramidase-A0A2V1K5W8', 'Muramidase-A0A2V2CCV5', 'Muramidase-A0A2V2SRQ9', 'Muramidase-A0A2V5LFQ3', 'Muramidase-A0A2W6EY97', 'Muramidase-A0A2W7IUA4', 'Muramidase-A0A2X0PG41', 'Muramidase-A0A2X0QXT8', 'Muramidase-A0A2X0WBY3', 'Muramidase-A0A2X1JGI3', 'Muramidase-A0A2X1QQB9', 'Muramidase-A0A2X2SX28', 'Muramidase-A0A2X2SZ50', 'Muramidase-A0A2X3CUA9', 'Muramidase-A0A2X3E7A0', 'Muramidase-A0A2X3GNH8', 'Muramidase-A0A2X3IGF9', 'Muramidase-A0A2X3JWG6', 'Muramidase-A0A2X3KDX5', 'Muramidase-A0A2X3VF67', 'Muramidase-A0A2X4TJ27', 'Muramidase-A0A2Z6B1U6', 'Muramidase-A0A2Z6PZV7', 'Muramidase-A0A317GVF6', 'Muramidase-A0A347ZWQ0', 'Muramidase-A0A349BY18', 'Muramidase-A0A350IAI4', 'Muramidase-A0A352CN15', 'Muramidase-A0A353NQ63', 'Muramidase-A0A353XW06', 'Muramidase-A0A354HIH9', 'Muramidase-A0A357Y4U8', 'Muramidase-A0A359LME5', 'Muramidase-A0A367ZCK7', 'Muramidase-A0A371WIE9', 'Muramidase-A0A373VFH9', 'Muramidase-A0A374NZH9', 'Muramidase-A0A376FGU0', 'Muramidase-A0A376FJT0', 'Muramidase-A0A376L982', 'Muramidase-A0A376LI87', 'Muramidase-A0A376SBK3', 'Muramidase-A0A376U6H5', 'Muramidase-A0A376UEZ2', 'Muramidase-A0A376UGA3', 'Muramidase-A0A376Y679', 'Muramidase-A0A377A418', 'Muramidase-A0A377AGP5', 'Muramidase-A0A377B8V0', 'Muramidase-A0A377BSU4', 'Muramidase-A0A377BXF4', 'Muramidase-A0A377C2B7', 'Muramidase-A0A377C4Q1', 'Muramidase-A0A377C8K4', 'Muramidase-A0A377D7B9', 'Muramidase-A0A377DNF6', 'Muramidase-A0A377E5S9', 'Muramidase-A0A377LFD4', 'Muramidase-A0A377NGP6', 'Muramidase-A0A377NGR8', 'Muramidase-A0A377NH98', 'Muramidase-A0A377PFR3', 'Muramidase-A0A377TNA6', 'Muramidase-A0A377XAN5', 'Muramidase-A0A378AHN3', 'Muramidase-A0A378AYU6', 'Muramidase-A0A378C2N6', 'Muramidase-A0A378LWD9', 'Muramidase-A0A379AGG1', 'Muramidase-A0A379VR70', 'Muramidase-A0A380L0B2', 'Muramidase-A0A381G2F9', 'Muramidase-A0A381GHS2', 'Muramidase-A0A381H835', 'Muramidase-A0A3A1Y9X2', 'Muramidase-A0A3A9FAE2', 'Muramidase-A0A3B8HH68', 'Muramidase-A0A3B8QX11', 'Muramidase-A0A3B9HVM0', 'Muramidase-A0A3C0P180', 'Muramidase-A0A3D0FIP6', 'Muramidase-A0A3D0FJV7', 'Muramidase-A0A3D2W4D2', 'Muramidase-A0A3D4L433', 'Muramidase-A0A3D8PBP5', 'Muramidase-A0A3E2BST6', 'Muramidase-A0A3E2TRV3', 'Muramidase-A0A3G6YV78', 'Muramidase-A0A3L7E2P4', 'Muramidase-A0A3N2M7Q4', 'Muramidase-A0A3N6ES69', 'Muramidase-A0A3P1VCJ6', 'Muramidase-A0A3P1XNS4', 'Muramidase-A0A3P5XF32', 'Muramidase-A0A3Q9FY36', 'Muramidase-A0A3R6PBB4', 'Muramidase-A0A3S3QNA2', 'Muramidase-A0A3S4HZU0', 'Muramidase-A0A3S4KNE9', 'Muramidase-A0A3S4LSY7', 'Muramidase-A0A3S4PBG6', 'Muramidase-A0A3S4YFD5', 'Muramidase-A0A3S5DHT2', 'Muramidase-A0A3T2V1H4', 'Muramidase-A0A413UD28', 'Muramidase-A0A413Z4A2', 'Muramidase-A0A414KDW7', 'Muramidase-A0A414KQZ5', 'Muramidase-A0A414RH06', 'Muramidase-A0A415K0P1', 'Muramidase-A0A415ZT48', 'Muramidase-A0A416S5N0', 'Muramidase-A0A417NBK2', 'Muramidase-A0A417T1Y9', 'Muramidase-A0A417WSJ1', 'Muramidase-A0A418PIP4', 'Muramidase-A0A433GEU9', 'Muramidase-A0A446ZIB5', 'Muramidase-A0A447M9P0', 'Muramidase-A0A447P8W4', 'Muramidase-A0A447PAN8', 'Muramidase-A0A447U1U4', 'Muramidase-A0A447WEF5', 'Muramidase-A0A448D759', 'Muramidase-A0A450SW72', 'Muramidase-A0A455VZ36', 'Muramidase-A0A484HJJ3', 'Muramidase-A0A484YSY4', 'Muramidase-A0A484Z8J9', 'Muramidase-A0A484ZFN5', 'Muramidase-A0A485ANB7', 'Muramidase-A0A485AS74', 'Muramidase-A0A485B2E3', 'Muramidase-A0A485B3B6', 'Muramidase-A0A485BU55', 'Muramidase-A0A485BWD7', 'Muramidase-A0A485C067', 'Muramidase-A0A485C8J4', 'Muramidase-A0A486DDE4', 'Muramidase-A0A495V7Y5', 'Muramidase-A0A496PDI9', 'Muramidase-A0A4J1XYS2', 'Muramidase-A0A4P6DQP2', 'Muramidase-A0A4P6X184', 'Muramidase-A0A4Q0IHD2', 'Muramidase-A0A4Q3MM19', 'Muramidase-A0A4R0FKA5', 'Muramidase-A0A4R0PCF0', 'Muramidase-A0A4R2BHD2', 'Muramidase-A0A4R2CKM1', 'Muramidase-A0A4R2TDI3', 'Muramidase-A0A4R3AB01', 'Muramidase-A0A4R3JAE4', 'Muramidase-A0A4R3MZR7', 'Muramidase-A0A4R5N7B0', 'Muramidase-A0A4R6SHW0', 'Muramidase-A0A4R6XTX5', 'Muramidase-A0A4R7WFF7', 'Muramidase-A0A4S2AN32', 'Muramidase-A0A4S4A5T5', 'Muramidase-A0A4U8Q8V3', 'Muramidase-A0A4U9WHG4', 'Muramidase-A0A4V2WDK5', 'Muramidase-A0A4Z0DE45', 'Muramidase-A0A4Z0S334', 'Muramidase-A0A508VHN6', 'Muramidase-A0A508W1P5', 'Muramidase-A0A509CW04', 'Muramidase-A0A509CZF1', 'Muramidase-A0A511YKT9', 'Muramidase-A0A519BQL5', 'Muramidase-A0A520YPY2', 'Muramidase-A0A521STF0', 'Muramidase-A0A522FJC4', 'Muramidase-A0A522GMT4', 'Muramidase-A0A534PM21', 'Muramidase-A0A534QK47', 'Muramidase-A0A537AJ42', 'Muramidase-A0A537JPG7', 'Muramidase-A0A537PTU6', 'Muramidase-A0A538IDP4', 'Muramidase-A0A554JJH7', 'Muramidase-A0A554KEP9', 'Muramidase-A0A556CN56', 'Muramidase-A0A561DCD8', 'Muramidase-A0A563DX96', 'Muramidase-A0A564S8J2', 'Muramidase-A0A5C0DVP2', 'Muramidase-A0A5C1DFD6', 'Muramidase-A0A5C7QE19', 'Muramidase-A0A5D0TT65', 'Muramidase-A0A5E4WJ01', 'Muramidase-A0A5E4WL62', 'Muramidase-A0A5E6NVI4', 'Muramidase-A0A5K7U7K9', 'Muramidase-A0A5N7MBX0', 'Muramidase-A0A5R9B8G6', 'Muramidase-A0A5Y7W8F4', 'Muramidase-A0A605RST0', 'Muramidase-A0A628M6N4', 'Muramidase-A0A641BE80', 'Muramidase-A0A654C297', 'Muramidase-A0A660C797', 'Muramidase-A0A6A7VWJ7', 'Muramidase-A0A6A8VHR4', 'Muramidase-A0A6B8JBQ0', 'Muramidase-A0A6C0PWV3', 'Muramidase-A0A6C8GM04', 'Muramidase-A0A6H0UL77', 'Muramidase-A0A6H1W7P4', 'Muramidase-A0A6I6GJB4', 'Muramidase-A0A6J4T284', 'Muramidase-A0A6M0LFB0', 'Muramidase-A0A6N2THX7', 'Muramidase-A0A6N2U349', 'Muramidase-A0A6N2YZI8', 'Muramidase-A0A6N3E4Q6', 'Muramidase-A0A6P2YFT3', 'Muramidase-A0A6S5JMF8', 'Muramidase-A0A6S5XQK8', 'Muramidase-A0A6S6SHP9', 'Muramidase-A0A6V8MXP5', 'Muramidase-A0A7C1N3A2', 'Muramidase-A0A7C1PEX6', 'Muramidase-A0A7C1TGY1', 'Muramidase-A0A7C2WUQ3', 'Muramidase-A0A7C3H047', 'Muramidase-A0A7C4TYD7', 'Muramidase-A0A7C5GTC2', 'Muramidase-A0A7C5GTR5', 'Muramidase-A0A7C6SMU5', 'Muramidase-A0A7C8CYK6', 'Muramidase-A0A7G9AXQ8', 'Muramidase-A0A7H4MMS7', 'Muramidase-A0A7H4N042', 'Muramidase-A0A7H4NHR3', 'Muramidase-A0A7H4P4T2', 'Muramidase-A0A7H4SHY1', 'Muramidase-A0A7H4YRR5', 'Muramidase-A0A7H9QWB7', 'Muramidase-A0A7I6XM11', 'Muramidase-A0A7I8ZS27', 'Muramidase-A0A7J5JD64', 'Muramidase-A0A7L7WKR6', 'Muramidase-A0A7T0D1T9', 'Muramidase-A0A7T5ES45', 'Muramidase-A0A7U3LVJ2', 'Muramidase-A0A7U9NT98', 'Muramidase-A0A7U9RWR4', 'Muramidase-A0A7V5EWS4', 'Muramidase-A0A7V7UCF9', 'Muramidase-A0A7V8A8R5', 'Muramidase-A0A7V9QWM0', 'Muramidase-A0A7V9WSG7', 'Muramidase-A0A7W0MLZ8', 'Muramidase-A0A7W1C7J8', 'Muramidase-A0A7W4NQQ4', 'Muramidase-A0A7W4TYT8', 'Muramidase-A0A7W7AMR3', 'Muramidase-A0A7X2XUP7', 'Muramidase-A0A7X3DJV0', 'Muramidase-A0A7X4ZPH3', 'Muramidase-A0A7X5C433', 'Muramidase-A0A7X5L589', 'Muramidase-A0A7X7J836', 'Muramidase-A0A7X7ZLW4', 'Muramidase-A0A7X8XQ42', 'Muramidase-A0A7X9L6V6', 'Muramidase-A0A7Y0GBM1', 'Muramidase-A0A7Y6TTM5', 'Muramidase-A0A7Y9Z657', 'Muramidase-A0A7Z0DG84', 'Muramidase-A0A7Z8R0A6', 'Muramidase-A0A822LL96', 'Muramidase-A0A827KGV1', 'Muramidase-A0A829GN82', 'Muramidase-A0A831EVP6', 'Muramidase-A0A831KXH2', 'Muramidase-A0A832GZH1', 'Muramidase-A0A836ZFR9', 'Muramidase-A0A837RN21', 'Muramidase-A0A838QJX5', 'Muramidase-A0A838V9B1', 'Muramidase-A0A839WWJ1', 'Muramidase-A0A840RCT4', 'Muramidase-A0A843T9T0', 'Muramidase-A0A843YNC1', 'Muramidase-A0A845RNG7', 'Muramidase-A0A847KRI9', 'Muramidase-A0A848BXY8', 'Muramidase-A0A848J9C3', 'Muramidase-A0A849IE73', 'Muramidase-A0A8B3UZ00', 'Muramidase-A0A8B4QC66', 'Muramidase-A0A8B4WQB3', 'Muramidase-A0A8B6KSL4', 'Muramidase-A0L421', 'Muramidase-A0LH35', 'Muramidase-A1SKG1', 'Muramidase-A4ENI4', 'Muramidase-A4N4N4', 'Muramidase-A6Q8G4', 'Muramidase-B0NER8', 'Muramidase-B2JF15', 'Muramidase-B2PZV4', 'Muramidase-B6WQQ4', 'Muramidase-B7GS44', 'Muramidase-B8IVK2', 'Muramidase-C0BVQ8', 'Muramidase-C0BXW5', 'Muramidase-C3X361', 'Muramidase-C6BED6', 'Muramidase-C6XGM8', 'Muramidase-C9MTK8', 'Muramidase-D1AI81', 'Muramidase-D1AQE9', 'Muramidase-D2TW44', 'Muramidase-D3EZ02', 'Muramidase-D4BID4', 'Muramidase-D4CET6', 'Muramidase-D4CQ27', 'Muramidase-E0WSU1', 'Muramidase-E0XYZ6', 'Muramidase-E4KN79', 'Muramidase-E5VDJ6', 'Muramidase-E6BK21', 'Muramidase-E7GN27', 'Muramidase-E7GTP4', 'Muramidase-F3KDT5', 'Muramidase-F4N5M1', 'Muramidase-F8LXE0', 'Muramidase-F9HE68', 'Muramidase-F9VBQ4', 'Muramidase-G5CJ16', 'Muramidase-G6F5M3', 'Muramidase-G7Q957', 'Muramidase-G9WJC6', 'Muramidase-H0HPH5', 'Muramidase-I0T458', 'Muramidase-I2URK2', 'Muramidase-I4MBW6', 'Muramidase-I6CX42', 'Muramidase-I9VAN4', 'Muramidase-J4KU53', 'Muramidase-K6U5B8', 'Muramidase-L0D878', 'Muramidase-M6HJZ1', 'Muramidase-Q1YGJ7', 'Muramidase-Q32EA3', 'Muramidase-Q6AKF3', 'Muramidase-Q8Y464', 'Muramidase-R0BXB3', 'Muramidase-R5D4J2', 'Muramidase-R5IWH4', 'Muramidase-R5MAD1', 'Muramidase-R5QPZ6', 'Muramidase-R5VGU4', 'Muramidase-R5Y8J5', 'Muramidase-R5YKQ7', 'Muramidase-R6J1C5', 'Muramidase-R6KXE4', 'Muramidase-R7M021', 'Muramidase-R7QYC7', 'Muramidase-S0F861', 'Muramidase-S2D9Y0', 'Muramidase-S4B424', 'Muramidase-T0CXG3', 'Muramidase-T0UBX6', 'Muramidase-T0WIP7', 'Muramidase-U1R8G0', 'Muramidase-U2ECY2', 'Muramidase-U7D9Q6', 'Muramidase-V1GVJ2', 'Muramidase-W5XD20', 'Muramidase-W9H589', 'Muramidase-X0PXA7', 'Muramidase-X0QTD2', 'Muramidase-nan', 'unclustered', 'sample_id']",
     "output_type": "error",
     "traceback": [
      "\u001b[1;31m---------------------------------------------------------------------------\u001b[0m",
      "\u001b[1;31mValueError\u001b[0m                                Traceback (most recent call last)",
      "Cell \u001b[1;32mIn[3], line 1\u001b[0m\n\u001b[1;32m----> 1\u001b[0m \u001b[43mmake_outputs\u001b[49m\u001b[43m(\u001b[49m\u001b[43mclean_gem\u001b[49m\u001b[43m,\u001b[49m\u001b[43m \u001b[49m\u001b[38;5;124;43m'\u001b[39;49m\u001b[38;5;124;43mE:\u001b[39;49m\u001b[38;5;130;43;01m\\\\\u001b[39;49;00m\u001b[38;5;124;43mgem\u001b[39;49m\u001b[38;5;130;43;01m\\\\\u001b[39;49;00m\u001b[38;5;124;43mgenefamilies\u001b[39;49m\u001b[38;5;130;43;01m\\\\\u001b[39;49;00m\u001b[38;5;124;43mclean_all_shallow_gems_genefamilies_relab_clustered\u001b[39;49m\u001b[38;5;124;43m'\u001b[39;49m\u001b[43m)\u001b[49m\n",
      "File \u001b[1;32mc:\\Users\\odesa\\Desktop\\Code\\CRC-Final\\src\\shotgun_analysis\\humann_functions.py:40\u001b[0m, in \u001b[0;36mmake_outputs\u001b[1;34m(df, output_name)\u001b[0m\n\u001b[0;32m     35\u001b[0m \u001b[38;5;250m\u001b[39m\u001b[38;5;124;03m\"\"\"Make a feather file and tsv from a dataframe\"\"\"\u001b[39;00m\n\u001b[0;32m     38\u001b[0m df\u001b[38;5;241m.\u001b[39mto_csv(output_name \u001b[38;5;241m+\u001b[39m \u001b[38;5;124m'\u001b[39m\u001b[38;5;124m.tsv\u001b[39m\u001b[38;5;124m'\u001b[39m, sep\u001b[38;5;241m=\u001b[39m\u001b[38;5;124m'\u001b[39m\u001b[38;5;130;01m\\t\u001b[39;00m\u001b[38;5;124m'\u001b[39m)\n\u001b[1;32m---> 40\u001b[0m \u001b[43mdf\u001b[49m\u001b[38;5;241;43m.\u001b[39;49m\u001b[43mto_feather\u001b[49m\u001b[43m(\u001b[49m\u001b[43moutput_name\u001b[49m\u001b[43m \u001b[49m\u001b[38;5;241;43m+\u001b[39;49m\u001b[43m \u001b[49m\u001b[38;5;124;43m'\u001b[39;49m\u001b[38;5;124;43m.feather\u001b[39;49m\u001b[38;5;124;43m'\u001b[39;49m\u001b[43m)\u001b[49m\n\u001b[0;32m     42\u001b[0m \u001b[38;5;28;01mreturn\u001b[39;00m output_name\n",
      "File \u001b[1;32m~\\AppData\\Roaming\\Python\\Python312\\site-packages\\pandas\\core\\frame.py:2794\u001b[0m, in \u001b[0;36mDataFrame.to_feather\u001b[1;34m(self, path, **kwargs)\u001b[0m\n\u001b[0;32m   2766\u001b[0m \u001b[38;5;250m\u001b[39m\u001b[38;5;124;03m\"\"\"\u001b[39;00m\n\u001b[0;32m   2767\u001b[0m \u001b[38;5;124;03mWrite a DataFrame to the binary Feather format.\u001b[39;00m\n\u001b[0;32m   2768\u001b[0m \n\u001b[1;32m   (...)\u001b[0m\n\u001b[0;32m   2790\u001b[0m \u001b[38;5;124;03m>>> df.to_feather(\"file.feather\")  # doctest: +SKIP\u001b[39;00m\n\u001b[0;32m   2791\u001b[0m \u001b[38;5;124;03m\"\"\"\u001b[39;00m\n\u001b[0;32m   2792\u001b[0m \u001b[38;5;28;01mfrom\u001b[39;00m \u001b[38;5;21;01mpandas\u001b[39;00m\u001b[38;5;21;01m.\u001b[39;00m\u001b[38;5;21;01mio\u001b[39;00m\u001b[38;5;21;01m.\u001b[39;00m\u001b[38;5;21;01mfeather_format\u001b[39;00m \u001b[38;5;28;01mimport\u001b[39;00m to_feather\n\u001b[1;32m-> 2794\u001b[0m \u001b[43mto_feather\u001b[49m\u001b[43m(\u001b[49m\u001b[38;5;28;43mself\u001b[39;49m\u001b[43m,\u001b[49m\u001b[43m \u001b[49m\u001b[43mpath\u001b[49m\u001b[43m,\u001b[49m\u001b[43m \u001b[49m\u001b[38;5;241;43m*\u001b[39;49m\u001b[38;5;241;43m*\u001b[39;49m\u001b[43mkwargs\u001b[49m\u001b[43m)\u001b[49m\n",
      "File \u001b[1;32m~\\AppData\\Roaming\\Python\\Python312\\site-packages\\pandas\\io\\feather_format.py:69\u001b[0m, in \u001b[0;36mto_feather\u001b[1;34m(df, path, storage_options, **kwargs)\u001b[0m\n\u001b[0;32m     64\u001b[0m     \u001b[38;5;28;01mraise\u001b[39;00m \u001b[38;5;167;01mValueError\u001b[39;00m(\u001b[38;5;124m\"\u001b[39m\u001b[38;5;124mfeather only support IO with DataFrames\u001b[39m\u001b[38;5;124m\"\u001b[39m)\n\u001b[0;32m     66\u001b[0m \u001b[38;5;28;01mwith\u001b[39;00m get_handle(\n\u001b[0;32m     67\u001b[0m     path, \u001b[38;5;124m\"\u001b[39m\u001b[38;5;124mwb\u001b[39m\u001b[38;5;124m\"\u001b[39m, storage_options\u001b[38;5;241m=\u001b[39mstorage_options, is_text\u001b[38;5;241m=\u001b[39m\u001b[38;5;28;01mFalse\u001b[39;00m\n\u001b[0;32m     68\u001b[0m ) \u001b[38;5;28;01mas\u001b[39;00m handles:\n\u001b[1;32m---> 69\u001b[0m     \u001b[43mfeather\u001b[49m\u001b[38;5;241;43m.\u001b[39;49m\u001b[43mwrite_feather\u001b[49m\u001b[43m(\u001b[49m\u001b[43mdf\u001b[49m\u001b[43m,\u001b[49m\u001b[43m \u001b[49m\u001b[43mhandles\u001b[49m\u001b[38;5;241;43m.\u001b[39;49m\u001b[43mhandle\u001b[49m\u001b[43m,\u001b[49m\u001b[43m \u001b[49m\u001b[38;5;241;43m*\u001b[39;49m\u001b[38;5;241;43m*\u001b[39;49m\u001b[43mkwargs\u001b[49m\u001b[43m)\u001b[49m\n",
      "File \u001b[1;32m~\\AppData\\Roaming\\Python\\Python312\\site-packages\\pyarrow\\feather.py:156\u001b[0m, in \u001b[0;36mwrite_feather\u001b[1;34m(df, dest, compression, compression_level, chunksize, version)\u001b[0m\n\u001b[0;32m    153\u001b[0m \u001b[38;5;28;01melse\u001b[39;00m:\n\u001b[0;32m    154\u001b[0m     \u001b[38;5;28;01mraise\u001b[39;00m \u001b[38;5;167;01mValueError\u001b[39;00m(\u001b[38;5;124m\"\u001b[39m\u001b[38;5;124mVersion value should either be 1 or 2\u001b[39m\u001b[38;5;124m\"\u001b[39m)\n\u001b[1;32m--> 156\u001b[0m table \u001b[38;5;241m=\u001b[39m \u001b[43mTable\u001b[49m\u001b[38;5;241;43m.\u001b[39;49m\u001b[43mfrom_pandas\u001b[49m\u001b[43m(\u001b[49m\u001b[43mdf\u001b[49m\u001b[43m,\u001b[49m\u001b[43m \u001b[49m\u001b[43mpreserve_index\u001b[49m\u001b[38;5;241;43m=\u001b[39;49m\u001b[43mpreserve_index\u001b[49m\u001b[43m)\u001b[49m\n\u001b[0;32m    158\u001b[0m \u001b[38;5;28;01mif\u001b[39;00m version \u001b[38;5;241m==\u001b[39m \u001b[38;5;241m1\u001b[39m:\n\u001b[0;32m    159\u001b[0m     \u001b[38;5;66;03m# Version 1 does not chunking\u001b[39;00m\n\u001b[0;32m    160\u001b[0m     \u001b[38;5;28;01mfor\u001b[39;00m i, name \u001b[38;5;129;01min\u001b[39;00m \u001b[38;5;28menumerate\u001b[39m(table\u001b[38;5;241m.\u001b[39mschema\u001b[38;5;241m.\u001b[39mnames):\n",
      "File \u001b[1;32m~\\AppData\\Roaming\\Python\\Python312\\site-packages\\pyarrow\\table.pxi:3869\u001b[0m, in \u001b[0;36mpyarrow.lib.Table.from_pandas\u001b[1;34m()\u001b[0m\n",
      "File \u001b[1;32m~\\AppData\\Roaming\\Python\\Python312\\site-packages\\pyarrow\\pandas_compat.py:572\u001b[0m, in \u001b[0;36mdataframe_to_arrays\u001b[1;34m(df, schema, preserve_index, nthreads, columns, safe)\u001b[0m\n\u001b[0;32m    564\u001b[0m \u001b[38;5;28;01mdef\u001b[39;00m \u001b[38;5;21mdataframe_to_arrays\u001b[39m(df, schema, preserve_index, nthreads\u001b[38;5;241m=\u001b[39m\u001b[38;5;241m1\u001b[39m, columns\u001b[38;5;241m=\u001b[39m\u001b[38;5;28;01mNone\u001b[39;00m,\n\u001b[0;32m    565\u001b[0m                         safe\u001b[38;5;241m=\u001b[39m\u001b[38;5;28;01mTrue\u001b[39;00m):\n\u001b[0;32m    566\u001b[0m     (all_names,\n\u001b[0;32m    567\u001b[0m      column_names,\n\u001b[0;32m    568\u001b[0m      index_column_names,\n\u001b[0;32m    569\u001b[0m      index_descriptors,\n\u001b[0;32m    570\u001b[0m      index_columns,\n\u001b[0;32m    571\u001b[0m      columns_to_convert,\n\u001b[1;32m--> 572\u001b[0m      convert_fields) \u001b[38;5;241m=\u001b[39m \u001b[43m_get_columns_to_convert\u001b[49m\u001b[43m(\u001b[49m\u001b[43mdf\u001b[49m\u001b[43m,\u001b[49m\u001b[43m \u001b[49m\u001b[43mschema\u001b[49m\u001b[43m,\u001b[49m\u001b[43m \u001b[49m\u001b[43mpreserve_index\u001b[49m\u001b[43m,\u001b[49m\n\u001b[0;32m    573\u001b[0m \u001b[43m                                               \u001b[49m\u001b[43mcolumns\u001b[49m\u001b[43m)\u001b[49m\n\u001b[0;32m    575\u001b[0m     \u001b[38;5;66;03m# NOTE(wesm): If nthreads=None, then we use a heuristic to decide whether\u001b[39;00m\n\u001b[0;32m    576\u001b[0m     \u001b[38;5;66;03m# using a thread pool is worth it. Currently the heuristic is whether the\u001b[39;00m\n\u001b[0;32m    577\u001b[0m     \u001b[38;5;66;03m# nrows > 100 * ncols and ncols > 1.\u001b[39;00m\n\u001b[0;32m    578\u001b[0m     \u001b[38;5;28;01mif\u001b[39;00m nthreads \u001b[38;5;129;01mis\u001b[39;00m \u001b[38;5;28;01mNone\u001b[39;00m:\n",
      "File \u001b[1;32m~\\AppData\\Roaming\\Python\\Python312\\site-packages\\pyarrow\\pandas_compat.py:354\u001b[0m, in \u001b[0;36m_get_columns_to_convert\u001b[1;34m(df, schema, preserve_index, columns)\u001b[0m\n\u001b[0;32m    351\u001b[0m columns \u001b[38;5;241m=\u001b[39m _resolve_columns_of_interest(df, schema, columns)\n\u001b[0;32m    353\u001b[0m \u001b[38;5;28;01mif\u001b[39;00m \u001b[38;5;129;01mnot\u001b[39;00m df\u001b[38;5;241m.\u001b[39mcolumns\u001b[38;5;241m.\u001b[39mis_unique:\n\u001b[1;32m--> 354\u001b[0m     \u001b[38;5;28;01mraise\u001b[39;00m \u001b[38;5;167;01mValueError\u001b[39;00m(\n\u001b[0;32m    355\u001b[0m         \u001b[38;5;124m'\u001b[39m\u001b[38;5;124mDuplicate column names found: \u001b[39m\u001b[38;5;132;01m{}\u001b[39;00m\u001b[38;5;124m'\u001b[39m\u001b[38;5;241m.\u001b[39mformat(\u001b[38;5;28mlist\u001b[39m(df\u001b[38;5;241m.\u001b[39mcolumns))\n\u001b[0;32m    356\u001b[0m     )\n\u001b[0;32m    358\u001b[0m \u001b[38;5;28;01mif\u001b[39;00m schema \u001b[38;5;129;01mis\u001b[39;00m \u001b[38;5;129;01mnot\u001b[39;00m \u001b[38;5;28;01mNone\u001b[39;00m:\n\u001b[0;32m    359\u001b[0m     \u001b[38;5;28;01mreturn\u001b[39;00m _get_columns_to_convert_given_schema(df, schema, preserve_index)\n",
      "\u001b[1;31mValueError\u001b[0m: Duplicate column names found: ['DL-endopeptidase-A0A0B0HUJ2', 'DL-endopeptidase-A0A0P8W7Z2', 'DL-endopeptidase-A0A132HN74', 'DL-endopeptidase-A0A132I0H7', 'DL-endopeptidase-A0A174CGJ4', 'DL-endopeptidase-A0A174M4B0', 'DL-endopeptidase-A0A174TDS3', 'DL-endopeptidase-A0A1C5KMM8', 'DL-endopeptidase-A0A1C5KNH6', 'DL-endopeptidase-A0A1C5PVP3', 'DL-endopeptidase-A0A1C5Q6A7', 'DL-endopeptidase-A0A1C5VJV2', 'DL-endopeptidase-A0A1C5WD06', 'DL-endopeptidase-A0A1C6FAW9', 'DL-endopeptidase-A0A1C6G745', 'DL-endopeptidase-A0A1I0DL10', 'DL-endopeptidase-A0A1I3GQ51', 'DL-endopeptidase-A0A1V5YPB2', 'DL-endopeptidase-A0A1V6BVN9', 'DL-endopeptidase-A0A1Y6AQ80', 'DL-endopeptidase-A0A259UIB8', 'DL-endopeptidase-A0A259UPD7', 'DL-endopeptidase-A0A2W7MNT1', 'DL-endopeptidase-A0A348AMN4', 'DL-endopeptidase-A0A4R7RUE4', 'DL-endopeptidase-A0A518C016', 'DL-endopeptidase-A0A564W7U7', 'DL-endopeptidase-A0A6N2TU31', 'DL-endopeptidase-A0A6N3BHG0', 'DL-endopeptidase-A0A6N3I5I0', 'DL-endopeptidase-A0A7U9R122', 'DL-endopeptidase-A0A7U9SHV5', 'DL-endopeptidase-A0A829ZMP2', 'DL-endopeptidase-C0D0G2', 'DL-endopeptidase-L8DHP6', 'DL-endopeptidase-R5ATJ0', 'DL-endopeptidase-R5N6Z6', 'DL-endopeptidase-R6MIH8', 'DL-endopeptidase-R6YTV6', 'DL-endopeptidase-R7C958', 'DL-endopeptidase-R7HVK1', 'unclustered', 'LD-carboxypeptidase-A0A0D1L643', 'LD-carboxypeptidase-A0A0G1MST7', 'LD-carboxypeptidase-A0A0J1ISN8', 'LD-carboxypeptidase-A0A108T442', 'LD-carboxypeptidase-A0A147KAH7', 'LD-carboxypeptidase-A0A1E3AR66', 'LD-carboxypeptidase-A0A1G0GV85', 'LD-carboxypeptidase-A0A1I0QSS3', 'LD-carboxypeptidase-A0A1I2ZTD4', 'LD-carboxypeptidase-A0A1V4T031', 'LD-carboxypeptidase-A0A1V5Q4F1', 'LD-carboxypeptidase-A0A1W6KC51', 'LD-carboxypeptidase-A0A2C6E889', 'LD-carboxypeptidase-A0A2E9X5T2', 'LD-carboxypeptidase-A0A2V2CDK1', 'LD-carboxypeptidase-A0A2V9NRA2', 'LD-carboxypeptidase-A0A2W4N8B6', 'LD-carboxypeptidase-A0A317QD51', 'LD-carboxypeptidase-A0A379B1A7', 'LD-carboxypeptidase-A0A380P0X3', 'LD-carboxypeptidase-A0A380XUM0', 'LD-carboxypeptidase-A0A3D0YST2', 'LD-carboxypeptidase-A0A3D3KCN0', 'LD-carboxypeptidase-A0A3E3E572', 'LD-carboxypeptidase-A0A401YQJ4', 'LD-carboxypeptidase-A0A523Q9X9', 'LD-carboxypeptidase-A0A543A0R1', 'LD-carboxypeptidase-A0A5C1Q7L6', 'LD-carboxypeptidase-A0A5K1I9X5', 'LD-carboxypeptidase-A0A660MZL1', 'LD-carboxypeptidase-A0A6A0IMM5', 'LD-carboxypeptidase-A0A6I1MJ35', 'LD-carboxypeptidase-A0A7D5MQW5', 'LD-carboxypeptidase-A0A7U4WW17', 'LD-carboxypeptidase-A0A7W1YUM5', 'LD-carboxypeptidase-A0A7X7CCE1', 'LD-carboxypeptidase-A0A7X7FE45', 'LD-carboxypeptidase-A0A7X7QSS1', 'LD-carboxypeptidase-A0A7X8WLE8', 'LD-carboxypeptidase-A0A811IE54', 'LD-carboxypeptidase-A0A828RRP0', 'LD-carboxypeptidase-A0A844GDF8', 'LD-carboxypeptidase-C9N182', 'LD-carboxypeptidase-D0W5Q5', 'LD-carboxypeptidase-R5H9T8', 'LD-carboxypeptidase-nan', 'unclustered', 'unclustered', 'Glucosaminidase-A0A031IDF1', 'Glucosaminidase-A0A069RIP0', 'Glucosaminidase-A0A0M0VNU9', 'Glucosaminidase-A0A0S2DKP3', 'Glucosaminidase-A0A173TGS3', 'Glucosaminidase-A0A174D5Y6', 'Glucosaminidase-A0A174DAB8', 'Glucosaminidase-A0A174F7D0', 'Glucosaminidase-A0A174IZW4', 'Glucosaminidase-A0A174LS49', 'Glucosaminidase-A0A174P1K1', 'Glucosaminidase-A0A1C4F0M8', 'Glucosaminidase-A0A1C5L9S3', 'Glucosaminidase-A0A1C5QA98', 'Glucosaminidase-A0A1C5VT36', 'Glucosaminidase-A0A1C5XSX6', 'Glucosaminidase-A0A1C5YF09', 'Glucosaminidase-A0A1C5Z9X0', 'Glucosaminidase-A0A1C6D969', 'Glucosaminidase-A0A1C6H8R9', 'Glucosaminidase-A0A1D4PPZ9', 'Glucosaminidase-A0A1F1KUJ3', 'Glucosaminidase-A0A1H0T8H2', 'Glucosaminidase-A0A1H2Z0U0', 'Glucosaminidase-A0A1I1ZQ20', 'Glucosaminidase-A0A1I2NKJ3', 'Glucosaminidase-A0A1I3K6S5', 'Glucosaminidase-A0A1K1P5S6', 'Glucosaminidase-A0A1M6GBW1', 'Glucosaminidase-A0A1S8NJE1', 'Glucosaminidase-A0A1S8TTI0', 'Glucosaminidase-A0A1T4VMW3', 'Glucosaminidase-A0A1V4IKH7', 'Glucosaminidase-A0A1V4SU15', 'Glucosaminidase-A0A1Y3WIU4', 'Glucosaminidase-A0A242ASC8', 'Glucosaminidase-A0A242BET2', 'Glucosaminidase-A0A255U393', 'Glucosaminidase-A0A286TBS1', 'Glucosaminidase-A0A2E9R175', 'Glucosaminidase-A0A2P2BVU5', 'Glucosaminidase-A0A2S0UAV6', 'Glucosaminidase-A0A2S3U8E0', 'Glucosaminidase-A0A2T3QJ39', 'Glucosaminidase-A0A2T6K1D7', 'Glucosaminidase-A0A2U2EEE4', 'Glucosaminidase-A0A2U3RZE3', 'Glucosaminidase-A0A2V3VWI7', 'Glucosaminidase-A0A2X4TWA9', 'Glucosaminidase-A0A2Z4IUI6', 'Glucosaminidase-A0A2Z5VGM9', 'Glucosaminidase-A0A318KKH9', 'Glucosaminidase-A0A318MMB0', 'Glucosaminidase-A0A351ADY8', 'Glucosaminidase-A0A376TZ39', 'Glucosaminidase-A0A377E257', 'Glucosaminidase-A0A377FWM0', 'Glucosaminidase-A0A379AHB8', 'Glucosaminidase-A0A380E319', 'Glucosaminidase-A0A380LML7', 'Glucosaminidase-A0A3R9K960', 'Glucosaminidase-A0A3R9QFF2', 'Glucosaminidase-A0A3S4IAF0', 'Glucosaminidase-A0A428AQY0', 'Glucosaminidase-A0A428E113', 'Glucosaminidase-A0A428I2T2', 'Glucosaminidase-A0A485AMI6', 'Glucosaminidase-A0A4J1SYG3', 'Glucosaminidase-A0A4R0UIH4', 'Glucosaminidase-A0A4R0V501', 'Glucosaminidase-A0A4R1L6A7', 'Glucosaminidase-A0A4R2LZN7', 'Glucosaminidase-A0A4R3J4M3', 'Glucosaminidase-A0A4R3KCG4', 'Glucosaminidase-A0A4U9D433', 'Glucosaminidase-A0A4V2SL39', 'Glucosaminidase-A0A4Y3VQ71', 'Glucosaminidase-A0A5P3IEM7', 'Glucosaminidase-A0A650MU22', 'Glucosaminidase-A0A6G7ZBN2', 'Glucosaminidase-A0A6N2RZA5', 'Glucosaminidase-A0A7C1VDL4', 'Glucosaminidase-A0A7T0PE87', 'Glucosaminidase-A0A7U6QWL4', 'Glucosaminidase-A0A7Y5B4C8', 'Glucosaminidase-A0A809N6U3', 'Glucosaminidase-A0A822LKY6', 'Glucosaminidase-A0A829H7U9', 'Glucosaminidase-A0A855GEP2', 'Glucosaminidase-A1IHD1', 'Glucosaminidase-A4ITC8', 'Glucosaminidase-A6ERN7', 'Glucosaminidase-B0M9G9', 'Glucosaminidase-C2EH32', 'Glucosaminidase-C2EVX7', 'Glucosaminidase-C2PUY2', 'Glucosaminidase-C5EPD4', 'Glucosaminidase-C6LIN5', 'Glucosaminidase-C9B8X0', 'Glucosaminidase-D7J6K9', 'Glucosaminidase-E4KQG4', 'Glucosaminidase-E5VFB3', 'Glucosaminidase-G5K3P9', 'Glucosaminidase-G5KCX5', 'Glucosaminidase-H0U4F0', 'Glucosaminidase-J7CVT0', 'Glucosaminidase-L1QEA6', 'Glucosaminidase-M7MUC1', 'Glucosaminidase-Q2SV66', 'Glucosaminidase-R5U3B0', 'Glucosaminidase-R5UHX4', 'Glucosaminidase-R5XUB8', 'Glucosaminidase-R6C641', 'Glucosaminidase-R6D0B5', 'Glucosaminidase-R6JF01', 'Glucosaminidase-R6MBQ9', 'Glucosaminidase-R6RW29', 'Glucosaminidase-R6SXL5', 'Glucosaminidase-R6VPZ4', 'Glucosaminidase-R7I4L6', 'Glucosaminidase-S6EJE2', 'Glucosaminidase-T0E765', 'Glucosaminidase-T1WGN1', 'Glucosaminidase-U2T162', 'Glucosaminidase-U6RX90', 'Glucosaminidase-U7ULZ9', 'Glucosaminidase-W4P4D8', 'Glucosaminidase-nan', 'unclustered', 'DD-carboxypeptidase-A0A090R9T9', 'DD-carboxypeptidase-A0A091C383', 'DD-carboxypeptidase-A0A0P7WXT7', 'DD-carboxypeptidase-A0A0S2PEW3', 'DD-carboxypeptidase-A0A0T9Q4J1', 'DD-carboxypeptidase-A0A136MDS1', 'DD-carboxypeptidase-A0A139RKZ9', 'DD-carboxypeptidase-A0A159Z0V5', 'DD-carboxypeptidase-A0A173SXF8', 'DD-carboxypeptidase-A0A174LTW7', 'DD-carboxypeptidase-A0A174LYR8', 'DD-carboxypeptidase-A0A174V5H5', 'DD-carboxypeptidase-A0A1A9C453', 'DD-carboxypeptidase-A0A1C0VFZ5', 'DD-carboxypeptidase-A0A1C3J0Z3', 'DD-carboxypeptidase-A0A1C5LH51', 'DD-carboxypeptidase-A0A1C5ZJ20', 'DD-carboxypeptidase-A0A1C6H3C2', 'DD-carboxypeptidase-A0A1C6KKW6', 'DD-carboxypeptidase-A0A1E3W6P6', 'DD-carboxypeptidase-A0A1G2IYF1', 'DD-carboxypeptidase-A0A1G6RCT9', 'DD-carboxypeptidase-A0A1G6RER6', 'DD-carboxypeptidase-A0A1G7N0U6', 'DD-carboxypeptidase-A0A1G8EUZ3', 'DD-carboxypeptidase-A0A1H4KCD0', 'DD-carboxypeptidase-A0A1I1MXD1', 'DD-carboxypeptidase-A0A1I6ZPS0', 'DD-carboxypeptidase-A0A1M5MRY1', 'DD-carboxypeptidase-A0A1M7GAP3', 'DD-carboxypeptidase-A0A1N6LUX6', 'DD-carboxypeptidase-A0A1Q2CHA6', 'DD-carboxypeptidase-A0A1Q6LGJ1', 'DD-carboxypeptidase-A0A1Q6QQ59', 'DD-carboxypeptidase-A0A1Q9JVE2', 'DD-carboxypeptidase-A0A1R1SMN3', 'DD-carboxypeptidase-A0A1S8L9Y7', 'DD-carboxypeptidase-A0A1V5DYL7', 'DD-carboxypeptidase-A0A1V5P587', 'DD-carboxypeptidase-A0A1V5QVV9', 'DD-carboxypeptidase-A0A1V5SBF9', 'DD-carboxypeptidase-A0A1V5X3P0', 'DD-carboxypeptidase-A0A1V9VC09', 'DD-carboxypeptidase-A0A1W1V6H8', 'DD-carboxypeptidase-A0A1W9KMP0', 'DD-carboxypeptidase-A0A1Y4MJD3', 'DD-carboxypeptidase-A0A249LE24', 'DD-carboxypeptidase-A0A272EWR4', 'DD-carboxypeptidase-A0A2A7IKU2', 'DD-carboxypeptidase-A0A2G6MBS6', 'DD-carboxypeptidase-A0A2P6ML67', 'DD-carboxypeptidase-A0A2S6SYE8', 'DD-carboxypeptidase-A0A2S8KF42', 'DD-carboxypeptidase-A0A2U3MQN8', 'DD-carboxypeptidase-A0A2V9T716', 'DD-carboxypeptidase-A0A2W4PXU4', 'DD-carboxypeptidase-A0A2X3U5A0', 'DD-carboxypeptidase-A0A2X3U8F1', 'DD-carboxypeptidase-A0A316PCN6', 'DD-carboxypeptidase-A0A349Q945', 'DD-carboxypeptidase-A0A366FRF3', 'DD-carboxypeptidase-A0A369P8F3', 'DD-carboxypeptidase-A0A374BHZ0', 'DD-carboxypeptidase-A0A374NV70', 'DD-carboxypeptidase-A0A376KXG0', 'DD-carboxypeptidase-A0A376RLE8', 'DD-carboxypeptidase-A0A377DMK2', 'DD-carboxypeptidase-A0A377W4R6', 'DD-carboxypeptidase-A0A377XNE3', 'DD-carboxypeptidase-A0A378AHG2', 'DD-carboxypeptidase-A0A378EEC0', 'DD-carboxypeptidase-A0A378G239', 'DD-carboxypeptidase-A0A379BD30', 'DD-carboxypeptidase-A0A379FEM7', 'DD-carboxypeptidase-A0A379U1R6', 'DD-carboxypeptidase-A0A379WDN8', 'DD-carboxypeptidase-A0A380E108', 'DD-carboxypeptidase-A0A380K364', 'DD-carboxypeptidase-A0A3A9G105', 'DD-carboxypeptidase-A0A3B9JHN5', 'DD-carboxypeptidase-A0A3D5PDC1', 'DD-carboxypeptidase-A0A3D9L5Q8', 'DD-carboxypeptidase-A0A3E3E6W8', 'DD-carboxypeptidase-A0A3N0I4M4', 'DD-carboxypeptidase-A0A3P1WU16', 'DD-carboxypeptidase-A0A3P8KP37', 'DD-carboxypeptidase-A0A3R9H3A0', 'DD-carboxypeptidase-A0A3S4HG07', 'DD-carboxypeptidase-A0A3S4I3R5', 'DD-carboxypeptidase-A0A413H312', 'DD-carboxypeptidase-A0A414MAG5', 'DD-carboxypeptidase-A0A415DTS0', 'DD-carboxypeptidase-A0A416IU48', 'DD-carboxypeptidase-A0A416ZZD6', 'DD-carboxypeptidase-A0A447JKI8', 'DD-carboxypeptidase-A0A447RSB1', 'DD-carboxypeptidase-A0A447RSI8', 'DD-carboxypeptidase-A0A484ZMW2', 'DD-carboxypeptidase-A0A484ZV02', 'DD-carboxypeptidase-A0A485AFX9', 'DD-carboxypeptidase-A0A485B5S5', 'DD-carboxypeptidase-A0A485JCH6', 'DD-carboxypeptidase-A0A4P0UDW6', 'DD-carboxypeptidase-A0A4P8IH93', 'DD-carboxypeptidase-A0A4Q0AIA1', 'DD-carboxypeptidase-A0A4Q3CKM9', 'DD-carboxypeptidase-A0A4R8HNK7', 'DD-carboxypeptidase-A0A4U9HH08', 'DD-carboxypeptidase-A0A4U9ITZ3', 'DD-carboxypeptidase-A0A4V2RHZ3', 'DD-carboxypeptidase-A0A535ERD0', 'DD-carboxypeptidase-A0A538G3W9', 'DD-carboxypeptidase-A0A538U787', 'DD-carboxypeptidase-A0A542ZE06', 'DD-carboxypeptidase-A0A562ICL0', 'DD-carboxypeptidase-A0A564TVH4', 'DD-carboxypeptidase-A0A5C5V2E1', 'DD-carboxypeptidase-A0A5J4E6H9', 'DD-carboxypeptidase-A0A660KWX8', 'DD-carboxypeptidase-A0A660SPQ0', 'DD-carboxypeptidase-A0A663BP17', 'DD-carboxypeptidase-A0A6C0Q4I4', 'DD-carboxypeptidase-A0A6H3TM56', 'DD-carboxypeptidase-A0A6J4P204', 'DD-carboxypeptidase-A0A6L9G7Z4', 'DD-carboxypeptidase-A0A6N2X415', 'DD-carboxypeptidase-A0A6N2Z4U7', 'DD-carboxypeptidase-A0A7C5DJG4', 'DD-carboxypeptidase-A0A7C6YP48', 'DD-carboxypeptidase-A0A7D5SBJ3', 'DD-carboxypeptidase-A0A7J9W7Q1', 'DD-carboxypeptidase-A0A7V2JNQ2', 'DD-carboxypeptidase-A0A7V5N9K8', 'DD-carboxypeptidase-A0A7W0F5M9', 'DD-carboxypeptidase-A0A7W0QN99', 'DD-carboxypeptidase-A0A7W8H7C0', 'DD-carboxypeptidase-A0A7X3VGL9', 'DD-carboxypeptidase-A0A7X5DBR2', 'DD-carboxypeptidase-A0A7X8JS66', 'DD-carboxypeptidase-A0A7X9HWB6', 'DD-carboxypeptidase-A0A7Y6HIQ6', 'DD-carboxypeptidase-A0A7Z9I726', 'DD-carboxypeptidase-A0A826HES1', 'DD-carboxypeptidase-A0A839IQ00', 'DD-carboxypeptidase-A0A840P717', 'DD-carboxypeptidase-A0A844DZI0', 'DD-carboxypeptidase-A0A847KV57', 'DD-carboxypeptidase-A0A850QT51', 'DD-carboxypeptidase-A0A850SRV6', 'DD-carboxypeptidase-A0A853IPX3', 'DD-carboxypeptidase-A0A8B5XJT8', 'DD-carboxypeptidase-C2SUM1', 'DD-carboxypeptidase-C2WUE5', 'DD-carboxypeptidase-D4MMG2', 'DD-carboxypeptidase-D6E7C8', 'DD-carboxypeptidase-D7GNX4', 'DD-carboxypeptidase-G5KFZ6', 'DD-carboxypeptidase-I4C2Y9', 'DD-carboxypeptidase-K6Q8H8', 'DD-carboxypeptidase-K9TH29', 'DD-carboxypeptidase-M1ULY0', 'DD-carboxypeptidase-M7NSZ5', 'DD-carboxypeptidase-N4W678', 'DD-carboxypeptidase-Q59439', 'DD-carboxypeptidase-R5AND2', 'DD-carboxypeptidase-R5H8T8', 'DD-carboxypeptidase-R5NGN0', 'DD-carboxypeptidase-R5PUW3', 'DD-carboxypeptidase-R5V930', 'DD-carboxypeptidase-R6TSS7', 'DD-carboxypeptidase-R6Z7X6', 'DD-carboxypeptidase-R7A918', 'DD-carboxypeptidase-R7FCR3', 'DD-carboxypeptidase-R7H1N8', 'DD-carboxypeptidase-S3H7H7', 'DD-carboxypeptidase-S7SW74', 'DD-carboxypeptidase-S9R355', 'DD-carboxypeptidase-T0CFX8', 'DD-carboxypeptidase-T0THQ0', 'DD-carboxypeptidase-T4VPV1', 'DD-carboxypeptidase-U2ZIB4', 'DD-carboxypeptidase-W1DKQ9', 'DD-carboxypeptidase-X0PBS9', 'DD-carboxypeptidase-X8FBX9', 'DD-carboxypeptidase-nan', 'unclustered', 'DD-endopeptidase-A0A0B0HVF0', 'DD-endopeptidase-A0A0F0LBM7', 'DD-endopeptidase-A0A0J1ISN8', 'DD-endopeptidase-A0A0M6W7K1', 'DD-endopeptidase-A0A0P0FS44', 'DD-endopeptidase-A0A1B3JEG5', 'DD-endopeptidase-A0A1E3AR66', 'DD-endopeptidase-A0A1E3GX92', 'DD-endopeptidase-A0A1H2PS24', 'DD-endopeptidase-A0A1H3K3D0', 'DD-endopeptidase-A0A1H3QPG5', 'DD-endopeptidase-A0A1I0X3M1', 'DD-endopeptidase-A0A1I2BHE0', 'DD-endopeptidase-A0A1I3N976', 'DD-endopeptidase-A0A1K1XJB1', 'DD-endopeptidase-A0A1M5WS42', 'DD-endopeptidase-A0A1M5YFS9', 'DD-endopeptidase-A0A1M6ZCE9', 'DD-endopeptidase-A0A1M7P1H2', 'DD-endopeptidase-A0A1T4XY29', 'DD-endopeptidase-A0A1V4I7J1', 'DD-endopeptidase-A0A1V4W5I9', 'DD-endopeptidase-A0A1V5J2I4', 'DD-endopeptidase-A0A1V5UA40', 'DD-endopeptidase-A0A1V5W530', 'DD-endopeptidase-A0A1V5YP57', 'DD-endopeptidase-A0A1V6AT74', 'DD-endopeptidase-A0A1V6JQ50', 'DD-endopeptidase-A0A1W1YNH7', 'DD-endopeptidase-A0A1W1YRP3', 'DD-endopeptidase-A0A1W5DML3', 'DD-endopeptidase-A0A259UPC1', 'DD-endopeptidase-A0A285KPF1', 'DD-endopeptidase-A0A2C8YRG0', 'DD-endopeptidase-A0A2H5WJW2', 'DD-endopeptidase-A0A2H6IPM4', 'DD-endopeptidase-A0A2K4ZCZ0', 'DD-endopeptidase-A0A2N9PAQ0', 'DD-endopeptidase-A0A2S5R7M0', 'DD-endopeptidase-A0A2U1U6C5', 'DD-endopeptidase-A0A2W1JF76', 'DD-endopeptidase-A0A375AC43', 'DD-endopeptidase-A0A377JJH8', 'DD-endopeptidase-A0A377TWP0', 'DD-endopeptidase-A0A399F503', 'DD-endopeptidase-A0A3S4IL82', 'DD-endopeptidase-A0A447RLB1', 'DD-endopeptidase-A0A455VMB8', 'DD-endopeptidase-A0A4R6R5S4', 'DD-endopeptidase-A0A660C7S5', 'DD-endopeptidase-A0A6F9ZJR2', 'DD-endopeptidase-A0A6L5C0G8', 'DD-endopeptidase-A0A6N2R5C5', 'DD-endopeptidase-A0A6N2T3S1', 'DD-endopeptidase-A0A6N2Z9Y8', 'DD-endopeptidase-A0A6N3CAN2', 'DD-endopeptidase-A0A6N3CYY7', 'DD-endopeptidase-A0A6N3DZJ8', 'DD-endopeptidase-A0A6N3FL01', 'DD-endopeptidase-A0A6N3GDT2', 'DD-endopeptidase-A0A6N3HF07', 'DD-endopeptidase-A0A7H4NFM5', 'DD-endopeptidase-A0A7H4NFM7', 'DD-endopeptidase-A0A7H4P036', 'DD-endopeptidase-A0A7U9RH74', 'DD-endopeptidase-A0A7U9RTZ0', 'DD-endopeptidase-A0A7W3XSQ6', 'DD-endopeptidase-A0A7W6MNB0', 'DD-endopeptidase-A0A7W7EZV7', 'DD-endopeptidase-A0A7W7EZY2', 'DD-endopeptidase-A0A7W8ZVP2', 'DD-endopeptidase-A0A7W9ZAP9', 'DD-endopeptidase-A0A829ZGS3', 'DD-endopeptidase-A0A839NA17', 'DD-endopeptidase-A0A839SRP5', 'DD-endopeptidase-A0A839YXT0', 'DD-endopeptidase-A0A840A4A9', 'DD-endopeptidase-A0A840CU08', 'DD-endopeptidase-A0A840V6T9', 'DD-endopeptidase-A0A841PLY4', 'DD-endopeptidase-A0A852RAH9', 'DD-endopeptidase-A0A8B6ISD1', 'DD-endopeptidase-B6VLI3', 'DD-endopeptidase-nan', 'Amidase-A0A015UH29', 'Amidase-A0A017NBB5', 'Amidase-A0A024GY02', 'Amidase-A0A062BTC2', 'Amidase-A0A072N4U2', 'Amidase-A0A072Y8E9', 'Amidase-A0A077FDY1', 'Amidase-A0A081BJ85', 'Amidase-A0A084JCH1', 'Amidase-A0A085W079', 'Amidase-A0A087D016', 'Amidase-A0A087DHD9', 'Amidase-A0A098CXV0', 'Amidase-A0A0A7FY91', 'Amidase-A0A0B0HK70', 'Amidase-A0A0D1JDY3', 'Amidase-A0A0D1LZ26', 'Amidase-A0A0E1KSA8', 'Amidase-A0A0E8SZE3', 'Amidase-A0A0G0CCG0', 'Amidase-A0A0G0YHS7', 'Amidase-A0A0G1KR24', 'Amidase-A0A0G3A1E9', 'Amidase-A0A0J1FV79', 'Amidase-A0A0J1FXL9', 'Amidase-A0A0K1L1A7', 'Amidase-A0A0N0UWP8', 'Amidase-A0A0Q9B0T8', 'Amidase-A0A0R1FVN4', 'Amidase-A0A0R1KHR0', 'Amidase-A0A0R1SRI3', 'Amidase-A0A0R2AB19', 'Amidase-A0A0S6U251', 'Amidase-A0A0U5BA96', 'Amidase-A0A0V8C0V8', 'Amidase-A0A0V8CZN4', 'Amidase-A0A0V8DV25', 'Amidase-A0A109LBF6', 'Amidase-A0A127SWP4', 'Amidase-A0A133QC30', 'Amidase-A0A139MHB2', 'Amidase-A0A139PDD9', 'Amidase-A0A139PRF0', 'Amidase-A0A139R807', 'Amidase-A0A139RHN0', 'Amidase-A0A143WQS9', 'Amidase-A0A143YBH3', 'Amidase-A0A150KZN0', 'Amidase-A0A158SK15', 'Amidase-A0A161YNG5', 'Amidase-A0A166TT70', 'Amidase-A0A169PQX9', 'Amidase-A0A173XLG2', 'Amidase-A0A174HCM0', 'Amidase-A0A174V1B3', 'Amidase-A0A174XEP7', 'Amidase-A0A178IKK0', 'Amidase-A0A178TU57', 'Amidase-A0A178X8J9', 'Amidase-A0A193QHI5', 'Amidase-A0A1B9L178', 'Amidase-A0A1C5N059', 'Amidase-A0A1C6BH18', 'Amidase-A0A1C6ET88', 'Amidase-A0A1C6G934', 'Amidase-A0A1C6IGR4', 'Amidase-A0A1C6JPP0', 'Amidase-A0A1C6K4X4', 'Amidase-A0A1D3TP38', 'Amidase-A0A1E5GRD6', 'Amidase-A0A1E7G6F3', 'Amidase-A0A1F1R3E2', 'Amidase-A0A1F9RZG5', 'Amidase-A0A1G0H9T4', 'Amidase-A0A1G2F1W6', 'Amidase-A0A1G5XMQ8', 'Amidase-A0A1G9N1Y1', 'Amidase-A0A1G9R1B4', 'Amidase-A0A1H1YDW9', 'Amidase-A0A1H3QAV4', 'Amidase-A0A1H3SQU2', 'Amidase-A0A1H6USN8', 'Amidase-A0A1H7HT27', 'Amidase-A0A1H8AKG4', 'Amidase-A0A1H8PCX1', 'Amidase-A0A1I0GGG7', 'Amidase-A0A1I1DKS8', 'Amidase-A0A1I7F2B8', 'Amidase-A0A1J0TQA8', 'Amidase-A0A1M4WFY9', 'Amidase-A0A1M6AI56', 'Amidase-A0A1M6H5K2', 'Amidase-A0A1Q3S3W8', 'Amidase-A0A1Q5PUK4', 'Amidase-A0A1Q6TM79', 'Amidase-A0A1R4GAF5', 'Amidase-A0A1S8SVE6', 'Amidase-A0A1V2KL28', 'Amidase-A0A1V5IY25', 'Amidase-A0A1V5P9L7', 'Amidase-A0A1V6A5C0', 'Amidase-A0A1V6CBR5', 'Amidase-A0A1V9IRZ0', 'Amidase-A0A1W6MX80', 'Amidase-A0A1W7ABN8', 'Amidase-A0A1X7QVK9', 'Amidase-A0A1X9MHQ9', 'Amidase-A0A1Y2K9D2', 'Amidase-A0A1Y4EN81', 'Amidase-A0A220U202', 'Amidase-A0A233V2B9', 'Amidase-A0A233V5Y8', 'Amidase-A0A233VWG4', 'Amidase-A0A233W6K7', 'Amidase-A0A239IHU5', 'Amidase-A0A243GSF0', 'Amidase-A0A246JE87', 'Amidase-A0A250IAJ5', 'Amidase-A0A261GNJ8', 'Amidase-A0A268TMA5', 'Amidase-A0A269XKT4', 'Amidase-A0A288GUM4', 'Amidase-A0A2A5SDN1', 'Amidase-A0A2D0BGD7', 'Amidase-A0A2D5EVF5', 'Amidase-A0A2D6BJD8', 'Amidase-A0A2E9I252', 'Amidase-A0A2H0QCB0', 'Amidase-A0A2H1NS27', 'Amidase-A0A2H5ZS40', 'Amidase-A0A2I1PH08', 'Amidase-A0A2I3EU51', 'Amidase-A0A2I8AIV3', 'Amidase-A0A2K9P053', 'Amidase-A0A2M7A5W4', 'Amidase-A0A2N3I6X9', 'Amidase-A0A2N5GVE0', 'Amidase-A0A2N6UEJ0', 'Amidase-A0A2R8C4N2', 'Amidase-A0A2S5HEZ7', 'Amidase-A0A2S8JGS3', 'Amidase-A0A2T0BP98', 'Amidase-A0A2T0BSM7', 'Amidase-A0A2T4SEC3', 'Amidase-A0A2V3YDB3', 'Amidase-A0A2V8K4Z1', 'Amidase-A0A2V8S043', 'Amidase-A0A2V9WNN9', 'Amidase-A0A2W2GLL7', 'Amidase-A0A2W5XFD7', 'Amidase-A0A2X0QZY0', 'Amidase-A0A2X0RE73', 'Amidase-A0A2X0VPM4', 'Amidase-A0A2X1QJJ0', 'Amidase-A0A2X3CU47', 'Amidase-A0A2X4N3T0', 'Amidase-A0A2X5CLD8', 'Amidase-A0A315Y564', 'Amidase-A0A316E1D1', 'Amidase-A0A316SD96', 'Amidase-A0A318EIU5', 'Amidase-A0A330LGV3', 'Amidase-A0A347ZW42', 'Amidase-A0A348ZD10', 'Amidase-A0A349D4R6', 'Amidase-A0A349HAM4', 'Amidase-A0A352WFF5', 'Amidase-A0A367ZUP3', 'Amidase-A0A371S018', 'Amidase-A0A373D171', 'Amidase-A0A373D712', 'Amidase-A0A373D8A2', 'Amidase-A0A373IZC1', 'Amidase-A0A374AB68', 'Amidase-A0A374BQD9', 'Amidase-A0A374E5V1', 'Amidase-A0A374IQI0', 'Amidase-A0A374NA86', 'Amidase-A0A374RF09', 'Amidase-A0A374VU40', 'Amidase-A0A376L2A3', 'Amidase-A0A376L3D5', 'Amidase-A0A376L9K0', 'Amidase-A0A376VGL9', 'Amidase-A0A376ZL45', 'Amidase-A0A377AEW0', 'Amidase-A0A377AFF2', 'Amidase-A0A377ARD5', 'Amidase-A0A377BU28', 'Amidase-A0A377CDU1', 'Amidase-A0A377FMP1', 'Amidase-A0A377K170', 'Amidase-A0A377K339', 'Amidase-A0A377PCJ9', 'Amidase-A0A377PEK5', 'Amidase-A0A377TYT2', 'Amidase-A0A378AI88', 'Amidase-A0A378AP80', 'Amidase-A0A378BE14', 'Amidase-A0A379WQ87', 'Amidase-A0A380E2C2', 'Amidase-A0A380EFW6', 'Amidase-A0A380EPW8', 'Amidase-A0A380FIS5', 'Amidase-A0A380KPZ1', 'Amidase-A0A385NSM3', 'Amidase-A0A388PG48', 'Amidase-A0A395YJQ6', 'Amidase-A0A395YRS9', 'Amidase-A0A396PDF8', 'Amidase-A0A399IPU6', 'Amidase-A0A399IT86', 'Amidase-A0A3A8UJG0', 'Amidase-A0A3B7DG18', 'Amidase-A0A3C1EJV6', 'Amidase-A0A3D1V589', 'Amidase-A0A3D3U8F8', 'Amidase-A0A3D4R4K2', 'Amidase-A0A3D6ABC2', 'Amidase-A0A3E0KKG9', 'Amidase-A0A3E4PZL9', 'Amidase-A0A3G1J182', 'Amidase-A0A3M1TWX2', 'Amidase-A0A3M2BRK7', 'Amidase-A0A3M5V7X2', 'Amidase-A0A3M5WFZ3', 'Amidase-A0A3M6PPG7', 'Amidase-A0A3N2CW57', 'Amidase-A0A3N2K3H7', 'Amidase-A0A3N5B293', 'Amidase-A0A3P1V5J5', 'Amidase-A0A3R6L668', 'Amidase-A0A3R6RNK4', 'Amidase-A0A3R6T0U5', 'Amidase-A0A3R6U3R8', 'Amidase-A0A3R6UTV7', 'Amidase-A0A3R6V5M3', 'Amidase-A0A3R9GUJ3', 'Amidase-A0A3R9HRN6', 'Amidase-A0A3R9L190', 'Amidase-A0A3R9N950', 'Amidase-A0A3S4VPW1', 'Amidase-A0A412HLN3', 'Amidase-A0A413FTU5', 'Amidase-A0A413RG41', 'Amidase-A0A413TDI8', 'Amidase-A0A414T839', 'Amidase-A0A415TCM1', 'Amidase-A0A416ERY2', 'Amidase-A0A416VUU7', 'Amidase-A0A416ZWG9', 'Amidase-A0A417AD96', 'Amidase-A0A417AYZ1', 'Amidase-A0A417DHI3', 'Amidase-A0A417ENV1', 'Amidase-A0A417SAG9', 'Amidase-A0A417VMT3', 'Amidase-A0A419GEF5', 'Amidase-A0A427ZV69', 'Amidase-A0A432L6Q0', 'Amidase-A0A433EEN9', 'Amidase-A0A446IA63', 'Amidase-A0A447JKD1', 'Amidase-A0A447NND8', 'Amidase-A0A447TW82', 'Amidase-A0A447TYH6', 'Amidase-A0A448A9B8', 'Amidase-A0A448QT76', 'Amidase-A0A455SSC1', 'Amidase-A0A455T3E6', 'Amidase-A0A485AN42', 'Amidase-A0A485CCP0', 'Amidase-A0A495A1K4', 'Amidase-A0A496N986', 'Amidase-A0A4P8HAK8', 'Amidase-A0A4Q5YDB4', 'Amidase-A0A4Q7DNX7', 'Amidase-A0A4R2L1Y6', 'Amidase-A0A4R2RC55', 'Amidase-A0A4S3PJS1', 'Amidase-A0A4U8Q727', 'Amidase-A0A4U9D676', 'Amidase-A0A4U9D6H0', 'Amidase-A0A4U9DAW4', 'Amidase-A0A4U9HI93', 'Amidase-A0A4U9HUU1', 'Amidase-A0A4V0ET45', 'Amidase-A0A4V2R1G3', 'Amidase-A0A4V3BEQ8', 'Amidase-A0A4V6JH64', 'Amidase-A0A4V6LWM3', 'Amidase-A0A4Y1ZF83', 'Amidase-A0A4Y8KZE2', 'Amidase-A0A4Y8X0Y5', 'Amidase-A0A510WEK9', 'Amidase-A0A521KP95', 'Amidase-A0A523VD41', 'Amidase-A0A534TJ56', 'Amidase-A0A535HK62', 'Amidase-A0A535X4W3', 'Amidase-A0A536S610', 'Amidase-A0A538FG86', 'Amidase-A0A538PWY1', 'Amidase-A0A559UAY2', 'Amidase-A0A562HLZ4', 'Amidase-A0A563BFR8', 'Amidase-A0A564SMW6', 'Amidase-A0A5B7XAL7', 'Amidase-A0A5C6KTV7', 'Amidase-A0A5C7Q7Q4', 'Amidase-A0A5E7XWZ8', 'Amidase-A0A5F0K4Q7', 'Amidase-A0A5K1J6W4', 'Amidase-A0A5Q2TJ94', 'Amidase-A0A5S9PZB0', 'Amidase-A0A646HSM4', 'Amidase-A0A655EIP8', 'Amidase-A0A655RZV8', 'Amidase-A0A656A205', 'Amidase-A0A661IHI7', 'Amidase-A0A663BB50', 'Amidase-A0A6A7RYW8', 'Amidase-A0A6G1VJS5', 'Amidase-A0A6G8AYJ3', 'Amidase-A0A6I1REW9', 'Amidase-A0A6I2U068', 'Amidase-A0A6J4HED9', 'Amidase-A0A6L3JRB4', 'Amidase-A0A6L4AY65', 'Amidase-A0A6L5H4M1', 'Amidase-A0A6L5TXU8', 'Amidase-A0A6L9EQE5', 'Amidase-A0A6M1VL57', 'Amidase-A0A6N2RTI6', 'Amidase-A0A6N2U056', 'Amidase-A0A6N2UGB3', 'Amidase-A0A6N2UIN0', 'Amidase-A0A6N2ZGP1', 'Amidase-A0A6N3ADZ5', 'Amidase-A0A6N3B9W7', 'Amidase-A0A6N3BUZ5', 'Amidase-A0A6N3CUE4', 'Amidase-A0A6N7BRA0', 'Amidase-A0A6N7SN03', 'Amidase-A0A6N7UXE1', 'Amidase-A0A6N8HTQ1', 'Amidase-A0A6N9P4Y1', 'Amidase-A0A6V7RLH1', 'Amidase-A0A6V8LZG1', 'Amidase-A0A7C1P4V8', 'Amidase-A0A7C2P1V6', 'Amidase-A0A7C2UYR9', 'Amidase-A0A7C6SBI0', 'Amidase-A0A7C6UVS0', 'Amidase-A0A7C6ZNH3', 'Amidase-A0A7C9N6K0', 'Amidase-A0A7G9WG71', 'Amidase-A0A7K0ASC9', 'Amidase-A0A7K1T6D1', 'Amidase-A0A7K3KPA7', 'Amidase-A0A7R6PCR6', 'Amidase-A0A7U6H661', 'Amidase-A0A7U6KIQ4', 'Amidase-A0A7U9R3U1', 'Amidase-A0A7U9S8H5', 'Amidase-A0A7U9WR97', 'Amidase-A0A7U9X8I7', 'Amidase-A0A7V0IH32', 'Amidase-A0A7V2MRL5', 'Amidase-A0A7V8U610', 'Amidase-A0A7V8XZM4', 'Amidase-A0A7V9C1P4', 'Amidase-A0A7W0ENP4', 'Amidase-A0A7W0U6U7', 'Amidase-A0A7W1IHX0', 'Amidase-A0A7W1RE05', 'Amidase-A0A7W1W1M2', 'Amidase-A0A7W2SPU1', 'Amidase-A0A7W3TNL3', 'Amidase-A0A7W8CWH4', 'Amidase-A0A7W9SUW4', 'Amidase-A0A7X0S9L4', 'Amidase-A0A7X2P4C9', 'Amidase-A0A7X2Y2N6', 'Amidase-A0A7X5DHP9', 'Amidase-A0A7X6J9T2', 'Amidase-A0A7X7HDU7', 'Amidase-A0A7X8G0P9', 'Amidase-A0A7X9IZ61', 'Amidase-A0A7X9N595', 'Amidase-A0A7X9S5S8', 'Amidase-A0A7Y1V3J3', 'Amidase-A0A7Y2DE71', 'Amidase-A0A7Y5CCF2', 'Amidase-A0A7Y5U384', 'Amidase-A0A7Z7QXY5', 'Amidase-A0A7Z9KWI0', 'Amidase-A0A7Z9PKR5', 'Amidase-A0A7Z9WTE6', 'Amidase-A0A7Z9XDS8', 'Amidase-A0A829A4C9', 'Amidase-A0A829GQV2', 'Amidase-A0A832QCY8', 'Amidase-A0A837IUD5', 'Amidase-A0A841LJQ4', 'Amidase-A0A841PWQ3', 'Amidase-A0A844E2U4', 'Amidase-A0A844JUQ0', 'Amidase-A0A844X885', 'Amidase-A0A847PGS9', 'Amidase-A0A848Y5N8', 'Amidase-A0A849YFD0', 'Amidase-A0A850HLQ7', 'Amidase-A0A851HC77', 'Amidase-A0A851IA66', 'Amidase-A0A854XCG6', 'Amidase-A0A8B3FKV7', 'Amidase-A0ALP4', 'Amidase-A1QZW1', 'Amidase-A5ZNJ9', 'Amidase-B0TEC1', 'Amidase-B6FYK5', 'Amidase-B9W4U8', 'Amidase-C9KNZ6', 'Amidase-C9KUE4', 'Amidase-C9RCM7', 'Amidase-D0WBL1', 'Amidase-F0HWN8', 'Amidase-F2R7D7', 'Amidase-F3UXY6', 'Amidase-G5NAG9', 'Amidase-G9ZXA6', 'Amidase-H0UGJ6', 'Amidase-I2C9E3', 'Amidase-I7J6A5', 'Amidase-M4YX32', 'Amidase-N1UHZ3', 'Amidase-Q38Y95', 'Amidase-Q3EK55', 'Amidase-Q3EQP3', 'Amidase-Q897G3', 'Amidase-Q897P1', 'Amidase-Q8FRA0', 'Amidase-Q93G55', 'Amidase-R1CGG8', 'Amidase-R2Y585', 'Amidase-R5AHW3', 'Amidase-R5GLE2', 'Amidase-R5IRD9', 'Amidase-R5IZP6', 'Amidase-R5JJW9', 'Amidase-R5JM70', 'Amidase-R5L864', 'Amidase-R5TJC0', 'Amidase-R5ZXG6', 'Amidase-R6AN80', 'Amidase-R6H0K7', 'Amidase-R6MVY6', 'Amidase-R6PEQ6', 'Amidase-R6SHQ9', 'Amidase-R6TEU6', 'Amidase-R6XXB6', 'Amidase-R7FK28', 'Amidase-R7H9H9', 'Amidase-R7P2J0', 'Amidase-R9BXU6', 'Amidase-T1DVH4', 'Amidase-T2IUT6', 'Amidase-U2EI94', 'Amidase-V6F1Z2', 'Amidase-W0FL63', 'Amidase-W1UEN2', 'Amidase-W1X2M4', 'Amidase-W4UXJ1', 'Amidase-nan', 'unclustered', 'Muramidase-A0A011N0Q1', 'Muramidase-A0A075R6B1', 'Muramidase-A0A078LJB7', 'Muramidase-A0A087B2V4', 'Muramidase-A0A090QL71', 'Muramidase-A0A0A8FMV8', 'Muramidase-A0A0A8X5Z1', 'Muramidase-A0A0C2S3R7', 'Muramidase-A0A0E2HEG0', 'Muramidase-A0A0E3WFK5', 'Muramidase-A0A0F4VMI7', 'Muramidase-A0A0F5I4G4', 'Muramidase-A0A0F5P9U3', 'Muramidase-A0A0G1YBW8', 'Muramidase-A0A0H2Z3S5', 'Muramidase-A0A0J5VE76', 'Muramidase-A0A0J7XYQ7', 'Muramidase-A0A0K6H947', 'Muramidase-A0A0K9TA50', 'Muramidase-A0A0L1LLS7', 'Muramidase-A0A0L8F022', 'Muramidase-A0A0M2NIX8', 'Muramidase-A0A0N0D2Z2', 'Muramidase-A0A0N0V431', 'Muramidase-A0A0P8WA22', 'Muramidase-A0A0Q2Y6A7', 'Muramidase-A0A0Q5DHU7', 'Muramidase-A0A0Q8QAC5', 'Muramidase-A0A0R1P8F1', 'Muramidase-A0A0R1UCA3', 'Muramidase-A0A0R2DAQ2', 'Muramidase-A0A0R2DK37', 'Muramidase-A0A0R2IBS7', 'Muramidase-A0A0U1QLU6', 'Muramidase-A0A0U3FW74', 'Muramidase-A0A0U5II31', 'Muramidase-A0A0V8BJX0', 'Muramidase-A0A0V8BZD9', 'Muramidase-A0A0W1KIA0', 'Muramidase-A0A0X8JDX3', 'Muramidase-A0A120KTE6', 'Muramidase-A0A128ET70', 'Muramidase-A0A136L233', 'Muramidase-A0A139MG29', 'Muramidase-A0A141RGP2', 'Muramidase-A0A142INH0', 'Muramidase-A0A150K5H8', 'Muramidase-A0A158J9I7', 'Muramidase-A0A173XZ41', 'Muramidase-A0A173ZBW9', 'Muramidase-A0A174BGG6', 'Muramidase-A0A174D8S5', 'Muramidase-A0A174RK63', 'Muramidase-A0A174VG92', 'Muramidase-A0A174ZDU7', 'Muramidase-A0A1A7KFR6', 'Muramidase-A0A1C2JG90', 'Muramidase-A0A1C3H387', 'Muramidase-A0A1C3SD71', 'Muramidase-A0A1C3WN92', 'Muramidase-A0A1C3Y8G2', 'Muramidase-A0A1C5L8D3', 'Muramidase-A0A1C5S4K0', 'Muramidase-A0A1C5XZR0', 'Muramidase-A0A1C6AE64', 'Muramidase-A0A1C6CM69', 'Muramidase-A0A1C6CUZ1', 'Muramidase-A0A1C6GJ66', 'Muramidase-A0A1C6JVK9', 'Muramidase-A0A1C9VN45', 'Muramidase-A0A1D2L7R0', 'Muramidase-A0A1D2S554', 'Muramidase-A0A1E5TML8', 'Muramidase-A0A1F3VIL9', 'Muramidase-A0A1F6ETM3', 'Muramidase-A0A1G3JRM4', 'Muramidase-A0A1G6CE93', 'Muramidase-A0A1G6CPZ6', 'Muramidase-A0A1G9CQ73', 'Muramidase-A0A1H0QLS2', 'Muramidase-A0A1H4KV88', 'Muramidase-A0A1H6LY20', 'Muramidase-A0A1H7Z7N1', 'Muramidase-A0A1H9CAE9', 'Muramidase-A0A1H9JMJ9', 'Muramidase-A0A1I3CT30', 'Muramidase-A0A1I5G9K1', 'Muramidase-A0A1I6KS43', 'Muramidase-A0A1I6PGW2', 'Muramidase-A0A1I9X0B9', 'Muramidase-A0A1L8TG29', 'Muramidase-A0A1M3PX98', 'Muramidase-A0A1M4M9Q8', 'Muramidase-A0A1M7LW81', 'Muramidase-A0A1Q6L3T8', 'Muramidase-A0A1Q6RAD2', 'Muramidase-A0A1Q6YS27', 'Muramidase-A0A1Q8YNE5', 'Muramidase-A0A1R4F0V8', 'Muramidase-A0A1S1CNH8', 'Muramidase-A0A1S1NQL5', 'Muramidase-A0A1S8L485', 'Muramidase-A0A1T4Q9G8', 'Muramidase-A0A1U7GM02', 'Muramidase-A0A1U9NN26', 'Muramidase-A0A1V4IW64', 'Muramidase-A0A1V5G9Y1', 'Muramidase-A0A1V5GAE1', 'Muramidase-A0A1V5KV49', 'Muramidase-A0A1V5UF42', 'Muramidase-A0A1V5YU78', 'Muramidase-A0A1V5ZPA0', 'Muramidase-A0A1V6HZD5', 'Muramidase-A0A1V8PLK1', 'Muramidase-A0A1W6LMA8', 'Muramidase-A0A1X1L9E1', 'Muramidase-A0A1X3A2L7', 'Muramidase-A0A1X3IA24', 'Muramidase-A0A1Y0BZ80', 'Muramidase-A0A1Y4QK08', 'Muramidase-A0A1Y4QR82', 'Muramidase-A0A1Y6CTG9', 'Muramidase-A0A1Y6K8I0', 'Muramidase-A0A1Z2SJG6', 'Muramidase-A0A200L0V0', 'Muramidase-A0A223P7U4', 'Muramidase-A0A226BWH4', 'Muramidase-A0A226GQT8', 'Muramidase-A0A229I452', 'Muramidase-A0A246WM26', 'Muramidase-A0A255TB78', 'Muramidase-A0A257G7K2', 'Muramidase-A0A258HMI9', 'Muramidase-A0A258XAK5', 'Muramidase-A0A259NLB3', 'Muramidase-A0A261F7G8', 'Muramidase-A0A2A2CB46', 'Muramidase-A0A2A2EFS3', 'Muramidase-A0A2A7TB69', 'Muramidase-A0A2A9KB92', 'Muramidase-A0A2B9TMH9', 'Muramidase-A0A2D4QW59', 'Muramidase-A0A2D5F729', 'Muramidase-A0A2D7Y4X9', 'Muramidase-A0A2E2QEV1', 'Muramidase-A0A2E5KWR7', 'Muramidase-A0A2G6LD42', 'Muramidase-A0A2H5W9N1', 'Muramidase-A0A2I2AB40', 'Muramidase-A0A2J7THI1', 'Muramidase-A0A2K4C3K8', 'Muramidase-A0A2K4ZGU8', 'Muramidase-A0A2M8A1B0', 'Muramidase-A0A2M9HSI6', 'Muramidase-A0A2M9ZCG7', 'Muramidase-A0A2N0TKC4', 'Muramidase-A0A2N0WIA4', 'Muramidase-A0A2N2ZW25', 'Muramidase-A0A2N5WBQ5', 'Muramidase-A0A2N7S326', 'Muramidase-A0A2N8I6H3', 'Muramidase-A0A2N8MCM5', 'Muramidase-A0A2P9E797', 'Muramidase-A0A2S0KP84', 'Muramidase-A0A2S3U6T6', 'Muramidase-A0A2S8X4A1', 'Muramidase-A0A2T1ARM9', 'Muramidase-A0A2T3F9E5', 'Muramidase-A0A2T3FWS9', 'Muramidase-A0A2T7YIN2', 'Muramidase-A0A2V1K5W8', 'Muramidase-A0A2V2CCV5', 'Muramidase-A0A2V2SRQ9', 'Muramidase-A0A2V5LFQ3', 'Muramidase-A0A2W6EY97', 'Muramidase-A0A2W7IUA4', 'Muramidase-A0A2X0PG41', 'Muramidase-A0A2X0QXT8', 'Muramidase-A0A2X0WBY3', 'Muramidase-A0A2X1JGI3', 'Muramidase-A0A2X1QQB9', 'Muramidase-A0A2X2SX28', 'Muramidase-A0A2X2SZ50', 'Muramidase-A0A2X3CUA9', 'Muramidase-A0A2X3E7A0', 'Muramidase-A0A2X3GNH8', 'Muramidase-A0A2X3IGF9', 'Muramidase-A0A2X3JWG6', 'Muramidase-A0A2X3KDX5', 'Muramidase-A0A2X3VF67', 'Muramidase-A0A2X4TJ27', 'Muramidase-A0A2Z6B1U6', 'Muramidase-A0A2Z6PZV7', 'Muramidase-A0A317GVF6', 'Muramidase-A0A347ZWQ0', 'Muramidase-A0A349BY18', 'Muramidase-A0A350IAI4', 'Muramidase-A0A352CN15', 'Muramidase-A0A353NQ63', 'Muramidase-A0A353XW06', 'Muramidase-A0A354HIH9', 'Muramidase-A0A357Y4U8', 'Muramidase-A0A359LME5', 'Muramidase-A0A367ZCK7', 'Muramidase-A0A371WIE9', 'Muramidase-A0A373VFH9', 'Muramidase-A0A374NZH9', 'Muramidase-A0A376FGU0', 'Muramidase-A0A376FJT0', 'Muramidase-A0A376L982', 'Muramidase-A0A376LI87', 'Muramidase-A0A376SBK3', 'Muramidase-A0A376U6H5', 'Muramidase-A0A376UEZ2', 'Muramidase-A0A376UGA3', 'Muramidase-A0A376Y679', 'Muramidase-A0A377A418', 'Muramidase-A0A377AGP5', 'Muramidase-A0A377B8V0', 'Muramidase-A0A377BSU4', 'Muramidase-A0A377BXF4', 'Muramidase-A0A377C2B7', 'Muramidase-A0A377C4Q1', 'Muramidase-A0A377C8K4', 'Muramidase-A0A377D7B9', 'Muramidase-A0A377DNF6', 'Muramidase-A0A377E5S9', 'Muramidase-A0A377LFD4', 'Muramidase-A0A377NGP6', 'Muramidase-A0A377NGR8', 'Muramidase-A0A377NH98', 'Muramidase-A0A377PFR3', 'Muramidase-A0A377TNA6', 'Muramidase-A0A377XAN5', 'Muramidase-A0A378AHN3', 'Muramidase-A0A378AYU6', 'Muramidase-A0A378C2N6', 'Muramidase-A0A378LWD9', 'Muramidase-A0A379AGG1', 'Muramidase-A0A379VR70', 'Muramidase-A0A380L0B2', 'Muramidase-A0A381G2F9', 'Muramidase-A0A381GHS2', 'Muramidase-A0A381H835', 'Muramidase-A0A3A1Y9X2', 'Muramidase-A0A3A9FAE2', 'Muramidase-A0A3B8HH68', 'Muramidase-A0A3B8QX11', 'Muramidase-A0A3B9HVM0', 'Muramidase-A0A3C0P180', 'Muramidase-A0A3D0FIP6', 'Muramidase-A0A3D0FJV7', 'Muramidase-A0A3D2W4D2', 'Muramidase-A0A3D4L433', 'Muramidase-A0A3D8PBP5', 'Muramidase-A0A3E2BST6', 'Muramidase-A0A3E2TRV3', 'Muramidase-A0A3G6YV78', 'Muramidase-A0A3L7E2P4', 'Muramidase-A0A3N2M7Q4', 'Muramidase-A0A3N6ES69', 'Muramidase-A0A3P1VCJ6', 'Muramidase-A0A3P1XNS4', 'Muramidase-A0A3P5XF32', 'Muramidase-A0A3Q9FY36', 'Muramidase-A0A3R6PBB4', 'Muramidase-A0A3S3QNA2', 'Muramidase-A0A3S4HZU0', 'Muramidase-A0A3S4KNE9', 'Muramidase-A0A3S4LSY7', 'Muramidase-A0A3S4PBG6', 'Muramidase-A0A3S4YFD5', 'Muramidase-A0A3S5DHT2', 'Muramidase-A0A3T2V1H4', 'Muramidase-A0A413UD28', 'Muramidase-A0A413Z4A2', 'Muramidase-A0A414KDW7', 'Muramidase-A0A414KQZ5', 'Muramidase-A0A414RH06', 'Muramidase-A0A415K0P1', 'Muramidase-A0A415ZT48', 'Muramidase-A0A416S5N0', 'Muramidase-A0A417NBK2', 'Muramidase-A0A417T1Y9', 'Muramidase-A0A417WSJ1', 'Muramidase-A0A418PIP4', 'Muramidase-A0A433GEU9', 'Muramidase-A0A446ZIB5', 'Muramidase-A0A447M9P0', 'Muramidase-A0A447P8W4', 'Muramidase-A0A447PAN8', 'Muramidase-A0A447U1U4', 'Muramidase-A0A447WEF5', 'Muramidase-A0A448D759', 'Muramidase-A0A450SW72', 'Muramidase-A0A455VZ36', 'Muramidase-A0A484HJJ3', 'Muramidase-A0A484YSY4', 'Muramidase-A0A484Z8J9', 'Muramidase-A0A484ZFN5', 'Muramidase-A0A485ANB7', 'Muramidase-A0A485AS74', 'Muramidase-A0A485B2E3', 'Muramidase-A0A485B3B6', 'Muramidase-A0A485BU55', 'Muramidase-A0A485BWD7', 'Muramidase-A0A485C067', 'Muramidase-A0A485C8J4', 'Muramidase-A0A486DDE4', 'Muramidase-A0A495V7Y5', 'Muramidase-A0A496PDI9', 'Muramidase-A0A4J1XYS2', 'Muramidase-A0A4P6DQP2', 'Muramidase-A0A4P6X184', 'Muramidase-A0A4Q0IHD2', 'Muramidase-A0A4Q3MM19', 'Muramidase-A0A4R0FKA5', 'Muramidase-A0A4R0PCF0', 'Muramidase-A0A4R2BHD2', 'Muramidase-A0A4R2CKM1', 'Muramidase-A0A4R2TDI3', 'Muramidase-A0A4R3AB01', 'Muramidase-A0A4R3JAE4', 'Muramidase-A0A4R3MZR7', 'Muramidase-A0A4R5N7B0', 'Muramidase-A0A4R6SHW0', 'Muramidase-A0A4R6XTX5', 'Muramidase-A0A4R7WFF7', 'Muramidase-A0A4S2AN32', 'Muramidase-A0A4S4A5T5', 'Muramidase-A0A4U8Q8V3', 'Muramidase-A0A4U9WHG4', 'Muramidase-A0A4V2WDK5', 'Muramidase-A0A4Z0DE45', 'Muramidase-A0A4Z0S334', 'Muramidase-A0A508VHN6', 'Muramidase-A0A508W1P5', 'Muramidase-A0A509CW04', 'Muramidase-A0A509CZF1', 'Muramidase-A0A511YKT9', 'Muramidase-A0A519BQL5', 'Muramidase-A0A520YPY2', 'Muramidase-A0A521STF0', 'Muramidase-A0A522FJC4', 'Muramidase-A0A522GMT4', 'Muramidase-A0A534PM21', 'Muramidase-A0A534QK47', 'Muramidase-A0A537AJ42', 'Muramidase-A0A537JPG7', 'Muramidase-A0A537PTU6', 'Muramidase-A0A538IDP4', 'Muramidase-A0A554JJH7', 'Muramidase-A0A554KEP9', 'Muramidase-A0A556CN56', 'Muramidase-A0A561DCD8', 'Muramidase-A0A563DX96', 'Muramidase-A0A564S8J2', 'Muramidase-A0A5C0DVP2', 'Muramidase-A0A5C1DFD6', 'Muramidase-A0A5C7QE19', 'Muramidase-A0A5D0TT65', 'Muramidase-A0A5E4WJ01', 'Muramidase-A0A5E4WL62', 'Muramidase-A0A5E6NVI4', 'Muramidase-A0A5K7U7K9', 'Muramidase-A0A5N7MBX0', 'Muramidase-A0A5R9B8G6', 'Muramidase-A0A5Y7W8F4', 'Muramidase-A0A605RST0', 'Muramidase-A0A628M6N4', 'Muramidase-A0A641BE80', 'Muramidase-A0A654C297', 'Muramidase-A0A660C797', 'Muramidase-A0A6A7VWJ7', 'Muramidase-A0A6A8VHR4', 'Muramidase-A0A6B8JBQ0', 'Muramidase-A0A6C0PWV3', 'Muramidase-A0A6C8GM04', 'Muramidase-A0A6H0UL77', 'Muramidase-A0A6H1W7P4', 'Muramidase-A0A6I6GJB4', 'Muramidase-A0A6J4T284', 'Muramidase-A0A6M0LFB0', 'Muramidase-A0A6N2THX7', 'Muramidase-A0A6N2U349', 'Muramidase-A0A6N2YZI8', 'Muramidase-A0A6N3E4Q6', 'Muramidase-A0A6P2YFT3', 'Muramidase-A0A6S5JMF8', 'Muramidase-A0A6S5XQK8', 'Muramidase-A0A6S6SHP9', 'Muramidase-A0A6V8MXP5', 'Muramidase-A0A7C1N3A2', 'Muramidase-A0A7C1PEX6', 'Muramidase-A0A7C1TGY1', 'Muramidase-A0A7C2WUQ3', 'Muramidase-A0A7C3H047', 'Muramidase-A0A7C4TYD7', 'Muramidase-A0A7C5GTC2', 'Muramidase-A0A7C5GTR5', 'Muramidase-A0A7C6SMU5', 'Muramidase-A0A7C8CYK6', 'Muramidase-A0A7G9AXQ8', 'Muramidase-A0A7H4MMS7', 'Muramidase-A0A7H4N042', 'Muramidase-A0A7H4NHR3', 'Muramidase-A0A7H4P4T2', 'Muramidase-A0A7H4SHY1', 'Muramidase-A0A7H4YRR5', 'Muramidase-A0A7H9QWB7', 'Muramidase-A0A7I6XM11', 'Muramidase-A0A7I8ZS27', 'Muramidase-A0A7J5JD64', 'Muramidase-A0A7L7WKR6', 'Muramidase-A0A7T0D1T9', 'Muramidase-A0A7T5ES45', 'Muramidase-A0A7U3LVJ2', 'Muramidase-A0A7U9NT98', 'Muramidase-A0A7U9RWR4', 'Muramidase-A0A7V5EWS4', 'Muramidase-A0A7V7UCF9', 'Muramidase-A0A7V8A8R5', 'Muramidase-A0A7V9QWM0', 'Muramidase-A0A7V9WSG7', 'Muramidase-A0A7W0MLZ8', 'Muramidase-A0A7W1C7J8', 'Muramidase-A0A7W4NQQ4', 'Muramidase-A0A7W4TYT8', 'Muramidase-A0A7W7AMR3', 'Muramidase-A0A7X2XUP7', 'Muramidase-A0A7X3DJV0', 'Muramidase-A0A7X4ZPH3', 'Muramidase-A0A7X5C433', 'Muramidase-A0A7X5L589', 'Muramidase-A0A7X7J836', 'Muramidase-A0A7X7ZLW4', 'Muramidase-A0A7X8XQ42', 'Muramidase-A0A7X9L6V6', 'Muramidase-A0A7Y0GBM1', 'Muramidase-A0A7Y6TTM5', 'Muramidase-A0A7Y9Z657', 'Muramidase-A0A7Z0DG84', 'Muramidase-A0A7Z8R0A6', 'Muramidase-A0A822LL96', 'Muramidase-A0A827KGV1', 'Muramidase-A0A829GN82', 'Muramidase-A0A831EVP6', 'Muramidase-A0A831KXH2', 'Muramidase-A0A832GZH1', 'Muramidase-A0A836ZFR9', 'Muramidase-A0A837RN21', 'Muramidase-A0A838QJX5', 'Muramidase-A0A838V9B1', 'Muramidase-A0A839WWJ1', 'Muramidase-A0A840RCT4', 'Muramidase-A0A843T9T0', 'Muramidase-A0A843YNC1', 'Muramidase-A0A845RNG7', 'Muramidase-A0A847KRI9', 'Muramidase-A0A848BXY8', 'Muramidase-A0A848J9C3', 'Muramidase-A0A849IE73', 'Muramidase-A0A8B3UZ00', 'Muramidase-A0A8B4QC66', 'Muramidase-A0A8B4WQB3', 'Muramidase-A0A8B6KSL4', 'Muramidase-A0L421', 'Muramidase-A0LH35', 'Muramidase-A1SKG1', 'Muramidase-A4ENI4', 'Muramidase-A4N4N4', 'Muramidase-A6Q8G4', 'Muramidase-B0NER8', 'Muramidase-B2JF15', 'Muramidase-B2PZV4', 'Muramidase-B6WQQ4', 'Muramidase-B7GS44', 'Muramidase-B8IVK2', 'Muramidase-C0BVQ8', 'Muramidase-C0BXW5', 'Muramidase-C3X361', 'Muramidase-C6BED6', 'Muramidase-C6XGM8', 'Muramidase-C9MTK8', 'Muramidase-D1AI81', 'Muramidase-D1AQE9', 'Muramidase-D2TW44', 'Muramidase-D3EZ02', 'Muramidase-D4BID4', 'Muramidase-D4CET6', 'Muramidase-D4CQ27', 'Muramidase-E0WSU1', 'Muramidase-E0XYZ6', 'Muramidase-E4KN79', 'Muramidase-E5VDJ6', 'Muramidase-E6BK21', 'Muramidase-E7GN27', 'Muramidase-E7GTP4', 'Muramidase-F3KDT5', 'Muramidase-F4N5M1', 'Muramidase-F8LXE0', 'Muramidase-F9HE68', 'Muramidase-F9VBQ4', 'Muramidase-G5CJ16', 'Muramidase-G6F5M3', 'Muramidase-G7Q957', 'Muramidase-G9WJC6', 'Muramidase-H0HPH5', 'Muramidase-I0T458', 'Muramidase-I2URK2', 'Muramidase-I4MBW6', 'Muramidase-I6CX42', 'Muramidase-I9VAN4', 'Muramidase-J4KU53', 'Muramidase-K6U5B8', 'Muramidase-L0D878', 'Muramidase-M6HJZ1', 'Muramidase-Q1YGJ7', 'Muramidase-Q32EA3', 'Muramidase-Q6AKF3', 'Muramidase-Q8Y464', 'Muramidase-R0BXB3', 'Muramidase-R5D4J2', 'Muramidase-R5IWH4', 'Muramidase-R5MAD1', 'Muramidase-R5QPZ6', 'Muramidase-R5VGU4', 'Muramidase-R5Y8J5', 'Muramidase-R5YKQ7', 'Muramidase-R6J1C5', 'Muramidase-R6KXE4', 'Muramidase-R7M021', 'Muramidase-R7QYC7', 'Muramidase-S0F861', 'Muramidase-S2D9Y0', 'Muramidase-S4B424', 'Muramidase-T0CXG3', 'Muramidase-T0UBX6', 'Muramidase-T0WIP7', 'Muramidase-U1R8G0', 'Muramidase-U2ECY2', 'Muramidase-U7D9Q6', 'Muramidase-V1GVJ2', 'Muramidase-W5XD20', 'Muramidase-W9H589', 'Muramidase-X0PXA7', 'Muramidase-X0QTD2', 'Muramidase-nan', 'unclustered', 'sample_id']"
     ]
    }
   ],
   "source": [
    "make_outputs(clean_gem, 'E:\\\\gem\\\\genefamilies\\\\clean_all_shallow_gems_genefamilies_relab_clustered')"
   ]
  }
 ],
 "metadata": {
  "kernelspec": {
   "display_name": "Python 3",
   "language": "python",
   "name": "python3"
  },
  "language_info": {
   "codemirror_mode": {
    "name": "ipython",
    "version": 3
   },
   "file_extension": ".py",
   "mimetype": "text/x-python",
   "name": "python",
   "nbconvert_exporter": "python",
   "pygments_lexer": "ipython3",
   "version": "3.12.1"
  }
 },
 "nbformat": 4,
 "nbformat_minor": 2
}
