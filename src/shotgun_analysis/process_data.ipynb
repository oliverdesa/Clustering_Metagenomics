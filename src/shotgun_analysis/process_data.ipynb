{
 "cells": [
  {
   "cell_type": "code",
   "execution_count": 1,
   "metadata": {},
   "outputs": [],
   "source": [
    "from humann_functions import *\n",
    "import pandas as pd\n",
    "import importlib"
   ]
  },
  {
   "cell_type": "code",
   "execution_count": 3,
   "metadata": {},
   "outputs": [
    {
     "data": {
      "text/plain": [
       "'C:\\\\Users\\\\odesa\\\\Desktop\\\\CRCFinal\\\\PRJEB10878\\\\clean_joined_genefamilies_relab'"
      ]
     },
     "execution_count": 3,
     "metadata": {},
     "output_type": "execute_result"
    }
   ],
   "source": [
    "# import and clean PRJEB10878 for PGHs\n",
    "\n",
    "df = clean_table('C:\\\\Users\\\\odesa\\\\Desktop\\\\CRCFinal\\\\PRJEB10878\\\\joined_genefamilies_relab.tsv')\n",
    "\n",
    "make_outputs(df, 'C:\\\\Users\\\\odesa\\\\Desktop\\\\CRCFinal\\\\PRJEB10878\\\\clean_joined_genefamilies_relab')"
   ]
  },
  {
   "cell_type": "code",
   "execution_count": 4,
   "metadata": {},
   "outputs": [
    {
     "data": {
      "text/plain": [
       "'C:\\\\Users\\\\odesa\\\\Desktop\\\\CRCFinal\\\\PRJEB10878\\\\clean_joined_DAC_genefamilies_relab'"
      ]
     },
     "execution_count": 4,
     "metadata": {},
     "output_type": "execute_result"
    }
   ],
   "source": [
    "# import and clean PRJEB10878 for DACs\n",
    "\n",
    "df = clean_table('C:\\\\Users\\\\odesa\\\\Desktop\\\\CRCFinal\\\\PRJEB10878\\\\joined_DAC_genefamilies_relab.tsv')\n",
    "\n",
    "make_outputs(df, 'C:\\\\Users\\\\odesa\\\\Desktop\\\\CRCFinal\\\\PRJEB10878\\\\clean_joined_DAC_genefamilies_relab')"
   ]
  },
  {
   "cell_type": "code",
   "execution_count": 5,
   "metadata": {},
   "outputs": [
    {
     "data": {
      "text/plain": [
       "'C:\\\\Users\\\\odesa\\\\Desktop\\\\CRCFinal\\\\PRJEB10878\\\\PRJEB10878_metadata'"
      ]
     },
     "execution_count": 5,
     "metadata": {},
     "output_type": "execute_result"
    }
   ],
   "source": [
    "# import metadata for PRJEB10878\n",
    "\n",
    "df = pd.read_csv('C:\\\\Users\\\\odesa\\\\Desktop\\\\CRCFinal\\\\PRJEB10878\\\\SraRunTable.txt')\n",
    "\n",
    "# select the Run and config columns\n",
    "\n",
    "df = df[['Run', 'config']]\n",
    "\n",
    "# print(df.head(20))\n",
    "\n",
    "make_outputs(df, 'C:\\\\Users\\\\odesa\\\\Desktop\\\\CRCFinal\\\\PRJEB10878\\\\PRJEB10878_metadata')\n"
   ]
  },
  {
   "cell_type": "code",
   "execution_count": 4,
   "metadata": {},
   "outputs": [
    {
     "data": {
      "text/plain": [
       "'C:\\\\Users\\\\odesa\\\\OneDrive - University of Toronto\\\\CRC\\\\LatestDataJan\\\\PRJEB7774\\\\clean_joined_genefamilies_relab_7774'"
      ]
     },
     "execution_count": 4,
     "metadata": {},
     "output_type": "execute_result"
    }
   ],
   "source": [
    "# import and clean PRJEB7774 data\n",
    "\n",
    "df = clean_table('C:\\\\Users\\\\odesa\\\\OneDrive - University of Toronto\\\\CRC\\\\LatestDataJan\\\\PRJEB7774\\\\joined_genefamilies_relab_7774.tsv')\n",
    "\n",
    "make_outputs(df, 'C:\\\\Users\\\\odesa\\\\OneDrive - University of Toronto\\\\CRC\\\\LatestDataJan\\\\PRJEB7774\\\\clean_joined_genefamilies_relab_7774')"
   ]
  },
  {
   "cell_type": "code",
   "execution_count": 7,
   "metadata": {},
   "outputs": [
    {
     "data": {
      "text/plain": [
       "'C:\\\\Users\\\\odesa\\\\OneDrive - University of Toronto\\\\CRC\\\\LatestDataJan\\\\PRJEB7774\\\\PRJEB7774_metadata'"
      ]
     },
     "execution_count": 7,
     "metadata": {},
     "output_type": "execute_result"
    }
   ],
   "source": [
    "# Import metadata for PRJEB7774\n",
    "\n",
    "df = pd.read_csv('C:\\\\Users\\\\odesa\\\\OneDrive - University of Toronto\\\\CRC\\\\LatestDataJan\\\\PRJEB7774\\\\filereport_read_run_PRJEB7774_tsv.txt', sep='\\t')\n",
    "\n",
    "df = df[['run_accession', 'sample_title']]\n",
    "\n",
    "# Replace targets with simpler identifiers\n",
    "replacements = {'Stool sample from advanced adenoma': 'Adenoma', 'Stool sample from carcinoma': 'Carcinoma',\n",
    "                'Stool sample from controls': 'Control'}\n",
    "\n",
    "df['sample_title'] = df['sample_title'].replace(replacements)\n",
    "\n",
    "make_outputs(df, 'C:\\\\Users\\\\odesa\\\\OneDrive - University of Toronto\\\\CRC\\\\LatestDataJan\\\\PRJEB7774\\\\PRJEB7774_metadata')\n"
   ]
  },
  {
   "cell_type": "code",
   "execution_count": 6,
   "metadata": {},
   "outputs": [],
   "source": [
    "# Parse metadata from DRA006684\n",
    "\n",
    "xml_to_spreadsheet_sample('/home/oliver/CRC-Final/src/shotgun_analysis/DRA006684.sample.xml', '/home/oliver/CRC-Final/src/DRA006684.sample.csv')\n",
    "\n",
    "# Parse metadata from DRA008156\n",
    "\n",
    "xml_to_spreadsheet_sample('/home/oliver/CRC-Final/src/shotgun_analysis/DRA008156.sample.xml', '/home/oliver/CRC-Final/src/DRA008156.sample.csv')"
   ]
  },
  {
   "cell_type": "code",
   "execution_count": 3,
   "metadata": {},
   "outputs": [],
   "source": [
    "xml_to_spreadsheet_run('/home/oliver/CRC-Final/src/metadata_creation/DRA008156.run.xml', '/home/oliver/CRC-Final/src/metadata_creation/DRA008156.run.csv')"
   ]
  },
  {
   "cell_type": "code",
   "execution_count": null,
   "metadata": {},
   "outputs": [],
   "source": [
    "run_info = pd.read_csv('/home/oliver/CRC-Final/src/metadata_creation/DRA008156.run.csv')\n",
    "\n",
    "run_info['Title'] = run_info['Title'].apply(lambda x: x.split(' ')[7])\n",
    "\n"
   ]
  },
  {
   "cell_type": "code",
   "execution_count": 5,
   "metadata": {},
   "outputs": [],
   "source": [
    "run_info.to_csv('/home/oliver/CRC-Final/src/metadata_creation/DRA008156.run.csv')\n"
   ]
  },
  {
   "cell_type": "code",
   "execution_count": 19,
   "metadata": {},
   "outputs": [],
   "source": [
    "sample_info = pd.read_csv('/home/oliver/CRC-Final/src/metadata_creation/DRA008156.sample.csv')\n",
    "\n",
    "sample_info.rename(columns={'BioSample ID': 'Title'}, inplace=True)\n",
    "\n",
    "# join the dataframes on the Title column\n",
    "\n",
    "sample_and_run_info = pd.merge(run_info, sample_info, on='Title')\n"
   ]
  },
  {
   "cell_type": "code",
   "execution_count": 20,
   "metadata": {},
   "outputs": [],
   "source": [
    "patient_metadata = pd.read_csv('/home/oliver/CRC-Final/src/metadata_creation/DRA008156_metadata.csv')\n",
    "\n",
    "patient_metadata.rename(columns={'Subject_ID': 'sample_name'}, inplace=True)\n"
   ]
  },
  {
   "cell_type": "code",
   "execution_count": 22,
   "metadata": {},
   "outputs": [],
   "source": [
    "sample_and_run_info['sample_name'] = sample_and_run_info['sample_name'].astype(int)\n",
    "\n",
    "patient_metadata['sample_name'] = patient_metadata['sample_name'].astype(int)\n"
   ]
  },
  {
   "cell_type": "code",
   "execution_count": 23,
   "metadata": {},
   "outputs": [],
   "source": [
    "master_metadata = pd.merge(sample_and_run_info, patient_metadata, on=\"sample_name\")"
   ]
  },
  {
   "cell_type": "code",
   "execution_count": null,
   "metadata": {},
   "outputs": [],
   "source": [
    "master_metadata.to_csv('/home/oliver/CRC-Final/src/metadata_creation/DRA008156_metadata_final.csv')"
   ]
  },
  {
   "cell_type": "code",
   "execution_count": 3,
   "metadata": {},
   "outputs": [
    {
     "data": {
      "text/plain": [
       "'C:\\\\Users\\\\odesa\\\\OneDrive - University of Toronto\\\\CRC\\\\LatestDataJan\\\\DRA008156\\\\clean_joined_genefamilies_relab_DRA008156'"
      ]
     },
     "execution_count": 3,
     "metadata": {},
     "output_type": "execute_result"
    }
   ],
   "source": [
    "df = clean_table('C:\\\\Users\\\\odesa\\\\OneDrive - University of Toronto\\\\CRC\\\\LatestDataJan\\\\DRA008156\\\\joined_genefamilies_relab_DRA008156.tsv')\n",
    "\n",
    "make_outputs(df, 'C:\\\\Users\\\\odesa\\\\OneDrive - University of Toronto\\\\CRC\\\\LatestDataJan\\\\DRA008156\\\\clean_joined_genefamilies_relab_DRA008156')"
   ]
  },
  {
   "cell_type": "code",
   "execution_count": 31,
   "metadata": {},
   "outputs": [],
   "source": [
    "# Clean metadata table for processing in R\n",
    "\n",
    "df = pd.read_csv('C:\\\\Users\\\\odesa\\\\OneDrive - University of Toronto\\\\CRC\\\\LatestDataJan\\\\DRA008156\\\\DRA008156_metadata_complete.tsv', sep='\\t')\n"
   ]
  },
  {
   "cell_type": "code",
   "execution_count": 32,
   "metadata": {},
   "outputs": [
    {
     "name": "stdout",
     "output_type": "stream",
     "text": [
      "['Early Stage' 'Healthy' 'HS' 'MP' 'Late Stage']\n"
     ]
    }
   ],
   "source": [
    "case_values = df['Group'].unique()\n",
    "\n",
    "print(case_values)"
   ]
  },
  {
   "cell_type": "code",
   "execution_count": 33,
   "metadata": {},
   "outputs": [],
   "source": [
    "value_map = {\n",
    "    'Healthy': 'Healthy',\n",
    "    'HS': 'Healthy',\n",
    "    'Early Stage': 'Cancer',\n",
    "    'Late Stage': 'Cancer',\n",
    "    'MP': 'Healthy'\n",
    "}\n",
    "\n",
    "df['Group'] = df['Group'].map(value_map)"
   ]
  },
  {
   "cell_type": "code",
   "execution_count": 34,
   "metadata": {},
   "outputs": [
    {
     "name": "stdout",
     "output_type": "stream",
     "text": [
      "Group\n",
      "Healthy    359\n",
      "Cancer     286\n",
      "Name: count, dtype: int64\n"
     ]
    }
   ],
   "source": [
    "value_counts = df['Group'].value_counts()\n",
    "\n",
    "print(value_counts)\n",
    "\n",
    "# Group\n",
    "# Healthy        252\n",
    "# Early Stage    204\n",
    "# Late Stage      82\n",
    "# MP              67\n",
    "# HS              40\n",
    "\n",
    "# Group\n",
    "# Healthy    359\n",
    "# Cancer     286"
   ]
  },
  {
   "cell_type": "code",
   "execution_count": 35,
   "metadata": {},
   "outputs": [],
   "source": [
    "df.fillna('NA', inplace=True)"
   ]
  },
  {
   "cell_type": "code",
   "execution_count": 36,
   "metadata": {},
   "outputs": [
    {
     "data": {
      "text/plain": [
       "'C:\\\\Users\\\\odesa\\\\OneDrive - University of Toronto\\\\CRC\\\\LatestDataJan\\\\DRA008156\\\\DRA008156_metadata_complete'"
      ]
     },
     "execution_count": 36,
     "metadata": {},
     "output_type": "execute_result"
    }
   ],
   "source": [
    "make_outputs(df, 'C:\\\\Users\\\\odesa\\\\OneDrive - University of Toronto\\\\CRC\\\\LatestDataJan\\\\DRA008156\\\\DRA008156_metadata_complete')"
   ]
  },
  {
   "cell_type": "code",
   "execution_count": 6,
   "metadata": {},
   "outputs": [
    {
     "data": {
      "text/plain": [
       "'C:\\\\Users\\\\odesa\\\\OneDrive - University of Toronto\\\\CRC\\\\LatestDataJan\\\\PRJEB10878\\\\clean_joined_genefamilies_relab_10878'"
      ]
     },
     "execution_count": 6,
     "metadata": {},
     "output_type": "execute_result"
    }
   ],
   "source": [
    "# Clean PRJEB10878 data for clustering and DA\n",
    "\n",
    "# df = clean_table(\"C:\\\\Users\\\\odesa\\\\OneDrive - University of Toronto\\\\CRC\\\\LatestDataJan\\\\PRJEB10878\\\\joined_genefamilies_relab.tsv\")\n",
    "\n",
    "make_outputs(df, \"C:\\\\Users\\\\odesa\\\\OneDrive - University of Toronto\\\\CRC\\\\LatestDataJan\\\\PRJEB10878\\\\clean_joined_genefamilies_relab_10878\")"
   ]
  },
  {
   "cell_type": "markdown",
   "metadata": {},
   "source": [
    "**Loading and Processing Bariatric Data**"
   ]
  },
  {
   "cell_type": "code",
   "execution_count": 3,
   "metadata": {},
   "outputs": [
    {
     "data": {
      "text/plain": [
       "'/media/oliver/PGH_Backup/bariatric/clean_joined_genefamilies_relab_bariatric'"
      ]
     },
     "execution_count": 3,
     "metadata": {},
     "output_type": "execute_result"
    }
   ],
   "source": [
    "# df = clean_table('E:/bariatric/joined_genefamilies_relab_bariatric.tsv')\n",
    "\n",
    "df = clean_table('/media/oliver/PGH_Backup/bariatric/joined_genefamilies_relab_bariatric.tsv')\n",
    "\n",
    "make_outputs(df, '/media/oliver/PGH_Backup/bariatric/clean_joined_genefamilies_relab_bariatric')"
   ]
  },
  {
   "cell_type": "markdown",
   "metadata": {},
   "source": [
    "**Loading and Processing ICI Data**"
   ]
  },
  {
   "cell_type": "code",
   "execution_count": 4,
   "metadata": {},
   "outputs": [
    {
     "data": {
      "text/plain": [
       "'E:\\\\ICI\\\\ici_humann\\\\clean_joined_PRJEB22893_relab'"
      ]
     },
     "execution_count": 4,
     "metadata": {},
     "output_type": "execute_result"
    }
   ],
   "source": [
    "# Clean and make outputs for PRJEB22893\n",
    "\n",
    "df = clean_table('E:\\\\ICI\\\\ici_humann\\\\PRJEB22893_humann_genefamilies_relab.tsv')\n",
    "\n",
    "make_outputs(df, 'E:\\\\ICI\\\\ici_humann\\\\clean_joined_PRJEB22893_relab')"
   ]
  },
  {
   "cell_type": "code",
   "execution_count": 10,
   "metadata": {},
   "outputs": [],
   "source": [
    "metadata_22893 = pd.read_excel('E:\\\\ICI\\\\ici_humann\\\\metadata\\\\PRJEB22893_metadata.ods', engine='odf')\n",
    "\n",
    "make_outputs(metadata_22893, 'E:\\\\ICI\\\\ici_humann\\\\metadata\\\\PRJEB22893_metadata')"
   ]
  },
  {
   "cell_type": "code",
   "execution_count": 13,
   "metadata": {},
   "outputs": [
    {
     "data": {
      "text/plain": [
       "'E:\\\\ICI\\\\ici_humann\\\\clean_joined_PRJNA399742_relab'"
      ]
     },
     "execution_count": 13,
     "metadata": {},
     "output_type": "execute_result"
    }
   ],
   "source": [
    "# Clean and make outputs for PRJNA399742\n",
    "\n",
    "df = clean_table('E:\\\\ICI\\\\ici_humann\\\\PRJNA399742_humann_genefamilies_relab.tsv')\n",
    "\n",
    "make_outputs(df, 'E:\\\\ICI\\\\ici_humann\\\\clean_joined_PRJNA399742_relab')"
   ]
  },
  {
   "cell_type": "code",
   "execution_count": 14,
   "metadata": {},
   "outputs": [
    {
     "data": {
      "text/plain": [
       "'E:\\\\ICI\\\\ici_humann\\\\metadata\\\\PRJNA399742_metadata'"
      ]
     },
     "execution_count": 14,
     "metadata": {},
     "output_type": "execute_result"
    }
   ],
   "source": [
    "metadata_399742 = pd.read_excel('E:\\\\ICI\\\\ici_humann\\\\metadata\\\\PRJNA399742_metadata.ods', engine='odf')\n",
    "\n",
    "make_outputs(metadata_399742, 'E:\\\\ICI\\\\ici_humann\\\\metadata\\\\PRJNA399742_metadata')"
   ]
  },
  {
   "cell_type": "markdown",
   "metadata": {},
   "source": [
    "**Clean metadata and gene data for large ICI trial PRJEB70966 & PRJEB43119**"
   ]
  },
  {
   "cell_type": "code",
   "execution_count": null,
   "metadata": {},
   "outputs": [],
   "source": [
    "run_map1 = pd.read_csv('E:\\\\ICI\\\\\\\\metadata\\\\ena_sra-run_20240415-1500.tsv', sep='\\t')\n",
    "\n",
    "run_map2 = pd.read_csv('E:\\\\ICI\\\\metadata\\\\ena_sra-run_20240415-1501.tsv', sep='\\t')\n",
    "\n",
    "combined_runmap = pd.concat([run_map1, run_map2], ignore_index=True)\n",
    "\n",
    "display(combined_runmap)\n"
   ]
  },
  {
   "cell_type": "code",
   "execution_count": null,
   "metadata": {},
   "outputs": [],
   "source": [
    "combined_runmap['description'] = combined_runmap['description'].apply(lambda x: x.split(' ')[4])\n",
    "\n",
    "print(combined_runmap.head())  \n",
    "\n",
    "combined_runmap.rename(columns={'description': 'sampleid'}, inplace=True)\n",
    "\n",
    "print(combined_runmap.head())  \n",
    "\n"
   ]
  },
  {
   "cell_type": "code",
   "execution_count": 5,
   "metadata": {},
   "outputs": [],
   "source": [
    "baseline_survival = pd.read_csv('E:\\\\ICI\\\\metadata\\\\mdat_baseline_survival.csv')\n",
    "\n",
    "longi_pibble = pd.read_csv('E:\\\\ICI\\\\metadata\\\\mdat_longi_pibble.csv')\n"
   ]
  },
  {
   "cell_type": "code",
   "execution_count": 6,
   "metadata": {},
   "outputs": [
    {
     "name": "stdout",
     "output_type": "stream",
     "text": [
      "(147, 18) (408, 20)\n"
     ]
    }
   ],
   "source": [
    "print(baseline_survival.shape, longi_pibble.shape)"
   ]
  },
  {
   "cell_type": "code",
   "execution_count": null,
   "metadata": {},
   "outputs": [],
   "source": [
    "merged_df_baseline = pd.merge(baseline_survival, combined_runmap, on='sampleid', how='left')\n",
    "\n",
    "display(merged_df_baseline.head())\n"
   ]
  },
  {
   "cell_type": "code",
   "execution_count": null,
   "metadata": {},
   "outputs": [],
   "source": [
    "merged_df_longi = pd.merge(longi_pibble, combined_runmap, on='sampleid', how='left')\n",
    "\n",
    "display(merged_df_longi.head())"
   ]
  },
  {
   "cell_type": "code",
   "execution_count": 9,
   "metadata": {},
   "outputs": [],
   "source": [
    "# merged_df_baseline.to_csv('E:\\\\ICI\\\\metadata\\\\mdat_baseline_survival_merged.csv')\n",
    "\n",
    "# merged_df_longi.to_csv('E:\\\\ICI\\\\metadata\\\\mdat_longi_pibble_merged.csv')"
   ]
  },
  {
   "cell_type": "markdown",
   "metadata": {},
   "source": [
    "**Cluster and Group the 70966 and 43119 Abundance Data**"
   ]
  },
  {
   "cell_type": "code",
   "execution_count": 3,
   "metadata": {},
   "outputs": [
    {
     "data": {
      "text/plain": [
       "'~/Downloads/clean_joined_70966_43119'"
      ]
     },
     "execution_count": 3,
     "metadata": {},
     "output_type": "execute_result"
    }
   ],
   "source": [
    "# Clean and make outputs for ICI trial abundance data\n",
    "\n",
    "df = clean_table('~/Downloads/relab_joined_70966_43119.tsv')\n",
    "\n",
    "make_outputs(df, '~/Downloads/clean_joined_70966_43119')"
   ]
  }
 ],
 "metadata": {
  "kernelspec": {
   "display_name": "Python 3",
   "language": "python",
   "name": "python3"
  },
  "language_info": {
   "codemirror_mode": {
    "name": "ipython",
    "version": 3
   },
   "file_extension": ".py",
   "mimetype": "text/x-python",
   "name": "python",
   "nbconvert_exporter": "python",
   "pygments_lexer": "ipython3",
   "version": "3.12.3"
  }
 },
 "nbformat": 4,
 "nbformat_minor": 2
}
