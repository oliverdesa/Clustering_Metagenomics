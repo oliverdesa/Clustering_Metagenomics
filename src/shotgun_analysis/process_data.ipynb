{
 "cells": [
  {
   "cell_type": "code",
   "execution_count": 1,
   "metadata": {},
   "outputs": [],
   "source": [
    "from humann_functions import *\n",
    "import pandas as pd\n",
    "import importlib"
   ]
  },
  {
   "cell_type": "code",
   "execution_count": 3,
   "metadata": {},
   "outputs": [
    {
     "data": {
      "text/plain": [
       "'C:\\\\Users\\\\odesa\\\\Desktop\\\\CRCFinal\\\\PRJEB10878\\\\clean_joined_genefamilies_relab'"
      ]
     },
     "execution_count": 3,
     "metadata": {},
     "output_type": "execute_result"
    }
   ],
   "source": [
    "# import and clean PRJEB10878 for PGHs\n",
    "\n",
    "df = clean_table('C:\\\\Users\\\\odesa\\\\Desktop\\\\CRCFinal\\\\PRJEB10878\\\\joined_genefamilies_relab.tsv')\n",
    "\n",
    "make_outputs(df, 'C:\\\\Users\\\\odesa\\\\Desktop\\\\CRCFinal\\\\PRJEB10878\\\\clean_joined_genefamilies_relab')"
   ]
  },
  {
   "cell_type": "code",
   "execution_count": 4,
   "metadata": {},
   "outputs": [
    {
     "data": {
      "text/plain": [
       "'C:\\\\Users\\\\odesa\\\\Desktop\\\\CRCFinal\\\\PRJEB10878\\\\clean_joined_DAC_genefamilies_relab'"
      ]
     },
     "execution_count": 4,
     "metadata": {},
     "output_type": "execute_result"
    }
   ],
   "source": [
    "# import and clean PRJEB10878 for DACs\n",
    "\n",
    "df = clean_table('C:\\\\Users\\\\odesa\\\\Desktop\\\\CRCFinal\\\\PRJEB10878\\\\joined_DAC_genefamilies_relab.tsv')\n",
    "\n",
    "make_outputs(df, 'C:\\\\Users\\\\odesa\\\\Desktop\\\\CRCFinal\\\\PRJEB10878\\\\clean_joined_DAC_genefamilies_relab')"
   ]
  },
  {
   "cell_type": "code",
   "execution_count": 5,
   "metadata": {},
   "outputs": [
    {
     "data": {
      "text/plain": [
       "'C:\\\\Users\\\\odesa\\\\Desktop\\\\CRCFinal\\\\PRJEB10878\\\\PRJEB10878_metadata'"
      ]
     },
     "execution_count": 5,
     "metadata": {},
     "output_type": "execute_result"
    }
   ],
   "source": [
    "# import metadata for PRJEB10878\n",
    "\n",
    "df = pd.read_csv('C:\\\\Users\\\\odesa\\\\Desktop\\\\CRCFinal\\\\PRJEB10878\\\\SraRunTable.txt')\n",
    "\n",
    "# select the Run and config columns\n",
    "\n",
    "df = df[['Run', 'config']]\n",
    "\n",
    "# print(df.head(20))\n",
    "\n",
    "make_outputs(df, 'C:\\\\Users\\\\odesa\\\\Desktop\\\\CRCFinal\\\\PRJEB10878\\\\PRJEB10878_metadata')\n"
   ]
  },
  {
   "cell_type": "code",
   "execution_count": 2,
   "metadata": {},
   "outputs": [
    {
     "data": {
      "text/plain": [
       "'C:\\\\Users\\\\odesa\\\\Desktop\\\\CRCFinal\\\\PRJEB7774\\\\clean_joined_genefamilies_relab_7774'"
      ]
     },
     "execution_count": 2,
     "metadata": {},
     "output_type": "execute_result"
    }
   ],
   "source": [
    "# import and clean PRJEB7774 data\n",
    "\n",
    "df = clean_table('C:\\\\Users\\\\odesa\\\\Desktop\\\\CRCFinal\\\\PRJEB7774\\\\joined_genefamilies_relab_7774.tsv')\n",
    "\n",
    "make_outputs(df, 'C:\\\\Users\\\\odesa\\\\Desktop\\\\CRCFinal\\\\PRJEB7774\\\\clean_joined_genefamilies_relab_7774')"
   ]
  },
  {
   "cell_type": "code",
   "execution_count": 5,
   "metadata": {},
   "outputs": [
    {
     "data": {
      "text/plain": [
       "'C:\\\\Users\\\\odesa\\\\Desktop\\\\CRCFinal\\\\PRJEB7774\\\\PRJEB7774_metadata'"
      ]
     },
     "execution_count": 5,
     "metadata": {},
     "output_type": "execute_result"
    }
   ],
   "source": [
    "# Import metadata for PRJEB7774\n",
    "\n",
    "df = pd.read_csv('C:\\\\Users\\\\odesa\\\\Desktop\\\\CRCFinal\\\\PRJEB7774\\\\filereport_read_run_PRJEB7774_tsv.txt', sep='\\t')\n",
    "\n",
    "df = df[['run_accession', 'sample_title']]\n",
    "\n",
    "# Replace targets with simpler identifiers\n",
    "replacements = {'Stool sample from advanced adenoma': 'Adenoma', 'Stool sample from carcinoma': 'Carcinoma',\n",
    "                'Stool sample from controls': 'Control'}\n",
    "\n",
    "df['sample_title'] = df['sample_title'].replace(replacements)\n",
    "\n",
    "make_outputs(df, 'C:\\\\Users\\\\odesa\\\\Desktop\\\\CRCFinal\\\\PRJEB7774\\\\PRJEB7774_metadata')\n"
   ]
  },
  {
   "cell_type": "code",
   "execution_count": 6,
   "metadata": {},
   "outputs": [],
   "source": [
    "# Parse metadata from DRA006684\n",
    "\n",
    "xml_to_spreadsheet_sample('/home/oliver/CRC-Final/src/shotgun_analysis/DRA006684.sample.xml', '/home/oliver/CRC-Final/src/DRA006684.sample.csv')\n",
    "\n",
    "# Parse metadata from DRA008156\n",
    "\n",
    "xml_to_spreadsheet_sample('/home/oliver/CRC-Final/src/shotgun_analysis/DRA008156.sample.xml', '/home/oliver/CRC-Final/src/DRA008156.sample.csv')"
   ]
  },
  {
   "cell_type": "code",
   "execution_count": 3,
   "metadata": {},
   "outputs": [],
   "source": [
    "xml_to_spreadsheet_run('/home/oliver/CRC-Final/src/metadata_creation/DRA008156.run.xml', '/home/oliver/CRC-Final/src/metadata_creation/DRA008156.run.csv')"
   ]
  },
  {
   "cell_type": "code",
   "execution_count": null,
   "metadata": {},
   "outputs": [],
   "source": [
    "run_info = pd.read_csv('/home/oliver/CRC-Final/src/metadata_creation/DRA008156.run.csv')\n",
    "\n",
    "run_info['Title'] = run_info['Title'].apply(lambda x: x.split(' ')[7])\n",
    "\n"
   ]
  },
  {
   "cell_type": "code",
   "execution_count": 5,
   "metadata": {},
   "outputs": [],
   "source": [
    "run_info.to_csv('/home/oliver/CRC-Final/src/metadata_creation/DRA008156.run.csv')\n"
   ]
  },
  {
   "cell_type": "code",
   "execution_count": 19,
   "metadata": {},
   "outputs": [],
   "source": [
    "sample_info = pd.read_csv('/home/oliver/CRC-Final/src/metadata_creation/DRA008156.sample.csv')\n",
    "\n",
    "sample_info.rename(columns={'BioSample ID': 'Title'}, inplace=True)\n",
    "\n",
    "# join the dataframes on the Title column\n",
    "\n",
    "sample_and_run_info = pd.merge(run_info, sample_info, on='Title')\n"
   ]
  },
  {
   "cell_type": "code",
   "execution_count": 20,
   "metadata": {},
   "outputs": [],
   "source": [
    "patient_metadata = pd.read_csv('/home/oliver/CRC-Final/src/metadata_creation/DRA008156_metadata.csv')\n",
    "\n",
    "patient_metadata.rename(columns={'Subject_ID': 'sample_name'}, inplace=True)\n"
   ]
  },
  {
   "cell_type": "code",
   "execution_count": 22,
   "metadata": {},
   "outputs": [],
   "source": [
    "sample_and_run_info['sample_name'] = sample_and_run_info['sample_name'].astype(int)\n",
    "\n",
    "patient_metadata['sample_name'] = patient_metadata['sample_name'].astype(int)\n"
   ]
  },
  {
   "cell_type": "code",
   "execution_count": 23,
   "metadata": {},
   "outputs": [],
   "source": [
    "master_metadata = pd.merge(sample_and_run_info, patient_metadata, on=\"sample_name\")"
   ]
  },
  {
   "cell_type": "code",
   "execution_count": null,
   "metadata": {},
   "outputs": [],
   "source": [
    "master_metadata.to_csv('/home/oliver/CRC-Final/src/metadata_creation/DRA008156_metadata_final.csv')"
   ]
  }
 ],
 "metadata": {
  "kernelspec": {
   "display_name": "Python 3",
   "language": "python",
   "name": "python3"
  },
  "language_info": {
   "codemirror_mode": {
    "name": "ipython",
    "version": 3
   },
   "file_extension": ".py",
   "mimetype": "text/x-python",
   "name": "python",
   "nbconvert_exporter": "python",
   "pygments_lexer": "ipython3",
   "version": "3.10.12"
  }
 },
 "nbformat": 4,
 "nbformat_minor": 2
}
