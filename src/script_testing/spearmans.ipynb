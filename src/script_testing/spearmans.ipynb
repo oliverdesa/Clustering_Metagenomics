{
 "cells": [
  {
   "cell_type": "code",
   "execution_count": 1,
   "metadata": {},
   "outputs": [],
   "source": [
    "import pandas as pd\n",
    "import numpy as np\n",
    "from scipy.stats import spearmanr, pearsonr\n",
    "import matplotlib.pyplot as plt\n",
    "import seaborn as sns\n",
    "import argparse"
   ]
  },
  {
   "cell_type": "code",
   "execution_count": null,
   "metadata": {},
   "outputs": [],
   "source": [
    "# First need to make a version of the abundance table merged w/ dysbiosis scores\n",
    "\n",
    "abundance = pd.read_csv('/Volumes/PGH-Backup/ibd_data/humann_second_run/ibd_genefamilies_relab_clustered.tsv', sep='\\t')\n",
    "\n",
    "dysbiosis = pd.read_csv('/Volumes/PGH-Backup/ibd_data/metadata/dysbiosis_scores.tsv', sep='\\t')\n",
    "\n",
    "# display(dysbiosis)\n",
    "# display(abundance)"
   ]
  },
  {
   "cell_type": "code",
   "execution_count": 2,
   "metadata": {},
   "outputs": [],
   "source": [
    "def load_data(file_path):\n",
    "    # Load the CSV file into a DataFrame\n",
    "    df = pd.read_csv(file_path, sep='\\t')\n",
    "    return df"
   ]
  },
  {
   "cell_type": "code",
   "execution_count": 3,
   "metadata": {},
   "outputs": [],
   "source": [
    "def calculate_correlations(df, gene_columns, score_column):\n",
    "    spearman_results = {}\n",
    "    pearson_results = {}\n",
    "    \n",
    "    for gene in gene_columns:\n",
    "        spearman_corr, spearman_p = spearmanr(df[gene], df[score_column])\n",
    "        pearson_corr, pearson_p = pearsonr(df[gene], df[score_column])\n",
    "        \n",
    "        spearman_results[gene] = (spearman_corr, spearman_p)\n",
    "        pearson_results[gene] = (pearson_corr, pearson_p)\n",
    "    \n",
    "    return spearman_results, pearson_results"
   ]
  },
  {
   "cell_type": "code",
   "execution_count": 4,
   "metadata": {},
   "outputs": [],
   "source": [
    "def plot_correlations(correlation_results, method):\n",
    "    genes = list(correlation_results.keys())\n",
    "    corrs = [correlation_results[gene][0] for gene in genes]\n",
    "    pvals = [correlation_results[gene][1] for gene in genes]\n",
    "    \n",
    "    plt.figure(figsize=(10, 6))\n",
    "    sns.scatterplot(x=genes, y=corrs, size=-np.log10(pvals), legend=False, sizes=(20, 200))\n",
    "    plt.axhline(0, linestyle='--', color='grey')\n",
    "    plt.xlabel('Gene')\n",
    "    plt.ylabel(f'{method} Correlation')\n",
    "    plt.title(f'{method} Correlation of Gene Counts with Dysbiosis Scores')\n",
    "    plt.xticks(rotation=90)\n",
    "    plt.show()"
   ]
  },
  {
   "cell_type": "code",
   "execution_count": 6,
   "metadata": {},
   "outputs": [],
   "source": [
    "def main():\n",
    "    parser = argparse.ArgumentParser(description=\"Calculate correlations between gene counts and dysbiosis scores\")\n",
    "    parser.add_argument('file_path', type=str, help=\"Path to the TSV file containing the data\")\n",
    "    parser.add_argument('--score_column', type=str, default='dysbiosis_score', help=\"Column name for dysbiosis scores\")\n",
    "    args = parser.parse_args()\n",
    "    \n",
    "    # Load the data\n",
    "    df = load_data(args.file_path)\n",
    "    \n",
    "    # Identify gene columns (assuming all columns except the score column are gene counts)\n",
    "    gene_columns = [col for col in df.columns if col != args.score_column]\n",
    "    \n",
    "    # Calculate correlations\n",
    "    spearman_results, pearson_results = calculate_correlations(df, gene_columns, args.score_column)\n",
    "    \n",
    "    # Plot the results\n",
    "    plot_correlations(spearman_results, 'Spearman')\n",
    "    plot_correlations(pearson_results, 'Pearson')\n",
    "\n",
    "# if __name__ == \"__main__\":\n",
    "#     main()"
   ]
  }
 ],
 "metadata": {
  "kernelspec": {
   "display_name": "bio",
   "language": "python",
   "name": "python3"
  },
  "language_info": {
   "codemirror_mode": {
    "name": "ipython",
    "version": 3
   },
   "file_extension": ".py",
   "mimetype": "text/x-python",
   "name": "python",
   "nbconvert_exporter": "python",
   "pygments_lexer": "ipython3",
   "version": "3.12.4"
  }
 },
 "nbformat": 4,
 "nbformat_minor": 2
}
