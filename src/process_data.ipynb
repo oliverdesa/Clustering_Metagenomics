{
 "cells": [
  {
   "cell_type": "code",
   "execution_count": 1,
   "metadata": {},
   "outputs": [],
   "source": [
    "from humann_functions import *\n",
    "import pandas as pd\n",
    "import importlib\n"
   ]
  },
  {
   "cell_type": "code",
   "execution_count": 3,
   "metadata": {},
   "outputs": [
    {
     "data": {
      "text/plain": [
       "'C:\\\\Users\\\\odesa\\\\Desktop\\\\CRCFinal\\\\PRJEB10878\\\\clean_joined_genefamilies_relab'"
      ]
     },
     "execution_count": 3,
     "metadata": {},
     "output_type": "execute_result"
    }
   ],
   "source": [
    "# import and clean PRJEB10878 for PGHs\n",
    "\n",
    "df = clean_table('C:\\\\Users\\\\odesa\\\\Desktop\\\\CRCFinal\\\\PRJEB10878\\\\joined_genefamilies_relab.tsv')\n",
    "\n",
    "make_outputs(df, 'C:\\\\Users\\\\odesa\\\\Desktop\\\\CRCFinal\\\\PRJEB10878\\\\clean_joined_genefamilies_relab')"
   ]
  },
  {
   "cell_type": "code",
   "execution_count": 4,
   "metadata": {},
   "outputs": [
    {
     "data": {
      "text/plain": [
       "'C:\\\\Users\\\\odesa\\\\Desktop\\\\CRCFinal\\\\PRJEB10878\\\\clean_joined_DAC_genefamilies_relab'"
      ]
     },
     "execution_count": 4,
     "metadata": {},
     "output_type": "execute_result"
    }
   ],
   "source": [
    "# import and clean PRJEB10878 for DACs\n",
    "\n",
    "df = clean_table('C:\\\\Users\\\\odesa\\\\Desktop\\\\CRCFinal\\\\PRJEB10878\\\\joined_DAC_genefamilies_relab.tsv')\n",
    "\n",
    "make_outputs(df, 'C:\\\\Users\\\\odesa\\\\Desktop\\\\CRCFinal\\\\PRJEB10878\\\\clean_joined_DAC_genefamilies_relab')"
   ]
  },
  {
   "cell_type": "code",
   "execution_count": 5,
   "metadata": {},
   "outputs": [
    {
     "data": {
      "text/plain": [
       "'C:\\\\Users\\\\odesa\\\\Desktop\\\\CRCFinal\\\\PRJEB10878\\\\PRJEB10878_metadata'"
      ]
     },
     "execution_count": 5,
     "metadata": {},
     "output_type": "execute_result"
    }
   ],
   "source": [
    "# import metadata for PRJEB10878\n",
    "\n",
    "df = pd.read_csv('C:\\\\Users\\\\odesa\\\\Desktop\\\\CRCFinal\\\\PRJEB10878\\\\SraRunTable.txt')\n",
    "\n",
    "# select the Run and config columns\n",
    "\n",
    "df = df[['Run', 'config']]\n",
    "\n",
    "# print(df.head(20))\n",
    "\n",
    "make_outputs(df, 'C:\\\\Users\\\\odesa\\\\Desktop\\\\CRCFinal\\\\PRJEB10878\\\\PRJEB10878_metadata')\n"
   ]
  },
  {
   "cell_type": "code",
   "execution_count": 2,
   "metadata": {},
   "outputs": [
    {
     "data": {
      "text/plain": [
       "'C:\\\\Users\\\\odesa\\\\Desktop\\\\CRCFinal\\\\PRJEB7774\\\\clean_joined_genefamilies_relab_7774'"
      ]
     },
     "execution_count": 2,
     "metadata": {},
     "output_type": "execute_result"
    }
   ],
   "source": [
    "# import and clean PRJEB7774 data\n",
    "\n",
    "df = clean_table('C:\\\\Users\\\\odesa\\\\Desktop\\\\CRCFinal\\\\PRJEB7774\\\\joined_genefamilies_relab_7774.tsv')\n",
    "\n",
    "make_outputs(df, 'C:\\\\Users\\\\odesa\\\\Desktop\\\\CRCFinal\\\\PRJEB7774\\\\clean_joined_genefamilies_relab_7774')"
   ]
  },
  {
   "cell_type": "code",
   "execution_count": 5,
   "metadata": {},
   "outputs": [
    {
     "data": {
      "text/plain": [
       "'C:\\\\Users\\\\odesa\\\\Desktop\\\\CRCFinal\\\\PRJEB7774\\\\PRJEB7774_metadata'"
      ]
     },
     "execution_count": 5,
     "metadata": {},
     "output_type": "execute_result"
    }
   ],
   "source": [
    "# Import metadata for PRJEB7774\n",
    "\n",
    "df = pd.read_csv('C:\\\\Users\\\\odesa\\\\Desktop\\\\CRCFinal\\\\PRJEB7774\\\\filereport_read_run_PRJEB7774_tsv.txt', sep='\\t')\n",
    "\n",
    "df = df[['run_accession', 'sample_title']]\n",
    "\n",
    "# Replace targets with simpler identifiers\n",
    "replacements = {'Stool sample from advanced adenoma': 'Adenoma', 'Stool sample from carcinoma': 'Carcinoma',\n",
    "                'Stool sample from controls': 'Control'}\n",
    "\n",
    "df['sample_title'] = df['sample_title'].replace(replacements)\n",
    "\n",
    "make_outputs(df, 'C:\\\\Users\\\\odesa\\\\Desktop\\\\CRCFinal\\\\PRJEB7774\\\\PRJEB7774_metadata')\n"
   ]
  }
 ],
 "metadata": {
  "kernelspec": {
   "display_name": "Python 3",
   "language": "python",
   "name": "python3"
  },
  "language_info": {
   "codemirror_mode": {
    "name": "ipython",
    "version": 3
   },
   "file_extension": ".py",
   "mimetype": "text/x-python",
   "name": "python",
   "nbconvert_exporter": "python",
   "pygments_lexer": "ipython3",
   "version": "3.11.2"
  }
 },
 "nbformat": 4,
 "nbformat_minor": 2
}
