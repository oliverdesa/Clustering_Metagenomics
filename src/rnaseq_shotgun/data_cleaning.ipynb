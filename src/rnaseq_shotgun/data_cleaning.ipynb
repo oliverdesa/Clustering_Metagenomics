{
 "cells": [
  {
   "cell_type": "code",
   "execution_count": null,
   "metadata": {},
   "outputs": [],
   "source": [
    "import pandas as pd\n",
    "import seaborn as sns"
   ]
  },
  {
   "cell_type": "markdown",
   "metadata": {},
   "source": [
    "---\n",
    "## map metagenomics to unique ID"
   ]
  },
  {
   "cell_type": "code",
   "execution_count": null,
   "metadata": {},
   "outputs": [],
   "source": [
    "metadata = pd.read_csv('/Volumes/PGH-Backup/ibd_data/metadata/hmp2_metadata_2018-08-20.csv')\n",
    "rnaseq = metadata[metadata['data_type'] == 'host_transcriptomics']\n",
    "metagenomics = metadata[metadata['data_type'] == 'metagenomics']"
   ]
  },
  {
   "cell_type": "code",
   "execution_count": null,
   "metadata": {},
   "outputs": [],
   "source": [
    "# display(metagenomics)"
   ]
  },
  {
   "cell_type": "code",
   "execution_count": null,
   "metadata": {},
   "outputs": [],
   "source": [
    "mapping = pd.read_csv('/Volumes/PGH-Backup/ibd_data/metadata/matched_rnaseq_mgx_sample_mapping.csv')\n",
    "\n",
    "mgx = pd.read_csv('/Volumes/PGH-Backup/ibd_data/humann_second_run/ibd_genefamilies_relab_clustered.tsv', sep='\\t')\n",
    "\n",
    "display(mgx)\n",
    "display(mapping)"
   ]
  },
  {
   "cell_type": "code",
   "execution_count": null,
   "metadata": {},
   "outputs": [],
   "source": [
    "mgx = pd.merge(mgx, metagenomics[['Participant ID', 'week_num', 'External ID']], left_on='sample_id', right_on='External ID', how='left')\n",
    "\n",
    "display(mgx)"
   ]
  },
  {
   "cell_type": "code",
   "execution_count": null,
   "metadata": {},
   "outputs": [],
   "source": [
    "mgx['unique_id'] = mgx['Participant ID'] + '_' + mgx['week_num'].astype(str)\n",
    "\n",
    "display(mgx)"
   ]
  },
  {
   "cell_type": "code",
   "execution_count": null,
   "metadata": {},
   "outputs": [],
   "source": [
    "display(mgx_test)"
   ]
  },
  {
   "cell_type": "code",
   "execution_count": null,
   "metadata": {},
   "outputs": [],
   "source": [
    "mgx = mgx.drop(['Participant ID', 'week_num', 'External ID'], axis=1)"
   ]
  },
  {
   "cell_type": "code",
   "execution_count": null,
   "metadata": {},
   "outputs": [],
   "source": [
    "display(mgx)"
   ]
  },
  {
   "cell_type": "code",
   "execution_count": null,
   "metadata": {},
   "outputs": [],
   "source": [
    "# Assuming the column you want to search is called 'column_name'\n",
    "result = mgx[mgx['unique_id'].str.contains('C3002')]\n",
    "print(result)\n"
   ]
  },
  {
   "cell_type": "code",
   "execution_count": null,
   "metadata": {},
   "outputs": [],
   "source": [
    "mgx.to_csv('/Volumes/PGH-Backup/ibd_data/humann_second_run/ibd_genefamilies_relab_clustered_for_rnaseq.tsv', sep='\\t', index=False)"
   ]
  },
  {
   "cell_type": "markdown",
   "metadata": {},
   "source": [
    "---\n",
    "## Map RNAseq to unique ID"
   ]
  },
  {
   "cell_type": "code",
   "execution_count": null,
   "metadata": {},
   "outputs": [],
   "source": [
    "rna = pd.read_csv('/Volumes/PGH-Backup/ibd_data/rnaseq/tmm_normalized_counts.tsv', sep='\\t')\n",
    "rna = rna.set_index('Gene').T\n",
    "rna = rna.reset_index().rename(columns={'index': 'sample_id'})\n",
    "display(rna)"
   ]
  },
  {
   "cell_type": "code",
   "execution_count": null,
   "metadata": {},
   "outputs": [],
   "source": [
    "display(mapping)"
   ]
  },
  {
   "cell_type": "code",
   "execution_count": null,
   "metadata": {},
   "outputs": [],
   "source": [
    "rna_merged = pd.merge(rna, mapping[['Participant ID', 'week_num_metagenomics', 'External ID']], left_on='sample_id', right_on='External ID', how='left')\n",
    "display(rna_merged)"
   ]
  },
  {
   "cell_type": "code",
   "execution_count": null,
   "metadata": {},
   "outputs": [],
   "source": [
    "rna_merged['unique_id'] = rna_merged['Participant ID'] + '_' + rna_merged['week_num_metagenomics'].astype(str)"
   ]
  },
  {
   "cell_type": "code",
   "execution_count": null,
   "metadata": {},
   "outputs": [],
   "source": [
    "print(rnaseq['External ID'])"
   ]
  },
  {
   "cell_type": "code",
   "execution_count": null,
   "metadata": {},
   "outputs": [],
   "source": [
    "rna_merged = pd.merge(rna_merged, rnaseq[['biopsy_location', 'External ID']], left_on='sample_id', right_on='External ID', how='left')"
   ]
  },
  {
   "cell_type": "code",
   "execution_count": null,
   "metadata": {},
   "outputs": [],
   "source": [
    "display(rna_merged)"
   ]
  },
  {
   "cell_type": "code",
   "execution_count": null,
   "metadata": {},
   "outputs": [],
   "source": [
    "rna_merged['unique_id'] = rna_merged['Participant ID'] + '_' + rna_merged['week_num'].astype(str)"
   ]
  },
  {
   "cell_type": "code",
   "execution_count": null,
   "metadata": {},
   "outputs": [],
   "source": [
    "display(rna_merged)"
   ]
  },
  {
   "cell_type": "code",
   "execution_count": null,
   "metadata": {},
   "outputs": [],
   "source": [
    "rna_merged.to_csv('/Volumes/PGH-Backup/ibd_data/rnaseq/tmm_normalized_counts_for_mgx.tsv', sep='\\t', index=False)"
   ]
  },
  {
   "cell_type": "markdown",
   "metadata": {},
   "source": [
    "---"
   ]
  },
  {
   "cell_type": "code",
   "execution_count": null,
   "metadata": {},
   "outputs": [],
   "source": [
    "merged_mgx = pd.merge(mapping, mgx, left_on='External ID_metagenomics', right_on='sample_id', how='inner')\n",
    "\n",
    "display(merged_mgx)"
   ]
  },
  {
   "cell_type": "code",
   "execution_count": null,
   "metadata": {},
   "outputs": [],
   "source": [
    "def find_closest_week(participant_id, week_num, metagenomic_df):\n",
    "    # Filter the metagenomic_df for the same Participant ID\n",
    "    participant_metagenomic = metagenomic_df[metagenomic_df[\"Participant ID\"] == participant_id]\n",
    "    \n",
    "    # If no metagenomic samples for this participant, return None\n",
    "    if participant_metagenomic.empty:\n",
    "        return None\n",
    "    \n",
    "    # Calculate the difference between RNAseq week_num and metagenomic week_num\n",
    "    participant_metagenomic[\"diff\"] = participant_metagenomic[\"week_num\"] - week_num\n",
    "\n",
    "    print(participant_metagenomic['Participan ID', 'diff'])\n",
    "\n"
   ]
  },
  {
   "cell_type": "code",
   "execution_count": null,
   "metadata": {},
   "outputs": [],
   "source": [
    "merged_df = pd.merge(rnaseq, metagenomics_filt, on='Participant ID', how='left', suffixes=('_rnaseq', '_metagenomics'))\n",
    "\n",
    "display(merged_df)"
   ]
  },
  {
   "cell_type": "code",
   "execution_count": null,
   "metadata": {},
   "outputs": [],
   "source": [
    "viewing = merged_df[['Participant ID', 'week_num_rnaseq', 'week_num_metagenomics', 'Project_metagenomics']]\n",
    "\n",
    "display(viewing)"
   ]
  },
  {
   "cell_type": "code",
   "execution_count": null,
   "metadata": {},
   "outputs": [],
   "source": [
    "# Filter for the closest timepoint or earliest if none is before or at the RNA-seq timepoint\n",
    "def find_closest_timepoint(group):\n",
    "    # Filter for metagenomic samples that are before or at the RNA-seq timepoint\n",
    "    valid_samples = group[group['week_num_metagenomics'] <= group['week_num_rnaseq'].iloc[0]]\n",
    "    \n",
    "    if not valid_samples.empty:\n",
    "        # Find the sample with the closest (maximum) timepoint\n",
    "        closest_sample = valid_samples.loc[valid_samples['week_num_metagenomics'].idxmax()]\n",
    "    else:\n",
    "        # If no valid sample exists, return the earliest metagenomic sample\n",
    "        closest_sample = group.loc[group['week_num_metagenomics'].idxmin()]\n",
    "    \n",
    "    return pd.Series([closest_sample['External ID_metagenomics'], closest_sample['week_num_metagenomics']], \n",
    "                     index=['External ID_metagenomics', 'week_num_metagenomics'])"
   ]
  },
  {
   "cell_type": "code",
   "execution_count": null,
   "metadata": {},
   "outputs": [],
   "source": [
    "closest_samples = merged_df.groupby(['Participant ID', 'Project_rnaseq']).apply(find_closest_timepoint).reset_index()"
   ]
  },
  {
   "cell_type": "code",
   "execution_count": null,
   "metadata": {},
   "outputs": [],
   "source": [
    "rnaseq = rnaseq.rename(columns={'Project': 'Project_rnaseq'})"
   ]
  },
  {
   "cell_type": "code",
   "execution_count": null,
   "metadata": {},
   "outputs": [],
   "source": [
    "# Merge the closest samples back to the original RNA-seq DataFrame\n",
    "final_df = pd.merge(rnaseq, closest_samples, on=['Participant ID', 'Project_rnaseq'], how='left')"
   ]
  },
  {
   "cell_type": "code",
   "execution_count": null,
   "metadata": {},
   "outputs": [],
   "source": [
    "final_df['External ID_metagenomics']"
   ]
  },
  {
   "cell_type": "code",
   "execution_count": null,
   "metadata": {},
   "outputs": [],
   "source": [
    "for_viewing = final_df[['Participant ID', 'External ID', 'External ID_metagenomics', 'week_num', 'week_num_metagenomics', 'Project_rnaseq']]\n",
    "\n",
    "display(for_viewing)"
   ]
  },
  {
   "cell_type": "code",
   "execution_count": null,
   "metadata": {},
   "outputs": [],
   "source": [
    "for_viewing.to_csv('/Volumes/PGH-Backup/ibd_data/metadata/matched_rnaseq_mgx_sample_mapping.csv', index=False)"
   ]
  },
  {
   "cell_type": "markdown",
   "metadata": {},
   "source": [
    "**Use Mapping File to Join MGX and RNA Data for Appropriate Samples**"
   ]
  },
  {
   "cell_type": "code",
   "execution_count": null,
   "metadata": {},
   "outputs": [],
   "source": [
    "# Load datasets\n",
    "mgx = pd.read_csv('/Volumes/PGH-Backup/ibd_data/humann_second_run/ibd_genefamilies_relab_clustered.tsv', sep='\\t')\n",
    "rna = pd.read_csv('/Volumes/PGH-Backup/ibd_data/rnaseq/tmm_normalized_counts.tsv', sep='\\t')\n",
    "mapping = pd.read_csv('/Volumes/PGH-Backup/ibd_data/metadata/matched_rnaseq_mgx_sample_mapping.csv')\n",
    "metadata = pd.read_csv('/Volumes/PGH-Backup/ibd_data/metadata/hmp2_metadata_2018-08-20.csv')\n",
    "\n",
    "# windows\n",
    "# mgx = pd.read_csv('E:/ibd_data/humann_second_run/ibd_genefamilies_relab_clustered.tsv', sep='\\t')\n",
    "# rna = pd.read_csv('E:/ibd_data/rnaseq/tmm_normalized_counts.tsv', sep='\\t')\n",
    "# mapping = pd.read_csv('E:/ibd_data/metadata/matched_rnaseq_mgx_sample_mapping.csv')\n",
    "# metadata = pd.read_csv('E:/ibd_data/metadata/hmp2_metadata_2018-08-20.csv')\n"
   ]
  },
  {
   "cell_type": "code",
   "execution_count": null,
   "metadata": {},
   "outputs": [],
   "source": [
    "display(mapping)"
   ]
  },
  {
   "cell_type": "code",
   "execution_count": null,
   "metadata": {},
   "outputs": [],
   "source": [
    "# Tanspose so that Genes are columns and samples are rows in RNAseq data\n",
    "rna = rna.set_index('Gene').T\n",
    "\n",
    "rna.shape"
   ]
  },
  {
   "cell_type": "code",
   "execution_count": null,
   "metadata": {},
   "outputs": [],
   "source": [
    "metadata_rna = metadata[metadata['data_type'] == 'host_transcriptomics']\n",
    "\n",
    "display(metadata_rna)"
   ]
  },
  {
   "cell_type": "code",
   "execution_count": null,
   "metadata": {},
   "outputs": [],
   "source": [
    "display(mgx)\n",
    "display(rna)\n",
    "display(mapping)\n"
   ]
  },
  {
   "cell_type": "code",
   "execution_count": null,
   "metadata": {},
   "outputs": [],
   "source": [
    "rna = rna.reset_index().rename(columns={'index': 'sample_id'})\n",
    "display(rna.head())"
   ]
  },
  {
   "cell_type": "code",
   "execution_count": 22,
   "metadata": {},
   "outputs": [
    {
     "name": "stdout",
     "output_type": "stream",
     "text": [
      "['ABCB1', 'ABHD17A', 'ACAD8', 'ACKR4', 'ACTG1', 'AGT', 'AIMP1', 'AK4', 'AMT', 'ANKRD27', 'APBB2', 'ARFGEF1', 'ARHGAP11A', 'ARHGAP6', 'ARHGEF11', 'ATG14', 'ATP13A3', 'ATP2B1', 'B3GNT2', 'BMERB1', 'BMS1', 'BNC2', 'BRD9', 'BSDC1', 'BTG3', 'C1GALT1C1', 'CAPG', 'CD40', 'CD48', 'CD68', 'CD99', 'CDC25B', 'CDK5RAP1', 'CEACAM6', 'CELA3B', 'CENPE', 'CHAF1B', 'CIR1', 'CLCC1', 'CLDN1', 'CNPY3', 'COLGALT1', 'COPS7A', 'CRYZ', 'CSK', 'CUL4A', 'CYB5B', 'DCTN3', 'DCXR', 'DDX46', 'DEGS1', 'DIXDC1', 'DOK2', 'DPAGT1', 'DRICH1', 'DUSP10', 'EBI3', 'EDAR', 'EGLN1', 'EIF2B2', 'EIF5', 'EIF5A', 'ENPP3', 'EXT2', 'FAM114A1', 'FAM193A', 'FAM32A', 'FASTKD5', 'FUT5', 'FXYD6', 'GALNT7', 'GCA', 'GDAP2', 'GLB1', 'GMFG', 'GNPDA1', 'GTF2E1', 'H1-1', 'HADHA', 'HECTD4', 'HIKESHI', 'HLA-DMA', 'HMGB1', 'HNRNPM', 'HTR3B', 'IFNA2', 'IGF1R', 'IGLV1-44', 'IL36G', 'IMPA1', 'INSIG1', 'ITPR1', 'KDM3B', 'KIF22', 'KIF3C', 'KMT5B', 'KPNA2', 'LARS2', 'LCMT1', 'LHX3', 'LILRA1', 'LIMD2', 'LZTR1', 'MAFF', 'MAN1A1', 'MARCHF5', 'MBD3', 'MBD4', 'MCM3', 'MED12', 'MIA2', 'MKNK1', 'MPRIP', 'MPST', 'MPV17', 'MRPL13', 'MRPL40', 'MT3', 'NFE2', 'NIT2', 'NOX5', 'NR1H4', 'NTN3', 'NUCKS1', 'NUDT15', 'NUP37', 'OSBPL3', 'OTUB1', 'PHACTR1', 'PLD1', 'PLPP3', 'PMCHL1', 'PNKP', 'PNMA8A', 'PREX2', 'RAB17', 'RACGAP1', 'RBM22', 'RBM6', 'RFWD3', 'RIPK2', 'RLIG1', 'RNF38', 'RNF44', 'RP2', 'RPS17P5', 'RPS24', 'RTF1', 'RTL8C', 'SAE1', 'SAMM50', 'SEC11A', 'SETD3', 'SLAMF7', 'SLC25A11', 'SLC25A3', 'SLC35C2', 'SLC6A8', 'SLC9A6', 'SNRNP40', 'SPHK1', 'SPOP', 'SRSF3', 'SUPT3H', 'SYNE2', 'TBX10', 'TCERG1', 'TDRKH', 'TEAD1', 'THAP3', 'THRA', 'TMEM147', 'TMEM267', 'TMEM9B', 'TMX1', 'TPP1', 'TPTE', 'TRIM25', 'TRMT12', 'TRPV1', 'TST', 'TTC3', 'USP13', 'UTP20', 'UTS2', 'VIPAS39', 'VPS39', 'WFDC2', 'WTAP', 'XCL1', 'ZC2HC1A', 'ZDHHC3', 'ZNF185', 'ZNF282', 'ZNF287', 'ZNF675', 'ZNF813']\n"
     ]
    }
   ],
   "source": [
    "# Create list of enriched NOD2 genes\n",
    "\n",
    "mac_path = '/Volumes/PGH-Backup/ibd_data/rnaseq/GSE22611_NOD2_VS_CTRL_TRANSDUCED_HEK293T_CELL_UP.v2024.1.Hs.grp'\n",
    "\n",
    "windows_path = 'E:/ibd_data/rnaseq/GSE22611_NOD2_VS_CTRL_TRANSDUCED_HEK293T_CELL_UP.v2024.1.Hs.grp'\n",
    "\n",
    "\n",
    "with open (mac_path, 'r') as f:\n",
    "    gene_list = [line.strip() for line in f.readlines()]\n",
    "    gene_list = gene_list[2:]\n",
    "\n",
    "print(gene_list)"
   ]
  },
  {
   "cell_type": "code",
   "execution_count": null,
   "metadata": {},
   "outputs": [],
   "source": [
    "# Subset for genes present in table\n",
    "present_genes = [gene for gene in gene_list if gene in rna.columns]\n",
    "\n",
    "present_genes.append('sample_id')"
   ]
  },
  {
   "cell_type": "code",
   "execution_count": null,
   "metadata": {},
   "outputs": [],
   "source": [
    "# Subset rnaseq data\n",
    "rna_filt = rna[present_genes]\n",
    "\n",
    "display(rna_filt)"
   ]
  },
  {
   "cell_type": "code",
   "execution_count": null,
   "metadata": {},
   "outputs": [],
   "source": [
    "rna_filt = pd.merge(rna, metadata_rna[['External ID', 'biopsy_location']], left_on='sample_id', right_on='External ID', how='left')\n",
    "\n",
    "display(rna_filt)"
   ]
  },
  {
   "cell_type": "code",
   "execution_count": null,
   "metadata": {},
   "outputs": [],
   "source": [
    "merged_rna = pd.merge(rna_filt, mapping, left_on='sample_id', right_on='External ID', how='inner')\n",
    "\n",
    "display(merged_rna)"
   ]
  },
  {
   "cell_type": "code",
   "execution_count": null,
   "metadata": {},
   "outputs": [],
   "source": [
    "merged_rna.rename(columns={'week_num': 'week_num_rna', 'week_num_metagenomics': 'week_num'}, inplace=True)"
   ]
  },
  {
   "cell_type": "code",
   "execution_count": null,
   "metadata": {},
   "outputs": [],
   "source": [
    "rna_rectum = merged_rna[merged_rna['biopsy_location'] == 'Rectum']\n",
    "\n",
    "rna_signmoid_colon = merged_rna[merged_rna['biopsy_location'] == 'Sigmoid Colon']\n",
    "\n",
    "rna_ileum = merged_rna[merged_rna['biopsy_location'] == 'Ileum']\n",
    "\n",
    "display(rna_rectum)\n",
    "display(rna_signmoid_colon)\n",
    "display(rna_ileum)"
   ]
  },
  {
   "cell_type": "code",
   "execution_count": null,
   "metadata": {},
   "outputs": [],
   "source": [
    "display(mgx)"
   ]
  },
  {
   "cell_type": "code",
   "execution_count": null,
   "metadata": {},
   "outputs": [],
   "source": [
    "metadata_mgx = metadata[metadata['data_type'] == 'metagenomics']\n",
    "\n",
    "display(metadata_mgx)"
   ]
  },
  {
   "cell_type": "code",
   "execution_count": null,
   "metadata": {},
   "outputs": [],
   "source": [
    "mapped_mgx = pd.merge(mgx, metadata_mgx[['External ID', 'Participant ID', 'week_num']], left_on='sample_id', right_on='External ID', how='left')\n",
    "\n",
    "display(mapped_mgx)"
   ]
  },
  {
   "cell_type": "code",
   "execution_count": null,
   "metadata": {},
   "outputs": [],
   "source": [
    "merged_rna_mgx_rectum = pd.merge(rna_rectum, mapped_mgx, on=['Participant ID', 'week_num'], how='inner')\n",
    "\n",
    "display(merged_rna_mgx_rectum)"
   ]
  },
  {
   "cell_type": "code",
   "execution_count": null,
   "metadata": {},
   "outputs": [],
   "source": [
    "merged_rna_mgx_colon = pd.merge(rna_signmoid_colon, mapped_mgx, on=['Participant ID', 'week_num'], how='inner')\n",
    "display(merged_rna_mgx_colon)"
   ]
  },
  {
   "cell_type": "code",
   "execution_count": null,
   "metadata": {},
   "outputs": [],
   "source": [
    "merged_rna_mgx_ileum = pd.merge(rna_ileum, mapped_mgx, on=['Participant ID', 'week_num'], how='inner')\n",
    "display(merged_rna_mgx_ileum)"
   ]
  },
  {
   "cell_type": "code",
   "execution_count": null,
   "metadata": {},
   "outputs": [],
   "source": [
    "print(merged_rna_mgx_rectum[['Participant ID', 'week_num']])"
   ]
  }
 ],
 "metadata": {
  "kernelspec": {
   "display_name": "bio",
   "language": "python",
   "name": "python3"
  },
  "language_info": {
   "codemirror_mode": {
    "name": "ipython",
    "version": 3
   },
   "file_extension": ".py",
   "mimetype": "text/x-python",
   "name": "python",
   "nbconvert_exporter": "python",
   "pygments_lexer": "ipython3",
   "version": "3.12.2"
  }
 },
 "nbformat": 4,
 "nbformat_minor": 2
}
