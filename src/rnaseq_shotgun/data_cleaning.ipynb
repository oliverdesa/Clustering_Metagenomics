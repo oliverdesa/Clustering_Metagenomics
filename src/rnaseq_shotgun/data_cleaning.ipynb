{
 "cells": [
  {
   "cell_type": "code",
   "execution_count": null,
   "metadata": {},
   "outputs": [],
   "source": [
    "import pandas as pd\n",
    "import seaborn as sns"
   ]
  },
  {
   "cell_type": "code",
   "execution_count": null,
   "metadata": {},
   "outputs": [],
   "source": [
    "metadata = pd.read_csv('/Volumes/PGH-Backup/ibd_data/metadata/hmp2_metadata_2018-08-20.csv')"
   ]
  },
  {
   "cell_type": "code",
   "execution_count": null,
   "metadata": {},
   "outputs": [],
   "source": [
    "rnaseq = metadata[metadata['data_type'] == 'host_transcriptomics']\n",
    "\n",
    "display(rnaseq)"
   ]
  },
  {
   "cell_type": "code",
   "execution_count": null,
   "metadata": {},
   "outputs": [],
   "source": [
    "metagenomics = pd.read_csv('/Volumes/PGH-Backup/ibd_data/metadata/hmp2_metagenomics_metadata.csv')"
   ]
  },
  {
   "cell_type": "code",
   "execution_count": null,
   "metadata": {},
   "outputs": [],
   "source": [
    "display(rnaseq.head())\n",
    "print(metagenomics.shape)"
   ]
  },
  {
   "cell_type": "code",
   "execution_count": null,
   "metadata": {},
   "outputs": [],
   "source": [
    "# Filter df1 based on the Participant ID column in df2\n",
    "metagenomics_filt = metagenomics[metagenomics['Participant ID'].isin(rnaseq['Participant ID'])]\n",
    "\n",
    "print(len(metagenomics_filt['Participant ID'].unique()))"
   ]
  },
  {
   "cell_type": "code",
   "execution_count": null,
   "metadata": {},
   "outputs": [],
   "source": [
    "merged_df = pd.merge(rnaseq, metagenomics_filt, on='Participant ID', how='left', suffixes=('_rnaseq', '_metagenomics'))\n",
    "\n",
    "display(merged_df)"
   ]
  },
  {
   "cell_type": "code",
   "execution_count": null,
   "metadata": {},
   "outputs": [],
   "source": [
    "merged_df['External ID_metagenomics']"
   ]
  },
  {
   "cell_type": "code",
   "execution_count": null,
   "metadata": {},
   "outputs": [],
   "source": [
    "# Filter for the closest timepoint or earliest if none is before or at the RNA-seq timepoint\n",
    "def find_closest_timepoint(group):\n",
    "    # Filter for metagenomic samples that are before or at the RNA-seq timepoint\n",
    "    valid_samples = group[group['week_num_metagenomics'] <= group['week_num_rnaseq'].iloc[0]]\n",
    "    \n",
    "    if not valid_samples.empty:\n",
    "        # Find the sample with the closest (maximum) timepoint\n",
    "        closest_sample = valid_samples.loc[valid_samples['week_num_metagenomics'].idxmax()]\n",
    "    else:\n",
    "        # If no valid sample exists, return the earliest metagenomic sample\n",
    "        closest_sample = group.loc[group['week_num_metagenomics'].idxmin()]\n",
    "    \n",
    "    return pd.Series([closest_sample['External ID_metagenomics'], closest_sample['week_num_metagenomics']], \n",
    "                     index=['External ID_metagenomics', 'week_num_metagenomics'])"
   ]
  },
  {
   "cell_type": "code",
   "execution_count": null,
   "metadata": {},
   "outputs": [],
   "source": [
    "closest_samples = merged_df.groupby(['Participant ID', 'Project_rnaseq']).apply(find_closest_timepoint).reset_index()"
   ]
  },
  {
   "cell_type": "code",
   "execution_count": null,
   "metadata": {},
   "outputs": [],
   "source": [
    "rnaseq = rnaseq.rename(columns={'Project': 'Project_rnaseq'})"
   ]
  },
  {
   "cell_type": "code",
   "execution_count": null,
   "metadata": {},
   "outputs": [],
   "source": [
    "# Merge the closest samples back to the original RNA-seq DataFrame\n",
    "final_df = pd.merge(rnaseq, closest_samples, on=['Participant ID', 'Project_rnaseq'], how='left')"
   ]
  },
  {
   "cell_type": "code",
   "execution_count": null,
   "metadata": {},
   "outputs": [],
   "source": [
    "final_df['External ID_metagenomics']"
   ]
  },
  {
   "cell_type": "code",
   "execution_count": null,
   "metadata": {},
   "outputs": [],
   "source": [
    "final_df.to_csv('/Volumes/PGH-Backup/ibd_data/metadata/matched_rnaseq_mgx_sample_mapping.csv', index=False)"
   ]
  },
  {
   "cell_type": "code",
   "execution_count": null,
   "metadata": {},
   "outputs": [],
   "source": [
    "for_viewing = final_df[['Participant ID', 'External ID', 'External ID_metagenomics', 'week_num', 'week_num_metagenomics', 'Project_rnaseq']]\n",
    "\n",
    "display(for_viewing)"
   ]
  },
  {
   "cell_type": "code",
   "execution_count": null,
   "metadata": {},
   "outputs": [],
   "source": [
    "for_viewing.to_csv('/Volumes/PGH-Backup/ibd_data/metadata/matched_rnaseq_mgx_sample_mapping.csv', index=False)"
   ]
  },
  {
   "cell_type": "markdown",
   "metadata": {},
   "source": [
    "**Use Mapping File to Join MGX and RNA Data for Appropriate Samples**"
   ]
  },
  {
   "cell_type": "code",
   "execution_count": null,
   "metadata": {},
   "outputs": [],
   "source": [
    "# Load datasets\n",
    "mgx = pd.read_csv('/Volumes/PGH-Backup/ibd_data/humann_second_run/ibd_genefamilies_relab_clustered.tsv', sep='\\t')\n",
    "rna = pd.read_csv('/Volumes/PGH-Backup/ibd_data/rnaseq/tmm_normalized_counts.tsv', sep='\\t')\n",
    "mapping = pd.read_csv('/Volumes/PGH-Backup/ibd_data/metadata/matched_rnaseq_mgx_sample_mapping.csv')"
   ]
  },
  {
   "cell_type": "code",
   "execution_count": null,
   "metadata": {},
   "outputs": [],
   "source": [
    "# Tanspose so that Genes are columns and samples are rows in RNAseq data\n",
    "rna = rna.set_index('Gene').T\n",
    "\n",
    "rna.shape"
   ]
  },
  {
   "cell_type": "code",
   "execution_count": null,
   "metadata": {},
   "outputs": [],
   "source": [
    "display(mgx.head())\n",
    "display(rna.head())\n",
    "display(mapping)"
   ]
  },
  {
   "cell_type": "code",
   "execution_count": null,
   "metadata": {},
   "outputs": [],
   "source": [
    "rna = rna.reset_index().rename(columns={'index': 'sample_id'})\n",
    "display(rna.head())"
   ]
  },
  {
   "cell_type": "code",
   "execution_count": null,
   "metadata": {},
   "outputs": [],
   "source": [
    "# Create list of enriched NOD2 genes\n",
    "with open ('/Volumes/PGH-Backup/ibd_data/rnaseq/GSE22611_NOD2_VS_CTRL_TRANSDUCED_HEK293T_CELL_UP.v2024.1.Hs.grp', 'r') as f:\n",
    "    gene_list = [line.strip() for line in f.readlines()]\n",
    "    gene_list = gene_list[2:]\n",
    "\n",
    "print(gene_list)"
   ]
  },
  {
   "cell_type": "code",
   "execution_count": null,
   "metadata": {},
   "outputs": [],
   "source": [
    "# Subset for genes present in table\n",
    "present_genes = [gene for gene in gene_list if gene in rna.columns]\n",
    "\n",
    "present_genes.append('sample_id')"
   ]
  },
  {
   "cell_type": "code",
   "execution_count": null,
   "metadata": {},
   "outputs": [],
   "source": [
    "# Subset rnaseq data\n",
    "rna_filt = rna[present_genes]\n",
    "\n",
    "print(rna_filt.head())"
   ]
  },
  {
   "cell_type": "code",
   "execution_count": null,
   "metadata": {},
   "outputs": [],
   "source": [
    "# write out test subset rnaseq file:\n",
    "rna_filt.to_csv('/Volumes/PGH-Backup/ibd_data/rnaseq/test_subset_rnaseq.tsv', index=False, sep='\\t')"
   ]
  },
  {
   "cell_type": "code",
   "execution_count": null,
   "metadata": {},
   "outputs": [],
   "source": [
    "merged_mgx = pd.merge(rna_filt, mapping, left_on='sample_id', right_on='External ID', how='inner')\n",
    "\n",
    "display(merged_mgx)"
   ]
  },
  {
   "cell_type": "code",
   "execution_count": null,
   "metadata": {},
   "outputs": [],
   "source": [
    "merged_mgx_rna = pd.merge(merged_mgx, mgx, left_on='External ID_metagenomics', right_on= 'sample_id', how='left')\n",
    "\n",
    "display(merged_mgx_rna)"
   ]
  },
  {
   "cell_type": "code",
   "execution_count": null,
   "metadata": {},
   "outputs": [],
   "source": [
    "merged_mgx_rna.to_csv('/Volumes/PGH-Backup/ibd_data/rnaseq/test_subset_rnaseq_mgx.tsv', index=False, sep='\\t')"
   ]
  }
 ],
 "metadata": {
  "kernelspec": {
   "display_name": "bio",
   "language": "python",
   "name": "python3"
  },
  "language_info": {
   "codemirror_mode": {
    "name": "ipython",
    "version": 3
   },
   "file_extension": ".py",
   "mimetype": "text/x-python",
   "name": "python",
   "nbconvert_exporter": "python",
   "pygments_lexer": "ipython3",
   "version": "3.12.2"
  }
 },
 "nbformat": 4,
 "nbformat_minor": 2
}
